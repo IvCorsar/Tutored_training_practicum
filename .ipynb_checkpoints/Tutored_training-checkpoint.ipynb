{
 "cells": [
  {
   "cell_type": "markdown",
   "metadata": {
    "id": "H6cQIZr3ElW1"
   },
   "source": [
    "# \"В один клик\" - персонализация предложений для пользователей\n",
    "\n",
    "## Введение\n",
    "\n",
    "**Цель работы**  \n",
    "Разработать решение, которое позволит персонализировать предложения постоянным клиентам.\n",
    "\n",
    "**Ожидаемый эффект от реализации проекта**  \n",
    "Увеличение покупательской активности постоянных клиентов.\n",
    "\n",
    "**Задачи, направленные на достижение цели**\n",
    "1. Промаркировать уровень финансовой активности постоянных покупателей (\"снизилась\", \"прежний уровень\").\n",
    "\n",
    "2. Сгруппировать данные по клиентам по следующим группам: \n",
    "- Признаки, которые описывают коммуникацию сотрудников компании с клиентом.\n",
    "- Признаки, которые описывают продуктовое поведение покупателя. Например, какие товары покупает и как часто.\n",
    "- Признаки, которые описывают покупательское поведение клиента. Например, сколько тратил в магазине.\n",
    "- Признаки, которые описывают поведение покупателя на сайте. Например, как много страниц просматривает и сколько времени проводит на сайте.\n",
    "3. Дополнить информацию дополнительными данными финансового департамента о прибыльности клиента: какой доход каждый покупатель приносил компании за последние три месяца.\n",
    "4. Построить модель, которая предскажет вероятность снижения покупательской активности клиента в следующие три месяца.\n",
    "5. На основе собранных данных и данных модели выделить сегменты покупателей и разработать для них персонализированные предложения.\n",
    "\n",
    "**План работы**  \n",
    "1. Загрузить данные, оценить количество пропусков, наличие дубликатов.\n",
    "2. Провести исследовательский анализ данных на наличие аномальных, выпадающих значений.\n",
    "3. Провести корреляционный анализ данных.\n",
    "4. Составить, обучить и оценить различные модели для предсказания целевых признаков.\n",
    "5. Сегментировать покупателей на основе полученных данных.\n",
    "\n",
    "\n",
    "**Описание предоставленных данных**\n",
    "\n",
    "Для работы были предоставлены следующие файлы.\n",
    "\n",
    "1. market_file.csv. Таблица, которая содержит данные о поведении покупателя на сайте, о коммуникациях с покупателем и его продуктовом поведении. Данные, которые есть в таблице: \n",
    "- id — номер покупателя в корпоративной базе данных.\n",
    "- Покупательская активность — рассчитанный класс покупательской активности (целевой признак): «снизилась» или «прежний уровень».\n",
    "- Тип сервиса — уровень сервиса, например «премиум» и «стандарт».\n",
    "- Разрешить сообщать — информация о том, можно ли присылать покупателю дополнительные предложения о товаре. Согласие на это даёт покупатель.\n",
    "- Маркет_актив_6_мес — среднемесячное значение маркетинговых коммуникаций компании, которое приходилось на покупателя за последние 6 месяцев. Это значение показывает, какое число рассылок, звонков, показов рекламы и прочего приходилось на клиента.\n",
    "- Маркет_актив_тек_мес — количество маркетинговых коммуникаций в текущем месяце.\n",
    "- Длительность — значение, которое показывает, сколько дней прошло с момента регистрации покупателя на сайте.\n",
    "- Акционные_покупки — среднемесячная доля покупок по акции от общего числа покупок за последние 6 месяцев.\n",
    "- Популярная_категория — самая популярная категория товаров у покупателя за последние 6 месяцев.\n",
    "- Средний_просмотр_категорий_за_визит — показывает, сколько в среднем категорий покупатель просмотрел за визит в течение последнего месяца.\n",
    "- Неоплаченные_продукты_штук_квартал — общее число неоплаченных товаров в корзине за последние 3 месяца.\n",
    "- Ошибка_сервиса — число сбоев, которые коснулись покупателя во время посещения сайта.\n",
    "- Страниц_за_визит — среднее количество страниц, которые просмотрел покупатель за один визит на сайт за последние 3 месяца.\n",
    "\n",
    "2. market_money.csv. Таблица с данными о выручке, которую получает магазин с покупателя, то есть сколько покупатель всего потратил за период взаимодействия с сайтом. Данные, которые есть в таблице: \n",
    "- id — номер покупателя в корпоративной базе данных.\n",
    "- Период — название периода, во время которого зафиксирована выручка. Например, 'текущий_месяц' или 'предыдущий_месяц'.\n",
    "- Выручка — сумма выручки за период.\n",
    "\n",
    "3. market_time.csv. Таблица с данными о времени (в минутах), которое покупатель провёл на сайте в течение периода. Данные, которые есть в таблице:\n",
    "- id — номер покупателя в корпоративной базе данных.\n",
    "- Период — название периода, во время которого зафиксировано общее время.\n",
    "- минут — значение времени, проведённого на сайте, в минутах.\n",
    "\n",
    "4. money.csv. Таблица с данными о среднемесячной прибыли покупателя за последние 3 месяца: какую прибыль получает магазин от продаж каждому покупателю. Данные, которые есть в таблице: \n",
    "- id — номер покупателя в корпоративной базе данных.\n",
    "- Прибыль — значение прибыли.\n",
    "\n"
   ]
  },
  {
   "cell_type": "markdown",
   "metadata": {},
   "source": [
    "## Загрузка данных и библиотек"
   ]
  },
  {
   "cell_type": "markdown",
   "metadata": {},
   "source": [
    "### Библиотеки и функции"
   ]
  },
  {
   "cell_type": "markdown",
   "metadata": {},
   "source": [
    "В работе использованы следующие библиотеки и функции:"
   ]
  },
  {
   "cell_type": "code",
   "execution_count": 1,
   "metadata": {},
   "outputs": [
    {
     "name": "stdout",
     "output_type": "stream",
     "text": [
      "Requirement already satisfied: shap in f:\\anakonda\\lib\\site-packages (0.46.0)\n",
      "Requirement already satisfied: numpy in f:\\anakonda\\lib\\site-packages (from shap) (1.24.3)\n",
      "Requirement already satisfied: scipy in f:\\anakonda\\lib\\site-packages (from shap) (1.11.1)\n",
      "Requirement already satisfied: scikit-learn in f:\\anakonda\\lib\\site-packages (from shap) (1.3.0)\n",
      "Requirement already satisfied: pandas in f:\\anakonda\\lib\\site-packages (from shap) (2.0.3)\n",
      "Requirement already satisfied: tqdm>=4.27.0 in f:\\anakonda\\lib\\site-packages (from shap) (4.65.0)\n",
      "Requirement already satisfied: packaging>20.9 in f:\\anakonda\\lib\\site-packages (from shap) (23.1)\n",
      "Requirement already satisfied: slicer==0.0.8 in f:\\anakonda\\lib\\site-packages (from shap) (0.0.8)\n",
      "Requirement already satisfied: numba in f:\\anakonda\\lib\\site-packages (from shap) (0.57.1)\n",
      "Requirement already satisfied: cloudpickle in f:\\anakonda\\lib\\site-packages (from shap) (2.2.1)\n",
      "Requirement already satisfied: colorama in f:\\anakonda\\lib\\site-packages (from tqdm>=4.27.0->shap) (0.4.6)\n",
      "Requirement already satisfied: llvmlite<0.41,>=0.40.0dev0 in f:\\anakonda\\lib\\site-packages (from numba->shap) (0.40.0)\n",
      "Requirement already satisfied: python-dateutil>=2.8.2 in f:\\anakonda\\lib\\site-packages (from pandas->shap) (2.8.2)\n",
      "Requirement already satisfied: pytz>=2020.1 in f:\\anakonda\\lib\\site-packages (from pandas->shap) (2023.3.post1)\n",
      "Requirement already satisfied: tzdata>=2022.1 in f:\\anakonda\\lib\\site-packages (from pandas->shap) (2023.3)\n",
      "Requirement already satisfied: joblib>=1.1.1 in f:\\anakonda\\lib\\site-packages (from scikit-learn->shap) (1.2.0)\n",
      "Requirement already satisfied: threadpoolctl>=2.0.0 in f:\\anakonda\\lib\\site-packages (from scikit-learn->shap) (2.2.0)\n",
      "Requirement already satisfied: six>=1.5 in f:\\anakonda\\lib\\site-packages (from python-dateutil>=2.8.2->pandas->shap) (1.16.0)\n"
     ]
    }
   ],
   "source": [
    "!pip install shap "
   ]
  },
  {
   "cell_type": "code",
   "execution_count": 2,
   "metadata": {},
   "outputs": [
    {
     "name": "stdout",
     "output_type": "stream",
     "text": [
      "Requirement already satisfied: phik in f:\\anakonda\\lib\\site-packages (0.12.4)\n",
      "Requirement already satisfied: numpy>=1.18.0 in f:\\anakonda\\lib\\site-packages (from phik) (1.24.3)\n",
      "Requirement already satisfied: scipy>=1.5.2 in f:\\anakonda\\lib\\site-packages (from phik) (1.11.1)\n",
      "Requirement already satisfied: pandas>=0.25.1 in f:\\anakonda\\lib\\site-packages (from phik) (2.0.3)\n",
      "Requirement already satisfied: matplotlib>=2.2.3 in f:\\anakonda\\lib\\site-packages (from phik) (3.7.2)\n",
      "Requirement already satisfied: joblib>=0.14.1 in f:\\anakonda\\lib\\site-packages (from phik) (1.2.0)\n",
      "Requirement already satisfied: contourpy>=1.0.1 in f:\\anakonda\\lib\\site-packages (from matplotlib>=2.2.3->phik) (1.0.5)\n",
      "Requirement already satisfied: cycler>=0.10 in f:\\anakonda\\lib\\site-packages (from matplotlib>=2.2.3->phik) (0.11.0)\n",
      "Requirement already satisfied: fonttools>=4.22.0 in f:\\anakonda\\lib\\site-packages (from matplotlib>=2.2.3->phik) (4.25.0)\n",
      "Requirement already satisfied: kiwisolver>=1.0.1 in f:\\anakonda\\lib\\site-packages (from matplotlib>=2.2.3->phik) (1.4.4)\n",
      "Requirement already satisfied: packaging>=20.0 in f:\\anakonda\\lib\\site-packages (from matplotlib>=2.2.3->phik) (23.1)\n",
      "Requirement already satisfied: pillow>=6.2.0 in f:\\anakonda\\lib\\site-packages (from matplotlib>=2.2.3->phik) (9.4.0)\n",
      "Requirement already satisfied: pyparsing<3.1,>=2.3.1 in f:\\anakonda\\lib\\site-packages (from matplotlib>=2.2.3->phik) (3.0.9)\n",
      "Requirement already satisfied: python-dateutil>=2.7 in f:\\anakonda\\lib\\site-packages (from matplotlib>=2.2.3->phik) (2.8.2)\n",
      "Requirement already satisfied: pytz>=2020.1 in f:\\anakonda\\lib\\site-packages (from pandas>=0.25.1->phik) (2023.3.post1)\n",
      "Requirement already satisfied: tzdata>=2022.1 in f:\\anakonda\\lib\\site-packages (from pandas>=0.25.1->phik) (2023.3)\n",
      "Requirement already satisfied: six>=1.5 in f:\\anakonda\\lib\\site-packages (from python-dateutil>=2.7->matplotlib>=2.2.3->phik) (1.16.0)\n"
     ]
    }
   ],
   "source": [
    "! pip install phik"
   ]
  },
  {
   "cell_type": "code",
   "execution_count": 3,
   "metadata": {},
   "outputs": [],
   "source": [
    "# Импорты стандартных библиотек\n",
    "import pandas as pd\n",
    "import numpy as np\n",
    "\n",
    "# Импорты для построения графиков\n",
    "import matplotlib.pyplot as plt\n",
    "import seaborn as sns\n",
    "import phik\n",
    "from phik.report import plot_correlation_matrix\n",
    "from phik import report\n",
    "\n",
    "\n",
    "# Импорты для подготовки и обучения моделей\n",
    "from sklearn.model_selection import train_test_split, RandomizedSearchCV\n",
    "from sklearn.preprocessing import (OneHotEncoder, \n",
    "                                   OrdinalEncoder, \n",
    "                                   StandardScaler, \n",
    "                                   MinMaxScaler, \n",
    "                                   RobustScaler)\n",
    "from sklearn.compose import ColumnTransformer\n",
    "from sklearn.impute import SimpleImputer\n",
    "from sklearn.linear_model import LogisticRegression\n",
    "from sklearn.neighbors import KNeighborsClassifier\n",
    "from sklearn.tree import DecisionTreeClassifier\n",
    "from sklearn import svm\n",
    "from sklearn.pipeline import Pipeline\n",
    "from sklearn.metrics import roc_auc_score, recall_score, precision_score\n",
    "\n",
    "# Импорты для анализа признаков\n",
    "import shap\n",
    "\n",
    "# Импорты для обработки предупреждений\n",
    "import warnings\n",
    "warnings.filterwarnings(\"ignore\")"
   ]
  },
  {
   "cell_type": "code",
   "execution_count": 4,
   "metadata": {},
   "outputs": [],
   "source": [
    "def duplicated_string(df):  \n",
    "    \"\"\"\n",
    "    Функция выводит уникальные значения всех столбцов с типом object.\n",
    "\n",
    "    Параметры:\n",
    "        df: датафрейм, в котором есть столбцы с типом данных object.\n",
    "\n",
    "    Возвращает:\n",
    "        Уникальные значения каждого столбца.\n",
    "\n",
    "    \"\"\"\n",
    "    for column in df.columns.values.tolist():\n",
    "        if df[column].dtype == object:\n",
    "            print(f'В столбце {column} уникальные значения: {df[column].unique()}.')"
   ]
  },
  {
   "cell_type": "code",
   "execution_count": 5,
   "metadata": {},
   "outputs": [],
   "source": [
    "def lunge_analysis(df, columns, groups):\n",
    "    \"\"\"\n",
    "    Функция строит боксплоты и гистограммы по переданному списку столбцов и с группировкой по одному категориальному признаку.\n",
    "\n",
    "    Параметры:\n",
    "        df: датафрейм с нужными значениями.\n",
    "        columns: список названий столбцов, по которым надо построить диаграммы.\n",
    "        groups: столбец из датафрейма с категориальными значениями.\n",
    "\n",
    "    Возвращает:\n",
    "        Оформленные боксплоты и гистограммы.\n",
    "\n",
    "    \"\"\"\n",
    "    for column in columns:\n",
    "        f, ax = plt.subplots(1, 2, figsize=(15, 5))\n",
    "        ax_1 = sns.histplot(data=df, x=column, hue=df[groups], ax=ax[0])\n",
    "        ax_1.set (xlabel=column, ylabel='Количество', title=f'Гистограмма по столбцу {column}')\n",
    "        ax_2 = sns.boxplot(data=df, y=column, ax=ax[1], width=.2)\n",
    "        ax_2.set (xlabel=column, ylabel='Значение', title=f'Диаграмма размаха признака {column}')\n",
    "        plt.show()"
   ]
  },
  {
   "cell_type": "code",
   "execution_count": 6,
   "metadata": {},
   "outputs": [],
   "source": [
    "def cat_buying_activity(df):\n",
    "    \"\"\"\n",
    "    функция кодирования целевого признака.\n",
    "\n",
    "    Параметры:\n",
    "        df: датафрейм с нужными значениями.\n",
    "\n",
    "    Возвращает:\n",
    "        1 и 0 в зависимости от значения столбца buying_activity.\n",
    "\n",
    "    \"\"\"\n",
    "    \n",
    "    if df['buying_activity'] == 'Снизилась':\n",
    "        return 1\n",
    "    else:\n",
    "        return 0"
   ]
  },
  {
   "cell_type": "markdown",
   "metadata": {},
   "source": [
    "### Загрузка данных для работы"
   ]
  },
  {
   "cell_type": "markdown",
   "metadata": {},
   "source": [
    "Загрузим данные, полученные от заказчика и ознакомимся с ними."
   ]
  },
  {
   "cell_type": "code",
   "execution_count": 7,
   "metadata": {},
   "outputs": [
    {
     "ename": "FileNotFoundError",
     "evalue": "[Errno 2] No such file or directory: 'C:\\\\Users\\\\yakov\\\\Downloads\\\\Tutored training\\\\market_file.csv'",
     "output_type": "error",
     "traceback": [
      "\u001b[1;31m---------------------------------------------------------------------------\u001b[0m",
      "\u001b[1;31mFileNotFoundError\u001b[0m                         Traceback (most recent call last)",
      "Cell \u001b[1;32mIn[7], line 1\u001b[0m\n\u001b[1;32m----> 1\u001b[0m file_df \u001b[38;5;241m=\u001b[39m pd\u001b[38;5;241m.\u001b[39mread_csv(\u001b[38;5;124mr\u001b[39m\u001b[38;5;124m\"\u001b[39m\u001b[38;5;124mC:\u001b[39m\u001b[38;5;124m\\\u001b[39m\u001b[38;5;124mUsers\u001b[39m\u001b[38;5;124m\\\u001b[39m\u001b[38;5;124myakov\u001b[39m\u001b[38;5;124m\\\u001b[39m\u001b[38;5;124mDownloads\u001b[39m\u001b[38;5;124m\\\u001b[39m\u001b[38;5;124mTutored training\u001b[39m\u001b[38;5;124m\\\u001b[39m\u001b[38;5;124mmarket_file.csv\u001b[39m\u001b[38;5;124m\"\u001b[39m)\n\u001b[0;32m      2\u001b[0m market_money_df \u001b[38;5;241m=\u001b[39m pd\u001b[38;5;241m.\u001b[39mread_csv(\u001b[38;5;124mr\u001b[39m\u001b[38;5;124m'\u001b[39m\u001b[38;5;124mC:\u001b[39m\u001b[38;5;124m\\\u001b[39m\u001b[38;5;124mUsers\u001b[39m\u001b[38;5;124m\\\u001b[39m\u001b[38;5;124myakov\u001b[39m\u001b[38;5;124m\\\u001b[39m\u001b[38;5;124mDownloads\u001b[39m\u001b[38;5;124m\\\u001b[39m\u001b[38;5;124mTutored training\u001b[39m\u001b[38;5;124m\\\u001b[39m\u001b[38;5;124mmarket_money.csv\u001b[39m\u001b[38;5;124m'\u001b[39m)\n\u001b[0;32m      3\u001b[0m time_df \u001b[38;5;241m=\u001b[39m pd\u001b[38;5;241m.\u001b[39mread_csv(\u001b[38;5;124mr\u001b[39m\u001b[38;5;124m'\u001b[39m\u001b[38;5;124mC:\u001b[39m\u001b[38;5;124m\\\u001b[39m\u001b[38;5;124mUsers\u001b[39m\u001b[38;5;124m\\\u001b[39m\u001b[38;5;124myakov\u001b[39m\u001b[38;5;124m\\\u001b[39m\u001b[38;5;124mDownloads\u001b[39m\u001b[38;5;124m\\\u001b[39m\u001b[38;5;124mTutored training\u001b[39m\u001b[38;5;124m\\\u001b[39m\u001b[38;5;124mmarket_time.csv\u001b[39m\u001b[38;5;124m'\u001b[39m)\n",
      "File \u001b[1;32mF:\\Anakonda\\Lib\\site-packages\\pandas\\io\\parsers\\readers.py:912\u001b[0m, in \u001b[0;36mread_csv\u001b[1;34m(filepath_or_buffer, sep, delimiter, header, names, index_col, usecols, dtype, engine, converters, true_values, false_values, skipinitialspace, skiprows, skipfooter, nrows, na_values, keep_default_na, na_filter, verbose, skip_blank_lines, parse_dates, infer_datetime_format, keep_date_col, date_parser, date_format, dayfirst, cache_dates, iterator, chunksize, compression, thousands, decimal, lineterminator, quotechar, quoting, doublequote, escapechar, comment, encoding, encoding_errors, dialect, on_bad_lines, delim_whitespace, low_memory, memory_map, float_precision, storage_options, dtype_backend)\u001b[0m\n\u001b[0;32m    899\u001b[0m kwds_defaults \u001b[38;5;241m=\u001b[39m _refine_defaults_read(\n\u001b[0;32m    900\u001b[0m     dialect,\n\u001b[0;32m    901\u001b[0m     delimiter,\n\u001b[1;32m   (...)\u001b[0m\n\u001b[0;32m    908\u001b[0m     dtype_backend\u001b[38;5;241m=\u001b[39mdtype_backend,\n\u001b[0;32m    909\u001b[0m )\n\u001b[0;32m    910\u001b[0m kwds\u001b[38;5;241m.\u001b[39mupdate(kwds_defaults)\n\u001b[1;32m--> 912\u001b[0m \u001b[38;5;28;01mreturn\u001b[39;00m _read(filepath_or_buffer, kwds)\n",
      "File \u001b[1;32mF:\\Anakonda\\Lib\\site-packages\\pandas\\io\\parsers\\readers.py:577\u001b[0m, in \u001b[0;36m_read\u001b[1;34m(filepath_or_buffer, kwds)\u001b[0m\n\u001b[0;32m    574\u001b[0m _validate_names(kwds\u001b[38;5;241m.\u001b[39mget(\u001b[38;5;124m\"\u001b[39m\u001b[38;5;124mnames\u001b[39m\u001b[38;5;124m\"\u001b[39m, \u001b[38;5;28;01mNone\u001b[39;00m))\n\u001b[0;32m    576\u001b[0m \u001b[38;5;66;03m# Create the parser.\u001b[39;00m\n\u001b[1;32m--> 577\u001b[0m parser \u001b[38;5;241m=\u001b[39m TextFileReader(filepath_or_buffer, \u001b[38;5;241m*\u001b[39m\u001b[38;5;241m*\u001b[39mkwds)\n\u001b[0;32m    579\u001b[0m \u001b[38;5;28;01mif\u001b[39;00m chunksize \u001b[38;5;129;01mor\u001b[39;00m iterator:\n\u001b[0;32m    580\u001b[0m     \u001b[38;5;28;01mreturn\u001b[39;00m parser\n",
      "File \u001b[1;32mF:\\Anakonda\\Lib\\site-packages\\pandas\\io\\parsers\\readers.py:1407\u001b[0m, in \u001b[0;36mTextFileReader.__init__\u001b[1;34m(self, f, engine, **kwds)\u001b[0m\n\u001b[0;32m   1404\u001b[0m     \u001b[38;5;28mself\u001b[39m\u001b[38;5;241m.\u001b[39moptions[\u001b[38;5;124m\"\u001b[39m\u001b[38;5;124mhas_index_names\u001b[39m\u001b[38;5;124m\"\u001b[39m] \u001b[38;5;241m=\u001b[39m kwds[\u001b[38;5;124m\"\u001b[39m\u001b[38;5;124mhas_index_names\u001b[39m\u001b[38;5;124m\"\u001b[39m]\n\u001b[0;32m   1406\u001b[0m \u001b[38;5;28mself\u001b[39m\u001b[38;5;241m.\u001b[39mhandles: IOHandles \u001b[38;5;241m|\u001b[39m \u001b[38;5;28;01mNone\u001b[39;00m \u001b[38;5;241m=\u001b[39m \u001b[38;5;28;01mNone\u001b[39;00m\n\u001b[1;32m-> 1407\u001b[0m \u001b[38;5;28mself\u001b[39m\u001b[38;5;241m.\u001b[39m_engine \u001b[38;5;241m=\u001b[39m \u001b[38;5;28mself\u001b[39m\u001b[38;5;241m.\u001b[39m_make_engine(f, \u001b[38;5;28mself\u001b[39m\u001b[38;5;241m.\u001b[39mengine)\n",
      "File \u001b[1;32mF:\\Anakonda\\Lib\\site-packages\\pandas\\io\\parsers\\readers.py:1661\u001b[0m, in \u001b[0;36mTextFileReader._make_engine\u001b[1;34m(self, f, engine)\u001b[0m\n\u001b[0;32m   1659\u001b[0m     \u001b[38;5;28;01mif\u001b[39;00m \u001b[38;5;124m\"\u001b[39m\u001b[38;5;124mb\u001b[39m\u001b[38;5;124m\"\u001b[39m \u001b[38;5;129;01mnot\u001b[39;00m \u001b[38;5;129;01min\u001b[39;00m mode:\n\u001b[0;32m   1660\u001b[0m         mode \u001b[38;5;241m+\u001b[39m\u001b[38;5;241m=\u001b[39m \u001b[38;5;124m\"\u001b[39m\u001b[38;5;124mb\u001b[39m\u001b[38;5;124m\"\u001b[39m\n\u001b[1;32m-> 1661\u001b[0m \u001b[38;5;28mself\u001b[39m\u001b[38;5;241m.\u001b[39mhandles \u001b[38;5;241m=\u001b[39m get_handle(\n\u001b[0;32m   1662\u001b[0m     f,\n\u001b[0;32m   1663\u001b[0m     mode,\n\u001b[0;32m   1664\u001b[0m     encoding\u001b[38;5;241m=\u001b[39m\u001b[38;5;28mself\u001b[39m\u001b[38;5;241m.\u001b[39moptions\u001b[38;5;241m.\u001b[39mget(\u001b[38;5;124m\"\u001b[39m\u001b[38;5;124mencoding\u001b[39m\u001b[38;5;124m\"\u001b[39m, \u001b[38;5;28;01mNone\u001b[39;00m),\n\u001b[0;32m   1665\u001b[0m     compression\u001b[38;5;241m=\u001b[39m\u001b[38;5;28mself\u001b[39m\u001b[38;5;241m.\u001b[39moptions\u001b[38;5;241m.\u001b[39mget(\u001b[38;5;124m\"\u001b[39m\u001b[38;5;124mcompression\u001b[39m\u001b[38;5;124m\"\u001b[39m, \u001b[38;5;28;01mNone\u001b[39;00m),\n\u001b[0;32m   1666\u001b[0m     memory_map\u001b[38;5;241m=\u001b[39m\u001b[38;5;28mself\u001b[39m\u001b[38;5;241m.\u001b[39moptions\u001b[38;5;241m.\u001b[39mget(\u001b[38;5;124m\"\u001b[39m\u001b[38;5;124mmemory_map\u001b[39m\u001b[38;5;124m\"\u001b[39m, \u001b[38;5;28;01mFalse\u001b[39;00m),\n\u001b[0;32m   1667\u001b[0m     is_text\u001b[38;5;241m=\u001b[39mis_text,\n\u001b[0;32m   1668\u001b[0m     errors\u001b[38;5;241m=\u001b[39m\u001b[38;5;28mself\u001b[39m\u001b[38;5;241m.\u001b[39moptions\u001b[38;5;241m.\u001b[39mget(\u001b[38;5;124m\"\u001b[39m\u001b[38;5;124mencoding_errors\u001b[39m\u001b[38;5;124m\"\u001b[39m, \u001b[38;5;124m\"\u001b[39m\u001b[38;5;124mstrict\u001b[39m\u001b[38;5;124m\"\u001b[39m),\n\u001b[0;32m   1669\u001b[0m     storage_options\u001b[38;5;241m=\u001b[39m\u001b[38;5;28mself\u001b[39m\u001b[38;5;241m.\u001b[39moptions\u001b[38;5;241m.\u001b[39mget(\u001b[38;5;124m\"\u001b[39m\u001b[38;5;124mstorage_options\u001b[39m\u001b[38;5;124m\"\u001b[39m, \u001b[38;5;28;01mNone\u001b[39;00m),\n\u001b[0;32m   1670\u001b[0m )\n\u001b[0;32m   1671\u001b[0m \u001b[38;5;28;01massert\u001b[39;00m \u001b[38;5;28mself\u001b[39m\u001b[38;5;241m.\u001b[39mhandles \u001b[38;5;129;01mis\u001b[39;00m \u001b[38;5;129;01mnot\u001b[39;00m \u001b[38;5;28;01mNone\u001b[39;00m\n\u001b[0;32m   1672\u001b[0m f \u001b[38;5;241m=\u001b[39m \u001b[38;5;28mself\u001b[39m\u001b[38;5;241m.\u001b[39mhandles\u001b[38;5;241m.\u001b[39mhandle\n",
      "File \u001b[1;32mF:\\Anakonda\\Lib\\site-packages\\pandas\\io\\common.py:859\u001b[0m, in \u001b[0;36mget_handle\u001b[1;34m(path_or_buf, mode, encoding, compression, memory_map, is_text, errors, storage_options)\u001b[0m\n\u001b[0;32m    854\u001b[0m \u001b[38;5;28;01melif\u001b[39;00m \u001b[38;5;28misinstance\u001b[39m(handle, \u001b[38;5;28mstr\u001b[39m):\n\u001b[0;32m    855\u001b[0m     \u001b[38;5;66;03m# Check whether the filename is to be opened in binary mode.\u001b[39;00m\n\u001b[0;32m    856\u001b[0m     \u001b[38;5;66;03m# Binary mode does not support 'encoding' and 'newline'.\u001b[39;00m\n\u001b[0;32m    857\u001b[0m     \u001b[38;5;28;01mif\u001b[39;00m ioargs\u001b[38;5;241m.\u001b[39mencoding \u001b[38;5;129;01mand\u001b[39;00m \u001b[38;5;124m\"\u001b[39m\u001b[38;5;124mb\u001b[39m\u001b[38;5;124m\"\u001b[39m \u001b[38;5;129;01mnot\u001b[39;00m \u001b[38;5;129;01min\u001b[39;00m ioargs\u001b[38;5;241m.\u001b[39mmode:\n\u001b[0;32m    858\u001b[0m         \u001b[38;5;66;03m# Encoding\u001b[39;00m\n\u001b[1;32m--> 859\u001b[0m         handle \u001b[38;5;241m=\u001b[39m \u001b[38;5;28mopen\u001b[39m(\n\u001b[0;32m    860\u001b[0m             handle,\n\u001b[0;32m    861\u001b[0m             ioargs\u001b[38;5;241m.\u001b[39mmode,\n\u001b[0;32m    862\u001b[0m             encoding\u001b[38;5;241m=\u001b[39mioargs\u001b[38;5;241m.\u001b[39mencoding,\n\u001b[0;32m    863\u001b[0m             errors\u001b[38;5;241m=\u001b[39merrors,\n\u001b[0;32m    864\u001b[0m             newline\u001b[38;5;241m=\u001b[39m\u001b[38;5;124m\"\u001b[39m\u001b[38;5;124m\"\u001b[39m,\n\u001b[0;32m    865\u001b[0m         )\n\u001b[0;32m    866\u001b[0m     \u001b[38;5;28;01melse\u001b[39;00m:\n\u001b[0;32m    867\u001b[0m         \u001b[38;5;66;03m# Binary mode\u001b[39;00m\n\u001b[0;32m    868\u001b[0m         handle \u001b[38;5;241m=\u001b[39m \u001b[38;5;28mopen\u001b[39m(handle, ioargs\u001b[38;5;241m.\u001b[39mmode)\n",
      "\u001b[1;31mFileNotFoundError\u001b[0m: [Errno 2] No such file or directory: 'C:\\\\Users\\\\yakov\\\\Downloads\\\\Tutored training\\\\market_file.csv'"
     ]
    }
   ],
   "source": [
    "file_df = pd.read_csv(r\"C:\\Users\\yakov\\Downloads\\Tutored training\\market_file.csv\")\n",
    "market_money_df = pd.read_csv(r'C:\\Users\\yakov\\Downloads\\Tutored training\\market_money.csv')\n",
    "time_df = pd.read_csv(r'C:\\Users\\yakov\\Downloads\\Tutored training\\market_time.csv')\n",
    "money_df = pd.read_csv(r'C:\\Users\\yakov\\Downloads\\Tutored training\\money.csv', sep=';', decimal=',')"
   ]
  },
  {
   "cell_type": "code",
   "execution_count": null,
   "metadata": {},
   "outputs": [],
   "source": [
    "file_df.head()"
   ]
  },
  {
   "cell_type": "code",
   "execution_count": null,
   "metadata": {},
   "outputs": [],
   "source": [
    "file_df.info()"
   ]
  },
  {
   "cell_type": "code",
   "execution_count": null,
   "metadata": {},
   "outputs": [],
   "source": [
    "market_money_df.head()"
   ]
  },
  {
   "cell_type": "code",
   "execution_count": null,
   "metadata": {},
   "outputs": [],
   "source": [
    "market_money_df.info()"
   ]
  },
  {
   "cell_type": "code",
   "execution_count": null,
   "metadata": {},
   "outputs": [],
   "source": [
    "time_df.head()"
   ]
  },
  {
   "cell_type": "code",
   "execution_count": null,
   "metadata": {},
   "outputs": [],
   "source": [
    "time_df.info()"
   ]
  },
  {
   "cell_type": "code",
   "execution_count": null,
   "metadata": {},
   "outputs": [],
   "source": [
    "money_df.head()"
   ]
  },
  {
   "cell_type": "code",
   "execution_count": null,
   "metadata": {},
   "outputs": [],
   "source": [
    "money_df.info()"
   ]
  },
  {
   "cell_type": "markdown",
   "metadata": {},
   "source": [
    "**Итог по разделу:** данные загружены, пропусков нет, названия столбцов совпадают с описанием, полученным от заказчика."
   ]
  },
  {
   "cell_type": "markdown",
   "metadata": {},
   "source": [
    "## Предобработка данных"
   ]
  },
  {
   "cell_type": "markdown",
   "metadata": {},
   "source": [
    "### Форматирования столбцов\n",
    "Приведем столбцы к нужному виду. Для этого создадим словарь."
   ]
  },
  {
   "cell_type": "code",
   "execution_count": null,
   "metadata": {},
   "outputs": [],
   "source": [
    "eng_columns = {\n",
    "    'Покупательская активность':'buying_activity',\n",
    "    'Тип сервиса':'service_type',\n",
    "    'Разрешить сообщать':'allow_reporting',\n",
    "    'Маркет_актив_6_мес':'market_active_6_months',\n",
    "    'Маркет_актив_тек_мес':'market_active_curr_months',\n",
    "    'Длительность':'duration',\n",
    "    'Акционные_покупки':'promotional_purchases',\n",
    "    'Популярная_категория':'popular_category',\n",
    "    'Средний_просмотр_категорий_за_визит':'av_cat_view_visit',\n",
    "    'Неоплаченные_продукты_штук_квартал':'unpaid_prod_items_quart',\n",
    "    'Ошибка_сервиса':'service_error',\n",
    "    'Страниц_за_визит':'pages_visit',\n",
    "    'Период':'period',\n",
    "    'Выручка':'revenue',\n",
    "    'минут':'minutes',\n",
    "    'Прибыль':'profit'    \n",
    "}"
   ]
  },
  {
   "cell_type": "markdown",
   "metadata": {},
   "source": [
    "Проведем замену названий в датафреймах."
   ]
  },
  {
   "cell_type": "code",
   "execution_count": null,
   "metadata": {},
   "outputs": [],
   "source": [
    "file_df = file_df.rename(columns=eng_columns)\n",
    "market_money_df = market_money_df.rename(columns=eng_columns)\n",
    "time_df = time_df.rename(columns=eng_columns)\n",
    "money_df = money_df.rename(columns=eng_columns)"
   ]
  },
  {
   "cell_type": "markdown",
   "metadata": {},
   "source": [
    "Проверим как прошла замены."
   ]
  },
  {
   "cell_type": "code",
   "execution_count": null,
   "metadata": {},
   "outputs": [],
   "source": [
    "file_df.info()"
   ]
  },
  {
   "cell_type": "code",
   "execution_count": null,
   "metadata": {},
   "outputs": [],
   "source": [
    "market_money_df.info()"
   ]
  },
  {
   "cell_type": "code",
   "execution_count": null,
   "metadata": {},
   "outputs": [],
   "source": [
    "time_df.info()"
   ]
  },
  {
   "cell_type": "code",
   "execution_count": null,
   "metadata": {},
   "outputs": [],
   "source": [
    "money_df.info()"
   ]
  },
  {
   "cell_type": "markdown",
   "metadata": {},
   "source": [
    "Во всех столбцах замена проведена корректно."
   ]
  },
  {
   "cell_type": "markdown",
   "metadata": {},
   "source": [
    "### Проверка наличия дубликатов"
   ]
  },
  {
   "cell_type": "markdown",
   "metadata": {},
   "source": [
    "Сперва проверим полные явные дубликаты."
   ]
  },
  {
   "cell_type": "code",
   "execution_count": null,
   "metadata": {},
   "outputs": [],
   "source": [
    "file_df.duplicated().sum()"
   ]
  },
  {
   "cell_type": "code",
   "execution_count": null,
   "metadata": {},
   "outputs": [],
   "source": [
    "market_money_df.duplicated().sum()"
   ]
  },
  {
   "cell_type": "code",
   "execution_count": null,
   "metadata": {},
   "outputs": [],
   "source": [
    "time_df.duplicated().sum()"
   ]
  },
  {
   "cell_type": "code",
   "execution_count": null,
   "metadata": {},
   "outputs": [],
   "source": [
    "money_df.duplicated().sum()"
   ]
  },
  {
   "cell_type": "markdown",
   "metadata": {},
   "source": [
    "Полных явных дубликатов нет."
   ]
  },
  {
   "cell_type": "markdown",
   "metadata": {},
   "source": [
    "Проверим дубликаты в столбцах id."
   ]
  },
  {
   "cell_type": "code",
   "execution_count": null,
   "metadata": {},
   "outputs": [],
   "source": [
    "file_df['id'].duplicated().sum()"
   ]
  },
  {
   "cell_type": "code",
   "execution_count": null,
   "metadata": {},
   "outputs": [],
   "source": [
    "market_money_df['id'].duplicated().sum()"
   ]
  },
  {
   "cell_type": "code",
   "execution_count": null,
   "metadata": {},
   "outputs": [],
   "source": [
    "time_df['id'].duplicated().sum()"
   ]
  },
  {
   "cell_type": "code",
   "execution_count": null,
   "metadata": {},
   "outputs": [],
   "source": [
    "money_df['id'].duplicated().sum()"
   ]
  },
  {
   "cell_type": "markdown",
   "metadata": {},
   "source": [
    "В датафреймах market_money_df и time_df есть дубликаты в столбце id, но они имеют значения, поэтому удалять их не стоит. В датафреймах file_df и money_df дубликатов нет."
   ]
  },
  {
   "cell_type": "markdown",
   "metadata": {},
   "source": [
    "Теперь проверим неявные дубликаты."
   ]
  },
  {
   "cell_type": "code",
   "execution_count": null,
   "metadata": {
    "scrolled": false
   },
   "outputs": [],
   "source": [
    "duplicated_string(file_df)"
   ]
  },
  {
   "cell_type": "markdown",
   "metadata": {},
   "source": [
    "Замечена очевидная опечатка: есть категория \"стандартт\" в столбце \"service_type\". Устраним её."
   ]
  },
  {
   "cell_type": "code",
   "execution_count": null,
   "metadata": {},
   "outputs": [],
   "source": [
    "file_df['service_type'] = file_df['service_type'].replace('стандартт', 'стандарт')"
   ]
  },
  {
   "cell_type": "markdown",
   "metadata": {},
   "source": [
    "Проверим корректность замены."
   ]
  },
  {
   "cell_type": "code",
   "execution_count": null,
   "metadata": {},
   "outputs": [],
   "source": [
    "file_df['service_type'].unique()"
   ]
  },
  {
   "cell_type": "markdown",
   "metadata": {},
   "source": [
    "Замена проведена."
   ]
  },
  {
   "cell_type": "code",
   "execution_count": null,
   "metadata": {},
   "outputs": [],
   "source": [
    "duplicated_string(market_money_df)"
   ]
  },
  {
   "cell_type": "markdown",
   "metadata": {},
   "source": [
    "Несмотря на необычное название категории \"препредыдущий_месяц\", удалять его нельзя, так как оно означает предпредыдущий месяц."
   ]
  },
  {
   "cell_type": "code",
   "execution_count": null,
   "metadata": {},
   "outputs": [],
   "source": [
    "duplicated_string(time_df)"
   ]
  },
  {
   "cell_type": "markdown",
   "metadata": {},
   "source": [
    "Очевидна опечатка в категории \"предыдцщий_месяц\". Исправим её."
   ]
  },
  {
   "cell_type": "code",
   "execution_count": null,
   "metadata": {},
   "outputs": [],
   "source": [
    "time_df['period'] = time_df['period'].replace('предыдцщий_месяц', 'предыдущий_месяц')"
   ]
  },
  {
   "cell_type": "code",
   "execution_count": null,
   "metadata": {},
   "outputs": [],
   "source": [
    "time_df['period'].unique()"
   ]
  },
  {
   "cell_type": "markdown",
   "metadata": {},
   "source": [
    "Замена проведена."
   ]
  },
  {
   "cell_type": "markdown",
   "metadata": {},
   "source": [
    "В датафрейме money_df нет столбцов с типом object."
   ]
  },
  {
   "cell_type": "markdown",
   "metadata": {},
   "source": [
    "**Итог по разделу:** \n",
    "1. Приведены названия столбцов к общепринятым.\n",
    "2. Обработаны дубликаты и ошибка в категориях."
   ]
  },
  {
   "cell_type": "markdown",
   "metadata": {},
   "source": [
    "## Исследовательский анализ данных"
   ]
  },
  {
   "cell_type": "markdown",
   "metadata": {},
   "source": [
    "### Анализ данных на выпады и аномальные значения\n",
    "Проведем исследования данных на наличие выбросов или аномальных значений."
   ]
  },
  {
   "cell_type": "code",
   "execution_count": null,
   "metadata": {
    "scrolled": false
   },
   "outputs": [],
   "source": [
    "num_file_df_columns = ['market_active_6_months', \n",
    "                       'market_active_curr_months', \n",
    "                       'duration', \n",
    "                       'promotional_purchases', \n",
    "                       'av_cat_view_visit',\n",
    "                       'unpaid_prod_items_quart',\n",
    "                       'service_error',\n",
    "                       'pages_visit'\n",
    "                      ]  # список количественных столбцов для анализа. "
   ]
  },
  {
   "cell_type": "code",
   "execution_count": null,
   "metadata": {
    "scrolled": false
   },
   "outputs": [],
   "source": [
    "lunge_analysis(file_df, num_file_df_columns, 'buying_activity')"
   ]
  },
  {
   "cell_type": "markdown",
   "metadata": {},
   "source": [
    "Из гистограмм и боксплотов видно:\n",
    "1. Есть выбросы. Они встречаются в market_active_6_months, promotional_purchases, unpaid_prod_items_quart.\n",
    "2. В market_active_curr_months разброс значений очень маленький, соответство боксплот не информативен.\n",
    "3. В большинстве случаев распределение унимодельное, кроме promotional_purchases. В этом стобце наблюдается бимодальное распределение и два пика: в районе 0,2 и в районе 0,9. Очевидно, есть относительно большая группа покупателей, которая старается покупать только по акции. Наличие пика в районе 0,2 можно объяснить тем, что акции всё-таки работают и большая часть людей ими пользуется."
   ]
  },
  {
   "cell_type": "markdown",
   "metadata": {},
   "source": [
    "Теперь посмотрим на данные из таблицы market_money_df."
   ]
  },
  {
   "cell_type": "code",
   "execution_count": null,
   "metadata": {},
   "outputs": [],
   "source": [
    "lunge_analysis(market_money_df, ['revenue'], 'period')"
   ]
  },
  {
   "cell_type": "markdown",
   "metadata": {},
   "source": [
    "Очевидно, есть значения, которые сильно выделяется из общей картины. Посмотрим сколько их."
   ]
  },
  {
   "cell_type": "code",
   "execution_count": null,
   "metadata": {},
   "outputs": [],
   "source": [
    "market_money_df.loc[market_money_df['revenue'] > 9000]['revenue'].count()"
   ]
  },
  {
   "cell_type": "markdown",
   "metadata": {},
   "source": [
    "Всего одно. Возможно, оно не ошибочное, но слишком отличается от средних значений. Лучше его удалить."
   ]
  },
  {
   "cell_type": "code",
   "execution_count": null,
   "metadata": {},
   "outputs": [],
   "source": [
    "market_money_df = market_money_df.loc[market_money_df['revenue'] < 9000]"
   ]
  },
  {
   "cell_type": "code",
   "execution_count": null,
   "metadata": {},
   "outputs": [],
   "source": [
    "lunge_analysis(market_money_df, ['revenue'], 'period')"
   ]
  },
  {
   "cell_type": "markdown",
   "metadata": {},
   "source": [
    "Выпады всё ещё есть, но уже не так сильно отличаются."
   ]
  },
  {
   "cell_type": "markdown",
   "metadata": {},
   "source": [
    "Теперь посмотрим на таблицу time_df."
   ]
  },
  {
   "cell_type": "code",
   "execution_count": null,
   "metadata": {},
   "outputs": [],
   "source": [
    "lunge_analysis(time_df, ['minutes'], 'period')"
   ]
  },
  {
   "cell_type": "markdown",
   "metadata": {},
   "source": [
    "Выпадов нет, распределение унимодальное."
   ]
  },
  {
   "cell_type": "markdown",
   "metadata": {},
   "source": [
    "Теперь посмотрим на таблицу money_df."
   ]
  },
  {
   "cell_type": "code",
   "execution_count": null,
   "metadata": {},
   "outputs": [],
   "source": [
    "f, ax = plt.subplots(1, 2, figsize=(15, 5))\n",
    "ax_1 = sns.histplot(data=money_df, x='profit', ax=ax[0])\n",
    "ax_1.set (xlabel='profit', ylabel='Количество', title='Гистограмма по столбцу profit')\n",
    "ax_2 = sns.boxplot(data=money_df, y='profit', ax=ax[1], width=.2)\n",
    "ax_2.set (xlabel='profit', ylabel='Значение', title='Диаграмма размаха признака profit')\n",
    "plt.show()"
   ]
  },
  {
   "cell_type": "markdown",
   "metadata": {},
   "source": [
    "Распределение унимодальное, но есть выпады."
   ]
  },
  {
   "cell_type": "markdown",
   "metadata": {},
   "source": [
    "**Итог по разделу:**\n",
    "1. В ряде столбцов есть выпады. Самые сильные выпады были удалены. \n",
    "2. В большинстве случаев распределение унимодальное, кроме столбца promotional_purchases. В нём наблюдается два пика."
   ]
  },
  {
   "cell_type": "markdown",
   "metadata": {},
   "source": [
    "### Отбор покупателей с активностью за последние 3 месяца\n",
    "Проведем отбор покупателей с активностью за последние 3 месяца. Для этого сформируем датафрейм на основе market_money_df. "
   ]
  },
  {
   "cell_type": "code",
   "execution_count": null,
   "metadata": {},
   "outputs": [],
   "source": [
    "market_pivot=market_money_df.pivot_table(index='id', columns='period', values='revenue', aggfunc='sum')\n",
    "market_pivot.columns = ['revenue_previous_month', 'revenue_pre_previous_month', 'revenue_current_month']"
   ]
  },
  {
   "cell_type": "markdown",
   "metadata": {},
   "source": [
    "Проверим, как получилась таблица."
   ]
  },
  {
   "cell_type": "code",
   "execution_count": null,
   "metadata": {},
   "outputs": [],
   "source": [
    "market_pivot.head()"
   ]
  },
  {
   "cell_type": "code",
   "execution_count": null,
   "metadata": {},
   "outputs": [],
   "source": [
    "market_pivot.info()"
   ]
  },
  {
   "cell_type": "markdown",
   "metadata": {},
   "source": [
    "Датафрейм создан корректно. Для одного пользователя в столбце revenue_current_month образовался пропуск.  \n",
    "Теперь из датафрейма выберем тех покупателей, которые покупали что-либо каждый месяц. Сперва посмотрим, в каких столбцах вообще встречается нулевая выручка."
   ]
  },
  {
   "cell_type": "code",
   "execution_count": null,
   "metadata": {},
   "outputs": [],
   "source": [
    "market_pivot.min()"
   ]
  },
  {
   "cell_type": "markdown",
   "metadata": {},
   "source": [
    "Только в двух столбцах есть нулевые значения. Посмотрим на них."
   ]
  },
  {
   "cell_type": "code",
   "execution_count": null,
   "metadata": {},
   "outputs": [],
   "source": [
    "market_pivot.loc[market_pivot['revenue_previous_month'] == 0]"
   ]
  },
  {
   "cell_type": "markdown",
   "metadata": {},
   "source": [
    "Как видно, если в столбце препредыдущий_месяц 0, то и в столбце предыдущий_месяц 0. Значит функция для выбора ненулевых строк упрощается."
   ]
  },
  {
   "cell_type": "code",
   "execution_count": null,
   "metadata": {},
   "outputs": [],
   "source": [
    "market_without_0_df = market_pivot.loc[market_pivot['revenue_previous_month'] > 0]\n",
    "market_without_0_df.min()"
   ]
  },
  {
   "cell_type": "markdown",
   "metadata": {},
   "source": [
    "Ненулевые значения отобраны."
   ]
  },
  {
   "cell_type": "markdown",
   "metadata": {},
   "source": [
    "**Итог по разделу:** сформирована таблица, в которой отобраны только те пользователи, которые что-либо покупали каждый месяц."
   ]
  },
  {
   "cell_type": "markdown",
   "metadata": {},
   "source": [
    "## Объединение таблиц"
   ]
  },
  {
   "cell_type": "markdown",
   "metadata": {},
   "source": [
    "У нас уже сформирован датафрейм market_without_0_df на базе market_money_df. Теперь для корректности нужно преобразовать датафрейм time_df."
   ]
  },
  {
   "cell_type": "code",
   "execution_count": null,
   "metadata": {},
   "outputs": [],
   "source": [
    "time_pivot=time_df.pivot_table(index='id', columns='period', values='minutes', aggfunc='sum')\n",
    "time_pivot.columns = ['time_previous_month', 'time_current_month']\n",
    "time_pivot.head()"
   ]
  },
  {
   "cell_type": "markdown",
   "metadata": {},
   "source": [
    "Датафрейм преобразован. Приступаем к объединению таблииц."
   ]
  },
  {
   "cell_type": "code",
   "execution_count": null,
   "metadata": {},
   "outputs": [],
   "source": [
    "full_df = file_df.merge(time_pivot, on='id', how='left')\n",
    "full_df.head()"
   ]
  },
  {
   "cell_type": "code",
   "execution_count": null,
   "metadata": {},
   "outputs": [],
   "source": [
    "full_df = full_df.merge(market_without_0_df, on='id', how='left')\n",
    "full_df.head()"
   ]
  },
  {
   "cell_type": "code",
   "execution_count": null,
   "metadata": {},
   "outputs": [],
   "source": [
    "full_df.info()"
   ]
  },
  {
   "cell_type": "markdown",
   "metadata": {},
   "source": [
    "Объединили таблицы, но получили строки с пустыми значениями. Удалим их, чтобы не мешали при обучении."
   ]
  },
  {
   "cell_type": "code",
   "execution_count": null,
   "metadata": {},
   "outputs": [],
   "source": [
    "full_df = full_df.dropna()\n",
    "full_df.info()"
   ]
  },
  {
   "cell_type": "markdown",
   "metadata": {},
   "source": [
    "**Итог по разделу:** \n",
    "1. Объединенный датафрейм создан. \n",
    "2. Пустые строки из датафрейма удалены."
   ]
  },
  {
   "cell_type": "markdown",
   "metadata": {},
   "source": [
    "## Корреляционный анализ\n",
    "Выберем столбцы для проведения корреляционного анализа."
   ]
  },
  {
   "cell_type": "code",
   "execution_count": null,
   "metadata": {},
   "outputs": [],
   "source": [
    "full_df.info()"
   ]
  },
  {
   "cell_type": "code",
   "execution_count": null,
   "metadata": {},
   "outputs": [],
   "source": [
    "# Столбцы для расчета корреляции\n",
    "corr_columns_map = ['buying_activity',\n",
    "                'service_type',\n",
    "                'allow_reporting',\n",
    "                'market_active_6_months', \n",
    "                'market_active_curr_months', \n",
    "                'duration', \n",
    "                'promotional_purchases',\n",
    "                'popular_category',\n",
    "                'av_cat_view_visit',\n",
    "                'unpaid_prod_items_quart',\n",
    "                'service_error',\n",
    "                'pages_visit',\n",
    "                'time_previous_month',\n",
    "                'time_current_month',\n",
    "                'revenue_previous_month',\n",
    "                'revenue_pre_previous_month',\n",
    "                'revenue_current_month'\n",
    "               ]"
   ]
  },
  {
   "cell_type": "markdown",
   "metadata": {},
   "source": [
    "Построим три тепловые карты:\n",
    "1. Полностью, без выделения отдельных групп по покупательской активности.\n",
    "2. Тепловая карта для группы со снижающейся покупательской активностью.\n",
    "3. Тепловая карта для группы с прежнем уровнем покупательской активности."
   ]
  },
  {
   "cell_type": "code",
   "execution_count": null,
   "metadata": {},
   "outputs": [],
   "source": [
    "phik_overview = full_df[corr_columns_map].phik_matrix()\n",
    "phik_overview.round(2)\n",
    "\n",
    "plot_correlation_matrix(phik_overview.values, \n",
    "                        x_labels=phik_overview.columns, \n",
    "                        y_labels=phik_overview.index, \n",
    "                        vmin=0, vmax=1, color_map=\"coolwarm\", \n",
    "                        title=\"Тепловая карта коэффициентов корреляции таблицы full_df\", \n",
    "                        fontsize_factor=1,\n",
    "                        figsize=(12, 12))\n",
    "plt.tight_layout()\n",
    "plt.show()"
   ]
  },
  {
   "cell_type": "markdown",
   "metadata": {},
   "source": [
    "Очевидно следующее:\n",
    "1. Наибольшая корреляция покупательской активности с количеством посещенных страниц.\n",
    "2. Вторая по величине корреляция у покупательской активности и временем, проведенным на сайте в прошлом месяце.\n",
    "3. Выручка текущего месяца хорошо коррелирует с выручкой предыдущего месяца."
   ]
  },
  {
   "cell_type": "code",
   "execution_count": null,
   "metadata": {
    "scrolled": false
   },
   "outputs": [],
   "source": [
    "phik_overview = full_df.loc[full_df['buying_activity'] == 'Снизилась'][corr_columns_map].phik_matrix()\n",
    "phik_overview.round(2)\n",
    "\n",
    "plot_correlation_matrix(phik_overview.values, \n",
    "                        x_labels=phik_overview.columns, \n",
    "                        y_labels=phik_overview.index, \n",
    "                        vmin=0, vmax=1, color_map=\"coolwarm\", \n",
    "                        title=\"Тепловая карта коэффициентов корреляции таблицы full_df (покупательская активность снижается)\", \n",
    "                        fontsize_factor=1,\n",
    "                        figsize=(12, 12))\n",
    "plt.tight_layout()\n",
    "plt.show()"
   ]
  },
  {
   "cell_type": "markdown",
   "metadata": {},
   "source": [
    "В отличие от полной карты, в карте  группы со сниженной покупательской следующие изменения:\n",
    "1. Корреляция между выручкой текущего месяца и предыдущего стала чуть выше.\n",
    "2. Появилась сравнительно высокая корреляция между выручкой предпредыдущего месяца и временем на сайте в текущем месяце.\n",
    "3. Появилась сравнительно высокая корреляция между временем в предыдущем месяце и количеством просмотренных страниц."
   ]
  },
  {
   "cell_type": "code",
   "execution_count": null,
   "metadata": {},
   "outputs": [],
   "source": [
    "phik_overview = full_df.loc[full_df['buying_activity'] == 'Прежний уровень'][corr_columns_map].phik_matrix()\n",
    "phik_overview.round(2)\n",
    "\n",
    "plot_correlation_matrix(phik_overview.values, \n",
    "                        x_labels=phik_overview.columns, \n",
    "                        y_labels=phik_overview.index, \n",
    "                        vmin=0, vmax=1, color_map=\"coolwarm\", \n",
    "                        title=\"Тепловая карта коэффициентов корреляции таблицы full_df (покупательская активность не снижается)\", \n",
    "                        fontsize_factor=1,\n",
    "                        figsize=(12, 12))\n",
    "plt.tight_layout()\n",
    "plt.show()"
   ]
  },
  {
   "cell_type": "markdown",
   "metadata": {},
   "source": [
    "Основное отличие карты группы с прежнем уровнем покупательской активности от карты группы со сниженной покупательской активности в том, что меньше корреляця между временем на сайте, выручкой и количеством просмотренных страниц."
   ]
  },
  {
   "cell_type": "markdown",
   "metadata": {},
   "source": [
    "**Итог по разделу:**\n",
    "1. Построена тепловая карта коррреляции признаков между собой.\n",
    "2. Выручка текущего месяца сильно коррелирует с выручкой предыдущего месяца. Для устранение мультиколлинеарности выручка текущего месяца была возведена в квадрат."
   ]
  },
  {
   "cell_type": "markdown",
   "metadata": {},
   "source": [
    "## Использование пайплайнов"
   ]
  },
  {
   "cell_type": "markdown",
   "metadata": {},
   "source": [
    "Сперва закодируем целевой признак."
   ]
  },
  {
   "cell_type": "code",
   "execution_count": null,
   "metadata": {},
   "outputs": [],
   "source": [
    "full_df['cat_buying_activity'] = full_df.apply(cat_buying_activity, axis=1)"
   ]
  },
  {
   "cell_type": "markdown",
   "metadata": {},
   "source": [
    "Проверим корректность кодирования целевого признака."
   ]
  },
  {
   "cell_type": "code",
   "execution_count": null,
   "metadata": {},
   "outputs": [],
   "source": [
    "full_df.loc[full_df['buying_activity'] != 'Снизилась'].head()"
   ]
  },
  {
   "cell_type": "code",
   "execution_count": null,
   "metadata": {},
   "outputs": [],
   "source": [
    "full_df.info()"
   ]
  },
  {
   "cell_type": "markdown",
   "metadata": {},
   "source": [
    "Всё сделано корректно. Приступаем к созданию пайплайна для выбора лучшей модели. В качестве моделей будем использовать модели на основе метода опорных векторов, метода k-ближайших соседей, дерева решений и логистрической регрессии. В качестве метрики будем использовать ROC-AUC, так как эта метрика позволяет оценить качество бинаркой классификации (в нашем случае эта она), при этом учитывает работу модели при всех возможных порогах классификации."
   ]
  },
  {
   "cell_type": "markdown",
   "metadata": {},
   "source": [
    "На основании полной тепловой карты корреляции выберем столбцы, у которых значительный уровень корреляции (выше 0,3)."
   ]
  },
  {
   "cell_type": "code",
   "execution_count": null,
   "metadata": {},
   "outputs": [],
   "source": [
    "#столбцы с корреляцией\n",
    "corr_columns = ['revenue_pre_previous_month',\n",
    "                'time_current_month',\n",
    "                'time_previous_month',\n",
    "                'pages_visit',\n",
    "                'unpaid_prod_items_quart',\n",
    "                'av_cat_view_visit',\n",
    "                'promotional_purchases',\n",
    "                'market_active_6_months'\n",
    "               ]"
   ]
  },
  {
   "cell_type": "code",
   "execution_count": null,
   "metadata": {
    "scrolled": true
   },
   "outputs": [],
   "source": [
    "%%time\n",
    "\n",
    "RANDOM_STATE = 42\n",
    "TEST_SIZE = 0.25\n",
    "\n",
    "X_train, X_test, y_train, y_test = train_test_split(  \n",
    "    full_df[corr_columns],\n",
    "    full_df['cat_buying_activity'],\n",
    "    test_size = TEST_SIZE, \n",
    "    random_state = RANDOM_STATE,\n",
    "    stratify = full_df['cat_buying_activity'])\n",
    "\n",
    "X_train.shape, X_test.shape\n",
    "\n",
    "# сформируем списки с названиями признаков\n",
    "ord_columns = ['av_cat_view_visit']\n",
    "num_columns = ['revenue_pre_previous_month',\n",
    "                'time_current_month',\n",
    "                'time_previous_month',\n",
    "                'pages_visit',\n",
    "                'unpaid_prod_items_quart',\n",
    "                'promotional_purchases',\n",
    "                'market_active_6_months'\n",
    "              ]\n",
    "\n",
    "\n",
    "# сформируем пайплайн для подготовки признаков из списка ord_columns: заполнение пропусков и Ordinal-кодирование\n",
    "# SimpleImputer + OE\n",
    "ord_pipe = Pipeline(\n",
    "    [('simpleImputer_before_ord', SimpleImputer(missing_values=np.nan, strategy='most_frequent')),\n",
    "     ('ord',  OrdinalEncoder(\n",
    "                categories=[\n",
    "                    [1, 2, 3, 4, 5, 6],               \n",
    "                ], \n",
    "                handle_unknown='use_encoded_value', unknown_value=np.nan\n",
    "            )\n",
    "        ),\n",
    "     ('simpleImputer_after_ord', SimpleImputer(missing_values=np.nan, strategy='most_frequent'))\n",
    "    ]\n",
    ")\n",
    "\n",
    "# сформируем общий пайплайн для подготовки данных\n",
    "data_preprocessor = ColumnTransformer(\n",
    "    [\n",
    "        ('ord', ord_pipe, ord_columns),\n",
    "        ('num', MinMaxScaler(), num_columns)\n",
    "    ], \n",
    "    remainder='passthrough'\n",
    ")\n",
    "\n",
    "# сформируем итоговый пайплайн: подготовка данных и модель\n",
    "pipe_final = Pipeline([\n",
    "    ('preprocessor', data_preprocessor),\n",
    "    ('models', DecisionTreeClassifier(random_state=RANDOM_STATE))\n",
    "])\n",
    "\n",
    "param_grid = [\n",
    "    # словарь для модели DecisionTreeClassifier()\n",
    "    {\n",
    "        'models': [DecisionTreeClassifier(random_state=RANDOM_STATE)],\n",
    "        'models__max_depth': range(2, 5),\n",
    "        'models__max_features': range(2, 5),\n",
    "        'preprocessor__num': [StandardScaler(), MinMaxScaler(), 'passthrough']  \n",
    "    },\n",
    " \n",
    "    # словарь для модели KNeighborsClassifier() \n",
    "    {\n",
    "        'models': [KNeighborsClassifier()],\n",
    "        'models__n_neighbors': range(2, 5),\n",
    "        'preprocessor__num': [StandardScaler(), MinMaxScaler(), 'passthrough']   \n",
    "    },\n",
    "\n",
    "    # словарь для модели LogisticRegression()\n",
    "    {\n",
    "        'models': [LogisticRegression(\n",
    "            random_state=RANDOM_STATE, \n",
    "            solver=['lbfgs', 'liblinear', 'newton-cg', 'newton-cholesky' 'sag', 'saga'],\n",
    "            penalty='l2'\n",
    "        )],\n",
    "        'models__C': range(1, 5),\n",
    "        'preprocessor__num': [StandardScaler(), MinMaxScaler(), 'passthrough']  \n",
    "    },\n",
    "    # словарь для модели SVC\n",
    "    {\n",
    "        'models':[svm.SVC(random_state=RANDOM_STATE, probability=True)],\n",
    "        'models__kernel': ['linear' \n",
    "                           'poly' \n",
    "                           'rbf', \n",
    "                           'sigmoid'\n",
    "                          ],\n",
    "        'models__C': range(1, 5),\n",
    "        'models__degree': range(2, 20),\n",
    "        'preprocessor__num': [StandardScaler(), MinMaxScaler(), 'passthrough']\n",
    "    }\n",
    "]\n",
    "\n",
    "randomized_search = RandomizedSearchCV(\n",
    "    pipe_final, \n",
    "    param_grid, \n",
    "    cv=5,\n",
    "    scoring='roc_auc',\n",
    "    random_state=RANDOM_STATE,\n",
    "    n_jobs=-1\n",
    ")\n",
    "randomized_search.fit(X_train, y_train)\n",
    "\n",
    "print('Лучшая модель и её параметры:\\n\\n', randomized_search.best_estimator_)\n",
    "print ('Метрика лучшей модели на кросс-валидационной выборке:', randomized_search.best_score_)\n",
    "\n",
    "\n",
    "# проверим работу модели на тестовой выборке\n",
    "# рассчитаем прогноз на тестовых данных\n",
    "y_test_pred = randomized_search.predict(X_test)\n",
    "preds = randomized_search.predict_proba(X_test)\n",
    "\n",
    "print(f'Метрика ROC-AUC на тестовой выборке: {roc_auc_score(y_test, preds[:, 1])}')"
   ]
  },
  {
   "cell_type": "markdown",
   "metadata": {},
   "source": [
    "Лучшая модель это модель SVC с kernel sigmoid и масштабированием StandardScaler()."
   ]
  },
  {
   "cell_type": "markdown",
   "metadata": {},
   "source": [
    "## Анализ важности признаков"
   ]
  },
  {
   "cell_type": "markdown",
   "metadata": {},
   "source": [
    "Для анализа важности признаков построим графики важности с помощью методов SHAP. Спервы выделим из Pipeline модель и обучим тестовые данные."
   ]
  },
  {
   "cell_type": "code",
   "execution_count": null,
   "metadata": {},
   "outputs": [],
   "source": [
    "model = randomized_search.best_estimator_.named_steps['models']"
   ]
  },
  {
   "cell_type": "code",
   "execution_count": null,
   "metadata": {},
   "outputs": [],
   "source": [
    "preprocessor = randomized_search.best_estimator_.named_steps['preprocessor']"
   ]
  },
  {
   "cell_type": "code",
   "execution_count": null,
   "metadata": {},
   "outputs": [],
   "source": [
    "X_test_preprocessed = preprocessor.transform(X_test)"
   ]
  },
  {
   "cell_type": "code",
   "execution_count": null,
   "metadata": {
    "scrolled": true
   },
   "outputs": [],
   "source": [
    "explainer = shap.KernelExplainer(model.predict, X_test_preprocessed)\n",
    "shap_values = explainer(X_test_preprocessed)"
   ]
  },
  {
   "cell_type": "markdown",
   "metadata": {},
   "source": [
    "Так как у нас не использовался метод кодирования OneHotEncoder, названия признаков сформируем так, как это сделано в Pipeline."
   ]
  },
  {
   "cell_type": "code",
   "execution_count": null,
   "metadata": {},
   "outputs": [],
   "source": [
    "all_feature_columns = ['av_cat_view_visit',\n",
    "               'revenue_pre_previous_month',\n",
    "                'time_current_month',\n",
    "                'time_previous_month',\n",
    "                'pages_visit',\n",
    "                'unpaid_prod_items_quart',\n",
    "                'promotional_purchases',\n",
    "                'market_active_6_months'\n",
    "              ]"
   ]
  },
  {
   "cell_type": "code",
   "execution_count": null,
   "metadata": {},
   "outputs": [],
   "source": [
    "shap.summary_plot(shap_values, X_test_preprocessed, feature_names=all_feature_columns)"
   ]
  },
  {
   "cell_type": "code",
   "execution_count": null,
   "metadata": {
    "scrolled": false
   },
   "outputs": [],
   "source": [
    "shap.summary_plot(shap_values.data, X_test_preprocessed, feature_names=all_feature_columns, plot_type=\"bar\")"
   ]
  },
  {
   "cell_type": "markdown",
   "metadata": {},
   "source": [
    "Как видно из диаграмм, наибольшее влияние оказывают признаки av_cat_view_visit, time_current_month и page_visit (среднее количество просмотренных категорий за квартал, количество времени, проведенное на сайте в текущем месяце и количество посещенных страниц). Наименьшее значение имеются признаки, связанные с покупками по акции и количеством неоплаченных товаров в корзине.  \n",
    "Теоретически, влияя на признаки с большой значимостью, можно добиться улучшения покупательской активности пользователей."
   ]
  },
  {
   "cell_type": "markdown",
   "metadata": {},
   "source": [
    "**Итог по разделу:** определены наиболее значимые для модели признаки: это среднее количество просмотренных категорий за месяц, количество времени, проведенное на сайте в текущем месяце и количество посещенных страниц."
   ]
  },
  {
   "cell_type": "markdown",
   "metadata": {},
   "source": [
    "## Сегментация покупателей"
   ]
  },
  {
   "cell_type": "markdown",
   "metadata": {},
   "source": [
    "### Создание общего датафрейма"
   ]
  },
  {
   "cell_type": "markdown",
   "metadata": {},
   "source": [
    "Сперва объединим общий датафрейм и датафрейм с информацией о прибыли с каждого пользователя."
   ]
  },
  {
   "cell_type": "code",
   "execution_count": null,
   "metadata": {},
   "outputs": [],
   "source": [
    "full_df = full_df.merge(money_df, on='id', how='left')"
   ]
  },
  {
   "cell_type": "code",
   "execution_count": null,
   "metadata": {},
   "outputs": [],
   "source": [
    "full_df.info()"
   ]
  },
  {
   "cell_type": "markdown",
   "metadata": {},
   "source": [
    "Объединение проведено успешно."
   ]
  },
  {
   "cell_type": "markdown",
   "metadata": {},
   "source": [
    "### Выделение сегментов покупателей"
   ]
  },
  {
   "cell_type": "markdown",
   "metadata": {},
   "source": [
    "Теперь выделим два сегмента покупателей:\n",
    "1. Покупатели, которые приносят наибольшую прибыль и активность которых снижается. Примем этот сегмент как целевой.\n",
    "2. Покупатели, которые приносят наибольшую прибыль и активность которых остается на прежнем уровне. Примем этот сегмент как сравнительный."
   ]
  },
  {
   "cell_type": "markdown",
   "metadata": {},
   "source": [
    "Перед выделением сегментов получим прогноз модели по каждому пользователю и добавим вероятности в общую таблицу."
   ]
  },
  {
   "cell_type": "code",
   "execution_count": null,
   "metadata": {},
   "outputs": [],
   "source": [
    "full_df_preprocessed = preprocessor.transform(full_df[corr_columns])"
   ]
  },
  {
   "cell_type": "code",
   "execution_count": null,
   "metadata": {},
   "outputs": [],
   "source": [
    "chance_activity = model.predict_proba(full_df_preprocessed)"
   ]
  },
  {
   "cell_type": "markdown",
   "metadata": {},
   "source": [
    "Сформируем датафрейм:"
   ]
  },
  {
   "cell_type": "code",
   "execution_count": null,
   "metadata": {},
   "outputs": [],
   "source": [
    "chance_activity = pd.DataFrame(chance_activity)"
   ]
  },
  {
   "cell_type": "code",
   "execution_count": null,
   "metadata": {},
   "outputs": [],
   "source": [
    "activity_columns = {\n",
    "    0: 'chance_previous_level',\n",
    "    1: 'chance_low_level'\n",
    "}"
   ]
  },
  {
   "cell_type": "code",
   "execution_count": null,
   "metadata": {},
   "outputs": [],
   "source": [
    "chance_activity = chance_activity.rename(columns=activity_columns)"
   ]
  },
  {
   "cell_type": "markdown",
   "metadata": {},
   "source": [
    "Объединим датафреймы:"
   ]
  },
  {
   "cell_type": "code",
   "execution_count": null,
   "metadata": {},
   "outputs": [],
   "source": [
    "full_df = full_df.join(chance_activity, how='left')"
   ]
  },
  {
   "cell_type": "markdown",
   "metadata": {},
   "source": [
    "Проверим как объединились:"
   ]
  },
  {
   "cell_type": "code",
   "execution_count": null,
   "metadata": {
    "scrolled": true
   },
   "outputs": [],
   "source": [
    "full_df.head()"
   ]
  },
  {
   "cell_type": "markdown",
   "metadata": {},
   "source": [
    "Теперь приступаем к формированию сегментов на основе работы модели. Для этого надо понять, какой порог считать критическим. \n",
    "Ошибка первого рода (ложноположительный результат): активность пользователя будет помечена как \"снижается\", хотя она на прежнем уровне.\n",
    "Ошибка второго рода (ложноотрицательный результат): активность пользователя будет помечена как \"прежний уровень\", хотя она снижается.\n",
    "В данном случае опаснее упустить тех, чья активность снижается, соответственно ориентируемся по ошибке второго рода или метрике Recall.\n",
    "\n",
    "Рассчитаем порог по указанной метрике."
   ]
  },
  {
   "cell_type": "code",
   "execution_count": null,
   "metadata": {},
   "outputs": [],
   "source": [
    "y_proba = model.predict_proba(X_test_preprocessed)[:,1]\n",
    "\n",
    "data_predict = pd.DataFrame(zip(y_test, y_proba), columns = ['y_valid', 'y_proba']).sort_values(by='y_proba',ascending=False)\n",
    "\n",
    "thresholds = [round(i,2) for i in np.linspace(0.2,0.4,num = 10,endpoint=False)]\n",
    "\n",
    "for i in thresholds:\n",
    "    data_predict['y_pred_'+str(i)] = data_predict['y_proba'].apply(lambda x: 1 if x >= i else 0)\n",
    "    recall = recall_score(data_predict['y_valid'], data_predict['y_pred_'+str(i)])\n",
    "    precision = precision_score(data_predict['y_valid'], data_predict['y_pred_'+str(i)])\n",
    "    print(f'Recall для {i} равен', round(recall, 2))\n",
    "    print(f'Precision для {i} равен', round(precision, 2))\n",
    "    print()\n",
    "\n",
    "# выведем 5 случайных строк\n",
    "print(data_predict.sample(5))"
   ]
  },
  {
   "cell_type": "markdown",
   "metadata": {},
   "source": [
    "Проверим сколько людей в обоих сегментах при пороге в 0,28."
   ]
  },
  {
   "cell_type": "code",
   "execution_count": null,
   "metadata": {},
   "outputs": [],
   "source": [
    "print(f'Сегмент с высокой прибылью и с порогом вероятности снижения более 0,28: {full_df.loc[(full_df[\"chance_low_level\"] >= 0.28) & (full_df[\"profit\"] >= 4.67)][\"id\"].count()}')"
   ]
  },
  {
   "cell_type": "code",
   "execution_count": null,
   "metadata": {},
   "outputs": [],
   "source": [
    "print(f'Сегмент с высокой прибылью и с порогом вероятности снижения менее 0,28: {full_df.loc[(full_df[\"chance_low_level\"] <= 0.28) & (full_df[\"profit\"] >= 4.67)][\"id\"].count()}')"
   ]
  },
  {
   "cell_type": "markdown",
   "metadata": {},
   "source": [
    "Примем порог в 0,28 по следующим причинам:\n",
    "1. Recall достаточно высок.\n",
    "2. Precision не слишком низкий.\n",
    "3. Количество людей в обоих сегментах примерно одинаковое."
   ]
  },
  {
   "cell_type": "markdown",
   "metadata": {},
   "source": [
    "Сформируем сегменты:"
   ]
  },
  {
   "cell_type": "code",
   "execution_count": null,
   "metadata": {},
   "outputs": [],
   "source": [
    "segment_high_profit = full_df.loc[(full_df['profit'] >= 4.67)]"
   ]
  },
  {
   "cell_type": "code",
   "execution_count": null,
   "metadata": {},
   "outputs": [],
   "source": [
    "def cat_activity_model(df):  # функция кодирования целевого признака по результатам модели.\n",
    "    if df['chance_low_level'] >= 0.28:\n",
    "        return 'Снизится'\n",
    "    else:\n",
    "        return 'Прежний уровень'"
   ]
  },
  {
   "cell_type": "code",
   "execution_count": null,
   "metadata": {},
   "outputs": [],
   "source": [
    "segment_high_profit['cat_activity_model'] = segment_high_profit.apply(cat_activity_model, axis=1)"
   ]
  },
  {
   "cell_type": "code",
   "execution_count": null,
   "metadata": {},
   "outputs": [],
   "source": [
    "segment_low_activ = full_df.loc[(full_df['chance_low_level'] >= 0.28) & (full_df['profit'] >= 4.67)]  # сегмент пользователей, чья активность вероятно снизится.\n",
    "segment_not_low_activ = full_df.loc[(full_df['chance_low_level'] <= 0.28) & (full_df['profit'] >= 4.67)]  # сегмент пользователей, чья активность скорее всего не снизится."
   ]
  },
  {
   "cell_type": "markdown",
   "metadata": {},
   "source": [
    "Сохраним вероятности снижения покупательской активности в отдельный столбец."
   ]
  },
  {
   "cell_type": "markdown",
   "metadata": {},
   "source": [
    "Оценим созданные датафреймы сегментов."
   ]
  },
  {
   "cell_type": "code",
   "execution_count": null,
   "metadata": {},
   "outputs": [],
   "source": [
    "segment_low_activ['id'].count()"
   ]
  },
  {
   "cell_type": "code",
   "execution_count": null,
   "metadata": {},
   "outputs": [],
   "source": [
    "segment_not_low_activ['id'].count()"
   ]
  },
  {
   "cell_type": "markdown",
   "metadata": {},
   "source": [
    "Выборки близки, но неодинаковые по размеру. Это следует учитывать при дальнейшем анализе."
   ]
  },
  {
   "cell_type": "markdown",
   "metadata": {},
   "source": [
    "### Анализ сегментов покупателей"
   ]
  },
  {
   "cell_type": "markdown",
   "metadata": {},
   "source": [
    "#### Время, проведенное на сайте"
   ]
  },
  {
   "cell_type": "markdown",
   "metadata": {},
   "source": [
    "Посмотрим, как соотносится в целевой выборке время, проведенное на сайте в текущем месяце и в предыдущем."
   ]
  },
  {
   "cell_type": "code",
   "execution_count": null,
   "metadata": {},
   "outputs": [],
   "source": [
    "ax = sns.histplot(data=segment_high_profit.loc[(segment_high_profit['cat_activity_model'] == 'Снизится')], x='time_previous_month', color = 'orange')\n",
    "ax = sns.histplot(data=segment_high_profit.loc[(segment_high_profit['cat_activity_model'] == 'Снизится')], x='time_current_month', alpha = 0.8)\n",
    "ax.set(xlabel='Время', ylabel='Количество', title=f'Гистограмма по столбцу времени нахождения на сайте')\n",
    "plt.legend(['Предыдущий месяц', 'Текущий месяц'])\n",
    "plt.show()"
   ]
  },
  {
   "cell_type": "markdown",
   "metadata": {},
   "source": [
    "В целевом сегменте в общем случае снижается время нахождения на сайте."
   ]
  },
  {
   "cell_type": "markdown",
   "metadata": {},
   "source": [
    "#### Просмотренные категории"
   ]
  },
  {
   "cell_type": "markdown",
   "metadata": {},
   "source": [
    "Теперь посмотрим как соотносится количество просмотренных категорий у целевого сегмента и сравнительного."
   ]
  },
  {
   "cell_type": "code",
   "execution_count": null,
   "metadata": {},
   "outputs": [],
   "source": [
    "ax = sns.histplot(data=segment_high_profit, x='av_cat_view_visit', hue='cat_activity_model')\n",
    "ax.set(xlabel='Количество категорий', ylabel='Количество пользователей', title='Гистограмма среднего количества просмотренных категорий')\n",
    "plt.show()"
   ]
  },
  {
   "cell_type": "markdown",
   "metadata": {},
   "source": [
    "Как видно, пользователи, чья покупательская способность снизилась, смотрят меньше категорий, чем те, у кого она на прежнем уровне."
   ]
  },
  {
   "cell_type": "markdown",
   "metadata": {},
   "source": [
    "#### Популярные категории"
   ]
  },
  {
   "cell_type": "markdown",
   "metadata": {},
   "source": [
    "Посмотрим, какие наиболее популярные категории товаров в эттих двух сегментах покупателей."
   ]
  },
  {
   "cell_type": "code",
   "execution_count": null,
   "metadata": {},
   "outputs": [],
   "source": [
    "ax = sns.histplot(data=segment_high_profit, x='popular_category', hue='cat_activity_model')\n",
    "ax.set(xlabel='', ylabel='Количество пользователей', title='Гистограмма популярных категорий')\n",
    "plt.xticks(rotation=90)\n",
    "plt.show()"
   ]
  },
  {
   "cell_type": "markdown",
   "metadata": {},
   "source": [
    "Самая популярная категория - Товары для детей. Это справедливо и для людей с низким уровнем активности и с прежним."
   ]
  },
  {
   "cell_type": "markdown",
   "metadata": {},
   "source": [
    "#### Количество посещенных страниц"
   ]
  },
  {
   "cell_type": "markdown",
   "metadata": {},
   "source": [
    "Посмотрим, сколько страниц посещают людей из обоих сегментов."
   ]
  },
  {
   "cell_type": "code",
   "execution_count": null,
   "metadata": {},
   "outputs": [],
   "source": [
    "ax = sns.histplot(data=segment_high_profit, x='pages_visit', hue='cat_activity_model')\n",
    "ax.set(xlabel='Количество просмотренных страниц', ylabel='Количество пользователей', title='Гистограмма количества просмотренных страниц')\n",
    "plt.show()"
   ]
  },
  {
   "cell_type": "markdown",
   "metadata": {},
   "source": [
    "Пользователи со сниженной покупательской активностью посещают меньше страниц."
   ]
  },
  {
   "cell_type": "markdown",
   "metadata": {},
   "source": [
    "#### Количество неоплаченных товаров"
   ]
  },
  {
   "cell_type": "markdown",
   "metadata": {},
   "source": [
    "Посмотрим, сколько имеют неоплаченных товаров в корзине люди из обоих сегментов."
   ]
  },
  {
   "cell_type": "code",
   "execution_count": null,
   "metadata": {},
   "outputs": [],
   "source": [
    "ax = sns.histplot(data=segment_high_profit, x='unpaid_prod_items_quart', hue='cat_activity_model')\n",
    "ax.set(xlabel='Количество неоплаченных товаров', ylabel='Количество пользователей', title='Гистограмма количества неоплаченных товаров')\n",
    "plt.show()"
   ]
  },
  {
   "cell_type": "markdown",
   "metadata": {},
   "source": [
    "У людей, у которых снизилась покупательская активность, больше неоплаченных товаров в корзине чем у тех, у кого активность не снизилась."
   ]
  },
  {
   "cell_type": "markdown",
   "metadata": {},
   "source": [
    "#### Уведомления об акциях"
   ]
  },
  {
   "cell_type": "markdown",
   "metadata": {},
   "source": [
    "Посмотрим, чаще ли люди с прежним уровнем покупательской активности соглашаются на маркетинговые уведомления."
   ]
  },
  {
   "cell_type": "code",
   "execution_count": null,
   "metadata": {},
   "outputs": [],
   "source": [
    "ax = sns.histplot(data=segment_high_profit, x='allow_reporting', hue='cat_activity_model')\n",
    "ax.set(xlabel='Можно ли сообщать', ylabel='Количество пользователей', title='Гистограмма сообщений об акциях')\n",
    "plt.show()"
   ]
  },
  {
   "cell_type": "markdown",
   "metadata": {},
   "source": [
    "Соотношение примерно одинаковое."
   ]
  },
  {
   "cell_type": "markdown",
   "metadata": {},
   "source": [
    "#### Количество маркетинговых коммуникаций за 6 месяцев"
   ]
  },
  {
   "cell_type": "markdown",
   "metadata": {},
   "source": [
    "Посмотрим, есть ли разница в количестве маркетинговых коммуникаций за 6 месяцев у пользователей из обоих сегментов. "
   ]
  },
  {
   "cell_type": "code",
   "execution_count": null,
   "metadata": {},
   "outputs": [],
   "source": [
    "ax = sns.histplot(data=segment_high_profit, x='market_active_6_months', hue='cat_activity_model')\n",
    "ax.set(xlabel='Количество маркетинговых коммуникаций', ylabel='Количество пользователей', title='Гистограмма количества маркетинговых коммуникаций за 6 месяц')\n",
    "plt.show()"
   ]
  },
  {
   "cell_type": "markdown",
   "metadata": {},
   "source": [
    "В среднем на людей, чья активность снизилась, приходилось меньше маркетинговых коммуникаций за последние 6 месяцев."
   ]
  },
  {
   "cell_type": "markdown",
   "metadata": {},
   "source": [
    "#### Количество маркетинговых коммуникаций за текущий месяц"
   ]
  },
  {
   "cell_type": "markdown",
   "metadata": {},
   "source": [
    "Оценим этот же показатель за текущий месяц."
   ]
  },
  {
   "cell_type": "code",
   "execution_count": null,
   "metadata": {},
   "outputs": [],
   "source": [
    "ax = sns.histplot(data=segment_high_profit, x='market_active_curr_months', hue='cat_activity_model')\n",
    "ax.set(xlabel='Количество маркетинговых коммуникаций', ylabel='Количество пользователей', title='Гистограмма количества маркетинговых коммуникаций за текущий месяц')\n",
    "plt.show()"
   ]
  },
  {
   "cell_type": "markdown",
   "metadata": {},
   "source": [
    "За текущий период количество коммуникаций примерно одинаковое."
   ]
  },
  {
   "cell_type": "markdown",
   "metadata": {},
   "source": [
    "#### Длительность присутствия на сайте"
   ]
  },
  {
   "cell_type": "markdown",
   "metadata": {},
   "source": [
    "Оценим, как долго пользователи из обоих сегментов зарегистрированы на сайте."
   ]
  },
  {
   "cell_type": "code",
   "execution_count": null,
   "metadata": {},
   "outputs": [],
   "source": [
    "ax = sns.histplot(data=segment_high_profit, x='duration', hue='cat_activity_model')\n",
    "ax.set(xlabel='Срок регистрации', ylabel='Количество пользователей', title='Гистограмма длительности регистрации пользователей')\n",
    "plt.show()"
   ]
  },
  {
   "cell_type": "markdown",
   "metadata": {},
   "source": [
    "Соотношение примерно одинаковое."
   ]
  },
  {
   "cell_type": "markdown",
   "metadata": {},
   "source": [
    "#### Количество покупок по акциям"
   ]
  },
  {
   "cell_type": "markdown",
   "metadata": {},
   "source": [
    "Оценим, как часто пользователи из обоих сегментов пользуются акциями."
   ]
  },
  {
   "cell_type": "code",
   "execution_count": null,
   "metadata": {},
   "outputs": [],
   "source": [
    "ax = sns.histplot(data=segment_high_profit, x='promotional_purchases', hue='cat_activity_model')\n",
    "ax.set(xlabel='Количество акционных покупок', ylabel='Количество пользователей', title='Гистограмма количества акционных покупок')\n",
    "plt.show()"
   ]
  },
  {
   "cell_type": "markdown",
   "metadata": {},
   "source": [
    "Люди, у которых снизилась покупательская активность, больше акционных покупок, чем у людей, у которых активность не снизилась."
   ]
  },
  {
   "cell_type": "markdown",
   "metadata": {},
   "source": [
    "#### Количество ошибок сервиса"
   ]
  },
  {
   "cell_type": "markdown",
   "metadata": {},
   "source": [
    "Оцением, как часто пользователи из обоих сегментов сталкиваются с ошибками сервиса."
   ]
  },
  {
   "cell_type": "code",
   "execution_count": null,
   "metadata": {},
   "outputs": [],
   "source": [
    "ax = sns.histplot(data=segment_high_profit, x='service_error', hue='cat_activity_model')\n",
    "ax.set(xlabel='Количество ошибок сервиса', ylabel='Количество пользователей', title='Гистограмма количества ошибок сервиса')\n",
    "plt.show()"
   ]
  },
  {
   "cell_type": "markdown",
   "metadata": {},
   "source": [
    "Количество ошибок примерно одинаковое."
   ]
  },
  {
   "cell_type": "markdown",
   "metadata": {},
   "source": [
    "#### Итог по разделу  \n",
    "Покупателей с высоким уровнем прибыли и со сниженной покупательской активностью отличают следующие факторы:\n",
    "1. Сравнительно невысокий уровень маркетинговых коммуникаций за последние 6 месяцев.\n",
    "2. Сравнительно большое количество неоплаченных товаров в корзине.\n",
    "3. Небольшое количество посещенных страниц.\n",
    "4. Небольшое количество посмотренных категорий.\n",
    "5. Небольшое количество времени, проведенного на сайте.\n",
    "6. Самая популярная категория: товары для детей.  \n",
    "\n",
    "Необходимо учесть, что не все факторы являются причиной. Они указывают лишь на различия в сегментах.\n",
    "\n",
    "Рекомендации по улучшению покупательской активности:\n",
    "1. Увеличить уровень маркетинговых коммуникаций. Возможно, это также увеличит время, проведенное на сайте, количество просмотренных страниц и количество просмотренных категорий. Для покупаталей, чья активность не снизилась, эти показатели выше.\n",
    "2. Продумать стратегию к побуждению покупки товаров из корзины, к примеру, акции и скидки. Как показал анализ, эта группа покупаталей достаточно охотно откликается на акции.\n",
    "\n",
    "Для дополнительного исследования взят сегмент покупаталей с высокой прибылью, но чья покупательская способность не снизилась. Данный сегмент рассмотрен для сравнению с первым сегментом."
   ]
  },
  {
   "cell_type": "markdown",
   "metadata": {},
   "source": [
    "## Выводы"
   ]
  },
  {
   "cell_type": "markdown",
   "metadata": {},
   "source": [
    "**В рамках работы выполнено:**\n",
    "1. Загружены и обработаны предоставленные данные. \n",
    "2. Проведен исследовательский анализ данных на наличие аномальный и выпадающих значений.\n",
    "3. Проведен корреляционный анализ данных.\n",
    "4. Составлены и обучены ряд моделей для прогнозирования покупательской активности. Среди моделей выбрана модель с наиболее точными результатами. Использованные в работе модели: метод опорных векторов, миетод k-ближайших соседей, дерево решений и логистическай регрессия.  \n",
    "5. Проанализированы признаки, на которых обучалась модель и установлены те, которые имеют наибольший вклад в конечный результат.\n",
    "6. На основании результатов моделирования были выделены сегменты покупателей и выданы рекомендации по увеличению покупательской активности. В рамках работы был подробно рассмотрены покупатели, приносящие наибольшую прибыль, но покупательская активность которых снижается.\n",
    " \n",
    " \n",
    "**Основные результаты работы:**\n",
    "1. В представленных данных не было пропусков, но были значения, значительно отклоняющиеся от средних.\n",
    "2. При корреляционном анализе было выявленно, что выручка предыдущего месяца сильно коррелирует с выручкой текущего месяца (линейная зависимость). В связи с этим при моделировании зависимость была устранена путем возведения значений выручки текущего месяца в квадрат.\n",
    "3. Среди разработанных и испытанных моделей наилучший результат показала модель на основе метода опорных векторов с методом масштабирования StandartScale. Модель позволяет предсказывать снижение или сохранение покупательской активности конкретного пользователя на основе ряда признаков.\n",
    "4. Анализ результата работы модели выявил, что наибольшее влияние при прогнозировании оказывает время, проведенное на сайте, в текущем и предыдущем месяце, а также среднее количество просмотренных категорий товаров за квартал.\n",
    "5. Касательно рассмотренного сегмента пользователей. Пользователи из этой категории в среднем получали меньше маркетинговой информации, меньше проводили время на сайте и просматривали меньше страниц. При этом имеют сравнительно высокое количество неоплаченных товаров в корзине. Наиболее популярная категория - товары для детей.\n",
    "\n",
    "\n",
    "**Рекомендации для увеличения покупательской активности выделенного сегмента пользователей:**\n",
    "1. Увеличить количество маркетинговых коммуникаций. Предположительно, это также приведет к увеличению времени нахождения на сайте и к увеличению количества просмотренных страниц.\n",
    "2. Рассмотреть возможность проведения акций для товаров, находящихся в корзине у пользователей рассматриваемого сегмента. Данные анализа показывают, что пользователи из этого сегмента охотно откликаются на акции.\n",
    "\n",
    "**Рекомендации для повышения качества анализа и прогнозирования:**  \n",
    "Представить данные за другие периоды для опробирования модели на новых данных. "
   ]
  },
  {
   "cell_type": "code",
   "execution_count": null,
   "metadata": {},
   "outputs": [],
   "source": []
  }
 ],
 "metadata": {
  "ExecuteTimeLog": [
   {
    "duration": 337,
    "start_time": "2024-04-28T11:07:35.844Z"
   },
   {
    "duration": 145,
    "start_time": "2024-04-28T11:11:19.622Z"
   },
   {
    "duration": 36,
    "start_time": "2024-04-28T11:11:25.946Z"
   },
   {
    "duration": 42,
    "start_time": "2024-04-28T11:11:34.335Z"
   },
   {
    "duration": 104,
    "start_time": "2024-04-28T11:12:21.228Z"
   },
   {
    "duration": 109,
    "start_time": "2024-04-28T11:13:05.439Z"
   },
   {
    "duration": 133,
    "start_time": "2024-04-28T11:14:22.802Z"
   },
   {
    "duration": 86,
    "start_time": "2024-04-28T11:14:42.063Z"
   },
   {
    "duration": 87,
    "start_time": "2024-04-28T11:14:58.688Z"
   },
   {
    "duration": 13,
    "start_time": "2024-04-28T11:15:27.735Z"
   },
   {
    "duration": 9,
    "start_time": "2024-04-28T11:15:43.090Z"
   },
   {
    "duration": 6,
    "start_time": "2024-04-28T11:21:12.786Z"
   },
   {
    "duration": 8,
    "start_time": "2024-04-28T11:21:29.892Z"
   },
   {
    "duration": 6,
    "start_time": "2024-04-28T11:22:41.281Z"
   },
   {
    "duration": 8,
    "start_time": "2024-04-28T11:22:55.387Z"
   },
   {
    "duration": 6,
    "start_time": "2024-04-28T11:24:01.535Z"
   },
   {
    "duration": 12,
    "start_time": "2024-04-28T11:24:18.744Z"
   },
   {
    "duration": 48,
    "start_time": "2024-04-28T12:32:38.941Z"
   },
   {
    "duration": 3,
    "start_time": "2024-04-28T12:33:17.308Z"
   },
   {
    "duration": 5,
    "start_time": "2024-04-28T12:36:26.606Z"
   },
   {
    "duration": 9,
    "start_time": "2024-04-28T12:36:38.175Z"
   },
   {
    "duration": 8,
    "start_time": "2024-04-28T12:37:00.891Z"
   },
   {
    "duration": 9,
    "start_time": "2024-04-28T12:37:08.920Z"
   },
   {
    "duration": 8,
    "start_time": "2024-04-28T12:37:22.280Z"
   },
   {
    "duration": 10,
    "start_time": "2024-04-28T12:37:52.711Z"
   },
   {
    "duration": 9,
    "start_time": "2024-04-28T12:37:56.235Z"
   },
   {
    "duration": 4,
    "start_time": "2024-04-28T12:38:35.188Z"
   },
   {
    "duration": 5,
    "start_time": "2024-04-28T12:39:05.866Z"
   },
   {
    "duration": 6,
    "start_time": "2024-04-28T12:39:37.216Z"
   },
   {
    "duration": 5,
    "start_time": "2024-04-28T12:39:53.670Z"
   },
   {
    "duration": 4,
    "start_time": "2024-04-28T12:40:13.065Z"
   },
   {
    "duration": 46,
    "start_time": "2024-04-28T12:40:29.271Z"
   },
   {
    "duration": 4,
    "start_time": "2024-04-28T12:42:27.592Z"
   },
   {
    "duration": 4,
    "start_time": "2024-04-28T12:42:46.803Z"
   },
   {
    "duration": 4,
    "start_time": "2024-04-28T12:43:03.348Z"
   },
   {
    "duration": 3,
    "start_time": "2024-04-28T12:49:36.267Z"
   },
   {
    "duration": 4,
    "start_time": "2024-04-28T12:49:42.205Z"
   },
   {
    "duration": 3,
    "start_time": "2024-04-28T12:50:27.906Z"
   },
   {
    "duration": 4,
    "start_time": "2024-04-28T12:50:29.988Z"
   },
   {
    "duration": 10,
    "start_time": "2024-04-28T12:50:32.413Z"
   },
   {
    "duration": 10,
    "start_time": "2024-04-28T12:50:36.253Z"
   },
   {
    "duration": 4,
    "start_time": "2024-04-28T12:50:55.152Z"
   },
   {
    "duration": 46,
    "start_time": "2024-04-28T20:59:57.594Z"
   },
   {
    "duration": 352,
    "start_time": "2024-04-28T21:00:05.628Z"
   },
   {
    "duration": 379,
    "start_time": "2024-04-28T21:00:05.992Z"
   },
   {
    "duration": 17,
    "start_time": "2024-04-28T21:00:06.373Z"
   },
   {
    "duration": 28,
    "start_time": "2024-04-28T21:00:06.391Z"
   },
   {
    "duration": 8,
    "start_time": "2024-04-28T21:00:06.775Z"
   },
   {
    "duration": 10,
    "start_time": "2024-04-28T21:00:06.996Z"
   },
   {
    "duration": 7,
    "start_time": "2024-04-28T21:00:07.395Z"
   },
   {
    "duration": 9,
    "start_time": "2024-04-28T21:00:07.593Z"
   },
   {
    "duration": 7,
    "start_time": "2024-04-28T21:00:08.006Z"
   },
   {
    "duration": 10,
    "start_time": "2024-04-28T21:00:08.195Z"
   },
   {
    "duration": 4,
    "start_time": "2024-04-28T21:00:09.072Z"
   },
   {
    "duration": 5,
    "start_time": "2024-04-28T21:00:09.225Z"
   },
   {
    "duration": 10,
    "start_time": "2024-04-28T21:00:09.448Z"
   },
   {
    "duration": 11,
    "start_time": "2024-04-28T21:00:09.670Z"
   },
   {
    "duration": 10,
    "start_time": "2024-04-28T21:00:09.867Z"
   },
   {
    "duration": 9,
    "start_time": "2024-04-28T21:00:10.080Z"
   },
   {
    "duration": 10,
    "start_time": "2024-04-28T21:00:10.486Z"
   },
   {
    "duration": 6,
    "start_time": "2024-04-28T21:00:10.693Z"
   },
   {
    "duration": 6,
    "start_time": "2024-04-28T21:00:10.899Z"
   },
   {
    "duration": 6,
    "start_time": "2024-04-28T21:00:11.109Z"
   },
   {
    "duration": 5,
    "start_time": "2024-04-28T21:00:11.317Z"
   },
   {
    "duration": 4,
    "start_time": "2024-04-28T21:00:11.981Z"
   },
   {
    "duration": 4,
    "start_time": "2024-04-28T21:00:12.192Z"
   },
   {
    "duration": 4,
    "start_time": "2024-04-28T21:00:12.631Z"
   },
   {
    "duration": 4,
    "start_time": "2024-04-28T21:00:13.229Z"
   },
   {
    "duration": 4,
    "start_time": "2024-04-28T21:00:13.424Z"
   },
   {
    "duration": 4,
    "start_time": "2024-04-28T21:00:13.634Z"
   },
   {
    "duration": 4,
    "start_time": "2024-04-28T21:00:37.703Z"
   },
   {
    "duration": 4,
    "start_time": "2024-04-28T21:06:17.722Z"
   },
   {
    "duration": 4,
    "start_time": "2024-04-28T21:06:41.569Z"
   },
   {
    "duration": 5,
    "start_time": "2024-04-28T21:06:51.629Z"
   },
   {
    "duration": 4,
    "start_time": "2024-04-28T21:08:10.069Z"
   },
   {
    "duration": 36,
    "start_time": "2024-04-28T21:08:35.401Z"
   },
   {
    "duration": 14,
    "start_time": "2024-04-28T21:08:54.771Z"
   },
   {
    "duration": 3,
    "start_time": "2024-04-28T21:10:49.106Z"
   },
   {
    "duration": 13,
    "start_time": "2024-04-28T21:10:51.443Z"
   },
   {
    "duration": 3,
    "start_time": "2024-04-28T21:11:34.971Z"
   },
   {
    "duration": 12,
    "start_time": "2024-04-28T21:11:36.402Z"
   },
   {
    "duration": 3,
    "start_time": "2024-04-28T21:12:30.221Z"
   },
   {
    "duration": 12,
    "start_time": "2024-04-28T21:12:32.775Z"
   },
   {
    "duration": 12,
    "start_time": "2024-04-28T21:16:10.283Z"
   },
   {
    "duration": 3,
    "start_time": "2024-04-28T21:16:41.913Z"
   },
   {
    "duration": 13,
    "start_time": "2024-04-28T21:16:43.862Z"
   },
   {
    "duration": 2,
    "start_time": "2024-04-28T21:16:55.177Z"
   },
   {
    "duration": 14,
    "start_time": "2024-04-28T21:16:57.281Z"
   },
   {
    "duration": 2,
    "start_time": "2024-04-28T21:17:10.538Z"
   },
   {
    "duration": 13,
    "start_time": "2024-04-28T21:17:12.774Z"
   },
   {
    "duration": 4,
    "start_time": "2024-04-28T21:18:08.120Z"
   },
   {
    "duration": 18,
    "start_time": "2024-04-28T21:18:47.547Z"
   },
   {
    "duration": 4,
    "start_time": "2024-04-28T21:19:52.290Z"
   },
   {
    "duration": 4,
    "start_time": "2024-04-28T21:21:46.790Z"
   },
   {
    "duration": 5,
    "start_time": "2024-04-28T21:22:01.319Z"
   },
   {
    "duration": 3,
    "start_time": "2024-04-28T21:24:06.555Z"
   },
   {
    "duration": 4,
    "start_time": "2024-04-28T21:24:13.916Z"
   },
   {
    "duration": 3,
    "start_time": "2024-04-28T21:25:02.799Z"
   },
   {
    "duration": 5,
    "start_time": "2024-04-28T21:25:04.656Z"
   },
   {
    "duration": 3,
    "start_time": "2024-04-28T21:26:17.947Z"
   },
   {
    "duration": 4,
    "start_time": "2024-04-28T21:26:20.188Z"
   },
   {
    "duration": 3,
    "start_time": "2024-04-28T21:26:40.522Z"
   },
   {
    "duration": 4,
    "start_time": "2024-04-28T21:26:42.938Z"
   },
   {
    "duration": 4,
    "start_time": "2024-04-28T21:27:24.728Z"
   },
   {
    "duration": 5,
    "start_time": "2024-04-28T21:27:26.515Z"
   },
   {
    "duration": 3,
    "start_time": "2024-04-28T21:27:40.096Z"
   },
   {
    "duration": 5,
    "start_time": "2024-04-28T21:28:01.485Z"
   },
   {
    "duration": 1215,
    "start_time": "2024-04-28T21:28:15.768Z"
   },
   {
    "duration": 3,
    "start_time": "2024-04-28T21:28:52.012Z"
   },
   {
    "duration": 5,
    "start_time": "2024-04-28T21:28:54.209Z"
   },
   {
    "duration": 4,
    "start_time": "2024-04-28T21:28:56.328Z"
   },
   {
    "duration": 4,
    "start_time": "2024-04-28T21:29:17.120Z"
   },
   {
    "duration": 3,
    "start_time": "2024-04-28T21:29:33.201Z"
   },
   {
    "duration": 3,
    "start_time": "2024-04-28T21:33:08.099Z"
   },
   {
    "duration": 5,
    "start_time": "2024-04-28T21:33:10.249Z"
   },
   {
    "duration": 4,
    "start_time": "2024-04-28T21:33:16.352Z"
   },
   {
    "duration": 5,
    "start_time": "2024-04-28T21:33:24.773Z"
   },
   {
    "duration": 4,
    "start_time": "2024-04-28T21:35:39.057Z"
   },
   {
    "duration": 5,
    "start_time": "2024-04-28T21:35:41.521Z"
   },
   {
    "duration": 4,
    "start_time": "2024-04-28T21:35:44.115Z"
   },
   {
    "duration": 5,
    "start_time": "2024-04-28T21:36:05.399Z"
   },
   {
    "duration": 3,
    "start_time": "2024-04-28T21:37:04.932Z"
   },
   {
    "duration": 4,
    "start_time": "2024-04-28T21:37:08.053Z"
   },
   {
    "duration": 4,
    "start_time": "2024-04-28T21:37:10.512Z"
   },
   {
    "duration": 3,
    "start_time": "2024-04-28T21:37:16.091Z"
   },
   {
    "duration": 3,
    "start_time": "2024-04-28T21:37:18.548Z"
   },
   {
    "duration": 3,
    "start_time": "2024-04-28T21:39:04.653Z"
   },
   {
    "duration": 3,
    "start_time": "2024-04-28T21:42:27.327Z"
   },
   {
    "duration": 3,
    "start_time": "2024-04-28T21:42:51.670Z"
   },
   {
    "duration": 4,
    "start_time": "2024-04-28T21:45:47.487Z"
   },
   {
    "duration": 4,
    "start_time": "2024-04-28T21:46:04.007Z"
   },
   {
    "duration": 3,
    "start_time": "2024-04-28T21:46:38.830Z"
   },
   {
    "duration": 4,
    "start_time": "2024-04-28T21:46:49.003Z"
   },
   {
    "duration": 395,
    "start_time": "2024-05-01T12:48:17.471Z"
   },
   {
    "duration": 277,
    "start_time": "2024-05-01T12:48:17.868Z"
   },
   {
    "duration": 20,
    "start_time": "2024-05-01T12:48:18.147Z"
   },
   {
    "duration": 13,
    "start_time": "2024-05-01T12:48:18.169Z"
   },
   {
    "duration": 8,
    "start_time": "2024-05-01T12:48:18.184Z"
   },
   {
    "duration": 32,
    "start_time": "2024-05-01T12:48:18.194Z"
   },
   {
    "duration": 60,
    "start_time": "2024-05-01T12:48:18.228Z"
   },
   {
    "duration": 51,
    "start_time": "2024-05-01T12:48:18.290Z"
   },
   {
    "duration": 77,
    "start_time": "2024-05-01T12:48:18.344Z"
   },
   {
    "duration": 20,
    "start_time": "2024-05-01T12:48:18.422Z"
   },
   {
    "duration": 10,
    "start_time": "2024-05-01T12:48:18.443Z"
   },
   {
    "duration": 17,
    "start_time": "2024-05-01T12:48:18.455Z"
   },
   {
    "duration": 17,
    "start_time": "2024-05-01T12:48:18.474Z"
   },
   {
    "duration": 28,
    "start_time": "2024-05-01T12:48:18.496Z"
   },
   {
    "duration": 30,
    "start_time": "2024-05-01T12:48:18.526Z"
   },
   {
    "duration": 27,
    "start_time": "2024-05-01T12:48:18.559Z"
   },
   {
    "duration": 21,
    "start_time": "2024-05-01T12:48:18.587Z"
   },
   {
    "duration": 13,
    "start_time": "2024-05-01T12:48:18.610Z"
   },
   {
    "duration": 13,
    "start_time": "2024-05-01T12:48:18.624Z"
   },
   {
    "duration": 15,
    "start_time": "2024-05-01T12:48:18.638Z"
   },
   {
    "duration": 16,
    "start_time": "2024-05-01T12:48:18.655Z"
   },
   {
    "duration": 5,
    "start_time": "2024-05-01T12:48:18.672Z"
   },
   {
    "duration": 14,
    "start_time": "2024-05-01T12:48:18.678Z"
   },
   {
    "duration": 17,
    "start_time": "2024-05-01T12:48:18.693Z"
   },
   {
    "duration": 6,
    "start_time": "2024-05-01T12:48:18.712Z"
   },
   {
    "duration": 8,
    "start_time": "2024-05-01T12:48:18.720Z"
   },
   {
    "duration": 13,
    "start_time": "2024-05-01T12:48:18.729Z"
   },
   {
    "duration": 11,
    "start_time": "2024-05-01T12:48:18.743Z"
   },
   {
    "duration": 9,
    "start_time": "2024-05-01T12:48:18.756Z"
   },
   {
    "duration": 18,
    "start_time": "2024-05-01T12:48:18.766Z"
   },
   {
    "duration": 18,
    "start_time": "2024-05-01T12:48:18.786Z"
   },
   {
    "duration": 6,
    "start_time": "2024-05-01T12:48:18.806Z"
   },
   {
    "duration": 9,
    "start_time": "2024-05-01T12:48:18.813Z"
   },
   {
    "duration": 10,
    "start_time": "2024-05-01T12:48:18.824Z"
   },
   {
    "duration": 36,
    "start_time": "2024-05-01T12:48:18.835Z"
   },
   {
    "duration": 19,
    "start_time": "2024-05-01T12:48:18.872Z"
   },
   {
    "duration": 13,
    "start_time": "2024-05-01T12:48:18.893Z"
   },
   {
    "duration": 12,
    "start_time": "2024-05-01T12:50:08.306Z"
   },
   {
    "duration": 3,
    "start_time": "2024-05-01T12:54:37.444Z"
   },
   {
    "duration": 3,
    "start_time": "2024-05-01T12:54:53.905Z"
   },
   {
    "duration": 116,
    "start_time": "2024-05-01T12:54:53.910Z"
   },
   {
    "duration": 13,
    "start_time": "2024-05-01T12:54:54.027Z"
   },
   {
    "duration": 34,
    "start_time": "2024-05-01T12:54:54.042Z"
   },
   {
    "duration": 44,
    "start_time": "2024-05-01T12:54:54.078Z"
   },
   {
    "duration": 20,
    "start_time": "2024-05-01T12:54:54.124Z"
   },
   {
    "duration": 31,
    "start_time": "2024-05-01T12:54:54.146Z"
   },
   {
    "duration": 37,
    "start_time": "2024-05-01T12:54:54.179Z"
   },
   {
    "duration": 59,
    "start_time": "2024-05-01T12:54:54.217Z"
   },
   {
    "duration": 20,
    "start_time": "2024-05-01T12:54:54.278Z"
   },
   {
    "duration": 22,
    "start_time": "2024-05-01T12:54:54.299Z"
   },
   {
    "duration": 77,
    "start_time": "2024-05-01T12:54:54.323Z"
   },
   {
    "duration": 53,
    "start_time": "2024-05-01T12:54:54.402Z"
   },
   {
    "duration": 71,
    "start_time": "2024-05-01T12:54:54.459Z"
   },
   {
    "duration": 40,
    "start_time": "2024-05-01T12:54:54.531Z"
   },
   {
    "duration": 23,
    "start_time": "2024-05-01T12:54:54.573Z"
   },
   {
    "duration": 16,
    "start_time": "2024-05-01T12:54:54.597Z"
   },
   {
    "duration": 12,
    "start_time": "2024-05-01T12:54:54.614Z"
   },
   {
    "duration": 6,
    "start_time": "2024-05-01T12:54:54.627Z"
   },
   {
    "duration": 6,
    "start_time": "2024-05-01T12:54:54.635Z"
   },
   {
    "duration": 9,
    "start_time": "2024-05-01T12:54:54.642Z"
   },
   {
    "duration": 10,
    "start_time": "2024-05-01T12:54:54.652Z"
   },
   {
    "duration": 10,
    "start_time": "2024-05-01T12:54:54.663Z"
   },
   {
    "duration": 23,
    "start_time": "2024-05-01T12:54:54.675Z"
   },
   {
    "duration": 29,
    "start_time": "2024-05-01T12:54:54.700Z"
   },
   {
    "duration": 18,
    "start_time": "2024-05-01T12:54:54.731Z"
   },
   {
    "duration": 21,
    "start_time": "2024-05-01T12:54:54.750Z"
   },
   {
    "duration": 9,
    "start_time": "2024-05-01T12:54:54.772Z"
   },
   {
    "duration": 3,
    "start_time": "2024-05-01T12:54:54.783Z"
   },
   {
    "duration": 36,
    "start_time": "2024-05-01T12:54:54.788Z"
   },
   {
    "duration": 19,
    "start_time": "2024-05-01T12:54:54.826Z"
   },
   {
    "duration": 10,
    "start_time": "2024-05-01T12:54:54.847Z"
   },
   {
    "duration": 10,
    "start_time": "2024-05-01T12:54:54.858Z"
   },
   {
    "duration": 8,
    "start_time": "2024-05-01T12:54:54.869Z"
   },
   {
    "duration": 18,
    "start_time": "2024-05-01T12:54:54.878Z"
   },
   {
    "duration": 19,
    "start_time": "2024-05-01T12:54:54.898Z"
   },
   {
    "duration": 20,
    "start_time": "2024-05-01T12:54:54.919Z"
   },
   {
    "duration": 18,
    "start_time": "2024-05-01T12:54:54.940Z"
   },
   {
    "duration": 11,
    "start_time": "2024-05-01T12:55:54.447Z"
   },
   {
    "duration": 11,
    "start_time": "2024-05-01T12:56:15.919Z"
   },
   {
    "duration": 4,
    "start_time": "2024-05-01T13:07:44.096Z"
   },
   {
    "duration": 4,
    "start_time": "2024-05-01T13:11:04.974Z"
   },
   {
    "duration": 71,
    "start_time": "2024-05-01T13:11:16.499Z"
   },
   {
    "duration": 169,
    "start_time": "2024-05-01T13:12:01.455Z"
   },
   {
    "duration": 11,
    "start_time": "2024-05-01T13:13:15.756Z"
   },
   {
    "duration": 21,
    "start_time": "2024-05-01T13:13:21.327Z"
   },
   {
    "duration": 14,
    "start_time": "2024-05-01T13:16:24.273Z"
   },
   {
    "duration": 28,
    "start_time": "2024-05-01T13:16:35.816Z"
   },
   {
    "duration": 17,
    "start_time": "2024-05-01T13:17:43.871Z"
   },
   {
    "duration": 15,
    "start_time": "2024-05-01T13:17:57.665Z"
   },
   {
    "duration": 11,
    "start_time": "2024-05-01T13:19:35.204Z"
   },
   {
    "duration": 19,
    "start_time": "2024-05-01T13:22:49.095Z"
   },
   {
    "duration": 9,
    "start_time": "2024-05-01T13:22:51.645Z"
   },
   {
    "duration": 15,
    "start_time": "2024-05-01T13:23:27.101Z"
   },
   {
    "duration": 10,
    "start_time": "2024-05-01T13:24:03.689Z"
   },
   {
    "duration": 193,
    "start_time": "2024-05-01T13:24:38.978Z"
   },
   {
    "duration": 8,
    "start_time": "2024-05-01T13:25:12.366Z"
   },
   {
    "duration": 12,
    "start_time": "2024-05-01T13:25:50.030Z"
   },
   {
    "duration": 516,
    "start_time": "2024-05-01T13:31:58.645Z"
   },
   {
    "duration": 8,
    "start_time": "2024-05-01T13:32:27.635Z"
   },
   {
    "duration": 14,
    "start_time": "2024-05-01T13:33:11.441Z"
   },
   {
    "duration": 6,
    "start_time": "2024-05-01T13:33:43.464Z"
   },
   {
    "duration": 7,
    "start_time": "2024-05-01T13:34:00.289Z"
   },
   {
    "duration": 7,
    "start_time": "2024-05-01T13:34:39.151Z"
   },
   {
    "duration": 7,
    "start_time": "2024-05-01T13:34:43.404Z"
   },
   {
    "duration": 6,
    "start_time": "2024-05-01T13:34:55.640Z"
   },
   {
    "duration": 6,
    "start_time": "2024-05-01T13:35:24.408Z"
   },
   {
    "duration": 9,
    "start_time": "2024-05-01T13:36:26.393Z"
   },
   {
    "duration": 9,
    "start_time": "2024-05-01T13:36:35.993Z"
   },
   {
    "duration": 18,
    "start_time": "2024-05-01T13:40:11.175Z"
   },
   {
    "duration": 8,
    "start_time": "2024-05-01T13:41:12.529Z"
   },
   {
    "duration": 19,
    "start_time": "2024-05-01T13:43:19.263Z"
   },
   {
    "duration": 6,
    "start_time": "2024-05-01T13:43:48.987Z"
   },
   {
    "duration": 6,
    "start_time": "2024-05-01T13:44:48.117Z"
   },
   {
    "duration": 421,
    "start_time": "2024-05-01T13:47:49.362Z"
   },
   {
    "duration": 116,
    "start_time": "2024-05-01T13:49:13.492Z"
   },
   {
    "duration": 45,
    "start_time": "2024-05-01T13:49:53.854Z"
   },
   {
    "duration": 7,
    "start_time": "2024-05-01T13:50:44.390Z"
   },
   {
    "duration": 5,
    "start_time": "2024-05-01T15:01:45.072Z"
   },
   {
    "duration": 2302,
    "start_time": "2024-05-01T15:06:57.792Z"
   },
   {
    "duration": 4,
    "start_time": "2024-05-01T15:09:08.450Z"
   },
   {
    "duration": 4,
    "start_time": "2024-05-01T15:09:25.316Z"
   },
   {
    "duration": 9,
    "start_time": "2024-05-01T15:20:31.914Z"
   },
   {
    "duration": 668,
    "start_time": "2024-05-01T15:24:17.960Z"
   },
   {
    "duration": 274,
    "start_time": "2024-05-01T15:24:32.334Z"
   },
   {
    "duration": 7,
    "start_time": "2024-05-01T15:33:50.531Z"
   },
   {
    "duration": 6,
    "start_time": "2024-05-01T15:40:28.824Z"
   },
   {
    "duration": 313,
    "start_time": "2024-05-01T15:40:37.753Z"
   },
   {
    "duration": 10,
    "start_time": "2024-05-01T15:54:53.745Z"
   },
   {
    "duration": 289,
    "start_time": "2024-05-01T15:55:19.413Z"
   },
   {
    "duration": 8,
    "start_time": "2024-05-01T15:57:08.288Z"
   },
   {
    "duration": 274,
    "start_time": "2024-05-01T15:57:30.865Z"
   },
   {
    "duration": 14,
    "start_time": "2024-05-01T16:56:12.452Z"
   },
   {
    "duration": 12,
    "start_time": "2024-05-01T16:56:15.988Z"
   },
   {
    "duration": 8,
    "start_time": "2024-05-01T16:56:31.375Z"
   },
   {
    "duration": 8,
    "start_time": "2024-05-01T16:56:43.831Z"
   },
   {
    "duration": 22,
    "start_time": "2024-05-01T17:07:29.344Z"
   },
   {
    "duration": 20,
    "start_time": "2024-05-01T17:09:18.585Z"
   },
   {
    "duration": 9,
    "start_time": "2024-05-01T17:09:36.067Z"
   },
   {
    "duration": 7,
    "start_time": "2024-05-01T17:09:41.910Z"
   },
   {
    "duration": 219,
    "start_time": "2024-05-01T17:10:24.669Z"
   },
   {
    "duration": 20,
    "start_time": "2024-05-01T17:10:41.266Z"
   },
   {
    "duration": 18,
    "start_time": "2024-05-01T17:10:51.855Z"
   },
   {
    "duration": 16,
    "start_time": "2024-05-01T17:12:37.811Z"
   },
   {
    "duration": 20,
    "start_time": "2024-05-01T17:13:33.330Z"
   },
   {
    "duration": 12,
    "start_time": "2024-05-01T17:14:19.287Z"
   },
   {
    "duration": 13,
    "start_time": "2024-05-01T17:15:05.218Z"
   },
   {
    "duration": 8,
    "start_time": "2024-05-01T17:16:51.599Z"
   },
   {
    "duration": 15,
    "start_time": "2024-05-01T17:18:04.550Z"
   },
   {
    "duration": 14,
    "start_time": "2024-05-01T17:18:14.345Z"
   },
   {
    "duration": 835,
    "start_time": "2024-05-02T02:44:11.570Z"
   },
   {
    "duration": 330,
    "start_time": "2024-05-02T02:44:12.407Z"
   },
   {
    "duration": 17,
    "start_time": "2024-05-02T02:44:12.738Z"
   },
   {
    "duration": 52,
    "start_time": "2024-05-02T02:44:12.756Z"
   },
   {
    "duration": 19,
    "start_time": "2024-05-02T02:44:12.810Z"
   },
   {
    "duration": 31,
    "start_time": "2024-05-02T02:44:12.830Z"
   },
   {
    "duration": 42,
    "start_time": "2024-05-02T02:44:12.862Z"
   },
   {
    "duration": 42,
    "start_time": "2024-05-02T02:44:12.905Z"
   },
   {
    "duration": 26,
    "start_time": "2024-05-02T02:44:12.948Z"
   },
   {
    "duration": 28,
    "start_time": "2024-05-02T02:44:12.976Z"
   },
   {
    "duration": 11,
    "start_time": "2024-05-02T02:44:13.006Z"
   },
   {
    "duration": 22,
    "start_time": "2024-05-02T02:44:13.019Z"
   },
   {
    "duration": 37,
    "start_time": "2024-05-02T02:44:13.042Z"
   },
   {
    "duration": 17,
    "start_time": "2024-05-02T02:44:13.084Z"
   },
   {
    "duration": 31,
    "start_time": "2024-05-02T02:44:13.103Z"
   },
   {
    "duration": 22,
    "start_time": "2024-05-02T02:44:13.136Z"
   },
   {
    "duration": 42,
    "start_time": "2024-05-02T02:44:13.160Z"
   },
   {
    "duration": 45,
    "start_time": "2024-05-02T02:44:13.204Z"
   },
   {
    "duration": 33,
    "start_time": "2024-05-02T02:44:13.250Z"
   },
   {
    "duration": 16,
    "start_time": "2024-05-02T02:44:13.285Z"
   },
   {
    "duration": 12,
    "start_time": "2024-05-02T02:44:13.302Z"
   },
   {
    "duration": 9,
    "start_time": "2024-05-02T02:44:13.316Z"
   },
   {
    "duration": 9,
    "start_time": "2024-05-02T02:44:13.326Z"
   },
   {
    "duration": 9,
    "start_time": "2024-05-02T02:44:13.337Z"
   },
   {
    "duration": 32,
    "start_time": "2024-05-02T02:44:13.347Z"
   },
   {
    "duration": 22,
    "start_time": "2024-05-02T02:44:13.381Z"
   },
   {
    "duration": 62,
    "start_time": "2024-05-02T02:44:13.404Z"
   },
   {
    "duration": 10,
    "start_time": "2024-05-02T02:44:13.468Z"
   },
   {
    "duration": 24,
    "start_time": "2024-05-02T02:44:13.480Z"
   },
   {
    "duration": 11,
    "start_time": "2024-05-02T02:44:13.505Z"
   },
   {
    "duration": 18,
    "start_time": "2024-05-02T02:44:13.517Z"
   },
   {
    "duration": 10,
    "start_time": "2024-05-02T02:44:13.537Z"
   },
   {
    "duration": 17,
    "start_time": "2024-05-02T02:44:13.549Z"
   },
   {
    "duration": 7,
    "start_time": "2024-05-02T02:44:13.567Z"
   },
   {
    "duration": 30,
    "start_time": "2024-05-02T02:44:13.575Z"
   },
   {
    "duration": 23,
    "start_time": "2024-05-02T02:44:13.606Z"
   },
   {
    "duration": 50,
    "start_time": "2024-05-02T02:44:13.631Z"
   },
   {
    "duration": 25,
    "start_time": "2024-05-02T02:44:13.682Z"
   },
   {
    "duration": 23,
    "start_time": "2024-05-02T02:44:13.709Z"
   },
   {
    "duration": 59,
    "start_time": "2024-05-02T02:44:13.733Z"
   },
   {
    "duration": 38,
    "start_time": "2024-05-02T02:44:13.797Z"
   },
   {
    "duration": 2217,
    "start_time": "2024-05-02T02:44:13.836Z"
   },
   {
    "duration": 8,
    "start_time": "2024-05-02T02:44:16.055Z"
   },
   {
    "duration": 281,
    "start_time": "2024-05-02T02:44:16.064Z"
   },
   {
    "duration": 6,
    "start_time": "2024-05-02T02:44:16.346Z"
   },
   {
    "duration": 21,
    "start_time": "2024-05-02T02:44:16.353Z"
   },
   {
    "duration": 270,
    "start_time": "2024-05-02T02:44:16.376Z"
   },
   {
    "duration": 7,
    "start_time": "2024-05-02T02:44:16.647Z"
   },
   {
    "duration": 268,
    "start_time": "2024-05-02T02:44:16.655Z"
   },
   {
    "duration": 7,
    "start_time": "2024-05-02T02:44:16.924Z"
   },
   {
    "duration": 290,
    "start_time": "2024-05-02T02:44:16.932Z"
   },
   {
    "duration": 5,
    "start_time": "2024-05-02T02:44:17.223Z"
   },
   {
    "duration": 22,
    "start_time": "2024-05-02T02:44:17.229Z"
   },
   {
    "duration": 26,
    "start_time": "2024-05-02T02:44:17.252Z"
   },
   {
    "duration": 18,
    "start_time": "2024-05-02T02:44:17.279Z"
   },
   {
    "duration": 17,
    "start_time": "2024-05-02T02:44:17.299Z"
   },
   {
    "duration": 37,
    "start_time": "2024-05-02T02:44:17.317Z"
   },
   {
    "duration": 15,
    "start_time": "2024-05-02T02:44:17.356Z"
   },
   {
    "duration": 17,
    "start_time": "2024-05-02T02:44:17.373Z"
   },
   {
    "duration": 33,
    "start_time": "2024-05-02T02:44:17.391Z"
   },
   {
    "duration": 43,
    "start_time": "2024-05-02T02:44:17.426Z"
   },
   {
    "duration": 45,
    "start_time": "2024-05-02T02:44:17.471Z"
   },
   {
    "duration": 35,
    "start_time": "2024-05-02T02:44:17.517Z"
   },
   {
    "duration": 18,
    "start_time": "2024-05-02T02:44:17.553Z"
   },
   {
    "duration": 18,
    "start_time": "2024-05-02T02:44:17.572Z"
   },
   {
    "duration": 85,
    "start_time": "2024-05-02T02:44:17.591Z"
   },
   {
    "duration": 551,
    "start_time": "2024-05-02T02:46:09.664Z"
   },
   {
    "duration": 1490,
    "start_time": "2024-05-02T03:06:09.084Z"
   },
   {
    "duration": 1472,
    "start_time": "2024-05-02T03:07:17.093Z"
   },
   {
    "duration": 172,
    "start_time": "2024-05-02T03:11:36.724Z"
   },
   {
    "duration": 1375,
    "start_time": "2024-05-02T03:11:45.548Z"
   },
   {
    "duration": 1400,
    "start_time": "2024-05-02T03:14:37.866Z"
   },
   {
    "duration": 1398,
    "start_time": "2024-05-02T03:14:47.721Z"
   },
   {
    "duration": 1450,
    "start_time": "2024-05-02T03:15:12.002Z"
   },
   {
    "duration": 1374,
    "start_time": "2024-05-02T03:16:29.024Z"
   },
   {
    "duration": 1375,
    "start_time": "2024-05-02T03:16:49.921Z"
   },
   {
    "duration": 13,
    "start_time": "2024-05-02T03:20:12.846Z"
   },
   {
    "duration": 3,
    "start_time": "2024-05-02T03:22:21.572Z"
   },
   {
    "duration": 696,
    "start_time": "2024-05-02T03:22:45.323Z"
   },
   {
    "duration": 1379,
    "start_time": "2024-05-02T03:22:57.364Z"
   },
   {
    "duration": 107,
    "start_time": "2024-05-02T08:19:20.619Z"
   },
   {
    "duration": 424,
    "start_time": "2024-05-02T08:21:39.208Z"
   },
   {
    "duration": 18,
    "start_time": "2024-05-02T08:31:14.805Z"
   },
   {
    "duration": 396,
    "start_time": "2024-05-02T08:34:53.490Z"
   },
   {
    "duration": 5,
    "start_time": "2024-05-02T09:11:04.691Z"
   },
   {
    "duration": 5,
    "start_time": "2024-05-02T09:11:36.836Z"
   },
   {
    "duration": 5,
    "start_time": "2024-05-02T09:11:54.931Z"
   },
   {
    "duration": 5,
    "start_time": "2024-05-02T09:12:03.770Z"
   },
   {
    "duration": 5,
    "start_time": "2024-05-02T09:12:27.722Z"
   },
   {
    "duration": 4,
    "start_time": "2024-05-02T09:12:45.764Z"
   },
   {
    "duration": 4,
    "start_time": "2024-05-02T09:14:29.307Z"
   },
   {
    "duration": 6,
    "start_time": "2024-05-02T09:16:48.959Z"
   },
   {
    "duration": 5,
    "start_time": "2024-05-02T09:17:08.326Z"
   },
   {
    "duration": 5,
    "start_time": "2024-05-02T09:17:19.706Z"
   },
   {
    "duration": 5,
    "start_time": "2024-05-02T09:17:37.582Z"
   },
   {
    "duration": 4,
    "start_time": "2024-05-02T09:17:45.519Z"
   },
   {
    "duration": 5,
    "start_time": "2024-05-02T09:17:57.307Z"
   },
   {
    "duration": 6,
    "start_time": "2024-05-02T09:18:06.183Z"
   },
   {
    "duration": 5,
    "start_time": "2024-05-02T09:24:12.947Z"
   },
   {
    "duration": 5,
    "start_time": "2024-05-02T10:32:27.731Z"
   },
   {
    "duration": 5,
    "start_time": "2024-05-02T10:32:48.898Z"
   },
   {
    "duration": 5,
    "start_time": "2024-05-02T10:33:54.908Z"
   },
   {
    "duration": 4,
    "start_time": "2024-05-02T10:34:16.281Z"
   },
   {
    "duration": 4,
    "start_time": "2024-05-02T10:37:46.382Z"
   },
   {
    "duration": 4,
    "start_time": "2024-05-02T10:37:56.334Z"
   },
   {
    "duration": 5,
    "start_time": "2024-05-02T10:39:08.782Z"
   },
   {
    "duration": 4,
    "start_time": "2024-05-02T10:39:23.029Z"
   },
   {
    "duration": 8,
    "start_time": "2024-05-02T10:41:53.786Z"
   },
   {
    "duration": 4,
    "start_time": "2024-05-02T10:41:56.899Z"
   },
   {
    "duration": 4,
    "start_time": "2024-05-02T10:43:04.786Z"
   },
   {
    "duration": 6,
    "start_time": "2024-05-02T10:44:08.465Z"
   },
   {
    "duration": 116,
    "start_time": "2024-05-02T10:44:08.473Z"
   },
   {
    "duration": 13,
    "start_time": "2024-05-02T10:44:08.591Z"
   },
   {
    "duration": 23,
    "start_time": "2024-05-02T10:44:08.606Z"
   },
   {
    "duration": 36,
    "start_time": "2024-05-02T10:44:08.632Z"
   },
   {
    "duration": 52,
    "start_time": "2024-05-02T10:44:08.670Z"
   },
   {
    "duration": 25,
    "start_time": "2024-05-02T10:44:08.724Z"
   },
   {
    "duration": 34,
    "start_time": "2024-05-02T10:44:08.751Z"
   },
   {
    "duration": 19,
    "start_time": "2024-05-02T10:44:08.786Z"
   },
   {
    "duration": 26,
    "start_time": "2024-05-02T10:44:08.807Z"
   },
   {
    "duration": 32,
    "start_time": "2024-05-02T10:44:08.835Z"
   },
   {
    "duration": 21,
    "start_time": "2024-05-02T10:44:08.870Z"
   },
   {
    "duration": 26,
    "start_time": "2024-05-02T10:44:08.893Z"
   },
   {
    "duration": 31,
    "start_time": "2024-05-02T10:44:08.922Z"
   },
   {
    "duration": 23,
    "start_time": "2024-05-02T10:44:08.954Z"
   },
   {
    "duration": 46,
    "start_time": "2024-05-02T10:44:08.978Z"
   },
   {
    "duration": 31,
    "start_time": "2024-05-02T10:44:09.027Z"
   },
   {
    "duration": 12,
    "start_time": "2024-05-02T10:44:09.059Z"
   },
   {
    "duration": 15,
    "start_time": "2024-05-02T10:44:09.073Z"
   },
   {
    "duration": 21,
    "start_time": "2024-05-02T10:44:09.090Z"
   },
   {
    "duration": 41,
    "start_time": "2024-05-02T10:44:09.112Z"
   },
   {
    "duration": 40,
    "start_time": "2024-05-02T10:44:09.154Z"
   },
   {
    "duration": 14,
    "start_time": "2024-05-02T10:44:09.196Z"
   },
   {
    "duration": 15,
    "start_time": "2024-05-02T10:44:09.212Z"
   },
   {
    "duration": 30,
    "start_time": "2024-05-02T10:44:09.228Z"
   },
   {
    "duration": 29,
    "start_time": "2024-05-02T10:44:09.259Z"
   },
   {
    "duration": 39,
    "start_time": "2024-05-02T10:44:09.290Z"
   },
   {
    "duration": 56,
    "start_time": "2024-05-02T10:44:09.331Z"
   },
   {
    "duration": 26,
    "start_time": "2024-05-02T10:44:09.388Z"
   },
   {
    "duration": 25,
    "start_time": "2024-05-02T10:44:09.416Z"
   },
   {
    "duration": 32,
    "start_time": "2024-05-02T10:44:09.443Z"
   },
   {
    "duration": 26,
    "start_time": "2024-05-02T10:44:09.477Z"
   },
   {
    "duration": 28,
    "start_time": "2024-05-02T10:44:09.504Z"
   },
   {
    "duration": 21,
    "start_time": "2024-05-02T10:44:09.534Z"
   },
   {
    "duration": 30,
    "start_time": "2024-05-02T10:44:09.556Z"
   },
   {
    "duration": 17,
    "start_time": "2024-05-02T10:44:09.588Z"
   },
   {
    "duration": 46,
    "start_time": "2024-05-02T10:44:09.607Z"
   },
   {
    "duration": 24,
    "start_time": "2024-05-02T10:44:09.654Z"
   },
   {
    "duration": 21,
    "start_time": "2024-05-02T10:44:09.679Z"
   },
   {
    "duration": 37,
    "start_time": "2024-05-02T10:44:09.701Z"
   },
   {
    "duration": 24,
    "start_time": "2024-05-02T10:44:09.742Z"
   },
   {
    "duration": 2307,
    "start_time": "2024-05-02T10:44:09.767Z"
   },
   {
    "duration": 8,
    "start_time": "2024-05-02T10:44:12.075Z"
   },
   {
    "duration": 299,
    "start_time": "2024-05-02T10:44:12.085Z"
   },
   {
    "duration": 5,
    "start_time": "2024-05-02T10:44:12.394Z"
   },
   {
    "duration": 40,
    "start_time": "2024-05-02T10:44:12.400Z"
   },
   {
    "duration": 300,
    "start_time": "2024-05-02T10:44:12.442Z"
   },
   {
    "duration": 7,
    "start_time": "2024-05-02T10:44:12.744Z"
   },
   {
    "duration": 292,
    "start_time": "2024-05-02T10:44:12.753Z"
   },
   {
    "duration": 7,
    "start_time": "2024-05-02T10:44:13.047Z"
   },
   {
    "duration": 305,
    "start_time": "2024-05-02T10:44:13.055Z"
   },
   {
    "duration": 4,
    "start_time": "2024-05-02T10:44:13.362Z"
   },
   {
    "duration": 65,
    "start_time": "2024-05-02T10:44:13.368Z"
   },
   {
    "duration": 43,
    "start_time": "2024-05-02T10:44:13.435Z"
   },
   {
    "duration": 33,
    "start_time": "2024-05-02T10:44:13.480Z"
   },
   {
    "duration": 34,
    "start_time": "2024-05-02T10:44:13.514Z"
   },
   {
    "duration": 84,
    "start_time": "2024-05-02T10:44:13.549Z"
   },
   {
    "duration": 31,
    "start_time": "2024-05-02T10:44:13.635Z"
   },
   {
    "duration": 17,
    "start_time": "2024-05-02T10:44:13.667Z"
   },
   {
    "duration": 32,
    "start_time": "2024-05-02T10:44:13.685Z"
   },
   {
    "duration": 20,
    "start_time": "2024-05-02T10:44:13.718Z"
   },
   {
    "duration": 147,
    "start_time": "2024-05-02T10:44:13.739Z"
   },
   {
    "duration": 20,
    "start_time": "2024-05-02T10:44:13.888Z"
   },
   {
    "duration": 25,
    "start_time": "2024-05-02T10:44:13.910Z"
   },
   {
    "duration": 12,
    "start_time": "2024-05-02T10:44:13.936Z"
   },
   {
    "duration": 20,
    "start_time": "2024-05-02T10:44:13.949Z"
   },
   {
    "duration": 25,
    "start_time": "2024-05-02T10:44:13.971Z"
   },
   {
    "duration": 24,
    "start_time": "2024-05-02T10:44:13.998Z"
   },
   {
    "duration": 1360,
    "start_time": "2024-05-02T10:44:14.023Z"
   },
   {
    "duration": 22,
    "start_time": "2024-05-02T10:44:15.384Z"
   },
   {
    "duration": 5,
    "start_time": "2024-05-02T10:44:19.264Z"
   },
   {
    "duration": 5,
    "start_time": "2024-05-02T10:45:12.309Z"
   },
   {
    "duration": 5,
    "start_time": "2024-05-02T10:45:36.471Z"
   },
   {
    "duration": 4,
    "start_time": "2024-05-02T10:46:10.607Z"
   },
   {
    "duration": 5,
    "start_time": "2024-05-02T10:46:55.071Z"
   },
   {
    "duration": 5,
    "start_time": "2024-05-02T12:00:29.797Z"
   },
   {
    "duration": 3,
    "start_time": "2024-05-02T12:03:12.934Z"
   },
   {
    "duration": 82,
    "start_time": "2024-05-02T12:05:37.852Z"
   },
   {
    "duration": 18,
    "start_time": "2024-05-02T12:06:10.115Z"
   },
   {
    "duration": 15,
    "start_time": "2024-05-02T12:06:58.490Z"
   },
   {
    "duration": 11,
    "start_time": "2024-05-02T12:07:10.266Z"
   },
   {
    "duration": 13,
    "start_time": "2024-05-02T12:07:30.475Z"
   },
   {
    "duration": 1838,
    "start_time": "2024-05-02T16:14:41.987Z"
   },
   {
    "duration": 361,
    "start_time": "2024-05-02T16:14:43.828Z"
   },
   {
    "duration": 19,
    "start_time": "2024-05-02T16:14:44.191Z"
   },
   {
    "duration": 14,
    "start_time": "2024-05-02T16:14:44.211Z"
   },
   {
    "duration": 18,
    "start_time": "2024-05-02T16:14:44.228Z"
   },
   {
    "duration": 13,
    "start_time": "2024-05-02T16:14:44.247Z"
   },
   {
    "duration": 24,
    "start_time": "2024-05-02T16:14:44.262Z"
   },
   {
    "duration": 14,
    "start_time": "2024-05-02T16:14:44.287Z"
   },
   {
    "duration": 9,
    "start_time": "2024-05-02T16:14:44.303Z"
   },
   {
    "duration": 12,
    "start_time": "2024-05-02T16:14:44.313Z"
   },
   {
    "duration": 17,
    "start_time": "2024-05-02T16:14:44.327Z"
   },
   {
    "duration": 12,
    "start_time": "2024-05-02T16:14:44.345Z"
   },
   {
    "duration": 38,
    "start_time": "2024-05-02T16:14:44.358Z"
   },
   {
    "duration": 15,
    "start_time": "2024-05-02T16:14:44.399Z"
   },
   {
    "duration": 17,
    "start_time": "2024-05-02T16:14:44.415Z"
   },
   {
    "duration": 24,
    "start_time": "2024-05-02T16:14:44.434Z"
   },
   {
    "duration": 18,
    "start_time": "2024-05-02T16:14:44.460Z"
   },
   {
    "duration": 8,
    "start_time": "2024-05-02T16:14:44.479Z"
   },
   {
    "duration": 6,
    "start_time": "2024-05-02T16:14:44.489Z"
   },
   {
    "duration": 6,
    "start_time": "2024-05-02T16:14:44.496Z"
   },
   {
    "duration": 5,
    "start_time": "2024-05-02T16:14:44.504Z"
   },
   {
    "duration": 7,
    "start_time": "2024-05-02T16:14:44.510Z"
   },
   {
    "duration": 9,
    "start_time": "2024-05-02T16:14:44.518Z"
   },
   {
    "duration": 6,
    "start_time": "2024-05-02T16:14:44.528Z"
   },
   {
    "duration": 50,
    "start_time": "2024-05-02T16:14:44.536Z"
   },
   {
    "duration": 18,
    "start_time": "2024-05-02T16:14:44.588Z"
   },
   {
    "duration": 23,
    "start_time": "2024-05-02T16:14:44.608Z"
   },
   {
    "duration": 7,
    "start_time": "2024-05-02T16:14:44.633Z"
   },
   {
    "duration": 13,
    "start_time": "2024-05-02T16:14:44.642Z"
   },
   {
    "duration": 18,
    "start_time": "2024-05-02T16:14:44.657Z"
   },
   {
    "duration": 30,
    "start_time": "2024-05-02T16:14:44.680Z"
   },
   {
    "duration": 10,
    "start_time": "2024-05-02T16:14:44.712Z"
   },
   {
    "duration": 9,
    "start_time": "2024-05-02T16:14:44.723Z"
   },
   {
    "duration": 17,
    "start_time": "2024-05-02T16:14:44.733Z"
   },
   {
    "duration": 22,
    "start_time": "2024-05-02T16:14:44.752Z"
   },
   {
    "duration": 23,
    "start_time": "2024-05-02T16:14:44.779Z"
   },
   {
    "duration": 14,
    "start_time": "2024-05-02T16:14:44.804Z"
   },
   {
    "duration": 4,
    "start_time": "2024-05-02T16:14:44.820Z"
   },
   {
    "duration": 6,
    "start_time": "2024-05-02T16:14:44.826Z"
   },
   {
    "duration": 28,
    "start_time": "2024-05-02T16:14:44.833Z"
   },
   {
    "duration": 5,
    "start_time": "2024-05-02T16:14:44.879Z"
   },
   {
    "duration": 2566,
    "start_time": "2024-05-02T16:14:44.886Z"
   },
   {
    "duration": 16,
    "start_time": "2024-05-02T16:14:47.454Z"
   },
   {
    "duration": 323,
    "start_time": "2024-05-02T16:14:47.472Z"
   },
   {
    "duration": 6,
    "start_time": "2024-05-02T16:14:47.797Z"
   },
   {
    "duration": 29,
    "start_time": "2024-05-02T16:14:47.804Z"
   },
   {
    "duration": 313,
    "start_time": "2024-05-02T16:14:47.834Z"
   },
   {
    "duration": 8,
    "start_time": "2024-05-02T16:14:48.149Z"
   },
   {
    "duration": 325,
    "start_time": "2024-05-02T16:14:48.159Z"
   },
   {
    "duration": 8,
    "start_time": "2024-05-02T16:14:48.487Z"
   },
   {
    "duration": 301,
    "start_time": "2024-05-02T16:14:48.497Z"
   },
   {
    "duration": 5,
    "start_time": "2024-05-02T16:14:48.800Z"
   },
   {
    "duration": 10,
    "start_time": "2024-05-02T16:14:48.807Z"
   },
   {
    "duration": 18,
    "start_time": "2024-05-02T16:14:48.819Z"
   },
   {
    "duration": 41,
    "start_time": "2024-05-02T16:14:48.839Z"
   },
   {
    "duration": 15,
    "start_time": "2024-05-02T16:14:48.886Z"
   },
   {
    "duration": 16,
    "start_time": "2024-05-02T16:14:48.903Z"
   },
   {
    "duration": 13,
    "start_time": "2024-05-02T16:14:48.921Z"
   },
   {
    "duration": 17,
    "start_time": "2024-05-02T16:14:48.936Z"
   },
   {
    "duration": 19,
    "start_time": "2024-05-02T16:14:48.955Z"
   },
   {
    "duration": 12,
    "start_time": "2024-05-02T16:14:48.978Z"
   },
   {
    "duration": 26,
    "start_time": "2024-05-02T16:14:48.992Z"
   },
   {
    "duration": 17,
    "start_time": "2024-05-02T16:14:49.020Z"
   },
   {
    "duration": 20,
    "start_time": "2024-05-02T16:14:49.038Z"
   },
   {
    "duration": 21,
    "start_time": "2024-05-02T16:14:49.072Z"
   },
   {
    "duration": 15,
    "start_time": "2024-05-02T16:14:49.094Z"
   },
   {
    "duration": 13,
    "start_time": "2024-05-02T16:14:49.111Z"
   },
   {
    "duration": 4,
    "start_time": "2024-05-02T16:14:49.126Z"
   },
   {
    "duration": 1665,
    "start_time": "2024-05-02T16:14:49.132Z"
   },
   {
    "duration": 17,
    "start_time": "2024-05-02T16:14:50.799Z"
   },
   {
    "duration": 22,
    "start_time": "2024-05-02T16:14:50.818Z"
   },
   {
    "duration": 147,
    "start_time": "2024-05-02T16:15:01.741Z"
   },
   {
    "duration": 14,
    "start_time": "2024-05-02T16:15:09.484Z"
   },
   {
    "duration": 4,
    "start_time": "2024-05-02T16:15:27.821Z"
   },
   {
    "duration": 4,
    "start_time": "2024-05-02T16:15:29.906Z"
   },
   {
    "duration": 15,
    "start_time": "2024-05-02T16:15:32.113Z"
   },
   {
    "duration": 10,
    "start_time": "2024-05-02T16:15:45.253Z"
   },
   {
    "duration": 88,
    "start_time": "2024-05-02T16:16:14.985Z"
   },
   {
    "duration": 10,
    "start_time": "2024-05-02T16:16:23.350Z"
   },
   {
    "duration": 16,
    "start_time": "2024-05-02T16:16:32.989Z"
   },
   {
    "duration": 4,
    "start_time": "2024-05-02T16:16:57.663Z"
   },
   {
    "duration": 21,
    "start_time": "2024-05-02T16:16:59.676Z"
   },
   {
    "duration": 3,
    "start_time": "2024-05-02T16:17:19.214Z"
   },
   {
    "duration": 13,
    "start_time": "2024-05-02T16:17:21.415Z"
   },
   {
    "duration": 43,
    "start_time": "2024-05-02T16:40:06.372Z"
   },
   {
    "duration": 41,
    "start_time": "2024-05-02T16:41:54.675Z"
   },
   {
    "duration": 6,
    "start_time": "2024-05-02T16:48:35.632Z"
   },
   {
    "duration": 38,
    "start_time": "2024-05-02T16:54:08.682Z"
   },
   {
    "duration": 5,
    "start_time": "2024-05-02T16:54:29.845Z"
   },
   {
    "duration": 1794,
    "start_time": "2024-05-03T03:12:25.490Z"
   },
   {
    "duration": 277,
    "start_time": "2024-05-03T03:12:27.286Z"
   },
   {
    "duration": 16,
    "start_time": "2024-05-03T03:12:27.565Z"
   },
   {
    "duration": 13,
    "start_time": "2024-05-03T03:12:27.583Z"
   },
   {
    "duration": 10,
    "start_time": "2024-05-03T03:12:27.598Z"
   },
   {
    "duration": 18,
    "start_time": "2024-05-03T03:12:27.609Z"
   },
   {
    "duration": 11,
    "start_time": "2024-05-03T03:12:27.628Z"
   },
   {
    "duration": 31,
    "start_time": "2024-05-03T03:12:27.640Z"
   },
   {
    "duration": 12,
    "start_time": "2024-05-03T03:12:27.673Z"
   },
   {
    "duration": 9,
    "start_time": "2024-05-03T03:12:27.687Z"
   },
   {
    "duration": 4,
    "start_time": "2024-05-03T03:12:27.698Z"
   },
   {
    "duration": 6,
    "start_time": "2024-05-03T03:12:27.703Z"
   },
   {
    "duration": 12,
    "start_time": "2024-05-03T03:12:27.710Z"
   },
   {
    "duration": 42,
    "start_time": "2024-05-03T03:12:27.725Z"
   },
   {
    "duration": 10,
    "start_time": "2024-05-03T03:12:27.768Z"
   },
   {
    "duration": 10,
    "start_time": "2024-05-03T03:12:27.780Z"
   },
   {
    "duration": 17,
    "start_time": "2024-05-03T03:12:27.792Z"
   },
   {
    "duration": 15,
    "start_time": "2024-05-03T03:12:27.811Z"
   },
   {
    "duration": 10,
    "start_time": "2024-05-03T03:12:27.828Z"
   },
   {
    "duration": 23,
    "start_time": "2024-05-03T03:12:27.839Z"
   },
   {
    "duration": 5,
    "start_time": "2024-05-03T03:12:27.864Z"
   },
   {
    "duration": 4,
    "start_time": "2024-05-03T03:12:27.871Z"
   },
   {
    "duration": 13,
    "start_time": "2024-05-03T03:12:27.877Z"
   },
   {
    "duration": 4,
    "start_time": "2024-05-03T03:12:27.892Z"
   },
   {
    "duration": 7,
    "start_time": "2024-05-03T03:12:27.898Z"
   },
   {
    "duration": 8,
    "start_time": "2024-05-03T03:12:27.907Z"
   },
   {
    "duration": 11,
    "start_time": "2024-05-03T03:12:27.916Z"
   },
   {
    "duration": 39,
    "start_time": "2024-05-03T03:12:27.929Z"
   },
   {
    "duration": 5,
    "start_time": "2024-05-03T03:12:27.970Z"
   },
   {
    "duration": 8,
    "start_time": "2024-05-03T03:12:27.976Z"
   },
   {
    "duration": 3,
    "start_time": "2024-05-03T03:12:27.987Z"
   },
   {
    "duration": 5,
    "start_time": "2024-05-03T03:12:27.992Z"
   },
   {
    "duration": 3,
    "start_time": "2024-05-03T03:12:27.999Z"
   },
   {
    "duration": 4,
    "start_time": "2024-05-03T03:12:28.004Z"
   },
   {
    "duration": 5,
    "start_time": "2024-05-03T03:12:28.010Z"
   },
   {
    "duration": 46,
    "start_time": "2024-05-03T03:12:28.016Z"
   },
   {
    "duration": 11,
    "start_time": "2024-05-03T03:12:28.063Z"
   },
   {
    "duration": 3,
    "start_time": "2024-05-03T03:12:28.075Z"
   },
   {
    "duration": 5,
    "start_time": "2024-05-03T03:12:28.080Z"
   },
   {
    "duration": 13,
    "start_time": "2024-05-03T03:12:28.087Z"
   },
   {
    "duration": 5,
    "start_time": "2024-05-03T03:12:28.104Z"
   },
   {
    "duration": 2456,
    "start_time": "2024-05-03T03:12:28.160Z"
   },
   {
    "duration": 8,
    "start_time": "2024-05-03T03:12:30.618Z"
   },
   {
    "duration": 324,
    "start_time": "2024-05-03T03:12:30.628Z"
   },
   {
    "duration": 10,
    "start_time": "2024-05-03T03:12:30.954Z"
   },
   {
    "duration": 53,
    "start_time": "2024-05-03T03:12:30.966Z"
   },
   {
    "duration": 352,
    "start_time": "2024-05-03T03:12:31.020Z"
   },
   {
    "duration": 7,
    "start_time": "2024-05-03T03:12:31.374Z"
   },
   {
    "duration": 324,
    "start_time": "2024-05-03T03:12:31.382Z"
   },
   {
    "duration": 8,
    "start_time": "2024-05-03T03:12:31.708Z"
   },
   {
    "duration": 321,
    "start_time": "2024-05-03T03:12:31.718Z"
   },
   {
    "duration": 5,
    "start_time": "2024-05-03T03:12:32.041Z"
   },
   {
    "duration": 21,
    "start_time": "2024-05-03T03:12:32.047Z"
   },
   {
    "duration": 20,
    "start_time": "2024-05-03T03:12:32.070Z"
   },
   {
    "duration": 11,
    "start_time": "2024-05-03T03:12:32.091Z"
   },
   {
    "duration": 9,
    "start_time": "2024-05-03T03:12:32.103Z"
   },
   {
    "duration": 24,
    "start_time": "2024-05-03T03:12:32.113Z"
   },
   {
    "duration": 27,
    "start_time": "2024-05-03T03:12:32.139Z"
   },
   {
    "duration": 16,
    "start_time": "2024-05-03T03:12:32.168Z"
   },
   {
    "duration": 25,
    "start_time": "2024-05-03T03:12:32.186Z"
   },
   {
    "duration": 18,
    "start_time": "2024-05-03T03:12:32.213Z"
   },
   {
    "duration": 30,
    "start_time": "2024-05-03T03:12:32.233Z"
   },
   {
    "duration": 37,
    "start_time": "2024-05-03T03:12:32.264Z"
   },
   {
    "duration": 18,
    "start_time": "2024-05-03T03:12:32.302Z"
   },
   {
    "duration": 11,
    "start_time": "2024-05-03T03:12:32.322Z"
   },
   {
    "duration": 28,
    "start_time": "2024-05-03T03:12:32.335Z"
   },
   {
    "duration": 14,
    "start_time": "2024-05-03T03:12:32.365Z"
   },
   {
    "duration": 21,
    "start_time": "2024-05-03T03:12:32.380Z"
   },
   {
    "duration": 1611,
    "start_time": "2024-05-03T03:12:32.403Z"
   },
   {
    "duration": 17,
    "start_time": "2024-05-03T03:12:34.016Z"
   },
   {
    "duration": 5,
    "start_time": "2024-05-03T03:12:34.035Z"
   },
   {
    "duration": 7,
    "start_time": "2024-05-03T03:12:34.041Z"
   },
   {
    "duration": 10,
    "start_time": "2024-05-03T03:12:34.050Z"
   },
   {
    "duration": 42,
    "start_time": "2024-05-03T03:12:34.062Z"
   },
   {
    "duration": 41,
    "start_time": "2024-05-03T03:12:34.106Z"
   },
   {
    "duration": 12,
    "start_time": "2024-05-03T03:12:34.149Z"
   },
   {
    "duration": 5,
    "start_time": "2024-05-03T03:12:37.817Z"
   },
   {
    "duration": 41,
    "start_time": "2024-05-03T03:12:38.272Z"
   },
   {
    "duration": 13,
    "start_time": "2024-05-03T03:13:51.567Z"
   },
   {
    "duration": 41,
    "start_time": "2024-05-03T03:20:21.997Z"
   },
   {
    "duration": 18,
    "start_time": "2024-05-03T03:20:30.888Z"
   },
   {
    "duration": 5,
    "start_time": "2024-05-03T03:20:58.113Z"
   },
   {
    "duration": 39,
    "start_time": "2024-05-03T03:25:10.706Z"
   },
   {
    "duration": 132,
    "start_time": "2024-05-03T03:25:36.842Z"
   },
   {
    "duration": 5,
    "start_time": "2024-05-03T03:26:17.597Z"
   },
   {
    "duration": 101,
    "start_time": "2024-05-03T03:26:17.604Z"
   },
   {
    "duration": 13,
    "start_time": "2024-05-03T03:26:17.706Z"
   },
   {
    "duration": 23,
    "start_time": "2024-05-03T03:26:17.720Z"
   },
   {
    "duration": 14,
    "start_time": "2024-05-03T03:26:17.745Z"
   },
   {
    "duration": 11,
    "start_time": "2024-05-03T03:26:17.761Z"
   },
   {
    "duration": 15,
    "start_time": "2024-05-03T03:26:17.773Z"
   },
   {
    "duration": 14,
    "start_time": "2024-05-03T03:26:17.789Z"
   },
   {
    "duration": 8,
    "start_time": "2024-05-03T03:26:17.805Z"
   },
   {
    "duration": 11,
    "start_time": "2024-05-03T03:26:17.815Z"
   },
   {
    "duration": 7,
    "start_time": "2024-05-03T03:26:17.827Z"
   },
   {
    "duration": 7,
    "start_time": "2024-05-03T03:26:17.861Z"
   },
   {
    "duration": 24,
    "start_time": "2024-05-03T03:26:17.870Z"
   },
   {
    "duration": 13,
    "start_time": "2024-05-03T03:26:17.899Z"
   },
   {
    "duration": 13,
    "start_time": "2024-05-03T03:26:17.914Z"
   },
   {
    "duration": 42,
    "start_time": "2024-05-03T03:26:17.929Z"
   },
   {
    "duration": 15,
    "start_time": "2024-05-03T03:26:17.973Z"
   },
   {
    "duration": 10,
    "start_time": "2024-05-03T03:26:17.990Z"
   },
   {
    "duration": 7,
    "start_time": "2024-05-03T03:26:18.002Z"
   },
   {
    "duration": 7,
    "start_time": "2024-05-03T03:26:18.010Z"
   },
   {
    "duration": 19,
    "start_time": "2024-05-03T03:26:18.018Z"
   },
   {
    "duration": 7,
    "start_time": "2024-05-03T03:26:18.060Z"
   },
   {
    "duration": 10,
    "start_time": "2024-05-03T03:26:18.069Z"
   },
   {
    "duration": 8,
    "start_time": "2024-05-03T03:26:18.081Z"
   },
   {
    "duration": 8,
    "start_time": "2024-05-03T03:26:18.090Z"
   },
   {
    "duration": 9,
    "start_time": "2024-05-03T03:26:18.099Z"
   },
   {
    "duration": 6,
    "start_time": "2024-05-03T03:26:18.110Z"
   },
   {
    "duration": 6,
    "start_time": "2024-05-03T03:26:18.118Z"
   },
   {
    "duration": 8,
    "start_time": "2024-05-03T03:26:18.126Z"
   },
   {
    "duration": 49,
    "start_time": "2024-05-03T03:26:18.135Z"
   },
   {
    "duration": 9,
    "start_time": "2024-05-03T03:26:18.186Z"
   },
   {
    "duration": 6,
    "start_time": "2024-05-03T03:26:18.197Z"
   },
   {
    "duration": 6,
    "start_time": "2024-05-03T03:26:18.205Z"
   },
   {
    "duration": 11,
    "start_time": "2024-05-03T03:26:18.212Z"
   },
   {
    "duration": 10,
    "start_time": "2024-05-03T03:26:18.224Z"
   },
   {
    "duration": 20,
    "start_time": "2024-05-03T03:26:18.236Z"
   },
   {
    "duration": 11,
    "start_time": "2024-05-03T03:26:18.258Z"
   },
   {
    "duration": 8,
    "start_time": "2024-05-03T03:26:18.271Z"
   },
   {
    "duration": 5,
    "start_time": "2024-05-03T03:26:18.281Z"
   },
   {
    "duration": 24,
    "start_time": "2024-05-03T03:26:18.287Z"
   },
   {
    "duration": 5,
    "start_time": "2024-05-03T03:26:18.318Z"
   },
   {
    "duration": 2428,
    "start_time": "2024-05-03T03:26:18.325Z"
   },
   {
    "duration": 8,
    "start_time": "2024-05-03T03:26:20.760Z"
   },
   {
    "duration": 275,
    "start_time": "2024-05-03T03:26:20.769Z"
   },
   {
    "duration": 5,
    "start_time": "2024-05-03T03:26:21.046Z"
   },
   {
    "duration": 25,
    "start_time": "2024-05-03T03:26:21.053Z"
   },
   {
    "duration": 293,
    "start_time": "2024-05-03T03:26:21.080Z"
   },
   {
    "duration": 7,
    "start_time": "2024-05-03T03:26:21.375Z"
   },
   {
    "duration": 411,
    "start_time": "2024-05-03T03:26:21.384Z"
   },
   {
    "duration": 7,
    "start_time": "2024-05-03T03:26:21.797Z"
   },
   {
    "duration": 296,
    "start_time": "2024-05-03T03:26:21.805Z"
   },
   {
    "duration": 5,
    "start_time": "2024-05-03T03:26:22.104Z"
   },
   {
    "duration": 15,
    "start_time": "2024-05-03T03:26:22.111Z"
   },
   {
    "duration": 42,
    "start_time": "2024-05-03T03:26:22.128Z"
   },
   {
    "duration": 11,
    "start_time": "2024-05-03T03:26:22.173Z"
   },
   {
    "duration": 15,
    "start_time": "2024-05-03T03:26:22.186Z"
   },
   {
    "duration": 11,
    "start_time": "2024-05-03T03:26:22.203Z"
   },
   {
    "duration": 11,
    "start_time": "2024-05-03T03:26:22.215Z"
   },
   {
    "duration": 34,
    "start_time": "2024-05-03T03:26:22.227Z"
   },
   {
    "duration": 7,
    "start_time": "2024-05-03T03:26:22.262Z"
   },
   {
    "duration": 16,
    "start_time": "2024-05-03T03:26:22.271Z"
   },
   {
    "duration": 17,
    "start_time": "2024-05-03T03:26:22.288Z"
   },
   {
    "duration": 16,
    "start_time": "2024-05-03T03:26:22.306Z"
   },
   {
    "duration": 42,
    "start_time": "2024-05-03T03:26:22.323Z"
   },
   {
    "duration": 12,
    "start_time": "2024-05-03T03:26:22.367Z"
   },
   {
    "duration": 15,
    "start_time": "2024-05-03T03:26:22.381Z"
   },
   {
    "duration": 13,
    "start_time": "2024-05-03T03:26:22.398Z"
   },
   {
    "duration": 3,
    "start_time": "2024-05-03T03:26:22.413Z"
   },
   {
    "duration": 1432,
    "start_time": "2024-05-03T03:26:22.418Z"
   },
   {
    "duration": 22,
    "start_time": "2024-05-03T03:26:23.851Z"
   },
   {
    "duration": 10,
    "start_time": "2024-05-03T03:26:23.874Z"
   },
   {
    "duration": 6,
    "start_time": "2024-05-03T03:26:23.885Z"
   },
   {
    "duration": 3,
    "start_time": "2024-05-03T03:26:23.893Z"
   },
   {
    "duration": 67,
    "start_time": "2024-05-03T03:26:23.897Z"
   },
   {
    "duration": 39,
    "start_time": "2024-05-03T03:26:23.966Z"
   },
   {
    "duration": 4,
    "start_time": "2024-05-03T03:26:24.007Z"
   },
   {
    "duration": 57,
    "start_time": "2024-05-03T03:26:24.013Z"
   },
   {
    "duration": 36,
    "start_time": "2024-05-03T03:26:24.072Z"
   },
   {
    "duration": 41,
    "start_time": "2024-05-03T03:26:26.900Z"
   },
   {
    "duration": 6,
    "start_time": "2024-05-03T08:33:59.064Z"
   },
   {
    "duration": 14,
    "start_time": "2024-05-03T08:35:03.510Z"
   },
   {
    "duration": 40,
    "start_time": "2024-05-03T08:45:23.999Z"
   },
   {
    "duration": 13,
    "start_time": "2024-05-03T08:45:36.777Z"
   },
   {
    "duration": 5,
    "start_time": "2024-05-03T08:51:01.137Z"
   },
   {
    "duration": 5,
    "start_time": "2024-05-03T09:03:40.371Z"
   },
   {
    "duration": 5,
    "start_time": "2024-05-03T09:04:14.922Z"
   },
   {
    "duration": 4,
    "start_time": "2024-05-03T09:05:37.260Z"
   },
   {
    "duration": 4,
    "start_time": "2024-05-03T09:05:59.763Z"
   },
   {
    "duration": 4,
    "start_time": "2024-05-03T09:06:23.476Z"
   },
   {
    "duration": 5,
    "start_time": "2024-05-03T09:06:48.300Z"
   },
   {
    "duration": 61,
    "start_time": "2024-05-03T09:08:06.473Z"
   },
   {
    "duration": 67,
    "start_time": "2024-05-03T09:08:53.874Z"
   },
   {
    "duration": 161,
    "start_time": "2024-05-03T09:09:02.779Z"
   },
   {
    "duration": 445,
    "start_time": "2024-05-03T09:11:51.722Z"
   },
   {
    "duration": 3717,
    "start_time": "2024-05-03T09:14:42.870Z"
   },
   {
    "duration": 6,
    "start_time": "2024-05-03T09:21:19.960Z"
   },
   {
    "duration": 37,
    "start_time": "2024-05-03T09:25:09.391Z"
   },
   {
    "duration": 33,
    "start_time": "2024-05-03T09:25:44.345Z"
   },
   {
    "duration": 5,
    "start_time": "2024-05-03T09:26:22.957Z"
   },
   {
    "duration": 120,
    "start_time": "2024-05-03T09:26:22.964Z"
   },
   {
    "duration": 13,
    "start_time": "2024-05-03T09:26:23.086Z"
   },
   {
    "duration": 24,
    "start_time": "2024-05-03T09:26:23.100Z"
   },
   {
    "duration": 33,
    "start_time": "2024-05-03T09:26:23.127Z"
   },
   {
    "duration": 25,
    "start_time": "2024-05-03T09:26:23.161Z"
   },
   {
    "duration": 36,
    "start_time": "2024-05-03T09:26:23.188Z"
   },
   {
    "duration": 43,
    "start_time": "2024-05-03T09:26:23.226Z"
   },
   {
    "duration": 32,
    "start_time": "2024-05-03T09:26:23.270Z"
   },
   {
    "duration": 38,
    "start_time": "2024-05-03T09:26:23.303Z"
   },
   {
    "duration": 22,
    "start_time": "2024-05-03T09:26:23.343Z"
   },
   {
    "duration": 41,
    "start_time": "2024-05-03T09:26:23.367Z"
   },
   {
    "duration": 33,
    "start_time": "2024-05-03T09:26:23.410Z"
   },
   {
    "duration": 26,
    "start_time": "2024-05-03T09:26:23.446Z"
   },
   {
    "duration": 30,
    "start_time": "2024-05-03T09:26:23.474Z"
   },
   {
    "duration": 57,
    "start_time": "2024-05-03T09:26:23.506Z"
   },
   {
    "duration": 34,
    "start_time": "2024-05-03T09:26:23.565Z"
   },
   {
    "duration": 28,
    "start_time": "2024-05-03T09:26:23.600Z"
   },
   {
    "duration": 25,
    "start_time": "2024-05-03T09:26:23.630Z"
   },
   {
    "duration": 21,
    "start_time": "2024-05-03T09:26:23.657Z"
   },
   {
    "duration": 21,
    "start_time": "2024-05-03T09:26:23.680Z"
   },
   {
    "duration": 36,
    "start_time": "2024-05-03T09:26:23.703Z"
   },
   {
    "duration": 19,
    "start_time": "2024-05-03T09:26:23.741Z"
   },
   {
    "duration": 20,
    "start_time": "2024-05-03T09:26:23.762Z"
   },
   {
    "duration": 24,
    "start_time": "2024-05-03T09:26:23.784Z"
   },
   {
    "duration": 17,
    "start_time": "2024-05-03T09:26:23.809Z"
   },
   {
    "duration": 33,
    "start_time": "2024-05-03T09:26:23.828Z"
   },
   {
    "duration": 13,
    "start_time": "2024-05-03T09:26:23.863Z"
   },
   {
    "duration": 32,
    "start_time": "2024-05-03T09:26:23.877Z"
   },
   {
    "duration": 34,
    "start_time": "2024-05-03T09:26:23.911Z"
   },
   {
    "duration": 26,
    "start_time": "2024-05-03T09:26:23.947Z"
   },
   {
    "duration": 21,
    "start_time": "2024-05-03T09:26:23.976Z"
   },
   {
    "duration": 22,
    "start_time": "2024-05-03T09:26:23.999Z"
   },
   {
    "duration": 19,
    "start_time": "2024-05-03T09:26:24.022Z"
   },
   {
    "duration": 28,
    "start_time": "2024-05-03T09:26:24.042Z"
   },
   {
    "duration": 35,
    "start_time": "2024-05-03T09:26:24.072Z"
   },
   {
    "duration": 21,
    "start_time": "2024-05-03T09:26:24.109Z"
   },
   {
    "duration": 21,
    "start_time": "2024-05-03T09:26:24.132Z"
   },
   {
    "duration": 21,
    "start_time": "2024-05-03T09:26:24.154Z"
   },
   {
    "duration": 32,
    "start_time": "2024-05-03T09:26:24.177Z"
   },
   {
    "duration": 22,
    "start_time": "2024-05-03T09:26:24.214Z"
   },
   {
    "duration": 2447,
    "start_time": "2024-05-03T09:26:24.238Z"
   },
   {
    "duration": 8,
    "start_time": "2024-05-03T09:26:26.687Z"
   },
   {
    "duration": 286,
    "start_time": "2024-05-03T09:26:26.696Z"
   },
   {
    "duration": 6,
    "start_time": "2024-05-03T09:26:26.984Z"
   },
   {
    "duration": 18,
    "start_time": "2024-05-03T09:26:26.991Z"
   },
   {
    "duration": 334,
    "start_time": "2024-05-03T09:26:27.011Z"
   },
   {
    "duration": 14,
    "start_time": "2024-05-03T09:26:27.346Z"
   },
   {
    "duration": 291,
    "start_time": "2024-05-03T09:26:27.362Z"
   },
   {
    "duration": 10,
    "start_time": "2024-05-03T09:26:27.654Z"
   },
   {
    "duration": 300,
    "start_time": "2024-05-03T09:26:27.666Z"
   },
   {
    "duration": 4,
    "start_time": "2024-05-03T09:26:27.968Z"
   },
   {
    "duration": 46,
    "start_time": "2024-05-03T09:26:27.975Z"
   },
   {
    "duration": 32,
    "start_time": "2024-05-03T09:26:28.023Z"
   },
   {
    "duration": 10,
    "start_time": "2024-05-03T09:26:28.057Z"
   },
   {
    "duration": 14,
    "start_time": "2024-05-03T09:26:28.069Z"
   },
   {
    "duration": 10,
    "start_time": "2024-05-03T09:26:28.084Z"
   },
   {
    "duration": 21,
    "start_time": "2024-05-03T09:26:28.096Z"
   },
   {
    "duration": 22,
    "start_time": "2024-05-03T09:26:28.119Z"
   },
   {
    "duration": 15,
    "start_time": "2024-05-03T09:26:28.142Z"
   },
   {
    "duration": 15,
    "start_time": "2024-05-03T09:26:28.159Z"
   },
   {
    "duration": 19,
    "start_time": "2024-05-03T09:26:28.176Z"
   },
   {
    "duration": 15,
    "start_time": "2024-05-03T09:26:28.197Z"
   },
   {
    "duration": 18,
    "start_time": "2024-05-03T09:26:28.214Z"
   },
   {
    "duration": 34,
    "start_time": "2024-05-03T09:26:28.234Z"
   },
   {
    "duration": 15,
    "start_time": "2024-05-03T09:26:28.269Z"
   },
   {
    "duration": 12,
    "start_time": "2024-05-03T09:26:28.286Z"
   },
   {
    "duration": 19,
    "start_time": "2024-05-03T09:26:28.300Z"
   },
   {
    "duration": 1517,
    "start_time": "2024-05-03T09:26:28.321Z"
   },
   {
    "duration": 26,
    "start_time": "2024-05-03T09:26:29.840Z"
   },
   {
    "duration": 24,
    "start_time": "2024-05-03T09:26:29.868Z"
   },
   {
    "duration": 29,
    "start_time": "2024-05-03T09:26:29.894Z"
   },
   {
    "duration": 22,
    "start_time": "2024-05-03T09:26:29.925Z"
   },
   {
    "duration": 51,
    "start_time": "2024-05-03T09:26:29.949Z"
   },
   {
    "duration": 38,
    "start_time": "2024-05-03T09:26:30.002Z"
   },
   {
    "duration": 49,
    "start_time": "2024-05-03T09:26:30.042Z"
   },
   {
    "duration": 127,
    "start_time": "2024-05-03T09:26:30.093Z"
   },
   {
    "duration": 84,
    "start_time": "2024-05-03T09:26:30.222Z"
   },
   {
    "duration": 57,
    "start_time": "2024-05-03T09:26:30.308Z"
   },
   {
    "duration": 26,
    "start_time": "2024-05-03T09:26:30.367Z"
   },
   {
    "duration": 105,
    "start_time": "2024-05-03T09:26:30.395Z"
   },
   {
    "duration": 60,
    "start_time": "2024-05-03T09:26:30.502Z"
   },
   {
    "duration": 104,
    "start_time": "2024-05-03T09:26:30.563Z"
   },
   {
    "duration": 34,
    "start_time": "2024-05-03T09:26:36.300Z"
   },
   {
    "duration": 3567,
    "start_time": "2024-05-03T09:27:47.245Z"
   },
   {
    "duration": 725,
    "start_time": "2024-05-03T09:28:23.571Z"
   },
   {
    "duration": 700,
    "start_time": "2024-05-03T09:34:44.703Z"
   },
   {
    "duration": 3657,
    "start_time": "2024-05-03T09:35:00.621Z"
   },
   {
    "duration": 74,
    "start_time": "2024-05-03T09:36:27.899Z"
   },
   {
    "duration": 2711,
    "start_time": "2024-05-03T09:36:43.587Z"
   },
   {
    "duration": 3869,
    "start_time": "2024-05-03T09:38:02.355Z"
   },
   {
    "duration": 3070,
    "start_time": "2024-05-03T09:38:32.632Z"
   },
   {
    "duration": 3760,
    "start_time": "2024-05-03T09:39:14.607Z"
   },
   {
    "duration": 3082,
    "start_time": "2024-05-03T09:39:36.624Z"
   },
   {
    "duration": 5,
    "start_time": "2024-05-03T09:52:20.554Z"
   },
   {
    "duration": 2972,
    "start_time": "2024-05-03T09:52:28.379Z"
   },
   {
    "duration": 1599,
    "start_time": "2024-05-04T12:57:42.661Z"
   },
   {
    "duration": 276,
    "start_time": "2024-05-04T12:57:44.262Z"
   },
   {
    "duration": 14,
    "start_time": "2024-05-04T12:57:44.540Z"
   },
   {
    "duration": 11,
    "start_time": "2024-05-04T12:57:44.556Z"
   },
   {
    "duration": 35,
    "start_time": "2024-05-04T12:57:44.569Z"
   },
   {
    "duration": 17,
    "start_time": "2024-05-04T12:57:44.605Z"
   },
   {
    "duration": 49,
    "start_time": "2024-05-04T12:57:44.623Z"
   },
   {
    "duration": 39,
    "start_time": "2024-05-04T12:57:44.674Z"
   },
   {
    "duration": 28,
    "start_time": "2024-05-04T12:57:44.714Z"
   },
   {
    "duration": 25,
    "start_time": "2024-05-04T12:57:44.743Z"
   },
   {
    "duration": 16,
    "start_time": "2024-05-04T12:57:44.770Z"
   },
   {
    "duration": 31,
    "start_time": "2024-05-04T12:57:44.788Z"
   },
   {
    "duration": 29,
    "start_time": "2024-05-04T12:57:44.820Z"
   },
   {
    "duration": 28,
    "start_time": "2024-05-04T12:57:44.851Z"
   },
   {
    "duration": 17,
    "start_time": "2024-05-04T12:57:44.881Z"
   },
   {
    "duration": 28,
    "start_time": "2024-05-04T12:57:44.899Z"
   },
   {
    "duration": 36,
    "start_time": "2024-05-04T12:57:44.929Z"
   },
   {
    "duration": 22,
    "start_time": "2024-05-04T12:57:44.966Z"
   },
   {
    "duration": 71,
    "start_time": "2024-05-04T12:57:44.990Z"
   },
   {
    "duration": 22,
    "start_time": "2024-05-04T12:57:45.063Z"
   },
   {
    "duration": 32,
    "start_time": "2024-05-04T12:57:45.087Z"
   },
   {
    "duration": 25,
    "start_time": "2024-05-04T12:57:45.121Z"
   },
   {
    "duration": 32,
    "start_time": "2024-05-04T12:57:45.148Z"
   },
   {
    "duration": 45,
    "start_time": "2024-05-04T12:57:45.182Z"
   },
   {
    "duration": 37,
    "start_time": "2024-05-04T12:57:45.229Z"
   },
   {
    "duration": 31,
    "start_time": "2024-05-04T12:57:45.268Z"
   },
   {
    "duration": 25,
    "start_time": "2024-05-04T12:57:45.301Z"
   },
   {
    "duration": 28,
    "start_time": "2024-05-04T12:57:45.328Z"
   },
   {
    "duration": 43,
    "start_time": "2024-05-04T12:57:45.357Z"
   },
   {
    "duration": 100,
    "start_time": "2024-05-04T12:57:45.402Z"
   },
   {
    "duration": 30,
    "start_time": "2024-05-04T12:57:45.503Z"
   },
   {
    "duration": 21,
    "start_time": "2024-05-04T12:57:45.534Z"
   },
   {
    "duration": 18,
    "start_time": "2024-05-04T12:57:45.556Z"
   },
   {
    "duration": 35,
    "start_time": "2024-05-04T12:57:45.575Z"
   },
   {
    "duration": 33,
    "start_time": "2024-05-04T12:57:45.612Z"
   },
   {
    "duration": 18,
    "start_time": "2024-05-04T12:57:45.647Z"
   },
   {
    "duration": 20,
    "start_time": "2024-05-04T12:57:45.666Z"
   },
   {
    "duration": 20,
    "start_time": "2024-05-04T12:57:45.687Z"
   },
   {
    "duration": 42,
    "start_time": "2024-05-04T12:57:45.709Z"
   },
   {
    "duration": 26,
    "start_time": "2024-05-04T12:57:45.753Z"
   },
   {
    "duration": 18,
    "start_time": "2024-05-04T12:57:45.783Z"
   },
   {
    "duration": 2085,
    "start_time": "2024-05-04T12:57:45.802Z"
   },
   {
    "duration": 8,
    "start_time": "2024-05-04T12:57:47.888Z"
   },
   {
    "duration": 262,
    "start_time": "2024-05-04T12:57:47.897Z"
   },
   {
    "duration": 7,
    "start_time": "2024-05-04T12:57:48.160Z"
   },
   {
    "duration": 25,
    "start_time": "2024-05-04T12:57:48.168Z"
   },
   {
    "duration": 264,
    "start_time": "2024-05-04T12:57:48.194Z"
   },
   {
    "duration": 7,
    "start_time": "2024-05-04T12:57:48.460Z"
   },
   {
    "duration": 247,
    "start_time": "2024-05-04T12:57:48.468Z"
   },
   {
    "duration": 7,
    "start_time": "2024-05-04T12:57:48.716Z"
   },
   {
    "duration": 238,
    "start_time": "2024-05-04T12:57:48.725Z"
   },
   {
    "duration": 4,
    "start_time": "2024-05-04T12:57:48.964Z"
   },
   {
    "duration": 13,
    "start_time": "2024-05-04T12:57:48.970Z"
   },
   {
    "duration": 19,
    "start_time": "2024-05-04T12:57:48.984Z"
   },
   {
    "duration": 8,
    "start_time": "2024-05-04T12:57:49.004Z"
   },
   {
    "duration": 5,
    "start_time": "2024-05-04T12:57:49.014Z"
   },
   {
    "duration": 30,
    "start_time": "2024-05-04T12:57:49.020Z"
   },
   {
    "duration": 6,
    "start_time": "2024-05-04T12:57:49.052Z"
   },
   {
    "duration": 11,
    "start_time": "2024-05-04T12:57:49.059Z"
   },
   {
    "duration": 9,
    "start_time": "2024-05-04T12:57:49.072Z"
   },
   {
    "duration": 11,
    "start_time": "2024-05-04T12:57:49.082Z"
   },
   {
    "duration": 17,
    "start_time": "2024-05-04T12:57:49.095Z"
   },
   {
    "duration": 42,
    "start_time": "2024-05-04T12:57:49.113Z"
   },
   {
    "duration": 17,
    "start_time": "2024-05-04T12:57:49.156Z"
   },
   {
    "duration": 10,
    "start_time": "2024-05-04T12:57:49.175Z"
   },
   {
    "duration": 18,
    "start_time": "2024-05-04T12:57:49.187Z"
   },
   {
    "duration": 40,
    "start_time": "2024-05-04T12:57:49.206Z"
   },
   {
    "duration": 3,
    "start_time": "2024-05-04T12:57:49.247Z"
   },
   {
    "duration": 1422,
    "start_time": "2024-05-04T12:57:49.252Z"
   },
   {
    "duration": 18,
    "start_time": "2024-05-04T12:57:50.676Z"
   },
   {
    "duration": 17,
    "start_time": "2024-05-04T12:57:50.695Z"
   },
   {
    "duration": 12,
    "start_time": "2024-05-04T12:57:50.713Z"
   },
   {
    "duration": 36,
    "start_time": "2024-05-04T12:57:50.726Z"
   },
   {
    "duration": 53,
    "start_time": "2024-05-04T12:57:50.763Z"
   },
   {
    "duration": 37,
    "start_time": "2024-05-04T12:57:50.818Z"
   },
   {
    "duration": 4,
    "start_time": "2024-05-04T12:57:50.856Z"
   },
   {
    "duration": 52,
    "start_time": "2024-05-04T12:57:50.861Z"
   },
   {
    "duration": 42,
    "start_time": "2024-05-04T12:57:50.914Z"
   },
   {
    "duration": 35,
    "start_time": "2024-05-04T12:57:50.957Z"
   },
   {
    "duration": 4,
    "start_time": "2024-05-04T12:57:50.993Z"
   },
   {
    "duration": 47,
    "start_time": "2024-05-04T12:57:50.998Z"
   },
   {
    "duration": 11,
    "start_time": "2024-05-04T12:57:51.046Z"
   },
   {
    "duration": 18,
    "start_time": "2024-05-04T12:57:51.058Z"
   },
   {
    "duration": 48,
    "start_time": "2024-05-04T12:57:51.077Z"
   },
   {
    "duration": 2778,
    "start_time": "2024-05-04T12:57:51.126Z"
   },
   {
    "duration": 50,
    "start_time": "2024-05-04T12:59:39.388Z"
   },
   {
    "duration": 1995,
    "start_time": "2024-05-04T12:59:50.609Z"
   },
   {
    "duration": 2783,
    "start_time": "2024-05-04T13:00:35.697Z"
   },
   {
    "duration": 2075,
    "start_time": "2024-05-04T13:00:47.605Z"
   },
   {
    "duration": 2782,
    "start_time": "2024-05-04T13:00:58.782Z"
   },
   {
    "duration": 155,
    "start_time": "2024-05-04T13:14:44.062Z"
   },
   {
    "duration": 56,
    "start_time": "2024-05-04T13:14:47.923Z"
   },
   {
    "duration": 49,
    "start_time": "2024-05-04T13:14:56.562Z"
   },
   {
    "duration": 1834,
    "start_time": "2024-05-05T12:27:10.298Z"
   },
   {
    "duration": 273,
    "start_time": "2024-05-05T12:27:12.135Z"
   },
   {
    "duration": 19,
    "start_time": "2024-05-05T12:27:12.410Z"
   },
   {
    "duration": 16,
    "start_time": "2024-05-05T12:27:12.431Z"
   },
   {
    "duration": 14,
    "start_time": "2024-05-05T12:27:12.450Z"
   },
   {
    "duration": 15,
    "start_time": "2024-05-05T12:27:12.466Z"
   },
   {
    "duration": 6,
    "start_time": "2024-05-05T12:27:12.483Z"
   },
   {
    "duration": 13,
    "start_time": "2024-05-05T12:27:12.491Z"
   },
   {
    "duration": 9,
    "start_time": "2024-05-05T12:27:12.528Z"
   },
   {
    "duration": 30,
    "start_time": "2024-05-05T12:27:12.538Z"
   },
   {
    "duration": 4,
    "start_time": "2024-05-05T12:27:12.570Z"
   },
   {
    "duration": 9,
    "start_time": "2024-05-05T12:27:12.576Z"
   },
   {
    "duration": 11,
    "start_time": "2024-05-05T12:27:12.587Z"
   },
   {
    "duration": 11,
    "start_time": "2024-05-05T12:27:12.601Z"
   },
   {
    "duration": 24,
    "start_time": "2024-05-05T12:27:12.614Z"
   },
   {
    "duration": 17,
    "start_time": "2024-05-05T12:27:12.640Z"
   },
   {
    "duration": 14,
    "start_time": "2024-05-05T12:27:12.658Z"
   },
   {
    "duration": 18,
    "start_time": "2024-05-05T12:27:12.673Z"
   },
   {
    "duration": 12,
    "start_time": "2024-05-05T12:27:12.692Z"
   },
   {
    "duration": 14,
    "start_time": "2024-05-05T12:27:12.706Z"
   },
   {
    "duration": 8,
    "start_time": "2024-05-05T12:27:12.730Z"
   },
   {
    "duration": 13,
    "start_time": "2024-05-05T12:27:12.740Z"
   },
   {
    "duration": 8,
    "start_time": "2024-05-05T12:27:12.755Z"
   },
   {
    "duration": 7,
    "start_time": "2024-05-05T12:27:12.765Z"
   },
   {
    "duration": 8,
    "start_time": "2024-05-05T12:27:12.774Z"
   },
   {
    "duration": 16,
    "start_time": "2024-05-05T12:27:12.783Z"
   },
   {
    "duration": 28,
    "start_time": "2024-05-05T12:27:12.800Z"
   },
   {
    "duration": 6,
    "start_time": "2024-05-05T12:27:12.830Z"
   },
   {
    "duration": 16,
    "start_time": "2024-05-05T12:27:12.837Z"
   },
   {
    "duration": 34,
    "start_time": "2024-05-05T12:27:12.855Z"
   },
   {
    "duration": 4,
    "start_time": "2024-05-05T12:27:12.892Z"
   },
   {
    "duration": 4,
    "start_time": "2024-05-05T12:27:12.898Z"
   },
   {
    "duration": 12,
    "start_time": "2024-05-05T12:27:12.904Z"
   },
   {
    "duration": 10,
    "start_time": "2024-05-05T12:27:12.917Z"
   },
   {
    "duration": 16,
    "start_time": "2024-05-05T12:27:12.929Z"
   },
   {
    "duration": 15,
    "start_time": "2024-05-05T12:27:12.946Z"
   },
   {
    "duration": 16,
    "start_time": "2024-05-05T12:27:12.962Z"
   },
   {
    "duration": 12,
    "start_time": "2024-05-05T12:27:12.979Z"
   },
   {
    "duration": 19,
    "start_time": "2024-05-05T12:27:12.993Z"
   },
   {
    "duration": 19,
    "start_time": "2024-05-05T12:27:13.014Z"
   },
   {
    "duration": 24,
    "start_time": "2024-05-05T12:27:13.039Z"
   },
   {
    "duration": 2494,
    "start_time": "2024-05-05T12:27:13.064Z"
   },
   {
    "duration": 9,
    "start_time": "2024-05-05T12:27:15.560Z"
   },
   {
    "duration": 287,
    "start_time": "2024-05-05T12:27:15.570Z"
   },
   {
    "duration": 6,
    "start_time": "2024-05-05T12:27:15.859Z"
   },
   {
    "duration": 4,
    "start_time": "2024-05-05T12:27:15.866Z"
   },
   {
    "duration": 314,
    "start_time": "2024-05-05T12:27:15.872Z"
   },
   {
    "duration": 8,
    "start_time": "2024-05-05T12:27:16.188Z"
   },
   {
    "duration": 290,
    "start_time": "2024-05-05T12:27:16.197Z"
   },
   {
    "duration": 7,
    "start_time": "2024-05-05T12:27:16.489Z"
   },
   {
    "duration": 289,
    "start_time": "2024-05-05T12:27:16.497Z"
   },
   {
    "duration": 5,
    "start_time": "2024-05-05T12:27:16.788Z"
   },
   {
    "duration": 13,
    "start_time": "2024-05-05T12:27:16.794Z"
   },
   {
    "duration": 41,
    "start_time": "2024-05-05T12:27:16.809Z"
   },
   {
    "duration": 12,
    "start_time": "2024-05-05T12:27:16.853Z"
   },
   {
    "duration": 6,
    "start_time": "2024-05-05T12:27:16.868Z"
   },
   {
    "duration": 12,
    "start_time": "2024-05-05T12:27:16.876Z"
   },
   {
    "duration": 39,
    "start_time": "2024-05-05T12:27:16.891Z"
   },
   {
    "duration": 12,
    "start_time": "2024-05-05T12:27:16.932Z"
   },
   {
    "duration": 12,
    "start_time": "2024-05-05T12:27:16.945Z"
   },
   {
    "duration": 9,
    "start_time": "2024-05-05T12:27:16.959Z"
   },
   {
    "duration": 19,
    "start_time": "2024-05-05T12:27:16.970Z"
   },
   {
    "duration": 46,
    "start_time": "2024-05-05T12:27:16.991Z"
   },
   {
    "duration": 27,
    "start_time": "2024-05-05T12:27:17.038Z"
   },
   {
    "duration": 13,
    "start_time": "2024-05-05T12:27:17.067Z"
   },
   {
    "duration": 24,
    "start_time": "2024-05-05T12:27:17.081Z"
   },
   {
    "duration": 32,
    "start_time": "2024-05-05T12:27:17.107Z"
   },
   {
    "duration": 10,
    "start_time": "2024-05-05T12:27:17.140Z"
   },
   {
    "duration": 1548,
    "start_time": "2024-05-05T12:27:17.152Z"
   },
   {
    "duration": 18,
    "start_time": "2024-05-05T12:27:18.702Z"
   },
   {
    "duration": 5,
    "start_time": "2024-05-05T12:27:18.722Z"
   },
   {
    "duration": 11,
    "start_time": "2024-05-05T12:27:18.729Z"
   },
   {
    "duration": 11,
    "start_time": "2024-05-05T12:27:18.741Z"
   },
   {
    "duration": 43,
    "start_time": "2024-05-05T12:27:18.753Z"
   },
   {
    "duration": 37,
    "start_time": "2024-05-05T12:27:18.798Z"
   },
   {
    "duration": 12,
    "start_time": "2024-05-05T12:27:18.837Z"
   },
   {
    "duration": 38,
    "start_time": "2024-05-05T12:27:18.851Z"
   },
   {
    "duration": 47,
    "start_time": "2024-05-05T12:27:18.891Z"
   },
   {
    "duration": 39,
    "start_time": "2024-05-05T12:27:18.940Z"
   },
   {
    "duration": 4,
    "start_time": "2024-05-05T12:27:18.981Z"
   },
   {
    "duration": 61,
    "start_time": "2024-05-05T12:27:18.987Z"
   },
   {
    "duration": 12,
    "start_time": "2024-05-05T12:27:19.049Z"
   },
   {
    "duration": 7,
    "start_time": "2024-05-05T12:27:19.062Z"
   },
   {
    "duration": 36,
    "start_time": "2024-05-05T12:27:19.070Z"
   },
   {
    "duration": 3206,
    "start_time": "2024-05-05T12:27:19.108Z"
   },
   {
    "duration": 62,
    "start_time": "2024-05-05T12:27:22.316Z"
   },
   {
    "duration": 120,
    "start_time": "2024-05-05T12:27:38.827Z"
   },
   {
    "duration": 4345,
    "start_time": "2024-05-05T12:29:10.282Z"
   },
   {
    "duration": 502,
    "start_time": "2024-05-05T12:29:21.120Z"
   },
   {
    "duration": 43,
    "start_time": "2024-05-05T12:29:54.112Z"
   },
   {
    "duration": 47,
    "start_time": "2024-05-05T13:05:44.726Z"
   },
   {
    "duration": 48,
    "start_time": "2024-05-05T13:06:45.474Z"
   },
   {
    "duration": 43,
    "start_time": "2024-05-05T13:08:23.976Z"
   },
   {
    "duration": 61,
    "start_time": "2024-05-05T13:08:49.379Z"
   },
   {
    "duration": 41,
    "start_time": "2024-05-05T13:10:47.825Z"
   },
   {
    "duration": 46,
    "start_time": "2024-05-05T13:10:55.201Z"
   },
   {
    "duration": 76,
    "start_time": "2024-05-05T13:11:26.860Z"
   },
   {
    "duration": 81,
    "start_time": "2024-05-05T13:11:45.632Z"
   },
   {
    "duration": 85,
    "start_time": "2024-05-05T13:11:54.111Z"
   },
   {
    "duration": 199,
    "start_time": "2024-05-05T13:12:04.065Z"
   },
   {
    "duration": 153,
    "start_time": "2024-05-05T13:13:58.720Z"
   },
   {
    "duration": 791,
    "start_time": "2024-05-05T13:16:26.280Z"
   },
   {
    "duration": 1110,
    "start_time": "2024-05-05T13:38:39.832Z"
   },
   {
    "duration": 15,
    "start_time": "2024-05-05T13:39:05.155Z"
   },
   {
    "duration": 1024,
    "start_time": "2024-05-05T13:39:15.826Z"
   },
   {
    "duration": 308,
    "start_time": "2024-05-05T13:40:18.729Z"
   },
   {
    "duration": 265,
    "start_time": "2024-05-05T13:40:36.046Z"
   },
   {
    "duration": 259,
    "start_time": "2024-05-05T13:56:02.733Z"
   },
   {
    "duration": 120,
    "start_time": "2024-05-05T13:56:09.095Z"
   },
   {
    "duration": 122,
    "start_time": "2024-05-05T13:56:26.530Z"
   },
   {
    "duration": 137,
    "start_time": "2024-05-05T13:56:37.362Z"
   },
   {
    "duration": 10,
    "start_time": "2024-05-05T13:58:32.026Z"
   },
   {
    "duration": 144,
    "start_time": "2024-05-05T13:58:40.437Z"
   },
   {
    "duration": 135,
    "start_time": "2024-05-05T13:59:56.182Z"
   },
   {
    "duration": 144,
    "start_time": "2024-05-05T14:00:16.617Z"
   },
   {
    "duration": 139,
    "start_time": "2024-05-05T14:00:22.079Z"
   },
   {
    "duration": 16,
    "start_time": "2024-05-05T14:00:45.333Z"
   },
   {
    "duration": 136,
    "start_time": "2024-05-05T14:01:54.242Z"
   },
   {
    "duration": 3939,
    "start_time": "2024-05-06T02:58:59.724Z"
   },
   {
    "duration": 1818,
    "start_time": "2024-05-06T02:59:03.665Z"
   },
   {
    "duration": 264,
    "start_time": "2024-05-06T02:59:05.484Z"
   },
   {
    "duration": 13,
    "start_time": "2024-05-06T02:59:05.749Z"
   },
   {
    "duration": 23,
    "start_time": "2024-05-06T02:59:05.764Z"
   },
   {
    "duration": 24,
    "start_time": "2024-05-06T02:59:05.788Z"
   },
   {
    "duration": 29,
    "start_time": "2024-05-06T02:59:05.813Z"
   },
   {
    "duration": 10,
    "start_time": "2024-05-06T02:59:05.843Z"
   },
   {
    "duration": 20,
    "start_time": "2024-05-06T02:59:05.854Z"
   },
   {
    "duration": 30,
    "start_time": "2024-05-06T02:59:05.875Z"
   },
   {
    "duration": 36,
    "start_time": "2024-05-06T02:59:05.906Z"
   },
   {
    "duration": 7,
    "start_time": "2024-05-06T02:59:05.943Z"
   },
   {
    "duration": 17,
    "start_time": "2024-05-06T02:59:05.951Z"
   },
   {
    "duration": 10,
    "start_time": "2024-05-06T02:59:05.970Z"
   },
   {
    "duration": 11,
    "start_time": "2024-05-06T02:59:05.981Z"
   },
   {
    "duration": 22,
    "start_time": "2024-05-06T02:59:05.993Z"
   },
   {
    "duration": 16,
    "start_time": "2024-05-06T02:59:06.017Z"
   },
   {
    "duration": 19,
    "start_time": "2024-05-06T02:59:06.034Z"
   },
   {
    "duration": 8,
    "start_time": "2024-05-06T02:59:06.054Z"
   },
   {
    "duration": 17,
    "start_time": "2024-05-06T02:59:06.063Z"
   },
   {
    "duration": 7,
    "start_time": "2024-05-06T02:59:06.081Z"
   },
   {
    "duration": 11,
    "start_time": "2024-05-06T02:59:06.090Z"
   },
   {
    "duration": 33,
    "start_time": "2024-05-06T02:59:06.102Z"
   },
   {
    "duration": 17,
    "start_time": "2024-05-06T02:59:06.136Z"
   },
   {
    "duration": 22,
    "start_time": "2024-05-06T02:59:06.154Z"
   },
   {
    "duration": 21,
    "start_time": "2024-05-06T02:59:06.177Z"
   },
   {
    "duration": 15,
    "start_time": "2024-05-06T02:59:06.199Z"
   },
   {
    "duration": 19,
    "start_time": "2024-05-06T02:59:06.215Z"
   },
   {
    "duration": 15,
    "start_time": "2024-05-06T02:59:06.235Z"
   },
   {
    "duration": 5,
    "start_time": "2024-05-06T02:59:06.252Z"
   },
   {
    "duration": 17,
    "start_time": "2024-05-06T02:59:06.258Z"
   },
   {
    "duration": 18,
    "start_time": "2024-05-06T02:59:06.276Z"
   },
   {
    "duration": 13,
    "start_time": "2024-05-06T02:59:06.295Z"
   },
   {
    "duration": 42,
    "start_time": "2024-05-06T02:59:06.310Z"
   },
   {
    "duration": 14,
    "start_time": "2024-05-06T02:59:06.354Z"
   },
   {
    "duration": 21,
    "start_time": "2024-05-06T02:59:06.370Z"
   },
   {
    "duration": 11,
    "start_time": "2024-05-06T02:59:06.393Z"
   },
   {
    "duration": 21,
    "start_time": "2024-05-06T02:59:06.406Z"
   },
   {
    "duration": 16,
    "start_time": "2024-05-06T02:59:06.428Z"
   },
   {
    "duration": 7,
    "start_time": "2024-05-06T02:59:06.446Z"
   },
   {
    "duration": 22,
    "start_time": "2024-05-06T02:59:06.459Z"
   },
   {
    "duration": 35,
    "start_time": "2024-05-06T02:59:06.483Z"
   },
   {
    "duration": 1735,
    "start_time": "2024-05-06T02:59:06.520Z"
   },
   {
    "duration": 6,
    "start_time": "2024-05-06T02:59:08.256Z"
   },
   {
    "duration": 298,
    "start_time": "2024-05-06T02:59:08.263Z"
   },
   {
    "duration": 4,
    "start_time": "2024-05-06T02:59:08.562Z"
   },
   {
    "duration": 3,
    "start_time": "2024-05-06T02:59:08.567Z"
   },
   {
    "duration": 226,
    "start_time": "2024-05-06T02:59:08.572Z"
   },
   {
    "duration": 6,
    "start_time": "2024-05-06T02:59:08.801Z"
   },
   {
    "duration": 217,
    "start_time": "2024-05-06T02:59:08.808Z"
   },
   {
    "duration": 5,
    "start_time": "2024-05-06T02:59:09.027Z"
   },
   {
    "duration": 219,
    "start_time": "2024-05-06T02:59:09.034Z"
   },
   {
    "duration": 4,
    "start_time": "2024-05-06T02:59:09.255Z"
   },
   {
    "duration": 11,
    "start_time": "2024-05-06T02:59:09.260Z"
   },
   {
    "duration": 28,
    "start_time": "2024-05-06T02:59:09.273Z"
   },
   {
    "duration": 7,
    "start_time": "2024-05-06T02:59:09.303Z"
   },
   {
    "duration": 17,
    "start_time": "2024-05-06T02:59:09.311Z"
   },
   {
    "duration": 15,
    "start_time": "2024-05-06T02:59:09.329Z"
   },
   {
    "duration": 11,
    "start_time": "2024-05-06T02:59:09.346Z"
   },
   {
    "duration": 9,
    "start_time": "2024-05-06T02:59:09.359Z"
   },
   {
    "duration": 7,
    "start_time": "2024-05-06T02:59:09.369Z"
   },
   {
    "duration": 6,
    "start_time": "2024-05-06T02:59:09.378Z"
   },
   {
    "duration": 25,
    "start_time": "2024-05-06T02:59:09.385Z"
   },
   {
    "duration": 12,
    "start_time": "2024-05-06T02:59:09.411Z"
   },
   {
    "duration": 14,
    "start_time": "2024-05-06T02:59:09.424Z"
   },
   {
    "duration": 9,
    "start_time": "2024-05-06T02:59:09.439Z"
   },
   {
    "duration": 26,
    "start_time": "2024-05-06T02:59:09.450Z"
   },
   {
    "duration": 24,
    "start_time": "2024-05-06T02:59:09.477Z"
   },
   {
    "duration": 3,
    "start_time": "2024-05-06T02:59:09.502Z"
   },
   {
    "duration": 1150,
    "start_time": "2024-05-06T02:59:09.506Z"
   },
   {
    "duration": 15,
    "start_time": "2024-05-06T02:59:10.657Z"
   },
   {
    "duration": 4,
    "start_time": "2024-05-06T02:59:10.673Z"
   },
   {
    "duration": 3,
    "start_time": "2024-05-06T02:59:10.679Z"
   },
   {
    "duration": 3,
    "start_time": "2024-05-06T02:59:10.683Z"
   },
   {
    "duration": 29,
    "start_time": "2024-05-06T02:59:10.687Z"
   },
   {
    "duration": 31,
    "start_time": "2024-05-06T02:59:10.717Z"
   },
   {
    "duration": 6,
    "start_time": "2024-05-06T02:59:10.749Z"
   },
   {
    "duration": 33,
    "start_time": "2024-05-06T02:59:10.757Z"
   },
   {
    "duration": 27,
    "start_time": "2024-05-06T02:59:10.802Z"
   },
   {
    "duration": 39,
    "start_time": "2024-05-06T02:59:10.830Z"
   },
   {
    "duration": 3,
    "start_time": "2024-05-06T02:59:10.870Z"
   },
   {
    "duration": 51,
    "start_time": "2024-05-06T02:59:10.874Z"
   },
   {
    "duration": 9,
    "start_time": "2024-05-06T02:59:10.926Z"
   },
   {
    "duration": 3,
    "start_time": "2024-05-06T02:59:10.936Z"
   },
   {
    "duration": 25,
    "start_time": "2024-05-06T02:59:10.940Z"
   },
   {
    "duration": 2580,
    "start_time": "2024-05-06T02:59:10.966Z"
   },
   {
    "duration": 66,
    "start_time": "2024-05-06T02:59:13.547Z"
   },
   {
    "duration": 457,
    "start_time": "2024-05-06T02:59:13.615Z"
   },
   {
    "duration": 936,
    "start_time": "2024-05-06T02:59:14.074Z"
   },
   {
    "duration": 826,
    "start_time": "2024-05-06T02:59:29.108Z"
   },
   {
    "duration": 789,
    "start_time": "2024-05-06T02:59:43.835Z"
   },
   {
    "duration": 898,
    "start_time": "2024-05-06T02:59:55.531Z"
   },
   {
    "duration": 827,
    "start_time": "2024-05-06T03:00:06.402Z"
   },
   {
    "duration": 224,
    "start_time": "2024-05-06T03:00:36.834Z"
   },
   {
    "duration": 107,
    "start_time": "2024-05-06T03:02:02.497Z"
   },
   {
    "duration": 136,
    "start_time": "2024-05-06T03:02:41.320Z"
   },
   {
    "duration": 130,
    "start_time": "2024-05-06T03:04:12.166Z"
   },
   {
    "duration": 135,
    "start_time": "2024-05-06T03:04:23.838Z"
   },
   {
    "duration": 141,
    "start_time": "2024-05-06T03:05:03.862Z"
   },
   {
    "duration": 224,
    "start_time": "2024-05-06T03:06:05.228Z"
   },
   {
    "duration": 132,
    "start_time": "2024-05-06T03:06:58.107Z"
   },
   {
    "duration": 133,
    "start_time": "2024-05-06T03:07:12.772Z"
   },
   {
    "duration": 136,
    "start_time": "2024-05-06T03:07:19.667Z"
   },
   {
    "duration": 134,
    "start_time": "2024-05-06T03:07:29.282Z"
   },
   {
    "duration": 131,
    "start_time": "2024-05-06T03:07:45.027Z"
   },
   {
    "duration": 151,
    "start_time": "2024-05-06T03:09:20.144Z"
   },
   {
    "duration": 149,
    "start_time": "2024-05-06T03:09:32.776Z"
   },
   {
    "duration": 134,
    "start_time": "2024-05-06T03:09:38.536Z"
   },
   {
    "duration": 139,
    "start_time": "2024-05-06T03:09:56.697Z"
   },
   {
    "duration": 139,
    "start_time": "2024-05-06T03:10:32.985Z"
   },
   {
    "duration": 143,
    "start_time": "2024-05-06T03:10:47.223Z"
   },
   {
    "duration": 133,
    "start_time": "2024-05-06T03:10:54.487Z"
   },
   {
    "duration": 231,
    "start_time": "2024-05-06T03:10:58.495Z"
   },
   {
    "duration": 9,
    "start_time": "2024-05-06T03:11:11.863Z"
   },
   {
    "duration": 10,
    "start_time": "2024-05-06T03:12:16.270Z"
   },
   {
    "duration": 7,
    "start_time": "2024-05-06T03:12:19.910Z"
   },
   {
    "duration": 8,
    "start_time": "2024-05-06T03:12:23.125Z"
   },
   {
    "duration": 8,
    "start_time": "2024-05-06T03:12:25.989Z"
   },
   {
    "duration": 6,
    "start_time": "2024-05-06T03:12:29.205Z"
   },
   {
    "duration": 8,
    "start_time": "2024-05-06T03:12:39.813Z"
   },
   {
    "duration": 8,
    "start_time": "2024-05-06T03:12:45.350Z"
   },
   {
    "duration": 135,
    "start_time": "2024-05-06T03:13:55.669Z"
   },
   {
    "duration": 8,
    "start_time": "2024-05-06T03:14:12.308Z"
   },
   {
    "duration": 11,
    "start_time": "2024-05-06T03:14:39.460Z"
   },
   {
    "duration": 11,
    "start_time": "2024-05-06T03:15:02.139Z"
   },
   {
    "duration": 11,
    "start_time": "2024-05-06T03:15:07.548Z"
   },
   {
    "duration": 133,
    "start_time": "2024-05-06T03:15:11.971Z"
   },
   {
    "duration": 147,
    "start_time": "2024-05-06T03:18:32.936Z"
   },
   {
    "duration": 1432,
    "start_time": "2024-05-06T03:19:06.201Z"
   },
   {
    "duration": 1462,
    "start_time": "2024-05-06T03:19:29.248Z"
   },
   {
    "duration": 776,
    "start_time": "2024-05-06T03:19:44.040Z"
   },
   {
    "duration": 1803,
    "start_time": "2024-05-06T15:35:15.501Z"
   },
   {
    "duration": 0,
    "start_time": "2024-05-06T15:35:17.308Z"
   },
   {
    "duration": 0,
    "start_time": "2024-05-06T15:35:17.310Z"
   },
   {
    "duration": 0,
    "start_time": "2024-05-06T15:35:17.311Z"
   },
   {
    "duration": 0,
    "start_time": "2024-05-06T15:35:17.312Z"
   },
   {
    "duration": 0,
    "start_time": "2024-05-06T15:35:17.314Z"
   },
   {
    "duration": 0,
    "start_time": "2024-05-06T15:35:17.320Z"
   },
   {
    "duration": 0,
    "start_time": "2024-05-06T15:35:17.321Z"
   },
   {
    "duration": 0,
    "start_time": "2024-05-06T15:35:17.322Z"
   },
   {
    "duration": 0,
    "start_time": "2024-05-06T15:35:17.324Z"
   },
   {
    "duration": 0,
    "start_time": "2024-05-06T15:35:17.325Z"
   },
   {
    "duration": 0,
    "start_time": "2024-05-06T15:35:17.327Z"
   },
   {
    "duration": 0,
    "start_time": "2024-05-06T15:35:17.328Z"
   },
   {
    "duration": 0,
    "start_time": "2024-05-06T15:35:17.329Z"
   },
   {
    "duration": 0,
    "start_time": "2024-05-06T15:35:17.331Z"
   },
   {
    "duration": 0,
    "start_time": "2024-05-06T15:35:17.332Z"
   },
   {
    "duration": 0,
    "start_time": "2024-05-06T15:35:17.333Z"
   },
   {
    "duration": 0,
    "start_time": "2024-05-06T15:35:17.335Z"
   },
   {
    "duration": 0,
    "start_time": "2024-05-06T15:35:17.336Z"
   },
   {
    "duration": 0,
    "start_time": "2024-05-06T15:35:17.337Z"
   },
   {
    "duration": 0,
    "start_time": "2024-05-06T15:35:17.339Z"
   },
   {
    "duration": 0,
    "start_time": "2024-05-06T15:35:17.340Z"
   },
   {
    "duration": 0,
    "start_time": "2024-05-06T15:35:17.341Z"
   },
   {
    "duration": 0,
    "start_time": "2024-05-06T15:35:17.343Z"
   },
   {
    "duration": 0,
    "start_time": "2024-05-06T15:35:17.344Z"
   },
   {
    "duration": 0,
    "start_time": "2024-05-06T15:35:17.345Z"
   },
   {
    "duration": 0,
    "start_time": "2024-05-06T15:35:17.346Z"
   },
   {
    "duration": 0,
    "start_time": "2024-05-06T15:35:17.348Z"
   },
   {
    "duration": 0,
    "start_time": "2024-05-06T15:35:17.349Z"
   },
   {
    "duration": 0,
    "start_time": "2024-05-06T15:35:17.351Z"
   },
   {
    "duration": 0,
    "start_time": "2024-05-06T15:35:17.352Z"
   },
   {
    "duration": 0,
    "start_time": "2024-05-06T15:35:17.353Z"
   },
   {
    "duration": 0,
    "start_time": "2024-05-06T15:35:17.355Z"
   },
   {
    "duration": 0,
    "start_time": "2024-05-06T15:35:17.356Z"
   },
   {
    "duration": 0,
    "start_time": "2024-05-06T15:35:17.357Z"
   },
   {
    "duration": 0,
    "start_time": "2024-05-06T15:35:17.359Z"
   },
   {
    "duration": 0,
    "start_time": "2024-05-06T15:35:17.360Z"
   },
   {
    "duration": 0,
    "start_time": "2024-05-06T15:35:17.421Z"
   },
   {
    "duration": 0,
    "start_time": "2024-05-06T15:35:17.422Z"
   },
   {
    "duration": 0,
    "start_time": "2024-05-06T15:35:17.422Z"
   },
   {
    "duration": 0,
    "start_time": "2024-05-06T15:35:17.423Z"
   },
   {
    "duration": 0,
    "start_time": "2024-05-06T15:35:17.424Z"
   },
   {
    "duration": 0,
    "start_time": "2024-05-06T15:35:17.425Z"
   },
   {
    "duration": 0,
    "start_time": "2024-05-06T15:35:17.426Z"
   },
   {
    "duration": 0,
    "start_time": "2024-05-06T15:35:17.427Z"
   },
   {
    "duration": 0,
    "start_time": "2024-05-06T15:35:17.428Z"
   },
   {
    "duration": 0,
    "start_time": "2024-05-06T15:35:17.429Z"
   },
   {
    "duration": 1,
    "start_time": "2024-05-06T15:35:17.430Z"
   },
   {
    "duration": 0,
    "start_time": "2024-05-06T15:35:17.432Z"
   },
   {
    "duration": 0,
    "start_time": "2024-05-06T15:35:17.433Z"
   },
   {
    "duration": 0,
    "start_time": "2024-05-06T15:35:17.434Z"
   },
   {
    "duration": 0,
    "start_time": "2024-05-06T15:35:17.435Z"
   },
   {
    "duration": 0,
    "start_time": "2024-05-06T15:35:17.436Z"
   },
   {
    "duration": 0,
    "start_time": "2024-05-06T15:35:17.437Z"
   },
   {
    "duration": 0,
    "start_time": "2024-05-06T15:35:17.438Z"
   },
   {
    "duration": 0,
    "start_time": "2024-05-06T15:35:17.439Z"
   },
   {
    "duration": 0,
    "start_time": "2024-05-06T15:35:17.440Z"
   },
   {
    "duration": 0,
    "start_time": "2024-05-06T15:35:17.441Z"
   },
   {
    "duration": 0,
    "start_time": "2024-05-06T15:35:17.442Z"
   },
   {
    "duration": 0,
    "start_time": "2024-05-06T15:35:17.443Z"
   },
   {
    "duration": 0,
    "start_time": "2024-05-06T15:35:17.445Z"
   },
   {
    "duration": 0,
    "start_time": "2024-05-06T15:35:17.446Z"
   },
   {
    "duration": 0,
    "start_time": "2024-05-06T15:35:17.447Z"
   },
   {
    "duration": 0,
    "start_time": "2024-05-06T15:35:17.448Z"
   },
   {
    "duration": 0,
    "start_time": "2024-05-06T15:35:17.449Z"
   },
   {
    "duration": 0,
    "start_time": "2024-05-06T15:35:17.450Z"
   },
   {
    "duration": 0,
    "start_time": "2024-05-06T15:35:17.451Z"
   },
   {
    "duration": 0,
    "start_time": "2024-05-06T15:35:17.452Z"
   },
   {
    "duration": 0,
    "start_time": "2024-05-06T15:35:17.453Z"
   },
   {
    "duration": 0,
    "start_time": "2024-05-06T15:35:17.455Z"
   },
   {
    "duration": 0,
    "start_time": "2024-05-06T15:35:17.456Z"
   },
   {
    "duration": 0,
    "start_time": "2024-05-06T15:35:17.520Z"
   },
   {
    "duration": 0,
    "start_time": "2024-05-06T15:35:17.522Z"
   },
   {
    "duration": 0,
    "start_time": "2024-05-06T15:35:17.523Z"
   },
   {
    "duration": 0,
    "start_time": "2024-05-06T15:35:17.524Z"
   },
   {
    "duration": 0,
    "start_time": "2024-05-06T15:35:17.525Z"
   },
   {
    "duration": 0,
    "start_time": "2024-05-06T15:35:17.526Z"
   },
   {
    "duration": 0,
    "start_time": "2024-05-06T15:35:17.527Z"
   },
   {
    "duration": 0,
    "start_time": "2024-05-06T15:35:17.528Z"
   },
   {
    "duration": 0,
    "start_time": "2024-05-06T15:35:17.529Z"
   },
   {
    "duration": 1,
    "start_time": "2024-05-06T15:35:17.530Z"
   },
   {
    "duration": 0,
    "start_time": "2024-05-06T15:35:17.531Z"
   },
   {
    "duration": 0,
    "start_time": "2024-05-06T15:35:17.532Z"
   },
   {
    "duration": 0,
    "start_time": "2024-05-06T15:35:17.534Z"
   },
   {
    "duration": 0,
    "start_time": "2024-05-06T15:35:17.535Z"
   },
   {
    "duration": 0,
    "start_time": "2024-05-06T15:35:17.536Z"
   },
   {
    "duration": 0,
    "start_time": "2024-05-06T15:35:17.538Z"
   },
   {
    "duration": 0,
    "start_time": "2024-05-06T15:35:17.538Z"
   },
   {
    "duration": 0,
    "start_time": "2024-05-06T15:35:17.540Z"
   },
   {
    "duration": 0,
    "start_time": "2024-05-06T15:35:17.540Z"
   },
   {
    "duration": 4056,
    "start_time": "2024-05-06T15:35:56.378Z"
   },
   {
    "duration": 2335,
    "start_time": "2024-05-06T15:36:03.165Z"
   },
   {
    "duration": 448,
    "start_time": "2024-05-06T15:36:05.502Z"
   },
   {
    "duration": 264,
    "start_time": "2024-05-06T15:36:05.952Z"
   },
   {
    "duration": 15,
    "start_time": "2024-05-06T15:36:06.218Z"
   },
   {
    "duration": 34,
    "start_time": "2024-05-06T15:36:06.235Z"
   },
   {
    "duration": 13,
    "start_time": "2024-05-06T15:36:06.271Z"
   },
   {
    "duration": 13,
    "start_time": "2024-05-06T15:36:06.286Z"
   },
   {
    "duration": 10,
    "start_time": "2024-05-06T15:36:06.301Z"
   },
   {
    "duration": 9,
    "start_time": "2024-05-06T15:36:06.313Z"
   },
   {
    "duration": 22,
    "start_time": "2024-05-06T15:36:06.323Z"
   },
   {
    "duration": 22,
    "start_time": "2024-05-06T15:36:06.346Z"
   },
   {
    "duration": 23,
    "start_time": "2024-05-06T15:36:06.369Z"
   },
   {
    "duration": 8,
    "start_time": "2024-05-06T15:36:06.393Z"
   },
   {
    "duration": 19,
    "start_time": "2024-05-06T15:36:06.404Z"
   },
   {
    "duration": 12,
    "start_time": "2024-05-06T15:36:06.424Z"
   },
   {
    "duration": 25,
    "start_time": "2024-05-06T15:36:06.437Z"
   },
   {
    "duration": 20,
    "start_time": "2024-05-06T15:36:06.464Z"
   },
   {
    "duration": 28,
    "start_time": "2024-05-06T15:36:06.486Z"
   },
   {
    "duration": 31,
    "start_time": "2024-05-06T15:36:06.515Z"
   },
   {
    "duration": 21,
    "start_time": "2024-05-06T15:36:06.547Z"
   },
   {
    "duration": 9,
    "start_time": "2024-05-06T15:36:06.569Z"
   },
   {
    "duration": 15,
    "start_time": "2024-05-06T15:36:06.579Z"
   },
   {
    "duration": 34,
    "start_time": "2024-05-06T15:36:06.595Z"
   },
   {
    "duration": 29,
    "start_time": "2024-05-06T15:36:06.630Z"
   },
   {
    "duration": 15,
    "start_time": "2024-05-06T15:36:06.660Z"
   },
   {
    "duration": 25,
    "start_time": "2024-05-06T15:36:06.676Z"
   },
   {
    "duration": 18,
    "start_time": "2024-05-06T15:36:06.703Z"
   },
   {
    "duration": 21,
    "start_time": "2024-05-06T15:36:06.722Z"
   },
   {
    "duration": 25,
    "start_time": "2024-05-06T15:36:06.745Z"
   },
   {
    "duration": 18,
    "start_time": "2024-05-06T15:36:06.772Z"
   },
   {
    "duration": 31,
    "start_time": "2024-05-06T15:36:06.792Z"
   },
   {
    "duration": 9,
    "start_time": "2024-05-06T15:36:06.824Z"
   },
   {
    "duration": 12,
    "start_time": "2024-05-06T15:36:06.834Z"
   },
   {
    "duration": 20,
    "start_time": "2024-05-06T15:36:06.847Z"
   },
   {
    "duration": 19,
    "start_time": "2024-05-06T15:36:06.868Z"
   },
   {
    "duration": 26,
    "start_time": "2024-05-06T15:36:06.889Z"
   },
   {
    "duration": 31,
    "start_time": "2024-05-06T15:36:06.916Z"
   },
   {
    "duration": 16,
    "start_time": "2024-05-06T15:36:06.948Z"
   },
   {
    "duration": 7,
    "start_time": "2024-05-06T15:36:06.965Z"
   },
   {
    "duration": 9,
    "start_time": "2024-05-06T15:36:06.973Z"
   },
   {
    "duration": 12,
    "start_time": "2024-05-06T15:36:06.986Z"
   },
   {
    "duration": 4,
    "start_time": "2024-05-06T15:36:06.999Z"
   },
   {
    "duration": 2207,
    "start_time": "2024-05-06T15:36:07.004Z"
   },
   {
    "duration": 12,
    "start_time": "2024-05-06T15:36:09.213Z"
   },
   {
    "duration": 366,
    "start_time": "2024-05-06T15:36:09.227Z"
   },
   {
    "duration": 5,
    "start_time": "2024-05-06T15:36:09.595Z"
   },
   {
    "duration": 27,
    "start_time": "2024-05-06T15:36:09.602Z"
   },
   {
    "duration": 275,
    "start_time": "2024-05-06T15:36:09.631Z"
   },
   {
    "duration": 7,
    "start_time": "2024-05-06T15:36:09.907Z"
   },
   {
    "duration": 253,
    "start_time": "2024-05-06T15:36:09.920Z"
   },
   {
    "duration": 6,
    "start_time": "2024-05-06T15:36:10.174Z"
   },
   {
    "duration": 271,
    "start_time": "2024-05-06T15:36:10.182Z"
   },
   {
    "duration": 4,
    "start_time": "2024-05-06T15:36:10.455Z"
   },
   {
    "duration": 27,
    "start_time": "2024-05-06T15:36:10.460Z"
   },
   {
    "duration": 27,
    "start_time": "2024-05-06T15:36:10.488Z"
   },
   {
    "duration": 14,
    "start_time": "2024-05-06T15:36:10.516Z"
   },
   {
    "duration": 9,
    "start_time": "2024-05-06T15:36:10.532Z"
   },
   {
    "duration": 20,
    "start_time": "2024-05-06T15:36:10.543Z"
   },
   {
    "duration": 7,
    "start_time": "2024-05-06T15:36:10.565Z"
   },
   {
    "duration": 11,
    "start_time": "2024-05-06T15:36:10.574Z"
   },
   {
    "duration": 8,
    "start_time": "2024-05-06T15:36:10.587Z"
   },
   {
    "duration": 9,
    "start_time": "2024-05-06T15:36:10.597Z"
   },
   {
    "duration": 29,
    "start_time": "2024-05-06T15:36:10.607Z"
   },
   {
    "duration": 17,
    "start_time": "2024-05-06T15:36:10.637Z"
   },
   {
    "duration": 19,
    "start_time": "2024-05-06T15:36:10.656Z"
   },
   {
    "duration": 43,
    "start_time": "2024-05-06T15:36:10.677Z"
   },
   {
    "duration": 14,
    "start_time": "2024-05-06T15:36:10.722Z"
   },
   {
    "duration": 14,
    "start_time": "2024-05-06T15:36:10.737Z"
   },
   {
    "duration": 6,
    "start_time": "2024-05-06T15:36:10.753Z"
   },
   {
    "duration": 1423,
    "start_time": "2024-05-06T15:36:10.760Z"
   },
   {
    "duration": 19,
    "start_time": "2024-05-06T15:36:12.185Z"
   },
   {
    "duration": 4,
    "start_time": "2024-05-06T15:36:12.206Z"
   },
   {
    "duration": 9,
    "start_time": "2024-05-06T15:36:12.212Z"
   },
   {
    "duration": 5,
    "start_time": "2024-05-06T15:36:12.222Z"
   },
   {
    "duration": 38,
    "start_time": "2024-05-06T15:36:12.228Z"
   },
   {
    "duration": 33,
    "start_time": "2024-05-06T15:36:12.268Z"
   },
   {
    "duration": 17,
    "start_time": "2024-05-06T15:36:12.303Z"
   },
   {
    "duration": 35,
    "start_time": "2024-05-06T15:36:12.321Z"
   },
   {
    "duration": 32,
    "start_time": "2024-05-06T15:36:12.357Z"
   },
   {
    "duration": 51,
    "start_time": "2024-05-06T15:36:12.390Z"
   },
   {
    "duration": 4,
    "start_time": "2024-05-06T15:36:12.442Z"
   },
   {
    "duration": 41,
    "start_time": "2024-05-06T15:36:12.447Z"
   },
   {
    "duration": 10,
    "start_time": "2024-05-06T15:36:12.490Z"
   },
   {
    "duration": 20,
    "start_time": "2024-05-06T15:36:12.502Z"
   },
   {
    "duration": 32,
    "start_time": "2024-05-06T15:36:12.524Z"
   },
   {
    "duration": 3074,
    "start_time": "2024-05-06T15:36:12.557Z"
   },
   {
    "duration": 91,
    "start_time": "2024-05-06T15:36:15.633Z"
   },
   {
    "duration": 1038,
    "start_time": "2024-05-06T15:36:15.725Z"
   },
   {
    "duration": 1675,
    "start_time": "2024-05-06T15:36:16.764Z"
   },
   {
    "duration": 213,
    "start_time": "2024-05-06T15:36:18.441Z"
   },
   {
    "duration": 0,
    "start_time": "2024-05-06T15:36:18.656Z"
   },
   {
    "duration": 10,
    "start_time": "2024-05-06T15:36:51.956Z"
   },
   {
    "duration": 559,
    "start_time": "2024-05-06T15:37:02.117Z"
   },
   {
    "duration": 558,
    "start_time": "2024-05-06T15:37:25.814Z"
   },
   {
    "duration": 5,
    "start_time": "2024-05-06T16:45:08.213Z"
   },
   {
    "duration": 4,
    "start_time": "2024-05-06T16:45:17.931Z"
   },
   {
    "duration": 5,
    "start_time": "2024-05-06T16:47:07.505Z"
   },
   {
    "duration": 4,
    "start_time": "2024-05-06T16:47:59.240Z"
   },
   {
    "duration": 39,
    "start_time": "2024-05-06T16:48:41.807Z"
   },
   {
    "duration": 30,
    "start_time": "2024-05-06T16:48:44.904Z"
   },
   {
    "duration": 12,
    "start_time": "2024-05-06T16:52:55.866Z"
   },
   {
    "duration": 4,
    "start_time": "2024-05-06T16:56:19.062Z"
   },
   {
    "duration": 11,
    "start_time": "2024-05-06T16:56:55.642Z"
   },
   {
    "duration": 144,
    "start_time": "2024-05-06T16:57:00.144Z"
   },
   {
    "duration": 12,
    "start_time": "2024-05-06T16:59:46.396Z"
   },
   {
    "duration": 4,
    "start_time": "2024-05-06T17:00:14.202Z"
   },
   {
    "duration": 5,
    "start_time": "2024-05-06T17:00:21.137Z"
   },
   {
    "duration": 8,
    "start_time": "2024-05-06T17:00:50.157Z"
   },
   {
    "duration": 15,
    "start_time": "2024-05-06T17:07:40.979Z"
   },
   {
    "duration": 204,
    "start_time": "2024-05-06T17:08:11.518Z"
   },
   {
    "duration": 12,
    "start_time": "2024-05-06T17:09:47.118Z"
   },
   {
    "duration": 4,
    "start_time": "2024-05-06T17:10:11.149Z"
   },
   {
    "duration": 554,
    "start_time": "2024-05-06T17:10:32.984Z"
   },
   {
    "duration": 13,
    "start_time": "2024-05-06T17:10:48.775Z"
   },
   {
    "duration": 534,
    "start_time": "2024-05-06T17:11:06.353Z"
   },
   {
    "duration": 13,
    "start_time": "2024-05-06T17:11:26.372Z"
   },
   {
    "duration": 15,
    "start_time": "2024-05-06T17:11:46.391Z"
   },
   {
    "duration": 12,
    "start_time": "2024-05-06T17:12:03.726Z"
   },
   {
    "duration": 13,
    "start_time": "2024-05-06T17:12:19.502Z"
   },
   {
    "duration": 11,
    "start_time": "2024-05-06T17:12:30.756Z"
   },
   {
    "duration": 12,
    "start_time": "2024-05-06T17:12:37.318Z"
   },
   {
    "duration": 22,
    "start_time": "2024-05-06T17:12:49.172Z"
   },
   {
    "duration": 12,
    "start_time": "2024-05-06T17:12:58.186Z"
   },
   {
    "duration": 4,
    "start_time": "2024-05-06T17:13:06.758Z"
   },
   {
    "duration": 4,
    "start_time": "2024-05-06T17:13:11.414Z"
   },
   {
    "duration": 16,
    "start_time": "2024-05-06T17:13:19.375Z"
   },
   {
    "duration": 169,
    "start_time": "2024-05-06T17:14:28.358Z"
   },
   {
    "duration": 12,
    "start_time": "2024-05-06T17:14:45.720Z"
   },
   {
    "duration": 3,
    "start_time": "2024-05-06T17:15:30.642Z"
   },
   {
    "duration": 9,
    "start_time": "2024-05-06T17:15:33.115Z"
   },
   {
    "duration": 10,
    "start_time": "2024-05-06T17:15:47.791Z"
   },
   {
    "duration": 2484,
    "start_time": "2024-05-06T17:16:20.560Z"
   },
   {
    "duration": 5,
    "start_time": "2024-05-06T17:16:23.047Z"
   },
   {
    "duration": 105,
    "start_time": "2024-05-06T17:16:23.053Z"
   },
   {
    "duration": 14,
    "start_time": "2024-05-06T17:16:23.159Z"
   },
   {
    "duration": 25,
    "start_time": "2024-05-06T17:16:23.175Z"
   },
   {
    "duration": 8,
    "start_time": "2024-05-06T17:16:23.202Z"
   },
   {
    "duration": 12,
    "start_time": "2024-05-06T17:16:23.211Z"
   },
   {
    "duration": 7,
    "start_time": "2024-05-06T17:16:23.224Z"
   },
   {
    "duration": 10,
    "start_time": "2024-05-06T17:16:23.233Z"
   },
   {
    "duration": 12,
    "start_time": "2024-05-06T17:16:23.245Z"
   },
   {
    "duration": 10,
    "start_time": "2024-05-06T17:16:23.259Z"
   },
   {
    "duration": 10,
    "start_time": "2024-05-06T17:16:23.270Z"
   },
   {
    "duration": 19,
    "start_time": "2024-05-06T17:16:23.282Z"
   },
   {
    "duration": 22,
    "start_time": "2024-05-06T17:16:23.304Z"
   },
   {
    "duration": 10,
    "start_time": "2024-05-06T17:16:23.327Z"
   },
   {
    "duration": 11,
    "start_time": "2024-05-06T17:16:23.339Z"
   },
   {
    "duration": 10,
    "start_time": "2024-05-06T17:16:23.352Z"
   },
   {
    "duration": 12,
    "start_time": "2024-05-06T17:16:23.364Z"
   },
   {
    "duration": 7,
    "start_time": "2024-05-06T17:16:23.378Z"
   },
   {
    "duration": 39,
    "start_time": "2024-05-06T17:16:23.386Z"
   },
   {
    "duration": 11,
    "start_time": "2024-05-06T17:16:23.427Z"
   },
   {
    "duration": 16,
    "start_time": "2024-05-06T17:16:23.439Z"
   },
   {
    "duration": 26,
    "start_time": "2024-05-06T17:16:23.457Z"
   },
   {
    "duration": 9,
    "start_time": "2024-05-06T17:16:23.485Z"
   },
   {
    "duration": 5,
    "start_time": "2024-05-06T17:16:23.496Z"
   },
   {
    "duration": 9,
    "start_time": "2024-05-06T17:16:23.503Z"
   },
   {
    "duration": 9,
    "start_time": "2024-05-06T17:16:23.513Z"
   },
   {
    "duration": 16,
    "start_time": "2024-05-06T17:16:23.523Z"
   },
   {
    "duration": 17,
    "start_time": "2024-05-06T17:16:23.541Z"
   },
   {
    "duration": 8,
    "start_time": "2024-05-06T17:16:23.560Z"
   },
   {
    "duration": 11,
    "start_time": "2024-05-06T17:16:23.570Z"
   },
   {
    "duration": 4,
    "start_time": "2024-05-06T17:16:23.583Z"
   },
   {
    "duration": 10,
    "start_time": "2024-05-06T17:16:23.589Z"
   },
   {
    "duration": 12,
    "start_time": "2024-05-06T17:16:23.601Z"
   },
   {
    "duration": 7,
    "start_time": "2024-05-06T17:16:23.615Z"
   },
   {
    "duration": 12,
    "start_time": "2024-05-06T17:16:23.624Z"
   },
   {
    "duration": 21,
    "start_time": "2024-05-06T17:16:23.638Z"
   },
   {
    "duration": 14,
    "start_time": "2024-05-06T17:16:23.660Z"
   },
   {
    "duration": 12,
    "start_time": "2024-05-06T17:16:23.676Z"
   },
   {
    "duration": 5,
    "start_time": "2024-05-06T17:16:23.690Z"
   },
   {
    "duration": 22,
    "start_time": "2024-05-06T17:16:23.700Z"
   },
   {
    "duration": 5,
    "start_time": "2024-05-06T17:16:23.723Z"
   },
   {
    "duration": 2236,
    "start_time": "2024-05-06T17:16:23.729Z"
   },
   {
    "duration": 7,
    "start_time": "2024-05-06T17:16:25.967Z"
   },
   {
    "duration": 301,
    "start_time": "2024-05-06T17:16:25.976Z"
   },
   {
    "duration": 5,
    "start_time": "2024-05-06T17:16:26.279Z"
   },
   {
    "duration": 15,
    "start_time": "2024-05-06T17:16:26.285Z"
   },
   {
    "duration": 301,
    "start_time": "2024-05-06T17:16:26.301Z"
   },
   {
    "duration": 7,
    "start_time": "2024-05-06T17:16:26.604Z"
   },
   {
    "duration": 266,
    "start_time": "2024-05-06T17:16:26.621Z"
   },
   {
    "duration": 7,
    "start_time": "2024-05-06T17:16:26.888Z"
   },
   {
    "duration": 278,
    "start_time": "2024-05-06T17:16:26.896Z"
   },
   {
    "duration": 5,
    "start_time": "2024-05-06T17:16:27.175Z"
   },
   {
    "duration": 14,
    "start_time": "2024-05-06T17:16:27.181Z"
   },
   {
    "duration": 33,
    "start_time": "2024-05-06T17:16:27.197Z"
   },
   {
    "duration": 10,
    "start_time": "2024-05-06T17:16:27.232Z"
   },
   {
    "duration": 23,
    "start_time": "2024-05-06T17:16:27.243Z"
   },
   {
    "duration": 20,
    "start_time": "2024-05-06T17:16:27.268Z"
   },
   {
    "duration": 6,
    "start_time": "2024-05-06T17:16:27.290Z"
   },
   {
    "duration": 24,
    "start_time": "2024-05-06T17:16:27.298Z"
   },
   {
    "duration": 9,
    "start_time": "2024-05-06T17:16:27.323Z"
   },
   {
    "duration": 10,
    "start_time": "2024-05-06T17:16:27.333Z"
   },
   {
    "duration": 21,
    "start_time": "2024-05-06T17:16:27.344Z"
   },
   {
    "duration": 16,
    "start_time": "2024-05-06T17:16:27.367Z"
   },
   {
    "duration": 41,
    "start_time": "2024-05-06T17:16:27.384Z"
   },
   {
    "duration": 12,
    "start_time": "2024-05-06T17:16:27.426Z"
   },
   {
    "duration": 20,
    "start_time": "2024-05-06T17:16:27.439Z"
   },
   {
    "duration": 14,
    "start_time": "2024-05-06T17:16:27.461Z"
   },
   {
    "duration": 13,
    "start_time": "2024-05-06T17:16:27.476Z"
   },
   {
    "duration": 1414,
    "start_time": "2024-05-06T17:16:27.490Z"
   },
   {
    "duration": 18,
    "start_time": "2024-05-06T17:16:28.906Z"
   },
   {
    "duration": 7,
    "start_time": "2024-05-06T17:16:28.926Z"
   },
   {
    "duration": 5,
    "start_time": "2024-05-06T17:16:28.934Z"
   },
   {
    "duration": 7,
    "start_time": "2024-05-06T17:16:28.941Z"
   },
   {
    "duration": 31,
    "start_time": "2024-05-06T17:16:28.949Z"
   },
   {
    "duration": 59,
    "start_time": "2024-05-06T17:16:28.981Z"
   },
   {
    "duration": 7,
    "start_time": "2024-05-06T17:16:29.042Z"
   },
   {
    "duration": 39,
    "start_time": "2024-05-06T17:16:29.050Z"
   },
   {
    "duration": 174,
    "start_time": "2024-05-06T17:16:29.092Z"
   },
   {
    "duration": 35,
    "start_time": "2024-05-06T17:16:29.268Z"
   },
   {
    "duration": 5,
    "start_time": "2024-05-06T17:16:29.304Z"
   },
   {
    "duration": 34,
    "start_time": "2024-05-06T17:16:29.321Z"
   },
   {
    "duration": 12,
    "start_time": "2024-05-06T17:16:29.356Z"
   },
   {
    "duration": 5,
    "start_time": "2024-05-06T17:16:29.369Z"
   },
   {
    "duration": 57,
    "start_time": "2024-05-06T17:16:29.375Z"
   },
   {
    "duration": 3010,
    "start_time": "2024-05-06T17:16:29.433Z"
   },
   {
    "duration": 79,
    "start_time": "2024-05-06T17:16:32.445Z"
   },
   {
    "duration": 988,
    "start_time": "2024-05-06T17:16:32.526Z"
   },
   {
    "duration": 1541,
    "start_time": "2024-05-06T17:16:33.516Z"
   },
   {
    "duration": 494,
    "start_time": "2024-05-06T17:16:35.058Z"
   },
   {
    "duration": 4,
    "start_time": "2024-05-06T17:16:35.554Z"
   },
   {
    "duration": 48,
    "start_time": "2024-05-06T17:16:35.560Z"
   },
   {
    "duration": 18,
    "start_time": "2024-05-06T17:16:35.610Z"
   },
   {
    "duration": 5,
    "start_time": "2024-05-06T17:16:35.630Z"
   },
   {
    "duration": 162,
    "start_time": "2024-05-06T17:16:35.636Z"
   },
   {
    "duration": 5,
    "start_time": "2024-05-06T17:16:35.799Z"
   },
   {
    "duration": 28,
    "start_time": "2024-05-06T17:16:35.806Z"
   },
   {
    "duration": 4,
    "start_time": "2024-05-06T17:16:35.836Z"
   },
   {
    "duration": 36,
    "start_time": "2024-05-06T17:16:35.841Z"
   },
   {
    "duration": 14,
    "start_time": "2024-05-06T17:16:35.879Z"
   },
   {
    "duration": 10,
    "start_time": "2024-05-06T17:17:29.450Z"
   },
   {
    "duration": 6,
    "start_time": "2024-05-06T17:17:41.541Z"
   },
   {
    "duration": 37,
    "start_time": "2024-05-06T17:17:56.733Z"
   },
   {
    "duration": 5,
    "start_time": "2024-05-06T17:18:02.295Z"
   },
   {
    "duration": 52,
    "start_time": "2024-05-07T02:49:33.277Z"
   },
   {
    "duration": 4345,
    "start_time": "2024-05-07T02:49:37.053Z"
   },
   {
    "duration": 2208,
    "start_time": "2024-05-07T02:49:41.400Z"
   },
   {
    "duration": 337,
    "start_time": "2024-05-07T02:49:43.610Z"
   },
   {
    "duration": 17,
    "start_time": "2024-05-07T02:49:43.949Z"
   },
   {
    "duration": 12,
    "start_time": "2024-05-07T02:49:43.967Z"
   },
   {
    "duration": 8,
    "start_time": "2024-05-07T02:49:43.981Z"
   },
   {
    "duration": 17,
    "start_time": "2024-05-07T02:49:43.991Z"
   },
   {
    "duration": 8,
    "start_time": "2024-05-07T02:49:44.010Z"
   },
   {
    "duration": 10,
    "start_time": "2024-05-07T02:49:44.019Z"
   },
   {
    "duration": 6,
    "start_time": "2024-05-07T02:49:44.032Z"
   },
   {
    "duration": 11,
    "start_time": "2024-05-07T02:49:44.039Z"
   },
   {
    "duration": 30,
    "start_time": "2024-05-07T02:49:44.051Z"
   },
   {
    "duration": 6,
    "start_time": "2024-05-07T02:49:44.083Z"
   },
   {
    "duration": 11,
    "start_time": "2024-05-07T02:49:44.091Z"
   },
   {
    "duration": 21,
    "start_time": "2024-05-07T02:49:44.103Z"
   },
   {
    "duration": 17,
    "start_time": "2024-05-07T02:49:44.126Z"
   },
   {
    "duration": 13,
    "start_time": "2024-05-07T02:49:44.145Z"
   },
   {
    "duration": 24,
    "start_time": "2024-05-07T02:49:44.160Z"
   },
   {
    "duration": 10,
    "start_time": "2024-05-07T02:49:44.185Z"
   },
   {
    "duration": 6,
    "start_time": "2024-05-07T02:49:44.196Z"
   },
   {
    "duration": 9,
    "start_time": "2024-05-07T02:49:44.203Z"
   },
   {
    "duration": 11,
    "start_time": "2024-05-07T02:49:44.213Z"
   },
   {
    "duration": 5,
    "start_time": "2024-05-07T02:49:44.225Z"
   },
   {
    "duration": 8,
    "start_time": "2024-05-07T02:49:44.232Z"
   },
   {
    "duration": 5,
    "start_time": "2024-05-07T02:49:44.241Z"
   },
   {
    "duration": 6,
    "start_time": "2024-05-07T02:49:44.247Z"
   },
   {
    "duration": 27,
    "start_time": "2024-05-07T02:49:44.255Z"
   },
   {
    "duration": 5,
    "start_time": "2024-05-07T02:49:44.286Z"
   },
   {
    "duration": 7,
    "start_time": "2024-05-07T02:49:44.293Z"
   },
   {
    "duration": 3,
    "start_time": "2024-05-07T02:49:44.301Z"
   },
   {
    "duration": 24,
    "start_time": "2024-05-07T02:49:44.305Z"
   },
   {
    "duration": 4,
    "start_time": "2024-05-07T02:49:44.330Z"
   },
   {
    "duration": 4,
    "start_time": "2024-05-07T02:49:44.335Z"
   },
   {
    "duration": 4,
    "start_time": "2024-05-07T02:49:44.340Z"
   },
   {
    "duration": 6,
    "start_time": "2024-05-07T02:49:44.345Z"
   },
   {
    "duration": 6,
    "start_time": "2024-05-07T02:49:44.352Z"
   },
   {
    "duration": 9,
    "start_time": "2024-05-07T02:49:44.380Z"
   },
   {
    "duration": 11,
    "start_time": "2024-05-07T02:49:44.390Z"
   },
   {
    "duration": 3,
    "start_time": "2024-05-07T02:49:44.402Z"
   },
   {
    "duration": 5,
    "start_time": "2024-05-07T02:49:44.407Z"
   },
   {
    "duration": 12,
    "start_time": "2024-05-07T02:49:44.413Z"
   },
   {
    "duration": 4,
    "start_time": "2024-05-07T02:49:44.426Z"
   },
   {
    "duration": 2304,
    "start_time": "2024-05-07T02:49:44.431Z"
   },
   {
    "duration": 9,
    "start_time": "2024-05-07T02:49:46.736Z"
   },
   {
    "duration": 276,
    "start_time": "2024-05-07T02:49:46.746Z"
   },
   {
    "duration": 6,
    "start_time": "2024-05-07T02:49:47.024Z"
   },
   {
    "duration": 11,
    "start_time": "2024-05-07T02:49:47.032Z"
   },
   {
    "duration": 436,
    "start_time": "2024-05-07T02:49:47.044Z"
   },
   {
    "duration": 7,
    "start_time": "2024-05-07T02:49:47.482Z"
   },
   {
    "duration": 285,
    "start_time": "2024-05-07T02:49:47.491Z"
   },
   {
    "duration": 7,
    "start_time": "2024-05-07T02:49:47.778Z"
   },
   {
    "duration": 303,
    "start_time": "2024-05-07T02:49:47.787Z"
   },
   {
    "duration": 6,
    "start_time": "2024-05-07T02:49:48.092Z"
   },
   {
    "duration": 19,
    "start_time": "2024-05-07T02:49:48.099Z"
   },
   {
    "duration": 24,
    "start_time": "2024-05-07T02:49:48.119Z"
   },
   {
    "duration": 10,
    "start_time": "2024-05-07T02:49:48.145Z"
   },
   {
    "duration": 6,
    "start_time": "2024-05-07T02:49:48.180Z"
   },
   {
    "duration": 12,
    "start_time": "2024-05-07T02:49:48.187Z"
   },
   {
    "duration": 7,
    "start_time": "2024-05-07T02:49:48.200Z"
   },
   {
    "duration": 13,
    "start_time": "2024-05-07T02:49:48.209Z"
   },
   {
    "duration": 9,
    "start_time": "2024-05-07T02:49:48.223Z"
   },
   {
    "duration": 7,
    "start_time": "2024-05-07T02:49:48.233Z"
   },
   {
    "duration": 46,
    "start_time": "2024-05-07T02:49:48.242Z"
   },
   {
    "duration": 16,
    "start_time": "2024-05-07T02:49:48.289Z"
   },
   {
    "duration": 18,
    "start_time": "2024-05-07T02:49:48.306Z"
   },
   {
    "duration": 12,
    "start_time": "2024-05-07T02:49:48.326Z"
   },
   {
    "duration": 42,
    "start_time": "2024-05-07T02:49:48.339Z"
   },
   {
    "duration": 13,
    "start_time": "2024-05-07T02:49:48.383Z"
   },
   {
    "duration": 13,
    "start_time": "2024-05-07T02:49:48.397Z"
   },
   {
    "duration": 1463,
    "start_time": "2024-05-07T02:49:48.411Z"
   },
   {
    "duration": 17,
    "start_time": "2024-05-07T02:49:49.875Z"
   },
   {
    "duration": 7,
    "start_time": "2024-05-07T02:49:49.893Z"
   },
   {
    "duration": 6,
    "start_time": "2024-05-07T02:49:49.901Z"
   },
   {
    "duration": 5,
    "start_time": "2024-05-07T02:49:49.909Z"
   },
   {
    "duration": 34,
    "start_time": "2024-05-07T02:49:49.915Z"
   },
   {
    "duration": 56,
    "start_time": "2024-05-07T02:49:49.951Z"
   },
   {
    "duration": 4,
    "start_time": "2024-05-07T02:49:50.009Z"
   },
   {
    "duration": 52,
    "start_time": "2024-05-07T02:49:50.014Z"
   },
   {
    "duration": 40,
    "start_time": "2024-05-07T02:49:50.068Z"
   },
   {
    "duration": 37,
    "start_time": "2024-05-07T02:49:50.110Z"
   },
   {
    "duration": 5,
    "start_time": "2024-05-07T02:49:50.149Z"
   },
   {
    "duration": 37,
    "start_time": "2024-05-07T02:49:50.180Z"
   },
   {
    "duration": 13,
    "start_time": "2024-05-07T02:49:50.219Z"
   },
   {
    "duration": 5,
    "start_time": "2024-05-07T02:49:50.233Z"
   },
   {
    "duration": 56,
    "start_time": "2024-05-07T02:49:50.240Z"
   },
   {
    "duration": 3032,
    "start_time": "2024-05-07T02:49:50.297Z"
   },
   {
    "duration": 82,
    "start_time": "2024-05-07T02:49:53.332Z"
   },
   {
    "duration": 976,
    "start_time": "2024-05-07T02:49:53.416Z"
   },
   {
    "duration": 1831,
    "start_time": "2024-05-07T02:49:54.394Z"
   },
   {
    "duration": 500,
    "start_time": "2024-05-07T02:49:56.227Z"
   },
   {
    "duration": 5,
    "start_time": "2024-05-07T02:49:56.729Z"
   },
   {
    "duration": 32,
    "start_time": "2024-05-07T02:49:56.735Z"
   },
   {
    "duration": 12,
    "start_time": "2024-05-07T02:49:56.780Z"
   },
   {
    "duration": 4,
    "start_time": "2024-05-07T02:49:56.794Z"
   },
   {
    "duration": 165,
    "start_time": "2024-05-07T02:49:56.799Z"
   },
   {
    "duration": 14,
    "start_time": "2024-05-07T02:49:56.966Z"
   },
   {
    "duration": 9,
    "start_time": "2024-05-07T02:49:56.981Z"
   },
   {
    "duration": 4,
    "start_time": "2024-05-07T02:49:56.992Z"
   },
   {
    "duration": 6,
    "start_time": "2024-05-07T02:49:56.998Z"
   },
   {
    "duration": 8,
    "start_time": "2024-05-07T02:49:57.006Z"
   },
   {
    "duration": 14,
    "start_time": "2024-05-07T02:49:57.016Z"
   },
   {
    "duration": 85,
    "start_time": "2024-05-07T02:53:07.854Z"
   },
   {
    "duration": 119,
    "start_time": "2024-05-07T03:05:24.495Z"
   },
   {
    "duration": 83,
    "start_time": "2024-05-07T03:05:46.758Z"
   },
   {
    "duration": 24,
    "start_time": "2024-05-07T03:06:42.620Z"
   },
   {
    "duration": 98,
    "start_time": "2024-05-07T03:08:05.019Z"
   },
   {
    "duration": 89,
    "start_time": "2024-05-07T03:08:32.372Z"
   },
   {
    "duration": 82,
    "start_time": "2024-05-07T03:08:54.843Z"
   },
   {
    "duration": 7,
    "start_time": "2024-05-07T03:09:34.643Z"
   },
   {
    "duration": 5,
    "start_time": "2024-05-07T03:10:26.779Z"
   },
   {
    "duration": 5,
    "start_time": "2024-05-07T03:11:37.537Z"
   },
   {
    "duration": 130,
    "start_time": "2024-05-07T03:12:28.445Z"
   },
   {
    "duration": 253,
    "start_time": "2024-05-07T03:13:16.648Z"
   },
   {
    "duration": 131,
    "start_time": "2024-05-07T03:13:53.543Z"
   },
   {
    "duration": 123,
    "start_time": "2024-05-07T03:14:39.414Z"
   },
   {
    "duration": 225,
    "start_time": "2024-05-07T03:15:13.374Z"
   },
   {
    "duration": 126,
    "start_time": "2024-05-07T03:15:22.070Z"
   },
   {
    "duration": 6442,
    "start_time": "2024-05-07T03:24:50.838Z"
   },
   {
    "duration": 13,
    "start_time": "2024-05-07T03:29:34.000Z"
   },
   {
    "duration": 10,
    "start_time": "2024-05-07T03:29:44.026Z"
   },
   {
    "duration": 519,
    "start_time": "2024-05-07T03:52:22.190Z"
   },
   {
    "duration": 126,
    "start_time": "2024-05-07T03:52:39.517Z"
   },
   {
    "duration": 154,
    "start_time": "2024-05-07T03:53:14.637Z"
   },
   {
    "duration": 165,
    "start_time": "2024-05-07T03:53:18.773Z"
   },
   {
    "duration": 167,
    "start_time": "2024-05-07T03:54:09.318Z"
   },
   {
    "duration": 184,
    "start_time": "2024-05-07T03:54:30.077Z"
   },
   {
    "duration": 166,
    "start_time": "2024-05-07T03:55:11.332Z"
   },
   {
    "duration": 205,
    "start_time": "2024-05-07T03:55:55.140Z"
   },
   {
    "duration": 10,
    "start_time": "2024-05-07T08:15:48.279Z"
   },
   {
    "duration": 185,
    "start_time": "2024-05-07T08:16:12.474Z"
   },
   {
    "duration": 4,
    "start_time": "2024-05-07T08:16:27.324Z"
   },
   {
    "duration": 5,
    "start_time": "2024-05-07T08:16:37.716Z"
   },
   {
    "duration": 9,
    "start_time": "2024-05-07T08:16:47.716Z"
   },
   {
    "duration": 8,
    "start_time": "2024-05-07T08:16:54.451Z"
   },
   {
    "duration": 8,
    "start_time": "2024-05-07T08:17:05.180Z"
   },
   {
    "duration": 8,
    "start_time": "2024-05-07T08:18:25.203Z"
   },
   {
    "duration": 8,
    "start_time": "2024-05-07T08:18:27.235Z"
   },
   {
    "duration": 8,
    "start_time": "2024-05-07T08:18:29.268Z"
   },
   {
    "duration": 9,
    "start_time": "2024-05-07T08:18:50.970Z"
   },
   {
    "duration": 9,
    "start_time": "2024-05-07T08:18:54.745Z"
   },
   {
    "duration": 8,
    "start_time": "2024-05-07T08:19:00.114Z"
   },
   {
    "duration": 8,
    "start_time": "2024-05-07T08:19:23.489Z"
   },
   {
    "duration": 8,
    "start_time": "2024-05-07T08:19:34.949Z"
   },
   {
    "duration": 8,
    "start_time": "2024-05-07T08:19:44.969Z"
   },
   {
    "duration": 7,
    "start_time": "2024-05-07T08:20:18.792Z"
   },
   {
    "duration": 8,
    "start_time": "2024-05-07T08:20:30.328Z"
   },
   {
    "duration": 6,
    "start_time": "2024-05-07T08:20:34.473Z"
   },
   {
    "duration": 8,
    "start_time": "2024-05-07T08:21:02.057Z"
   },
   {
    "duration": 8,
    "start_time": "2024-05-07T08:21:03.848Z"
   },
   {
    "duration": 7,
    "start_time": "2024-05-07T08:21:06.160Z"
   },
   {
    "duration": 7,
    "start_time": "2024-05-07T08:21:33.433Z"
   },
   {
    "duration": 7,
    "start_time": "2024-05-07T08:21:35.355Z"
   },
   {
    "duration": 7,
    "start_time": "2024-05-07T08:21:37.210Z"
   },
   {
    "duration": 8,
    "start_time": "2024-05-07T08:21:48.679Z"
   },
   {
    "duration": 7,
    "start_time": "2024-05-07T08:21:53.648Z"
   },
   {
    "duration": 7,
    "start_time": "2024-05-07T08:21:58.199Z"
   },
   {
    "duration": 7,
    "start_time": "2024-05-07T08:22:06.407Z"
   },
   {
    "duration": 7,
    "start_time": "2024-05-07T08:22:09.560Z"
   },
   {
    "duration": 8,
    "start_time": "2024-05-07T08:22:13.577Z"
   },
   {
    "duration": 9,
    "start_time": "2024-05-07T08:22:31.814Z"
   },
   {
    "duration": 10,
    "start_time": "2024-05-07T08:22:35.094Z"
   },
   {
    "duration": 9,
    "start_time": "2024-05-07T08:22:39.078Z"
   },
   {
    "duration": 9,
    "start_time": "2024-05-07T08:22:50.934Z"
   },
   {
    "duration": 9,
    "start_time": "2024-05-07T08:22:54.015Z"
   },
   {
    "duration": 8,
    "start_time": "2024-05-07T08:23:04.887Z"
   },
   {
    "duration": 11,
    "start_time": "2024-05-07T08:31:15.975Z"
   },
   {
    "duration": 8,
    "start_time": "2024-05-07T08:31:50.166Z"
   },
   {
    "duration": 8,
    "start_time": "2024-05-07T08:32:08.005Z"
   },
   {
    "duration": 33,
    "start_time": "2024-05-07T08:35:03.099Z"
   },
   {
    "duration": 15,
    "start_time": "2024-05-07T08:35:40.883Z"
   },
   {
    "duration": 11,
    "start_time": "2024-05-07T08:36:07.242Z"
   },
   {
    "duration": 11,
    "start_time": "2024-05-07T08:38:16.473Z"
   },
   {
    "duration": 7,
    "start_time": "2024-05-07T08:38:41.808Z"
   },
   {
    "duration": 7,
    "start_time": "2024-05-07T08:38:54.544Z"
   },
   {
    "duration": 6,
    "start_time": "2024-05-07T08:39:11.753Z"
   },
   {
    "duration": 8,
    "start_time": "2024-05-07T08:39:29.640Z"
   },
   {
    "duration": 12,
    "start_time": "2024-05-07T08:39:31.496Z"
   },
   {
    "duration": 11,
    "start_time": "2024-05-07T08:39:33.504Z"
   },
   {
    "duration": 6,
    "start_time": "2024-05-07T08:52:05.238Z"
   },
   {
    "duration": 8,
    "start_time": "2024-05-07T08:52:32.597Z"
   },
   {
    "duration": 18,
    "start_time": "2024-05-07T08:53:14.612Z"
   },
   {
    "duration": 8,
    "start_time": "2024-05-07T08:53:21.257Z"
   },
   {
    "duration": 8,
    "start_time": "2024-05-07T08:53:34.890Z"
   },
   {
    "duration": 317,
    "start_time": "2024-05-07T08:56:16.363Z"
   },
   {
    "duration": 442,
    "start_time": "2024-05-07T08:56:56.564Z"
   },
   {
    "duration": 288,
    "start_time": "2024-05-07T08:57:03.041Z"
   },
   {
    "duration": 207,
    "start_time": "2024-05-07T08:57:51.140Z"
   },
   {
    "duration": 213,
    "start_time": "2024-05-07T09:16:59.446Z"
   },
   {
    "duration": 173,
    "start_time": "2024-05-07T09:17:26.387Z"
   },
   {
    "duration": 7,
    "start_time": "2024-05-07T09:19:52.931Z"
   },
   {
    "duration": 5,
    "start_time": "2024-05-07T09:20:38.966Z"
   },
   {
    "duration": 211,
    "start_time": "2024-05-07T09:21:44.993Z"
   },
   {
    "duration": 230,
    "start_time": "2024-05-07T09:22:05.073Z"
   },
   {
    "duration": 4,
    "start_time": "2024-05-07T09:22:17.744Z"
   },
   {
    "duration": 231,
    "start_time": "2024-05-07T09:22:21.145Z"
   },
   {
    "duration": 221,
    "start_time": "2024-05-07T09:22:29.178Z"
   },
   {
    "duration": 5,
    "start_time": "2024-05-07T09:24:20.791Z"
   },
   {
    "duration": 5,
    "start_time": "2024-05-07T09:24:30.488Z"
   },
   {
    "duration": 25,
    "start_time": "2024-05-07T09:24:52.363Z"
   },
   {
    "duration": 25,
    "start_time": "2024-05-07T09:25:00.071Z"
   },
   {
    "duration": 7,
    "start_time": "2024-05-07T09:26:09.005Z"
   },
   {
    "duration": 25,
    "start_time": "2024-05-07T09:26:11.846Z"
   },
   {
    "duration": 8,
    "start_time": "2024-05-07T09:26:42.424Z"
   },
   {
    "duration": 25,
    "start_time": "2024-05-07T09:26:45.039Z"
   },
   {
    "duration": 23,
    "start_time": "2024-05-07T09:27:01.069Z"
   },
   {
    "duration": 12,
    "start_time": "2024-05-07T09:27:11.894Z"
   },
   {
    "duration": 5,
    "start_time": "2024-05-07T09:27:44.439Z"
   },
   {
    "duration": 7,
    "start_time": "2024-05-07T09:28:00.596Z"
   },
   {
    "duration": 25,
    "start_time": "2024-05-07T09:28:03.277Z"
   },
   {
    "duration": 5,
    "start_time": "2024-05-07T09:28:18.372Z"
   },
   {
    "duration": 23,
    "start_time": "2024-05-07T09:28:21.340Z"
   },
   {
    "duration": 15,
    "start_time": "2024-05-07T09:28:33.796Z"
   },
   {
    "duration": 12,
    "start_time": "2024-05-07T09:28:56.991Z"
   },
   {
    "duration": 6,
    "start_time": "2024-05-07T09:29:01.788Z"
   },
   {
    "duration": 24,
    "start_time": "2024-05-07T09:29:06.044Z"
   },
   {
    "duration": 13,
    "start_time": "2024-05-07T09:30:51.866Z"
   },
   {
    "duration": 868,
    "start_time": "2024-05-07T09:31:46.434Z"
   },
   {
    "duration": 18,
    "start_time": "2024-05-07T09:36:26.120Z"
   },
   {
    "duration": 16,
    "start_time": "2024-05-07T09:36:44.037Z"
   },
   {
    "duration": 15,
    "start_time": "2024-05-07T09:36:57.663Z"
   },
   {
    "duration": 18,
    "start_time": "2024-05-07T09:37:14.485Z"
   },
   {
    "duration": 5,
    "start_time": "2024-05-07T09:37:58.407Z"
   },
   {
    "duration": 24,
    "start_time": "2024-05-07T09:38:05.774Z"
   },
   {
    "duration": 238,
    "start_time": "2024-05-07T09:38:13.574Z"
   },
   {
    "duration": 224,
    "start_time": "2024-05-07T09:41:10.663Z"
   },
   {
    "duration": 248,
    "start_time": "2024-05-07T09:41:57.146Z"
   },
   {
    "duration": 406,
    "start_time": "2024-05-07T09:42:15.499Z"
   },
   {
    "duration": 5,
    "start_time": "2024-05-07T09:45:09.557Z"
   },
   {
    "duration": 9,
    "start_time": "2024-05-07T09:45:13.064Z"
   },
   {
    "duration": 8,
    "start_time": "2024-05-07T09:45:14.783Z"
   },
   {
    "duration": 228,
    "start_time": "2024-05-07T09:45:17.128Z"
   },
   {
    "duration": 4,
    "start_time": "2024-05-07T09:45:27.343Z"
   },
   {
    "duration": 237,
    "start_time": "2024-05-07T09:47:00.415Z"
   },
   {
    "duration": 245,
    "start_time": "2024-05-07T09:47:24.484Z"
   },
   {
    "duration": 13,
    "start_time": "2024-05-07T09:48:56.736Z"
   },
   {
    "duration": 13,
    "start_time": "2024-05-07T09:49:07.013Z"
   },
   {
    "duration": 169,
    "start_time": "2024-05-07T09:52:28.969Z"
   },
   {
    "duration": 213,
    "start_time": "2024-05-07T09:53:11.152Z"
   },
   {
    "duration": 228,
    "start_time": "2024-05-07T09:53:29.355Z"
   },
   {
    "duration": 177,
    "start_time": "2024-05-07T09:53:55.831Z"
   },
   {
    "duration": 192,
    "start_time": "2024-05-07T09:54:00.577Z"
   },
   {
    "duration": 226,
    "start_time": "2024-05-07T10:16:03.895Z"
   },
   {
    "duration": 192,
    "start_time": "2024-05-07T10:16:19.511Z"
   },
   {
    "duration": 185,
    "start_time": "2024-05-07T10:16:25.663Z"
   },
   {
    "duration": 201,
    "start_time": "2024-05-07T10:17:01.053Z"
   },
   {
    "duration": 196,
    "start_time": "2024-05-07T10:17:22.253Z"
   },
   {
    "duration": 135,
    "start_time": "2024-05-07T10:21:30.633Z"
   },
   {
    "duration": 369,
    "start_time": "2024-05-07T10:22:46.360Z"
   },
   {
    "duration": 200,
    "start_time": "2024-05-07T10:24:33.526Z"
   },
   {
    "duration": 197,
    "start_time": "2024-05-07T11:01:55.567Z"
   },
   {
    "duration": 200,
    "start_time": "2024-05-07T11:11:01.822Z"
   },
   {
    "duration": 255,
    "start_time": "2024-05-07T11:11:47.606Z"
   },
   {
    "duration": 235,
    "start_time": "2024-05-07T11:15:33.218Z"
   },
   {
    "duration": 212,
    "start_time": "2024-05-07T11:15:51.147Z"
   },
   {
    "duration": 210,
    "start_time": "2024-05-07T11:17:21.745Z"
   },
   {
    "duration": 197,
    "start_time": "2024-05-07T11:18:34.072Z"
   },
   {
    "duration": 220,
    "start_time": "2024-05-07T11:45:14.333Z"
   },
   {
    "duration": 3849,
    "start_time": "2024-05-07T16:12:44.367Z"
   },
   {
    "duration": 1975,
    "start_time": "2024-05-07T16:12:48.218Z"
   },
   {
    "duration": 265,
    "start_time": "2024-05-07T16:12:50.195Z"
   },
   {
    "duration": 16,
    "start_time": "2024-05-07T16:12:54.835Z"
   },
   {
    "duration": 11,
    "start_time": "2024-05-07T16:12:55.418Z"
   },
   {
    "duration": 8,
    "start_time": "2024-05-07T16:12:57.500Z"
   },
   {
    "duration": 10,
    "start_time": "2024-05-07T16:12:57.824Z"
   },
   {
    "duration": 7,
    "start_time": "2024-05-07T16:12:58.582Z"
   },
   {
    "duration": 9,
    "start_time": "2024-05-07T16:12:59.734Z"
   },
   {
    "duration": 7,
    "start_time": "2024-05-07T16:13:00.451Z"
   },
   {
    "duration": 9,
    "start_time": "2024-05-07T16:13:01.924Z"
   },
   {
    "duration": 4,
    "start_time": "2024-05-07T16:13:03.335Z"
   },
   {
    "duration": 5,
    "start_time": "2024-05-07T16:13:04.774Z"
   },
   {
    "duration": 11,
    "start_time": "2024-05-07T16:13:05.140Z"
   },
   {
    "duration": 10,
    "start_time": "2024-05-07T16:13:05.551Z"
   },
   {
    "duration": 9,
    "start_time": "2024-05-07T16:13:06.984Z"
   },
   {
    "duration": 8,
    "start_time": "2024-05-07T16:13:07.338Z"
   },
   {
    "duration": 10,
    "start_time": "2024-05-07T16:13:08.918Z"
   },
   {
    "duration": 7,
    "start_time": "2024-05-07T16:13:09.193Z"
   },
   {
    "duration": 5,
    "start_time": "2024-05-07T16:13:09.624Z"
   },
   {
    "duration": 6,
    "start_time": "2024-05-07T16:13:10.012Z"
   },
   {
    "duration": 5,
    "start_time": "2024-05-07T16:13:10.318Z"
   },
   {
    "duration": 4,
    "start_time": "2024-05-07T16:13:12.551Z"
   },
   {
    "duration": 4,
    "start_time": "2024-05-07T16:13:12.876Z"
   },
   {
    "duration": 4,
    "start_time": "2024-05-07T16:13:13.216Z"
   },
   {
    "duration": 4,
    "start_time": "2024-05-07T16:13:13.576Z"
   },
   {
    "duration": 4,
    "start_time": "2024-05-07T16:13:13.970Z"
   },
   {
    "duration": 4,
    "start_time": "2024-05-07T16:13:14.362Z"
   },
   {
    "duration": 3,
    "start_time": "2024-05-07T16:13:14.780Z"
   },
   {
    "duration": 3,
    "start_time": "2024-05-07T16:13:15.118Z"
   },
   {
    "duration": 6,
    "start_time": "2024-05-07T16:13:15.520Z"
   },
   {
    "duration": 4,
    "start_time": "2024-05-07T16:13:16.111Z"
   },
   {
    "duration": 3,
    "start_time": "2024-05-07T16:13:16.539Z"
   },
   {
    "duration": 3,
    "start_time": "2024-05-07T16:13:17.381Z"
   },
   {
    "duration": 2,
    "start_time": "2024-05-07T16:13:18.106Z"
   },
   {
    "duration": 4,
    "start_time": "2024-05-07T16:13:24.857Z"
   },
   {
    "duration": 9,
    "start_time": "2024-05-07T16:13:25.282Z"
   },
   {
    "duration": 10,
    "start_time": "2024-05-07T16:13:25.654Z"
   },
   {
    "duration": 3,
    "start_time": "2024-05-07T16:13:26.102Z"
   },
   {
    "duration": 4,
    "start_time": "2024-05-07T16:13:26.510Z"
   },
   {
    "duration": 12,
    "start_time": "2024-05-07T16:13:27.961Z"
   },
   {
    "duration": 3,
    "start_time": "2024-05-07T16:13:28.438Z"
   },
   {
    "duration": 2089,
    "start_time": "2024-05-07T16:13:29.004Z"
   },
   {
    "duration": 7,
    "start_time": "2024-05-07T16:13:49.464Z"
   },
   {
    "duration": 341,
    "start_time": "2024-05-07T16:13:50.825Z"
   },
   {
    "duration": 5,
    "start_time": "2024-05-07T16:13:53.580Z"
   },
   {
    "duration": 4,
    "start_time": "2024-05-07T16:13:54.192Z"
   },
   {
    "duration": 254,
    "start_time": "2024-05-07T16:13:54.538Z"
   },
   {
    "duration": 7,
    "start_time": "2024-05-07T16:13:55.601Z"
   },
   {
    "duration": 240,
    "start_time": "2024-05-07T16:13:55.918Z"
   },
   {
    "duration": 7,
    "start_time": "2024-05-07T16:13:57.879Z"
   },
   {
    "duration": 244,
    "start_time": "2024-05-07T16:13:58.148Z"
   },
   {
    "duration": 4,
    "start_time": "2024-05-07T16:13:59.232Z"
   },
   {
    "duration": 9,
    "start_time": "2024-05-07T16:13:59.524Z"
   },
   {
    "duration": 18,
    "start_time": "2024-05-07T16:13:59.891Z"
   },
   {
    "duration": 9,
    "start_time": "2024-05-07T16:14:00.277Z"
   },
   {
    "duration": 6,
    "start_time": "2024-05-07T16:14:01.029Z"
   },
   {
    "duration": 9,
    "start_time": "2024-05-07T16:14:01.727Z"
   },
   {
    "duration": 7,
    "start_time": "2024-05-07T16:14:02.427Z"
   },
   {
    "duration": 11,
    "start_time": "2024-05-07T16:14:03.617Z"
   },
   {
    "duration": 6,
    "start_time": "2024-05-07T16:14:04.014Z"
   },
   {
    "duration": 7,
    "start_time": "2024-05-07T16:14:04.380Z"
   },
   {
    "duration": 17,
    "start_time": "2024-05-07T16:14:05.183Z"
   },
   {
    "duration": 15,
    "start_time": "2024-05-07T16:14:05.572Z"
   },
   {
    "duration": 17,
    "start_time": "2024-05-07T16:14:05.984Z"
   },
   {
    "duration": 10,
    "start_time": "2024-05-07T16:14:06.360Z"
   },
   {
    "duration": 13,
    "start_time": "2024-05-07T16:14:07.213Z"
   },
   {
    "duration": 13,
    "start_time": "2024-05-07T16:14:07.551Z"
   },
   {
    "duration": 3,
    "start_time": "2024-05-07T16:14:08.811Z"
   },
   {
    "duration": 1366,
    "start_time": "2024-05-07T16:14:09.545Z"
   },
   {
    "duration": 15,
    "start_time": "2024-05-07T16:14:12.267Z"
   },
   {
    "duration": 4,
    "start_time": "2024-05-07T16:14:12.621Z"
   },
   {
    "duration": 4,
    "start_time": "2024-05-07T16:14:13.034Z"
   },
   {
    "duration": 4,
    "start_time": "2024-05-07T16:14:13.448Z"
   },
   {
    "duration": 30,
    "start_time": "2024-05-07T16:14:13.912Z"
   },
   {
    "duration": 34,
    "start_time": "2024-05-07T16:14:14.426Z"
   },
   {
    "duration": 5,
    "start_time": "2024-05-07T16:14:14.876Z"
   },
   {
    "duration": 40,
    "start_time": "2024-05-07T16:14:15.657Z"
   },
   {
    "duration": 39,
    "start_time": "2024-05-07T16:14:16.096Z"
   },
   {
    "duration": 35,
    "start_time": "2024-05-07T16:14:16.524Z"
   },
   {
    "duration": 5,
    "start_time": "2024-05-07T16:14:16.951Z"
   },
   {
    "duration": 36,
    "start_time": "2024-05-07T16:14:17.406Z"
   },
   {
    "duration": 12,
    "start_time": "2024-05-07T16:14:17.868Z"
   },
   {
    "duration": 4,
    "start_time": "2024-05-07T16:14:18.274Z"
   },
   {
    "duration": 48,
    "start_time": "2024-05-07T16:14:18.682Z"
   },
   {
    "duration": 2949,
    "start_time": "2024-05-07T16:14:19.570Z"
   },
   {
    "duration": 72,
    "start_time": "2024-05-07T16:14:22.521Z"
   },
   {
    "duration": 989,
    "start_time": "2024-05-07T16:14:22.595Z"
   },
   {
    "duration": 1591,
    "start_time": "2024-05-07T16:14:23.585Z"
   },
   {
    "duration": 506,
    "start_time": "2024-05-07T16:14:25.179Z"
   },
   {
    "duration": 7,
    "start_time": "2024-05-07T16:15:11.151Z"
   },
   {
    "duration": 13,
    "start_time": "2024-05-07T16:15:12.371Z"
   },
   {
    "duration": 10,
    "start_time": "2024-05-07T16:15:14.801Z"
   },
   {
    "duration": 9,
    "start_time": "2024-05-07T16:15:15.514Z"
   },
   {
    "duration": 8,
    "start_time": "2024-05-07T16:15:16.803Z"
   },
   {
    "duration": 8,
    "start_time": "2024-05-07T16:15:17.317Z"
   },
   {
    "duration": 6,
    "start_time": "2024-05-07T16:15:18.842Z"
   },
   {
    "duration": 4,
    "start_time": "2024-05-07T16:15:20.165Z"
   },
   {
    "duration": 3,
    "start_time": "2024-05-07T16:15:23.382Z"
   },
   {
    "duration": 8,
    "start_time": "2024-05-07T16:15:23.800Z"
   },
   {
    "duration": 7,
    "start_time": "2024-05-07T16:15:25.367Z"
   },
   {
    "duration": 186,
    "start_time": "2024-05-07T16:15:25.807Z"
   },
   {
    "duration": 4,
    "start_time": "2024-05-07T16:15:28.621Z"
   },
   {
    "duration": 11,
    "start_time": "2024-05-07T16:15:29.026Z"
   },
   {
    "duration": 10,
    "start_time": "2024-05-07T16:15:29.491Z"
   },
   {
    "duration": 218,
    "start_time": "2024-05-07T16:15:29.925Z"
   },
   {
    "duration": 295,
    "start_time": "2024-05-07T16:15:30.863Z"
   },
   {
    "duration": 181,
    "start_time": "2024-05-07T16:15:32.116Z"
   },
   {
    "duration": 190,
    "start_time": "2024-05-07T16:15:32.774Z"
   },
   {
    "duration": 180,
    "start_time": "2024-05-07T16:15:34.109Z"
   },
   {
    "duration": 209,
    "start_time": "2024-05-07T16:15:35.431Z"
   },
   {
    "duration": 177,
    "start_time": "2024-05-07T16:15:36.317Z"
   },
   {
    "duration": 175,
    "start_time": "2024-05-07T16:15:37.237Z"
   },
   {
    "duration": 170,
    "start_time": "2024-05-07T16:15:38.081Z"
   },
   {
    "duration": 127,
    "start_time": "2024-05-07T16:15:38.925Z"
   },
   {
    "duration": 161,
    "start_time": "2024-05-07T16:15:45.945Z"
   },
   {
    "duration": 9,
    "start_time": "2024-05-07T16:18:21.369Z"
   },
   {
    "duration": 4331,
    "start_time": "2024-05-08T02:54:08.990Z"
   },
   {
    "duration": 2157,
    "start_time": "2024-05-08T02:54:13.629Z"
   },
   {
    "duration": 4,
    "start_time": "2024-05-08T02:56:00.461Z"
   },
   {
    "duration": 256,
    "start_time": "2024-05-08T02:57:19.211Z"
   },
   {
    "duration": 17,
    "start_time": "2024-05-08T02:57:20.130Z"
   },
   {
    "duration": 17,
    "start_time": "2024-05-08T02:57:22.546Z"
   },
   {
    "duration": 80,
    "start_time": "2024-05-08T02:58:45.545Z"
   },
   {
    "duration": 18,
    "start_time": "2024-05-08T02:58:45.969Z"
   },
   {
    "duration": 11,
    "start_time": "2024-05-08T02:58:46.617Z"
   },
   {
    "duration": 8,
    "start_time": "2024-05-08T02:58:50.937Z"
   },
   {
    "duration": 11,
    "start_time": "2024-05-08T02:58:51.976Z"
   },
   {
    "duration": 7,
    "start_time": "2024-05-08T02:58:55.960Z"
   },
   {
    "duration": 11,
    "start_time": "2024-05-08T02:58:56.656Z"
   },
   {
    "duration": 7,
    "start_time": "2024-05-08T02:59:00.688Z"
   },
   {
    "duration": 11,
    "start_time": "2024-05-08T02:59:01.520Z"
   },
   {
    "duration": 3,
    "start_time": "2024-05-08T03:04:03.869Z"
   },
   {
    "duration": 4,
    "start_time": "2024-05-08T03:04:06.804Z"
   },
   {
    "duration": 6,
    "start_time": "2024-05-08T03:04:35.443Z"
   },
   {
    "duration": 12,
    "start_time": "2024-05-08T03:05:03.786Z"
   },
   {
    "duration": 10,
    "start_time": "2024-05-08T03:05:05.579Z"
   },
   {
    "duration": 12,
    "start_time": "2024-05-08T03:05:06.123Z"
   },
   {
    "duration": 11,
    "start_time": "2024-05-08T03:05:07.587Z"
   },
   {
    "duration": 8,
    "start_time": "2024-05-08T03:05:44.114Z"
   },
   {
    "duration": 7,
    "start_time": "2024-05-08T03:05:44.859Z"
   },
   {
    "duration": 7,
    "start_time": "2024-05-08T03:05:45.394Z"
   },
   {
    "duration": 5,
    "start_time": "2024-05-08T03:05:45.915Z"
   },
   {
    "duration": 5,
    "start_time": "2024-05-08T03:08:24.512Z"
   },
   {
    "duration": 4,
    "start_time": "2024-05-08T03:08:25.688Z"
   },
   {
    "duration": 4,
    "start_time": "2024-05-08T03:10:19.463Z"
   },
   {
    "duration": 5,
    "start_time": "2024-05-08T03:10:20.518Z"
   },
   {
    "duration": 5,
    "start_time": "2024-05-08T03:10:34.199Z"
   },
   {
    "duration": 5,
    "start_time": "2024-05-08T03:10:37.288Z"
   },
   {
    "duration": 4,
    "start_time": "2024-05-08T03:10:44.847Z"
   },
   {
    "duration": 3,
    "start_time": "2024-05-08T03:10:47.262Z"
   },
   {
    "duration": 5,
    "start_time": "2024-05-08T03:10:51.342Z"
   },
   {
    "duration": 4,
    "start_time": "2024-05-08T03:17:45.524Z"
   },
   {
    "duration": 5,
    "start_time": "2024-05-08T03:18:23.078Z"
   },
   {
    "duration": 5,
    "start_time": "2024-05-08T03:18:41.965Z"
   },
   {
    "duration": 5,
    "start_time": "2024-05-08T03:19:00.685Z"
   },
   {
    "duration": 6,
    "start_time": "2024-05-08T03:19:12.964Z"
   },
   {
    "duration": 4,
    "start_time": "2024-05-08T03:19:20.069Z"
   },
   {
    "duration": 4,
    "start_time": "2024-05-08T03:23:38.102Z"
   },
   {
    "duration": 5,
    "start_time": "2024-05-08T03:23:38.625Z"
   },
   {
    "duration": 58,
    "start_time": "2024-05-08T03:24:26.075Z"
   },
   {
    "duration": 2601,
    "start_time": "2024-05-08T03:24:35.951Z"
   },
   {
    "duration": 1961,
    "start_time": "2024-05-08T03:24:38.554Z"
   },
   {
    "duration": 84,
    "start_time": "2024-05-08T03:24:40.516Z"
   },
   {
    "duration": 18,
    "start_time": "2024-05-08T03:24:40.603Z"
   },
   {
    "duration": 12,
    "start_time": "2024-05-08T03:24:40.623Z"
   },
   {
    "duration": 10,
    "start_time": "2024-05-08T03:24:40.637Z"
   },
   {
    "duration": 11,
    "start_time": "2024-05-08T03:24:40.649Z"
   },
   {
    "duration": 21,
    "start_time": "2024-05-08T03:24:40.662Z"
   },
   {
    "duration": 10,
    "start_time": "2024-05-08T03:24:40.685Z"
   },
   {
    "duration": 10,
    "start_time": "2024-05-08T03:24:40.697Z"
   },
   {
    "duration": 9,
    "start_time": "2024-05-08T03:24:40.709Z"
   },
   {
    "duration": 4,
    "start_time": "2024-05-08T03:24:40.720Z"
   },
   {
    "duration": 12,
    "start_time": "2024-05-08T03:24:40.725Z"
   },
   {
    "duration": 13,
    "start_time": "2024-05-08T03:24:40.740Z"
   },
   {
    "duration": 10,
    "start_time": "2024-05-08T03:24:40.783Z"
   },
   {
    "duration": 9,
    "start_time": "2024-05-08T03:24:40.795Z"
   },
   {
    "duration": 16,
    "start_time": "2024-05-08T03:24:40.806Z"
   },
   {
    "duration": 14,
    "start_time": "2024-05-08T03:24:40.823Z"
   },
   {
    "duration": 9,
    "start_time": "2024-05-08T03:24:40.838Z"
   },
   {
    "duration": 6,
    "start_time": "2024-05-08T03:24:40.849Z"
   },
   {
    "duration": 27,
    "start_time": "2024-05-08T03:24:40.856Z"
   },
   {
    "duration": 4,
    "start_time": "2024-05-08T03:24:40.885Z"
   },
   {
    "duration": 11,
    "start_time": "2024-05-08T03:24:40.891Z"
   },
   {
    "duration": 12,
    "start_time": "2024-05-08T03:24:40.904Z"
   },
   {
    "duration": 5,
    "start_time": "2024-05-08T03:24:43.560Z"
   },
   {
    "duration": 5,
    "start_time": "2024-05-08T03:24:44.056Z"
   },
   {
    "duration": 3,
    "start_time": "2024-05-08T03:24:45.496Z"
   },
   {
    "duration": 5,
    "start_time": "2024-05-08T03:24:45.992Z"
   },
   {
    "duration": 4,
    "start_time": "2024-05-08T03:24:56.952Z"
   },
   {
    "duration": 4,
    "start_time": "2024-05-08T03:25:09.264Z"
   },
   {
    "duration": 5,
    "start_time": "2024-05-08T03:25:13.207Z"
   },
   {
    "duration": 3,
    "start_time": "2024-05-08T03:25:28.583Z"
   },
   {
    "duration": 4,
    "start_time": "2024-05-08T03:28:29.429Z"
   },
   {
    "duration": 3,
    "start_time": "2024-05-08T03:29:44.036Z"
   },
   {
    "duration": 5,
    "start_time": "2024-05-08T03:29:45.060Z"
   },
   {
    "duration": 4,
    "start_time": "2024-05-08T07:09:14.539Z"
   },
   {
    "duration": 2362,
    "start_time": "2024-05-08T07:09:27.650Z"
   },
   {
    "duration": 2462,
    "start_time": "2024-05-08T07:13:54.616Z"
   },
   {
    "duration": 277,
    "start_time": "2024-05-08T07:14:45.255Z"
   },
   {
    "duration": 274,
    "start_time": "2024-05-08T07:15:09.622Z"
   },
   {
    "duration": 7,
    "start_time": "2024-05-08T07:15:24.934Z"
   },
   {
    "duration": 4,
    "start_time": "2024-05-08T07:15:32.214Z"
   },
   {
    "duration": 291,
    "start_time": "2024-05-08T07:15:34.343Z"
   },
   {
    "duration": 275,
    "start_time": "2024-05-08T07:15:48.030Z"
   },
   {
    "duration": 285,
    "start_time": "2024-05-08T07:15:58.904Z"
   },
   {
    "duration": 20,
    "start_time": "2024-05-08T07:27:40.221Z"
   },
   {
    "duration": 13,
    "start_time": "2024-05-08T07:30:12.614Z"
   },
   {
    "duration": 9,
    "start_time": "2024-05-08T07:30:25.671Z"
   },
   {
    "duration": 10,
    "start_time": "2024-05-08T07:30:33.197Z"
   },
   {
    "duration": 6,
    "start_time": "2024-05-08T07:33:14.476Z"
   },
   {
    "duration": 7,
    "start_time": "2024-05-08T07:34:03.098Z"
   },
   {
    "duration": 10,
    "start_time": "2024-05-08T07:34:10.976Z"
   },
   {
    "duration": 8,
    "start_time": "2024-05-08T07:34:33.835Z"
   },
   {
    "duration": 19,
    "start_time": "2024-05-08T07:37:32.331Z"
   },
   {
    "duration": 28,
    "start_time": "2024-05-08T07:38:28.577Z"
   },
   {
    "duration": 19,
    "start_time": "2024-05-08T07:38:39.593Z"
   },
   {
    "duration": 13,
    "start_time": "2024-05-08T07:39:09.848Z"
   },
   {
    "duration": 15,
    "start_time": "2024-05-08T07:39:15.000Z"
   },
   {
    "duration": 3,
    "start_time": "2024-05-08T08:22:25.032Z"
   },
   {
    "duration": 3,
    "start_time": "2024-05-08T08:22:27.608Z"
   },
   {
    "duration": 3,
    "start_time": "2024-05-08T08:22:34.775Z"
   },
   {
    "duration": 1566,
    "start_time": "2024-05-08T08:22:53.310Z"
   },
   {
    "duration": 18,
    "start_time": "2024-05-08T08:23:23.228Z"
   },
   {
    "duration": 39,
    "start_time": "2024-05-08T08:28:42.361Z"
   },
   {
    "duration": 41,
    "start_time": "2024-05-08T08:28:54.457Z"
   },
   {
    "duration": 40,
    "start_time": "2024-05-08T08:29:41.402Z"
   },
   {
    "duration": 35,
    "start_time": "2024-05-08T08:29:56.875Z"
   },
   {
    "duration": 54,
    "start_time": "2024-05-08T08:30:11.769Z"
   },
   {
    "duration": 38,
    "start_time": "2024-05-08T08:30:29.609Z"
   },
   {
    "duration": 20,
    "start_time": "2024-05-08T08:30:49.528Z"
   },
   {
    "duration": 20,
    "start_time": "2024-05-08T08:30:52.275Z"
   },
   {
    "duration": 19,
    "start_time": "2024-05-08T08:30:54.229Z"
   },
   {
    "duration": 16,
    "start_time": "2024-05-08T08:30:56.248Z"
   },
   {
    "duration": 17,
    "start_time": "2024-05-08T08:30:58.714Z"
   },
   {
    "duration": 19,
    "start_time": "2024-05-08T08:31:00.840Z"
   },
   {
    "duration": 12,
    "start_time": "2024-05-08T08:31:11.176Z"
   },
   {
    "duration": 24,
    "start_time": "2024-05-08T08:31:44.815Z"
   },
   {
    "duration": 12,
    "start_time": "2024-05-08T08:31:48.167Z"
   },
   {
    "duration": 33,
    "start_time": "2024-05-08T08:32:34.303Z"
   },
   {
    "duration": 16,
    "start_time": "2024-05-08T08:32:41.334Z"
   },
   {
    "duration": 24,
    "start_time": "2024-05-08T08:32:58.391Z"
   },
   {
    "duration": 11,
    "start_time": "2024-05-08T08:33:01.254Z"
   },
   {
    "duration": 3077,
    "start_time": "2024-05-08T08:35:32.965Z"
   },
   {
    "duration": 3049,
    "start_time": "2024-05-08T08:37:45.468Z"
   },
   {
    "duration": 74,
    "start_time": "2024-05-08T08:47:52.947Z"
   },
   {
    "duration": 1174,
    "start_time": "2024-05-08T08:48:59.057Z"
   },
   {
    "duration": 494,
    "start_time": "2024-05-08T08:49:24.923Z"
   },
   {
    "duration": 656,
    "start_time": "2024-05-08T08:53:43.078Z"
   },
   {
    "duration": 659,
    "start_time": "2024-05-08T08:54:00.085Z"
   },
   {
    "duration": 517,
    "start_time": "2024-05-08T08:54:37.805Z"
   },
   {
    "duration": 517,
    "start_time": "2024-05-08T08:55:22.203Z"
   },
   {
    "duration": 26,
    "start_time": "2024-05-08T08:55:55.554Z"
   },
   {
    "duration": 1196,
    "start_time": "2024-05-08T08:56:02.226Z"
   },
   {
    "duration": 550,
    "start_time": "2024-05-08T08:56:14.482Z"
   },
   {
    "duration": 508,
    "start_time": "2024-05-08T08:56:21.034Z"
   },
   {
    "duration": 10,
    "start_time": "2024-05-08T09:12:28.434Z"
   },
   {
    "duration": 14,
    "start_time": "2024-05-08T09:12:30.353Z"
   },
   {
    "duration": 7,
    "start_time": "2024-05-08T09:14:56.863Z"
   },
   {
    "duration": 12,
    "start_time": "2024-05-08T09:17:28.068Z"
   },
   {
    "duration": 4,
    "start_time": "2024-05-08T09:17:55.836Z"
   },
   {
    "duration": 4,
    "start_time": "2024-05-08T09:18:07.118Z"
   },
   {
    "duration": 211,
    "start_time": "2024-05-08T09:19:55.659Z"
   },
   {
    "duration": 193,
    "start_time": "2024-05-08T09:21:41.218Z"
   },
   {
    "duration": 191,
    "start_time": "2024-05-08T09:21:47.240Z"
   },
   {
    "duration": 235,
    "start_time": "2024-05-08T09:21:55.794Z"
   },
   {
    "duration": 186,
    "start_time": "2024-05-08T09:22:01.297Z"
   },
   {
    "duration": 192,
    "start_time": "2024-05-08T09:22:16.568Z"
   },
   {
    "duration": 190,
    "start_time": "2024-05-08T09:22:27.424Z"
   },
   {
    "duration": 191,
    "start_time": "2024-05-08T09:22:47.879Z"
   },
   {
    "duration": 336,
    "start_time": "2024-05-08T09:25:59.181Z"
   },
   {
    "duration": 194,
    "start_time": "2024-05-08T09:26:15.421Z"
   },
   {
    "duration": 41,
    "start_time": "2024-05-08T09:29:16.915Z"
   },
   {
    "duration": 227,
    "start_time": "2024-05-08T09:29:24.818Z"
   },
   {
    "duration": 221,
    "start_time": "2024-05-08T09:31:37.355Z"
   },
   {
    "duration": 217,
    "start_time": "2024-05-08T09:31:58.282Z"
   },
   {
    "duration": 195,
    "start_time": "2024-05-08T09:32:04.089Z"
   },
   {
    "duration": 213,
    "start_time": "2024-05-08T09:32:29.417Z"
   },
   {
    "duration": 211,
    "start_time": "2024-05-08T09:34:02.024Z"
   },
   {
    "duration": 5,
    "start_time": "2024-05-08T09:59:43.637Z"
   },
   {
    "duration": 2647,
    "start_time": "2024-05-08T10:02:03.799Z"
   },
   {
    "duration": 5,
    "start_time": "2024-05-08T10:02:06.449Z"
   },
   {
    "duration": 92,
    "start_time": "2024-05-08T10:02:06.456Z"
   },
   {
    "duration": 15,
    "start_time": "2024-05-08T10:02:06.549Z"
   },
   {
    "duration": 18,
    "start_time": "2024-05-08T10:02:06.565Z"
   },
   {
    "duration": 8,
    "start_time": "2024-05-08T10:02:06.584Z"
   },
   {
    "duration": 17,
    "start_time": "2024-05-08T10:02:06.593Z"
   },
   {
    "duration": 7,
    "start_time": "2024-05-08T10:02:06.611Z"
   },
   {
    "duration": 18,
    "start_time": "2024-05-08T10:02:06.619Z"
   },
   {
    "duration": 8,
    "start_time": "2024-05-08T10:02:06.639Z"
   },
   {
    "duration": 18,
    "start_time": "2024-05-08T10:02:06.649Z"
   },
   {
    "duration": 4,
    "start_time": "2024-05-08T10:02:06.669Z"
   },
   {
    "duration": 5,
    "start_time": "2024-05-08T10:02:06.682Z"
   },
   {
    "duration": 10,
    "start_time": "2024-05-08T10:02:06.690Z"
   },
   {
    "duration": 14,
    "start_time": "2024-05-08T10:02:06.702Z"
   },
   {
    "duration": 10,
    "start_time": "2024-05-08T10:02:06.717Z"
   },
   {
    "duration": 13,
    "start_time": "2024-05-08T10:02:06.728Z"
   },
   {
    "duration": 15,
    "start_time": "2024-05-08T10:02:06.742Z"
   },
   {
    "duration": 28,
    "start_time": "2024-05-08T10:02:06.759Z"
   },
   {
    "duration": 15,
    "start_time": "2024-05-08T10:02:06.789Z"
   },
   {
    "duration": 26,
    "start_time": "2024-05-08T10:02:06.805Z"
   },
   {
    "duration": 5,
    "start_time": "2024-05-08T10:02:06.833Z"
   },
   {
    "duration": 17,
    "start_time": "2024-05-08T10:02:06.839Z"
   },
   {
    "duration": 21,
    "start_time": "2024-05-08T10:02:06.857Z"
   },
   {
    "duration": 8,
    "start_time": "2024-05-08T10:02:06.880Z"
   },
   {
    "duration": 5,
    "start_time": "2024-05-08T10:02:06.889Z"
   },
   {
    "duration": 14,
    "start_time": "2024-05-08T10:02:06.895Z"
   },
   {
    "duration": 8,
    "start_time": "2024-05-08T10:02:06.911Z"
   },
   {
    "duration": 27,
    "start_time": "2024-05-08T10:02:06.920Z"
   },
   {
    "duration": 13,
    "start_time": "2024-05-08T10:02:06.949Z"
   },
   {
    "duration": 5,
    "start_time": "2024-05-08T10:02:06.964Z"
   },
   {
    "duration": 5,
    "start_time": "2024-05-08T10:02:06.970Z"
   },
   {
    "duration": 8,
    "start_time": "2024-05-08T10:02:06.977Z"
   },
   {
    "duration": 10,
    "start_time": "2024-05-08T10:02:06.987Z"
   },
   {
    "duration": 2413,
    "start_time": "2024-05-08T10:02:06.999Z"
   },
   {
    "duration": 272,
    "start_time": "2024-05-08T10:02:09.414Z"
   },
   {
    "duration": 5,
    "start_time": "2024-05-08T10:02:09.688Z"
   },
   {
    "duration": 6,
    "start_time": "2024-05-08T10:02:09.694Z"
   },
   {
    "duration": 314,
    "start_time": "2024-05-08T10:02:09.701Z"
   },
   {
    "duration": 429,
    "start_time": "2024-05-08T10:02:10.017Z"
   },
   {
    "duration": 300,
    "start_time": "2024-05-08T10:02:10.451Z"
   },
   {
    "duration": 14,
    "start_time": "2024-05-08T10:02:10.752Z"
   },
   {
    "duration": 21,
    "start_time": "2024-05-08T10:02:10.767Z"
   },
   {
    "duration": 10,
    "start_time": "2024-05-08T10:02:10.790Z"
   },
   {
    "duration": 6,
    "start_time": "2024-05-08T10:02:10.801Z"
   },
   {
    "duration": 9,
    "start_time": "2024-05-08T10:02:10.808Z"
   },
   {
    "duration": 10,
    "start_time": "2024-05-08T10:02:10.818Z"
   },
   {
    "duration": 16,
    "start_time": "2024-05-08T10:02:10.829Z"
   },
   {
    "duration": 47,
    "start_time": "2024-05-08T10:02:10.847Z"
   },
   {
    "duration": 20,
    "start_time": "2024-05-08T10:02:10.895Z"
   },
   {
    "duration": 12,
    "start_time": "2024-05-08T10:02:10.916Z"
   },
   {
    "duration": 14,
    "start_time": "2024-05-08T10:02:10.929Z"
   },
   {
    "duration": 3,
    "start_time": "2024-05-08T10:02:10.945Z"
   },
   {
    "duration": 1485,
    "start_time": "2024-05-08T10:02:10.950Z"
   },
   {
    "duration": 18,
    "start_time": "2024-05-08T10:02:12.436Z"
   },
   {
    "duration": 39,
    "start_time": "2024-05-08T10:02:12.456Z"
   },
   {
    "duration": 22,
    "start_time": "2024-05-08T10:02:12.497Z"
   },
   {
    "duration": 21,
    "start_time": "2024-05-08T10:02:12.520Z"
   },
   {
    "duration": 25,
    "start_time": "2024-05-08T10:02:12.542Z"
   },
   {
    "duration": 19,
    "start_time": "2024-05-08T10:02:12.581Z"
   },
   {
    "duration": 19,
    "start_time": "2024-05-08T10:02:12.601Z"
   },
   {
    "duration": 14,
    "start_time": "2024-05-08T10:02:12.621Z"
   },
   {
    "duration": 46,
    "start_time": "2024-05-08T10:02:12.637Z"
   },
   {
    "duration": 12,
    "start_time": "2024-05-08T10:02:12.684Z"
   },
   {
    "duration": 3136,
    "start_time": "2024-05-08T10:02:12.698Z"
   },
   {
    "duration": 97,
    "start_time": "2024-05-08T10:02:15.836Z"
   },
   {
    "duration": 1041,
    "start_time": "2024-05-08T10:02:15.934Z"
   },
   {
    "duration": 541,
    "start_time": "2024-05-08T10:02:16.977Z"
   },
   {
    "duration": 8,
    "start_time": "2024-05-08T10:02:17.520Z"
   },
   {
    "duration": 21,
    "start_time": "2024-05-08T10:02:17.529Z"
   },
   {
    "duration": 6,
    "start_time": "2024-05-08T10:02:17.552Z"
   },
   {
    "duration": 5,
    "start_time": "2024-05-08T10:02:17.559Z"
   },
   {
    "duration": 4,
    "start_time": "2024-05-08T10:02:17.582Z"
   },
   {
    "duration": 213,
    "start_time": "2024-05-08T10:02:17.588Z"
   },
   {
    "duration": 375,
    "start_time": "2024-05-08T10:02:17.803Z"
   },
   {
    "duration": 207,
    "start_time": "2024-05-08T10:02:18.182Z"
   },
   {
    "duration": 222,
    "start_time": "2024-05-08T10:02:18.390Z"
   },
   {
    "duration": 207,
    "start_time": "2024-05-08T10:02:18.614Z"
   },
   {
    "duration": 190,
    "start_time": "2024-05-08T10:02:18.822Z"
   },
   {
    "duration": 235,
    "start_time": "2024-05-08T10:02:19.013Z"
   },
   {
    "duration": 214,
    "start_time": "2024-05-08T10:02:19.249Z"
   },
   {
    "duration": 209,
    "start_time": "2024-05-08T10:02:19.464Z"
   },
   {
    "duration": 208,
    "start_time": "2024-05-08T10:02:19.674Z"
   },
   {
    "duration": 231,
    "start_time": "2024-05-08T10:02:19.884Z"
   },
   {
    "duration": 4950,
    "start_time": "2024-05-08T12:10:03.031Z"
   },
   {
    "duration": 3822,
    "start_time": "2024-05-08T12:10:07.983Z"
   },
   {
    "duration": 264,
    "start_time": "2024-05-08T12:10:11.806Z"
   },
   {
    "duration": 16,
    "start_time": "2024-05-08T12:10:12.072Z"
   },
   {
    "duration": 11,
    "start_time": "2024-05-08T12:10:12.090Z"
   },
   {
    "duration": 9,
    "start_time": "2024-05-08T12:10:12.102Z"
   },
   {
    "duration": 13,
    "start_time": "2024-05-08T12:10:12.112Z"
   },
   {
    "duration": 8,
    "start_time": "2024-05-08T12:10:12.127Z"
   },
   {
    "duration": 17,
    "start_time": "2024-05-08T12:10:12.136Z"
   },
   {
    "duration": 9,
    "start_time": "2024-05-08T12:10:12.156Z"
   },
   {
    "duration": 16,
    "start_time": "2024-05-08T12:10:12.167Z"
   },
   {
    "duration": 14,
    "start_time": "2024-05-08T12:10:12.185Z"
   },
   {
    "duration": 13,
    "start_time": "2024-05-08T12:10:12.200Z"
   },
   {
    "duration": 10,
    "start_time": "2024-05-08T12:10:12.214Z"
   },
   {
    "duration": 9,
    "start_time": "2024-05-08T12:10:12.225Z"
   },
   {
    "duration": 15,
    "start_time": "2024-05-08T12:10:12.235Z"
   },
   {
    "duration": 8,
    "start_time": "2024-05-08T12:10:12.252Z"
   },
   {
    "duration": 23,
    "start_time": "2024-05-08T12:10:12.262Z"
   },
   {
    "duration": 6,
    "start_time": "2024-05-08T12:10:12.287Z"
   },
   {
    "duration": 4,
    "start_time": "2024-05-08T12:10:12.295Z"
   },
   {
    "duration": 18,
    "start_time": "2024-05-08T12:10:12.301Z"
   },
   {
    "duration": 13,
    "start_time": "2024-05-08T12:10:12.321Z"
   },
   {
    "duration": 15,
    "start_time": "2024-05-08T12:10:12.335Z"
   },
   {
    "duration": 6,
    "start_time": "2024-05-08T12:10:12.351Z"
   },
   {
    "duration": 4,
    "start_time": "2024-05-08T12:10:12.359Z"
   },
   {
    "duration": 9,
    "start_time": "2024-05-08T12:10:12.365Z"
   },
   {
    "duration": 30,
    "start_time": "2024-05-08T12:10:12.375Z"
   },
   {
    "duration": 3,
    "start_time": "2024-05-08T12:10:12.409Z"
   },
   {
    "duration": 12,
    "start_time": "2024-05-08T12:10:12.414Z"
   },
   {
    "duration": 8,
    "start_time": "2024-05-08T12:10:12.427Z"
   },
   {
    "duration": 23,
    "start_time": "2024-05-08T12:10:12.437Z"
   },
   {
    "duration": 12,
    "start_time": "2024-05-08T12:10:12.461Z"
   },
   {
    "duration": 9,
    "start_time": "2024-05-08T12:10:12.474Z"
   },
   {
    "duration": 4,
    "start_time": "2024-05-08T12:10:12.485Z"
   },
   {
    "duration": 2156,
    "start_time": "2024-05-08T12:10:12.491Z"
   },
   {
    "duration": 356,
    "start_time": "2024-05-08T12:10:14.649Z"
   },
   {
    "duration": 7,
    "start_time": "2024-05-08T12:10:15.007Z"
   },
   {
    "duration": 34,
    "start_time": "2024-05-08T12:10:15.016Z"
   },
   {
    "duration": 304,
    "start_time": "2024-05-08T12:10:15.051Z"
   },
   {
    "duration": 281,
    "start_time": "2024-05-08T12:10:15.356Z"
   },
   {
    "duration": 250,
    "start_time": "2024-05-08T12:10:15.639Z"
   },
   {
    "duration": 13,
    "start_time": "2024-05-08T12:10:15.891Z"
   },
   {
    "duration": 9,
    "start_time": "2024-05-08T12:10:15.905Z"
   },
   {
    "duration": 31,
    "start_time": "2024-05-08T12:10:15.916Z"
   },
   {
    "duration": 5,
    "start_time": "2024-05-08T12:10:15.949Z"
   },
   {
    "duration": 19,
    "start_time": "2024-05-08T12:10:15.956Z"
   },
   {
    "duration": 14,
    "start_time": "2024-05-08T12:10:15.976Z"
   },
   {
    "duration": 19,
    "start_time": "2024-05-08T12:10:15.991Z"
   },
   {
    "duration": 15,
    "start_time": "2024-05-08T12:10:16.011Z"
   },
   {
    "duration": 33,
    "start_time": "2024-05-08T12:10:16.028Z"
   },
   {
    "duration": 11,
    "start_time": "2024-05-08T12:10:16.062Z"
   },
   {
    "duration": 16,
    "start_time": "2024-05-08T12:10:16.074Z"
   },
   {
    "duration": 3,
    "start_time": "2024-05-08T12:10:16.091Z"
   },
   {
    "duration": 1412,
    "start_time": "2024-05-08T12:10:16.095Z"
   },
   {
    "duration": 19,
    "start_time": "2024-05-08T12:10:17.509Z"
   },
   {
    "duration": 48,
    "start_time": "2024-05-08T12:10:17.529Z"
   },
   {
    "duration": 18,
    "start_time": "2024-05-08T12:10:17.579Z"
   },
   {
    "duration": 21,
    "start_time": "2024-05-08T12:10:17.599Z"
   },
   {
    "duration": 20,
    "start_time": "2024-05-08T12:10:17.621Z"
   },
   {
    "duration": 20,
    "start_time": "2024-05-08T12:10:17.643Z"
   },
   {
    "duration": 21,
    "start_time": "2024-05-08T12:10:17.664Z"
   },
   {
    "duration": 16,
    "start_time": "2024-05-08T12:10:17.686Z"
   },
   {
    "duration": 43,
    "start_time": "2024-05-08T12:10:17.703Z"
   },
   {
    "duration": 12,
    "start_time": "2024-05-08T12:10:17.747Z"
   },
   {
    "duration": 2980,
    "start_time": "2024-05-08T12:10:17.760Z"
   },
   {
    "duration": 71,
    "start_time": "2024-05-08T12:10:20.742Z"
   },
   {
    "duration": 991,
    "start_time": "2024-05-08T12:10:20.815Z"
   },
   {
    "duration": 476,
    "start_time": "2024-05-08T12:10:21.808Z"
   },
   {
    "duration": 7,
    "start_time": "2024-05-08T12:10:22.286Z"
   },
   {
    "duration": 12,
    "start_time": "2024-05-08T12:10:22.295Z"
   },
   {
    "duration": 5,
    "start_time": "2024-05-08T12:10:22.309Z"
   },
   {
    "duration": 17,
    "start_time": "2024-05-08T12:10:22.315Z"
   },
   {
    "duration": 4,
    "start_time": "2024-05-08T12:10:22.345Z"
   },
   {
    "duration": 228,
    "start_time": "2024-05-08T12:10:22.350Z"
   },
   {
    "duration": 205,
    "start_time": "2024-05-08T12:10:22.579Z"
   },
   {
    "duration": 196,
    "start_time": "2024-05-08T12:10:22.785Z"
   },
   {
    "duration": 192,
    "start_time": "2024-05-08T12:10:22.982Z"
   },
   {
    "duration": 192,
    "start_time": "2024-05-08T12:10:23.176Z"
   },
   {
    "duration": 180,
    "start_time": "2024-05-08T12:10:23.369Z"
   },
   {
    "duration": 212,
    "start_time": "2024-05-08T12:10:23.550Z"
   },
   {
    "duration": 201,
    "start_time": "2024-05-08T12:10:23.763Z"
   },
   {
    "duration": 307,
    "start_time": "2024-05-08T12:10:23.970Z"
   },
   {
    "duration": 191,
    "start_time": "2024-05-08T12:10:24.278Z"
   },
   {
    "duration": 176,
    "start_time": "2024-05-08T12:10:24.471Z"
   },
   {
    "duration": 4154,
    "start_time": "2024-05-09T09:42:53.809Z"
   },
   {
    "duration": 2069,
    "start_time": "2024-05-09T09:44:53.988Z"
   },
   {
    "duration": 37,
    "start_time": "2024-05-09T09:46:39.452Z"
   },
   {
    "duration": 3,
    "start_time": "2024-05-09T09:51:27.796Z"
   },
   {
    "duration": 4,
    "start_time": "2024-05-09T09:52:10.332Z"
   },
   {
    "duration": 52,
    "start_time": "2024-05-09T09:53:28.261Z"
   },
   {
    "duration": 40,
    "start_time": "2024-05-09T09:53:32.175Z"
   },
   {
    "duration": 4,
    "start_time": "2024-05-09T09:55:11.677Z"
   },
   {
    "duration": 5,
    "start_time": "2024-05-09T09:55:44.417Z"
   },
   {
    "duration": 10,
    "start_time": "2024-05-09T18:59:16.802Z"
   },
   {
    "duration": 4,
    "start_time": "2024-05-09T18:59:32.573Z"
   },
   {
    "duration": 3,
    "start_time": "2024-05-09T19:00:21.951Z"
   },
   {
    "duration": 4,
    "start_time": "2024-05-09T19:04:51.119Z"
   },
   {
    "duration": 4343,
    "start_time": "2024-05-10T06:02:07.544Z"
   },
   {
    "duration": 2199,
    "start_time": "2024-05-10T06:02:11.890Z"
   },
   {
    "duration": 4,
    "start_time": "2024-05-10T06:02:14.092Z"
   },
   {
    "duration": 32,
    "start_time": "2024-05-10T06:02:14.098Z"
   },
   {
    "duration": 459,
    "start_time": "2024-05-10T06:02:14.133Z"
   },
   {
    "duration": 19,
    "start_time": "2024-05-10T06:02:14.594Z"
   },
   {
    "duration": 39,
    "start_time": "2024-05-10T06:02:14.614Z"
   },
   {
    "duration": 15,
    "start_time": "2024-05-10T06:02:14.655Z"
   },
   {
    "duration": 29,
    "start_time": "2024-05-10T06:02:14.671Z"
   },
   {
    "duration": 22,
    "start_time": "2024-05-10T06:02:14.701Z"
   },
   {
    "duration": 29,
    "start_time": "2024-05-10T06:02:14.725Z"
   },
   {
    "duration": 16,
    "start_time": "2024-05-10T06:02:14.755Z"
   },
   {
    "duration": 12,
    "start_time": "2024-05-10T06:02:14.773Z"
   },
   {
    "duration": 10,
    "start_time": "2024-05-10T06:02:14.788Z"
   },
   {
    "duration": 12,
    "start_time": "2024-05-10T06:02:14.800Z"
   },
   {
    "duration": 19,
    "start_time": "2024-05-10T06:02:14.813Z"
   },
   {
    "duration": 27,
    "start_time": "2024-05-10T06:02:14.834Z"
   },
   {
    "duration": 23,
    "start_time": "2024-05-10T06:02:14.862Z"
   },
   {
    "duration": 13,
    "start_time": "2024-05-10T06:02:14.887Z"
   },
   {
    "duration": 22,
    "start_time": "2024-05-10T06:02:14.901Z"
   },
   {
    "duration": 6,
    "start_time": "2024-05-10T06:02:14.925Z"
   },
   {
    "duration": 13,
    "start_time": "2024-05-10T06:02:14.932Z"
   },
   {
    "duration": 19,
    "start_time": "2024-05-10T06:02:14.946Z"
   },
   {
    "duration": 20,
    "start_time": "2024-05-10T06:02:14.967Z"
   },
   {
    "duration": 15,
    "start_time": "2024-05-10T06:02:14.989Z"
   },
   {
    "duration": 66,
    "start_time": "2024-05-10T06:02:15.006Z"
   },
   {
    "duration": 42,
    "start_time": "2024-05-10T06:02:15.074Z"
   },
   {
    "duration": 14,
    "start_time": "2024-05-10T06:02:15.118Z"
   },
   {
    "duration": 7,
    "start_time": "2024-05-10T06:02:15.134Z"
   },
   {
    "duration": 35,
    "start_time": "2024-05-10T06:02:15.142Z"
   },
   {
    "duration": 37,
    "start_time": "2024-05-10T06:02:15.179Z"
   },
   {
    "duration": 40,
    "start_time": "2024-05-10T06:02:15.218Z"
   },
   {
    "duration": 27,
    "start_time": "2024-05-10T06:02:15.260Z"
   },
   {
    "duration": 23,
    "start_time": "2024-05-10T06:02:15.289Z"
   },
   {
    "duration": 2254,
    "start_time": "2024-05-10T06:02:15.314Z"
   },
   {
    "duration": 362,
    "start_time": "2024-05-10T06:02:17.569Z"
   },
   {
    "duration": 6,
    "start_time": "2024-05-10T06:02:17.933Z"
   },
   {
    "duration": 19,
    "start_time": "2024-05-10T06:02:17.940Z"
   },
   {
    "duration": 298,
    "start_time": "2024-05-10T06:02:17.961Z"
   },
   {
    "duration": 271,
    "start_time": "2024-05-10T06:02:18.261Z"
   },
   {
    "duration": 582,
    "start_time": "2024-05-10T06:06:08.229Z"
   },
   {
    "duration": 679,
    "start_time": "2024-05-10T06:06:20.534Z"
   },
   {
    "duration": 4085,
    "start_time": "2024-05-10T08:43:46.333Z"
   },
   {
    "duration": 1667,
    "start_time": "2024-05-10T08:43:50.420Z"
   },
   {
    "duration": 4,
    "start_time": "2024-05-10T08:43:52.088Z"
   },
   {
    "duration": 36,
    "start_time": "2024-05-10T08:43:52.093Z"
   },
   {
    "duration": 363,
    "start_time": "2024-05-10T08:43:52.131Z"
   },
   {
    "duration": 13,
    "start_time": "2024-05-10T08:43:52.495Z"
   },
   {
    "duration": 10,
    "start_time": "2024-05-10T08:43:52.509Z"
   },
   {
    "duration": 13,
    "start_time": "2024-05-10T08:43:52.520Z"
   },
   {
    "duration": 9,
    "start_time": "2024-05-10T08:43:52.534Z"
   },
   {
    "duration": 6,
    "start_time": "2024-05-10T08:43:52.544Z"
   },
   {
    "duration": 9,
    "start_time": "2024-05-10T08:43:52.552Z"
   },
   {
    "duration": 17,
    "start_time": "2024-05-10T08:43:52.562Z"
   },
   {
    "duration": 30,
    "start_time": "2024-05-10T08:43:52.580Z"
   },
   {
    "duration": 12,
    "start_time": "2024-05-10T08:43:52.612Z"
   },
   {
    "duration": 10,
    "start_time": "2024-05-10T08:43:52.625Z"
   },
   {
    "duration": 8,
    "start_time": "2024-05-10T08:43:52.636Z"
   },
   {
    "duration": 7,
    "start_time": "2024-05-10T08:43:52.646Z"
   },
   {
    "duration": 9,
    "start_time": "2024-05-10T08:43:52.654Z"
   },
   {
    "duration": 13,
    "start_time": "2024-05-10T08:43:52.664Z"
   },
   {
    "duration": 20,
    "start_time": "2024-05-10T08:43:52.678Z"
   },
   {
    "duration": 7,
    "start_time": "2024-05-10T08:43:52.699Z"
   },
   {
    "duration": 12,
    "start_time": "2024-05-10T08:43:52.707Z"
   },
   {
    "duration": 8,
    "start_time": "2024-05-10T08:43:52.720Z"
   },
   {
    "duration": 5,
    "start_time": "2024-05-10T08:43:52.730Z"
   },
   {
    "duration": 7,
    "start_time": "2024-05-10T08:43:52.736Z"
   },
   {
    "duration": 9,
    "start_time": "2024-05-10T08:43:52.744Z"
   },
   {
    "duration": 5,
    "start_time": "2024-05-10T08:43:52.754Z"
   },
   {
    "duration": 16,
    "start_time": "2024-05-10T08:43:52.760Z"
   },
   {
    "duration": 21,
    "start_time": "2024-05-10T08:43:52.777Z"
   },
   {
    "duration": 4,
    "start_time": "2024-05-10T08:43:52.799Z"
   },
   {
    "duration": 8,
    "start_time": "2024-05-10T08:43:52.805Z"
   },
   {
    "duration": 9,
    "start_time": "2024-05-10T08:43:52.814Z"
   },
   {
    "duration": 3,
    "start_time": "2024-05-10T08:43:52.825Z"
   },
   {
    "duration": 4,
    "start_time": "2024-05-10T08:43:52.830Z"
   },
   {
    "duration": 1752,
    "start_time": "2024-05-10T08:43:52.835Z"
   },
   {
    "duration": 221,
    "start_time": "2024-05-10T08:43:54.589Z"
   },
   {
    "duration": 5,
    "start_time": "2024-05-10T08:43:54.812Z"
   },
   {
    "duration": 3,
    "start_time": "2024-05-10T08:43:54.818Z"
   },
   {
    "duration": 312,
    "start_time": "2024-05-10T08:43:54.822Z"
   },
   {
    "duration": 209,
    "start_time": "2024-05-10T08:43:55.136Z"
   },
   {
    "duration": 206,
    "start_time": "2024-05-10T08:43:55.348Z"
   },
   {
    "duration": 422,
    "start_time": "2024-05-10T08:43:57.294Z"
   },
   {
    "duration": 582,
    "start_time": "2024-05-10T08:48:41.973Z"
   },
   {
    "duration": 495,
    "start_time": "2024-05-10T08:48:54.617Z"
   },
   {
    "duration": 575,
    "start_time": "2024-05-10T08:49:09.923Z"
   },
   {
    "duration": 126,
    "start_time": "2024-05-10T08:49:22.020Z"
   },
   {
    "duration": 512,
    "start_time": "2024-05-10T08:49:32.720Z"
   },
   {
    "duration": 587,
    "start_time": "2024-05-10T08:51:17.145Z"
   },
   {
    "duration": 415,
    "start_time": "2024-05-10T08:51:43.798Z"
   },
   {
    "duration": 557,
    "start_time": "2024-05-10T08:51:48.929Z"
   },
   {
    "duration": 598,
    "start_time": "2024-05-10T08:52:15.946Z"
   },
   {
    "duration": 523,
    "start_time": "2024-05-10T08:52:26.413Z"
   },
   {
    "duration": 572,
    "start_time": "2024-05-10T08:52:32.116Z"
   },
   {
    "duration": 600,
    "start_time": "2024-05-10T08:52:38.064Z"
   },
   {
    "duration": 188,
    "start_time": "2024-05-10T08:53:20.680Z"
   },
   {
    "duration": 537,
    "start_time": "2024-05-10T08:54:28.324Z"
   },
   {
    "duration": 643,
    "start_time": "2024-05-10T08:54:42.116Z"
   },
   {
    "duration": 531,
    "start_time": "2024-05-10T08:55:10.638Z"
   },
   {
    "duration": 553,
    "start_time": "2024-05-10T08:55:38.197Z"
   },
   {
    "duration": 612,
    "start_time": "2024-05-10T08:58:57.968Z"
   },
   {
    "duration": 552,
    "start_time": "2024-05-10T08:59:08.490Z"
   },
   {
    "duration": 510,
    "start_time": "2024-05-10T08:59:13.868Z"
   },
   {
    "duration": 637,
    "start_time": "2024-05-10T09:00:39.956Z"
   },
   {
    "duration": 65,
    "start_time": "2024-05-10T09:01:27.691Z"
   },
   {
    "duration": 530,
    "start_time": "2024-05-10T09:01:36.312Z"
   },
   {
    "duration": 537,
    "start_time": "2024-05-10T09:02:06.387Z"
   },
   {
    "duration": 621,
    "start_time": "2024-05-10T09:02:58.218Z"
   },
   {
    "duration": 524,
    "start_time": "2024-05-10T09:03:07.877Z"
   },
   {
    "duration": 635,
    "start_time": "2024-05-10T09:03:52.459Z"
   },
   {
    "duration": 544,
    "start_time": "2024-05-10T09:04:32.611Z"
   },
   {
    "duration": 512,
    "start_time": "2024-05-10T09:20:50.717Z"
   },
   {
    "duration": 606,
    "start_time": "2024-05-10T09:21:08.510Z"
   },
   {
    "duration": 536,
    "start_time": "2024-05-10T09:21:16.442Z"
   },
   {
    "duration": 63,
    "start_time": "2024-05-10T09:21:35.577Z"
   },
   {
    "duration": 524,
    "start_time": "2024-05-10T09:21:44.300Z"
   },
   {
    "duration": 627,
    "start_time": "2024-05-10T09:22:15.751Z"
   },
   {
    "duration": 520,
    "start_time": "2024-05-10T09:22:21.614Z"
   },
   {
    "duration": 533,
    "start_time": "2024-05-10T09:27:32.319Z"
   },
   {
    "duration": 617,
    "start_time": "2024-05-10T09:28:28.594Z"
   },
   {
    "duration": 460,
    "start_time": "2024-05-10T09:28:44.465Z"
   },
   {
    "duration": 627,
    "start_time": "2024-05-10T09:29:09.181Z"
   },
   {
    "duration": 539,
    "start_time": "2024-05-10T09:29:30.000Z"
   },
   {
    "duration": 474,
    "start_time": "2024-05-10T09:29:44.749Z"
   },
   {
    "duration": 650,
    "start_time": "2024-05-10T09:29:53.301Z"
   },
   {
    "duration": 564,
    "start_time": "2024-05-10T09:30:32.426Z"
   },
   {
    "duration": 513,
    "start_time": "2024-05-10T09:31:02.195Z"
   },
   {
    "duration": 595,
    "start_time": "2024-05-10T09:31:14.841Z"
   },
   {
    "duration": 531,
    "start_time": "2024-05-10T09:31:32.272Z"
   },
   {
    "duration": 538,
    "start_time": "2024-05-10T09:31:49.913Z"
   },
   {
    "duration": 636,
    "start_time": "2024-05-10T09:42:03.957Z"
   },
   {
    "duration": 4,
    "start_time": "2024-05-10T09:45:52.383Z"
   },
   {
    "duration": 4,
    "start_time": "2024-05-10T09:46:07.054Z"
   },
   {
    "duration": 2190,
    "start_time": "2024-05-10T09:47:49.671Z"
   },
   {
    "duration": 3,
    "start_time": "2024-05-10T09:48:37.575Z"
   },
   {
    "duration": 2279,
    "start_time": "2024-05-10T09:48:40.462Z"
   },
   {
    "duration": 4,
    "start_time": "2024-05-10T09:48:54.805Z"
   },
   {
    "duration": 3226,
    "start_time": "2024-05-10T09:48:56.581Z"
   },
   {
    "duration": 4,
    "start_time": "2024-05-10T09:49:01.295Z"
   },
   {
    "duration": 2280,
    "start_time": "2024-05-10T09:49:03.618Z"
   },
   {
    "duration": 4,
    "start_time": "2024-05-10T09:49:11.133Z"
   },
   {
    "duration": 17,
    "start_time": "2024-05-10T09:49:12.961Z"
   },
   {
    "duration": 4,
    "start_time": "2024-05-10T09:49:31.338Z"
   },
   {
    "duration": 2210,
    "start_time": "2024-05-10T09:49:33.530Z"
   },
   {
    "duration": 3,
    "start_time": "2024-05-10T09:49:47.355Z"
   },
   {
    "duration": 2401,
    "start_time": "2024-05-10T09:49:49.330Z"
   },
   {
    "duration": 5,
    "start_time": "2024-05-10T09:55:18.002Z"
   },
   {
    "duration": 3,
    "start_time": "2024-05-10T09:56:06.062Z"
   },
   {
    "duration": 2275,
    "start_time": "2024-05-10T09:56:11.852Z"
   },
   {
    "duration": 533,
    "start_time": "2024-05-10T09:57:00.072Z"
   },
   {
    "duration": 621,
    "start_time": "2024-05-10T09:57:29.244Z"
   },
   {
    "duration": 272,
    "start_time": "2024-05-10T09:57:57.892Z"
   },
   {
    "duration": 8,
    "start_time": "2024-05-10T09:58:37.052Z"
   },
   {
    "duration": 62,
    "start_time": "2024-05-10T10:05:49.684Z"
   },
   {
    "duration": 213,
    "start_time": "2024-05-10T10:05:57.012Z"
   },
   {
    "duration": 4,
    "start_time": "2024-05-10T10:06:39.534Z"
   },
   {
    "duration": 2280,
    "start_time": "2024-05-10T10:06:41.675Z"
   },
   {
    "duration": 2286,
    "start_time": "2024-05-10T10:06:56.055Z"
   },
   {
    "duration": 545,
    "start_time": "2024-05-10T10:07:12.235Z"
   },
   {
    "duration": 623,
    "start_time": "2024-05-10T10:07:18.349Z"
   },
   {
    "duration": 289,
    "start_time": "2024-05-10T10:07:21.101Z"
   },
   {
    "duration": 212,
    "start_time": "2024-05-10T10:07:25.494Z"
   },
   {
    "duration": 4700,
    "start_time": "2024-05-10T12:59:00.488Z"
   },
   {
    "duration": 2138,
    "start_time": "2024-05-10T12:59:05.190Z"
   },
   {
    "duration": 5,
    "start_time": "2024-05-10T12:59:07.330Z"
   },
   {
    "duration": 79,
    "start_time": "2024-05-10T12:59:07.338Z"
   },
   {
    "duration": 0,
    "start_time": "2024-05-10T12:59:07.421Z"
   },
   {
    "duration": 0,
    "start_time": "2024-05-10T12:59:07.423Z"
   },
   {
    "duration": 0,
    "start_time": "2024-05-10T12:59:07.424Z"
   },
   {
    "duration": 0,
    "start_time": "2024-05-10T12:59:07.426Z"
   },
   {
    "duration": 0,
    "start_time": "2024-05-10T12:59:07.427Z"
   },
   {
    "duration": 0,
    "start_time": "2024-05-10T12:59:07.428Z"
   },
   {
    "duration": 0,
    "start_time": "2024-05-10T12:59:07.429Z"
   },
   {
    "duration": 0,
    "start_time": "2024-05-10T12:59:07.430Z"
   },
   {
    "duration": 0,
    "start_time": "2024-05-10T12:59:07.431Z"
   },
   {
    "duration": 0,
    "start_time": "2024-05-10T12:59:07.432Z"
   },
   {
    "duration": 0,
    "start_time": "2024-05-10T12:59:07.434Z"
   },
   {
    "duration": 1,
    "start_time": "2024-05-10T12:59:07.434Z"
   },
   {
    "duration": 0,
    "start_time": "2024-05-10T12:59:07.435Z"
   },
   {
    "duration": 0,
    "start_time": "2024-05-10T12:59:07.436Z"
   },
   {
    "duration": 0,
    "start_time": "2024-05-10T12:59:07.438Z"
   },
   {
    "duration": 0,
    "start_time": "2024-05-10T12:59:07.439Z"
   },
   {
    "duration": 0,
    "start_time": "2024-05-10T12:59:07.440Z"
   },
   {
    "duration": 0,
    "start_time": "2024-05-10T12:59:07.441Z"
   },
   {
    "duration": 0,
    "start_time": "2024-05-10T12:59:07.442Z"
   },
   {
    "duration": 0,
    "start_time": "2024-05-10T12:59:07.443Z"
   },
   {
    "duration": 0,
    "start_time": "2024-05-10T12:59:07.444Z"
   },
   {
    "duration": 0,
    "start_time": "2024-05-10T12:59:07.445Z"
   },
   {
    "duration": 0,
    "start_time": "2024-05-10T12:59:07.447Z"
   },
   {
    "duration": 0,
    "start_time": "2024-05-10T12:59:07.448Z"
   },
   {
    "duration": 0,
    "start_time": "2024-05-10T12:59:07.449Z"
   },
   {
    "duration": 0,
    "start_time": "2024-05-10T12:59:07.450Z"
   },
   {
    "duration": 0,
    "start_time": "2024-05-10T12:59:07.451Z"
   },
   {
    "duration": 0,
    "start_time": "2024-05-10T12:59:07.452Z"
   },
   {
    "duration": 0,
    "start_time": "2024-05-10T12:59:07.453Z"
   },
   {
    "duration": 0,
    "start_time": "2024-05-10T12:59:07.454Z"
   },
   {
    "duration": 0,
    "start_time": "2024-05-10T12:59:07.456Z"
   },
   {
    "duration": 0,
    "start_time": "2024-05-10T12:59:07.457Z"
   },
   {
    "duration": 0,
    "start_time": "2024-05-10T12:59:07.459Z"
   },
   {
    "duration": 0,
    "start_time": "2024-05-10T12:59:07.460Z"
   },
   {
    "duration": 0,
    "start_time": "2024-05-10T12:59:07.461Z"
   },
   {
    "duration": 0,
    "start_time": "2024-05-10T12:59:07.462Z"
   },
   {
    "duration": 0,
    "start_time": "2024-05-10T12:59:07.469Z"
   },
   {
    "duration": 0,
    "start_time": "2024-05-10T12:59:07.471Z"
   },
   {
    "duration": 0,
    "start_time": "2024-05-10T12:59:07.472Z"
   },
   {
    "duration": 0,
    "start_time": "2024-05-10T12:59:07.474Z"
   },
   {
    "duration": 0,
    "start_time": "2024-05-10T12:59:07.475Z"
   },
   {
    "duration": 0,
    "start_time": "2024-05-10T12:59:07.476Z"
   },
   {
    "duration": 0,
    "start_time": "2024-05-10T12:59:07.478Z"
   },
   {
    "duration": 0,
    "start_time": "2024-05-10T12:59:07.479Z"
   },
   {
    "duration": 0,
    "start_time": "2024-05-10T12:59:07.481Z"
   },
   {
    "duration": 0,
    "start_time": "2024-05-10T12:59:07.482Z"
   },
   {
    "duration": 0,
    "start_time": "2024-05-10T12:59:07.483Z"
   },
   {
    "duration": 0,
    "start_time": "2024-05-10T12:59:07.484Z"
   },
   {
    "duration": 0,
    "start_time": "2024-05-10T12:59:07.486Z"
   },
   {
    "duration": 0,
    "start_time": "2024-05-10T12:59:07.487Z"
   },
   {
    "duration": 0,
    "start_time": "2024-05-10T12:59:07.488Z"
   },
   {
    "duration": 3,
    "start_time": "2024-05-10T12:59:53.279Z"
   },
   {
    "duration": 2733,
    "start_time": "2024-05-10T13:00:04.450Z"
   },
   {
    "duration": 6,
    "start_time": "2024-05-10T13:00:07.185Z"
   },
   {
    "duration": 72,
    "start_time": "2024-05-10T13:00:07.193Z"
   },
   {
    "duration": 28,
    "start_time": "2024-05-10T13:00:07.266Z"
   },
   {
    "duration": 25,
    "start_time": "2024-05-10T13:00:07.297Z"
   },
   {
    "duration": 364,
    "start_time": "2024-05-10T13:00:07.324Z"
   },
   {
    "duration": 19,
    "start_time": "2024-05-10T13:00:07.689Z"
   },
   {
    "duration": 38,
    "start_time": "2024-05-10T13:00:07.710Z"
   },
   {
    "duration": 18,
    "start_time": "2024-05-10T13:00:07.750Z"
   },
   {
    "duration": 22,
    "start_time": "2024-05-10T13:00:07.770Z"
   },
   {
    "duration": 18,
    "start_time": "2024-05-10T13:00:07.794Z"
   },
   {
    "duration": 26,
    "start_time": "2024-05-10T13:00:07.814Z"
   },
   {
    "duration": 14,
    "start_time": "2024-05-10T13:00:07.842Z"
   },
   {
    "duration": 31,
    "start_time": "2024-05-10T13:00:07.859Z"
   },
   {
    "duration": 16,
    "start_time": "2024-05-10T13:00:07.892Z"
   },
   {
    "duration": 14,
    "start_time": "2024-05-10T13:00:07.909Z"
   },
   {
    "duration": 16,
    "start_time": "2024-05-10T13:00:07.924Z"
   },
   {
    "duration": 13,
    "start_time": "2024-05-10T13:00:07.943Z"
   },
   {
    "duration": 46,
    "start_time": "2024-05-10T13:00:07.958Z"
   },
   {
    "duration": 51,
    "start_time": "2024-05-10T13:00:08.007Z"
   },
   {
    "duration": 24,
    "start_time": "2024-05-10T13:00:08.060Z"
   },
   {
    "duration": 8,
    "start_time": "2024-05-10T13:00:08.094Z"
   },
   {
    "duration": 8,
    "start_time": "2024-05-10T13:00:08.105Z"
   },
   {
    "duration": 12,
    "start_time": "2024-05-10T13:00:08.115Z"
   },
   {
    "duration": 13,
    "start_time": "2024-05-10T13:00:08.129Z"
   },
   {
    "duration": 17,
    "start_time": "2024-05-10T13:00:08.144Z"
   },
   {
    "duration": 18,
    "start_time": "2024-05-10T13:00:08.162Z"
   },
   {
    "duration": 12,
    "start_time": "2024-05-10T13:00:08.182Z"
   },
   {
    "duration": 22,
    "start_time": "2024-05-10T13:00:08.195Z"
   },
   {
    "duration": 10,
    "start_time": "2024-05-10T13:00:08.218Z"
   },
   {
    "duration": 12,
    "start_time": "2024-05-10T13:00:08.230Z"
   },
   {
    "duration": 7,
    "start_time": "2024-05-10T13:00:08.244Z"
   },
   {
    "duration": 9,
    "start_time": "2024-05-10T13:00:08.253Z"
   },
   {
    "duration": 19,
    "start_time": "2024-05-10T13:00:08.264Z"
   },
   {
    "duration": 54,
    "start_time": "2024-05-10T13:00:08.284Z"
   },
   {
    "duration": 20,
    "start_time": "2024-05-10T13:00:08.340Z"
   },
   {
    "duration": 3280,
    "start_time": "2024-05-10T13:00:08.361Z"
   },
   {
    "duration": 6266,
    "start_time": "2024-05-10T13:00:11.643Z"
   },
   {
    "duration": 5,
    "start_time": "2024-05-10T13:00:17.911Z"
   },
   {
    "duration": 11,
    "start_time": "2024-05-10T13:00:17.918Z"
   },
   {
    "duration": 1090,
    "start_time": "2024-05-10T13:00:17.933Z"
   },
   {
    "duration": 390,
    "start_time": "2024-05-10T13:00:19.025Z"
   },
   {
    "duration": 308,
    "start_time": "2024-05-10T13:00:19.416Z"
   },
   {
    "duration": 14,
    "start_time": "2024-05-10T13:00:19.725Z"
   },
   {
    "duration": 22,
    "start_time": "2024-05-10T13:00:19.741Z"
   },
   {
    "duration": 45,
    "start_time": "2024-05-10T13:00:19.765Z"
   },
   {
    "duration": 12,
    "start_time": "2024-05-10T13:00:19.812Z"
   },
   {
    "duration": 11,
    "start_time": "2024-05-10T13:00:19.826Z"
   },
   {
    "duration": 10,
    "start_time": "2024-05-10T13:00:19.839Z"
   },
   {
    "duration": 20,
    "start_time": "2024-05-10T13:00:19.850Z"
   },
   {
    "duration": 16,
    "start_time": "2024-05-10T13:00:19.872Z"
   },
   {
    "duration": 36,
    "start_time": "2024-05-10T13:00:19.890Z"
   },
   {
    "duration": 13,
    "start_time": "2024-05-10T13:00:19.928Z"
   },
   {
    "duration": 24,
    "start_time": "2024-05-10T13:00:19.943Z"
   },
   {
    "duration": 4,
    "start_time": "2024-05-10T13:00:19.968Z"
   },
   {
    "duration": 1551,
    "start_time": "2024-05-10T13:00:25.509Z"
   },
   {
    "duration": 13,
    "start_time": "2024-05-10T13:17:06.543Z"
   },
   {
    "duration": 4,
    "start_time": "2024-05-10T13:18:46.137Z"
   },
   {
    "duration": 148,
    "start_time": "2024-05-10T13:19:55.062Z"
   },
   {
    "duration": 72,
    "start_time": "2024-05-10T13:21:39.470Z"
   },
   {
    "duration": 3304,
    "start_time": "2024-05-10T13:21:43.749Z"
   },
   {
    "duration": 179,
    "start_time": "2024-05-10T13:21:53.285Z"
   },
   {
    "duration": 3827,
    "start_time": "2024-05-10T13:22:14.369Z"
   },
   {
    "duration": 3970,
    "start_time": "2024-05-10T13:22:31.106Z"
   },
   {
    "duration": 3547,
    "start_time": "2024-05-10T13:22:58.667Z"
   },
   {
    "duration": 3726,
    "start_time": "2024-05-10T13:23:10.224Z"
   },
   {
    "duration": 892,
    "start_time": "2024-05-10T13:24:09.274Z"
   },
   {
    "duration": 3750,
    "start_time": "2024-05-10T13:24:17.773Z"
   },
   {
    "duration": 3891,
    "start_time": "2024-05-10T13:24:27.397Z"
   },
   {
    "duration": 1071,
    "start_time": "2024-05-10T13:24:58.939Z"
   },
   {
    "duration": 1076,
    "start_time": "2024-05-10T13:25:09.770Z"
   },
   {
    "duration": 3772,
    "start_time": "2024-05-10T13:25:17.700Z"
   },
   {
    "duration": 3737,
    "start_time": "2024-05-10T13:27:24.705Z"
   },
   {
    "duration": 3690,
    "start_time": "2024-05-10T13:28:56.157Z"
   },
   {
    "duration": 3674,
    "start_time": "2024-05-10T13:29:07.313Z"
   },
   {
    "duration": 4408,
    "start_time": "2024-05-10T16:00:49.331Z"
   },
   {
    "duration": 3145,
    "start_time": "2024-05-10T16:00:53.742Z"
   },
   {
    "duration": 2022,
    "start_time": "2024-05-10T16:00:56.889Z"
   },
   {
    "duration": 3,
    "start_time": "2024-05-10T16:00:58.913Z"
   },
   {
    "duration": 23,
    "start_time": "2024-05-10T16:00:58.919Z"
   },
   {
    "duration": 10,
    "start_time": "2024-05-10T16:00:58.943Z"
   },
   {
    "duration": 356,
    "start_time": "2024-05-10T16:00:58.955Z"
   },
   {
    "duration": 17,
    "start_time": "2024-05-10T16:00:59.312Z"
   },
   {
    "duration": 35,
    "start_time": "2024-05-10T16:00:59.330Z"
   },
   {
    "duration": 17,
    "start_time": "2024-05-10T16:00:59.366Z"
   },
   {
    "duration": 12,
    "start_time": "2024-05-10T16:00:59.384Z"
   },
   {
    "duration": 7,
    "start_time": "2024-05-10T16:00:59.397Z"
   },
   {
    "duration": 21,
    "start_time": "2024-05-10T16:00:59.405Z"
   },
   {
    "duration": 12,
    "start_time": "2024-05-10T16:00:59.429Z"
   },
   {
    "duration": 9,
    "start_time": "2024-05-10T16:00:59.443Z"
   },
   {
    "duration": 16,
    "start_time": "2024-05-10T16:00:59.453Z"
   },
   {
    "duration": 18,
    "start_time": "2024-05-10T16:00:59.471Z"
   },
   {
    "duration": 16,
    "start_time": "2024-05-10T16:00:59.491Z"
   },
   {
    "duration": 15,
    "start_time": "2024-05-10T16:00:59.509Z"
   },
   {
    "duration": 10,
    "start_time": "2024-05-10T16:00:59.526Z"
   },
   {
    "duration": 16,
    "start_time": "2024-05-10T16:00:59.537Z"
   },
   {
    "duration": 10,
    "start_time": "2024-05-10T16:00:59.554Z"
   },
   {
    "duration": 8,
    "start_time": "2024-05-10T16:00:59.566Z"
   },
   {
    "duration": 5,
    "start_time": "2024-05-10T16:00:59.576Z"
   },
   {
    "duration": 20,
    "start_time": "2024-05-10T16:00:59.583Z"
   },
   {
    "duration": 10,
    "start_time": "2024-05-10T16:00:59.604Z"
   },
   {
    "duration": 6,
    "start_time": "2024-05-10T16:00:59.615Z"
   },
   {
    "duration": 4,
    "start_time": "2024-05-10T16:00:59.623Z"
   },
   {
    "duration": 18,
    "start_time": "2024-05-10T16:00:59.628Z"
   },
   {
    "duration": 13,
    "start_time": "2024-05-10T16:00:59.647Z"
   },
   {
    "duration": 15,
    "start_time": "2024-05-10T16:00:59.661Z"
   },
   {
    "duration": 7,
    "start_time": "2024-05-10T16:00:59.678Z"
   },
   {
    "duration": 11,
    "start_time": "2024-05-10T16:00:59.687Z"
   },
   {
    "duration": 13,
    "start_time": "2024-05-10T16:00:59.700Z"
   },
   {
    "duration": 5,
    "start_time": "2024-05-10T16:00:59.714Z"
   },
   {
    "duration": 12,
    "start_time": "2024-05-10T16:00:59.720Z"
   },
   {
    "duration": 20,
    "start_time": "2024-05-10T16:00:59.733Z"
   },
   {
    "duration": 2820,
    "start_time": "2024-05-10T16:00:59.755Z"
   },
   {
    "duration": 5856,
    "start_time": "2024-05-10T16:01:02.577Z"
   },
   {
    "duration": 5,
    "start_time": "2024-05-10T16:01:08.435Z"
   },
   {
    "duration": 16,
    "start_time": "2024-05-10T16:01:08.443Z"
   },
   {
    "duration": 1049,
    "start_time": "2024-05-10T16:01:08.461Z"
   },
   {
    "duration": 358,
    "start_time": "2024-05-10T16:01:09.512Z"
   },
   {
    "duration": 282,
    "start_time": "2024-05-10T16:01:09.872Z"
   },
   {
    "duration": 19,
    "start_time": "2024-05-10T16:01:10.155Z"
   },
   {
    "duration": 9,
    "start_time": "2024-05-10T16:01:10.176Z"
   },
   {
    "duration": 13,
    "start_time": "2024-05-10T16:01:10.186Z"
   },
   {
    "duration": 13,
    "start_time": "2024-05-10T16:01:10.200Z"
   },
   {
    "duration": 8,
    "start_time": "2024-05-10T16:01:10.215Z"
   },
   {
    "duration": 8,
    "start_time": "2024-05-10T16:01:10.224Z"
   },
   {
    "duration": 44,
    "start_time": "2024-05-10T16:01:10.233Z"
   },
   {
    "duration": 18,
    "start_time": "2024-05-10T16:01:10.279Z"
   },
   {
    "duration": 19,
    "start_time": "2024-05-10T16:01:10.298Z"
   },
   {
    "duration": 11,
    "start_time": "2024-05-10T16:01:10.319Z"
   },
   {
    "duration": 39,
    "start_time": "2024-05-10T16:01:10.331Z"
   },
   {
    "duration": 11,
    "start_time": "2024-05-10T16:01:10.372Z"
   },
   {
    "duration": 7,
    "start_time": "2024-05-10T16:01:10.385Z"
   },
   {
    "duration": 3731,
    "start_time": "2024-05-10T16:01:17.742Z"
   },
   {
    "duration": 3575,
    "start_time": "2024-05-10T16:01:48.106Z"
   },
   {
    "duration": 3396,
    "start_time": "2024-05-10T16:01:55.920Z"
   },
   {
    "duration": 3377,
    "start_time": "2024-05-10T16:02:47.796Z"
   },
   {
    "duration": 1111,
    "start_time": "2024-05-10T16:03:02.679Z"
   },
   {
    "duration": 3762,
    "start_time": "2024-05-10T16:03:42.243Z"
   },
   {
    "duration": 3413,
    "start_time": "2024-05-10T16:05:14.125Z"
   },
   {
    "duration": 4,
    "start_time": "2024-05-10T16:06:17.843Z"
   },
   {
    "duration": 3217,
    "start_time": "2024-05-10T16:06:34.943Z"
   },
   {
    "duration": 3077,
    "start_time": "2024-05-10T16:07:21.620Z"
   },
   {
    "duration": 3227,
    "start_time": "2024-05-10T16:12:53.567Z"
   },
   {
    "duration": 20,
    "start_time": "2024-05-10T16:15:10.325Z"
   },
   {
    "duration": 3451,
    "start_time": "2024-05-10T16:15:22.917Z"
   },
   {
    "duration": 3771,
    "start_time": "2024-05-10T16:15:34.969Z"
   },
   {
    "duration": 3121,
    "start_time": "2024-05-10T16:15:42.630Z"
   },
   {
    "duration": 18,
    "start_time": "2024-05-10T16:25:32.052Z"
   },
   {
    "duration": 4265,
    "start_time": "2024-05-10T16:26:00.687Z"
   },
   {
    "duration": 2576,
    "start_time": "2024-05-10T16:41:16.545Z"
   },
   {
    "duration": 2518,
    "start_time": "2024-05-10T16:41:19.123Z"
   },
   {
    "duration": 6,
    "start_time": "2024-05-10T16:41:21.643Z"
   },
   {
    "duration": 31,
    "start_time": "2024-05-10T16:41:21.651Z"
   },
   {
    "duration": 21,
    "start_time": "2024-05-10T16:41:21.685Z"
   },
   {
    "duration": 10,
    "start_time": "2024-05-10T16:41:21.708Z"
   },
   {
    "duration": 93,
    "start_time": "2024-05-10T16:41:21.719Z"
   },
   {
    "duration": 15,
    "start_time": "2024-05-10T16:41:21.814Z"
   },
   {
    "duration": 15,
    "start_time": "2024-05-10T16:41:21.831Z"
   },
   {
    "duration": 10,
    "start_time": "2024-05-10T16:41:21.847Z"
   },
   {
    "duration": 18,
    "start_time": "2024-05-10T16:41:21.858Z"
   },
   {
    "duration": 8,
    "start_time": "2024-05-10T16:41:21.877Z"
   },
   {
    "duration": 174,
    "start_time": "2024-05-10T16:41:21.887Z"
   },
   {
    "duration": 7,
    "start_time": "2024-05-10T16:41:22.072Z"
   },
   {
    "duration": 13,
    "start_time": "2024-05-10T16:41:22.080Z"
   },
   {
    "duration": 16,
    "start_time": "2024-05-10T16:41:22.094Z"
   },
   {
    "duration": 15,
    "start_time": "2024-05-10T16:41:22.111Z"
   },
   {
    "duration": 15,
    "start_time": "2024-05-10T16:41:22.128Z"
   },
   {
    "duration": 19,
    "start_time": "2024-05-10T16:41:22.145Z"
   },
   {
    "duration": 11,
    "start_time": "2024-05-10T16:41:22.170Z"
   },
   {
    "duration": 24,
    "start_time": "2024-05-10T16:41:22.182Z"
   },
   {
    "duration": 8,
    "start_time": "2024-05-10T16:41:22.208Z"
   },
   {
    "duration": 6,
    "start_time": "2024-05-10T16:41:22.217Z"
   },
   {
    "duration": 5,
    "start_time": "2024-05-10T16:41:22.225Z"
   },
   {
    "duration": 8,
    "start_time": "2024-05-10T16:41:22.231Z"
   },
   {
    "duration": 32,
    "start_time": "2024-05-10T16:41:22.240Z"
   },
   {
    "duration": 8,
    "start_time": "2024-05-10T16:41:22.273Z"
   },
   {
    "duration": 13,
    "start_time": "2024-05-10T16:41:22.282Z"
   },
   {
    "duration": 14,
    "start_time": "2024-05-10T16:41:22.296Z"
   },
   {
    "duration": 30,
    "start_time": "2024-05-10T16:41:22.312Z"
   },
   {
    "duration": 7,
    "start_time": "2024-05-10T16:41:22.344Z"
   },
   {
    "duration": 22,
    "start_time": "2024-05-10T16:41:22.354Z"
   },
   {
    "duration": 24,
    "start_time": "2024-05-10T16:41:22.378Z"
   },
   {
    "duration": 27,
    "start_time": "2024-05-10T16:41:22.404Z"
   },
   {
    "duration": 6,
    "start_time": "2024-05-10T16:41:22.435Z"
   },
   {
    "duration": 8,
    "start_time": "2024-05-10T16:41:22.443Z"
   },
   {
    "duration": 5,
    "start_time": "2024-05-10T16:41:22.453Z"
   },
   {
    "duration": 2873,
    "start_time": "2024-05-10T16:41:22.459Z"
   },
   {
    "duration": 5920,
    "start_time": "2024-05-10T16:41:25.334Z"
   },
   {
    "duration": 5,
    "start_time": "2024-05-10T16:41:31.255Z"
   },
   {
    "duration": 32,
    "start_time": "2024-05-10T16:41:31.269Z"
   },
   {
    "duration": 754,
    "start_time": "2024-05-10T16:41:31.303Z"
   },
   {
    "duration": 396,
    "start_time": "2024-05-10T16:41:32.059Z"
   },
   {
    "duration": 284,
    "start_time": "2024-05-10T16:41:32.456Z"
   },
   {
    "duration": 13,
    "start_time": "2024-05-10T16:41:32.741Z"
   },
   {
    "duration": 18,
    "start_time": "2024-05-10T16:41:32.755Z"
   },
   {
    "duration": 10,
    "start_time": "2024-05-10T16:41:32.775Z"
   },
   {
    "duration": 5,
    "start_time": "2024-05-10T16:41:32.787Z"
   },
   {
    "duration": 17,
    "start_time": "2024-05-10T16:41:32.794Z"
   },
   {
    "duration": 7,
    "start_time": "2024-05-10T16:41:32.812Z"
   },
   {
    "duration": 15,
    "start_time": "2024-05-10T16:41:32.821Z"
   },
   {
    "duration": 15,
    "start_time": "2024-05-10T16:41:32.870Z"
   },
   {
    "duration": 408,
    "start_time": "2024-05-10T16:41:32.886Z"
   },
   {
    "duration": 12,
    "start_time": "2024-05-10T16:41:33.295Z"
   },
   {
    "duration": 13,
    "start_time": "2024-05-10T16:41:33.309Z"
   },
   {
    "duration": 10,
    "start_time": "2024-05-10T16:41:33.323Z"
   },
   {
    "duration": 10,
    "start_time": "2024-05-10T16:41:33.334Z"
   },
   {
    "duration": 24,
    "start_time": "2024-05-10T16:41:33.346Z"
   },
   {
    "duration": 3576,
    "start_time": "2024-05-10T16:41:33.372Z"
   },
   {
    "duration": 3926,
    "start_time": "2024-05-10T16:41:36.950Z"
   },
   {
    "duration": 3040,
    "start_time": "2024-05-10T16:41:40.878Z"
   },
   {
    "duration": 21,
    "start_time": "2024-05-10T16:41:43.919Z"
   },
   {
    "duration": 30,
    "start_time": "2024-05-10T16:41:43.942Z"
   },
   {
    "duration": 19,
    "start_time": "2024-05-10T16:41:43.974Z"
   },
   {
    "duration": 18,
    "start_time": "2024-05-10T16:41:43.995Z"
   },
   {
    "duration": 19,
    "start_time": "2024-05-10T16:41:44.015Z"
   },
   {
    "duration": 44,
    "start_time": "2024-05-10T16:41:44.036Z"
   },
   {
    "duration": 14,
    "start_time": "2024-05-10T16:42:00.643Z"
   },
   {
    "duration": 13,
    "start_time": "2024-05-10T16:42:13.337Z"
   },
   {
    "duration": 23,
    "start_time": "2024-05-10T16:42:14.370Z"
   },
   {
    "duration": 15,
    "start_time": "2024-05-10T16:42:16.174Z"
   },
   {
    "duration": 7533,
    "start_time": "2024-05-10T16:44:53.983Z"
   },
   {
    "duration": 7788,
    "start_time": "2024-05-10T16:46:45.405Z"
   },
   {
    "duration": 2172,
    "start_time": "2024-05-10T18:40:03.314Z"
   },
   {
    "duration": 2883,
    "start_time": "2024-05-10T18:40:15.380Z"
   },
   {
    "duration": 2808,
    "start_time": "2024-05-10T18:40:20.331Z"
   },
   {
    "duration": 2810,
    "start_time": "2024-05-10T18:41:05.647Z"
   },
   {
    "duration": 2753,
    "start_time": "2024-05-10T18:41:08.460Z"
   },
   {
    "duration": 6,
    "start_time": "2024-05-10T18:41:11.215Z"
   },
   {
    "duration": 30,
    "start_time": "2024-05-10T18:41:11.223Z"
   },
   {
    "duration": 20,
    "start_time": "2024-05-10T18:41:11.255Z"
   },
   {
    "duration": 25,
    "start_time": "2024-05-10T18:41:11.277Z"
   },
   {
    "duration": 107,
    "start_time": "2024-05-10T18:41:11.304Z"
   },
   {
    "duration": 17,
    "start_time": "2024-05-10T18:41:11.413Z"
   },
   {
    "duration": 49,
    "start_time": "2024-05-10T18:41:11.431Z"
   },
   {
    "duration": 8,
    "start_time": "2024-05-10T18:41:11.494Z"
   },
   {
    "duration": 13,
    "start_time": "2024-05-10T18:41:11.504Z"
   },
   {
    "duration": 8,
    "start_time": "2024-05-10T18:41:11.519Z"
   },
   {
    "duration": 12,
    "start_time": "2024-05-10T18:41:11.528Z"
   },
   {
    "duration": 11,
    "start_time": "2024-05-10T18:41:11.541Z"
   },
   {
    "duration": 42,
    "start_time": "2024-05-10T18:41:11.553Z"
   },
   {
    "duration": 4,
    "start_time": "2024-05-10T18:41:11.598Z"
   },
   {
    "duration": 10,
    "start_time": "2024-05-10T18:41:11.604Z"
   },
   {
    "duration": 11,
    "start_time": "2024-05-10T18:41:11.616Z"
   },
   {
    "duration": 13,
    "start_time": "2024-05-10T18:41:11.629Z"
   },
   {
    "duration": 10,
    "start_time": "2024-05-10T18:41:11.644Z"
   },
   {
    "duration": 21,
    "start_time": "2024-05-10T18:41:11.655Z"
   },
   {
    "duration": 14,
    "start_time": "2024-05-10T18:41:11.679Z"
   },
   {
    "duration": 20,
    "start_time": "2024-05-10T18:41:11.695Z"
   },
   {
    "duration": 5,
    "start_time": "2024-05-10T18:41:11.717Z"
   },
   {
    "duration": 5,
    "start_time": "2024-05-10T18:41:11.723Z"
   },
   {
    "duration": 18,
    "start_time": "2024-05-10T18:41:11.729Z"
   },
   {
    "duration": 9,
    "start_time": "2024-05-10T18:41:11.749Z"
   },
   {
    "duration": 7,
    "start_time": "2024-05-10T18:41:11.761Z"
   },
   {
    "duration": 30,
    "start_time": "2024-05-10T18:41:11.770Z"
   },
   {
    "duration": 13,
    "start_time": "2024-05-10T18:41:11.802Z"
   },
   {
    "duration": 13,
    "start_time": "2024-05-10T18:41:11.817Z"
   },
   {
    "duration": 14,
    "start_time": "2024-05-10T18:41:11.831Z"
   },
   {
    "duration": 9,
    "start_time": "2024-05-10T18:41:11.847Z"
   },
   {
    "duration": 36,
    "start_time": "2024-05-10T18:41:11.858Z"
   },
   {
    "duration": 5,
    "start_time": "2024-05-10T18:41:11.897Z"
   },
   {
    "duration": 31,
    "start_time": "2024-05-10T18:41:11.904Z"
   },
   {
    "duration": 16,
    "start_time": "2024-05-10T18:41:11.937Z"
   },
   {
    "duration": 3276,
    "start_time": "2024-05-10T18:41:11.955Z"
   },
   {
    "duration": 6632,
    "start_time": "2024-05-10T18:41:15.233Z"
   },
   {
    "duration": 11,
    "start_time": "2024-05-10T18:41:21.870Z"
   },
   {
    "duration": 36,
    "start_time": "2024-05-10T18:41:21.882Z"
   },
   {
    "duration": 1177,
    "start_time": "2024-05-10T18:41:21.920Z"
   },
   {
    "duration": 414,
    "start_time": "2024-05-10T18:41:23.099Z"
   },
   {
    "duration": 307,
    "start_time": "2024-05-10T18:41:23.514Z"
   },
   {
    "duration": 13,
    "start_time": "2024-05-10T18:41:23.823Z"
   },
   {
    "duration": 9,
    "start_time": "2024-05-10T18:41:23.837Z"
   },
   {
    "duration": 33,
    "start_time": "2024-05-10T18:41:23.847Z"
   },
   {
    "duration": 13,
    "start_time": "2024-05-10T18:41:23.883Z"
   },
   {
    "duration": 12,
    "start_time": "2024-05-10T18:41:23.898Z"
   },
   {
    "duration": 33,
    "start_time": "2024-05-10T18:41:23.912Z"
   },
   {
    "duration": 19,
    "start_time": "2024-05-10T18:41:23.946Z"
   },
   {
    "duration": 36,
    "start_time": "2024-05-10T18:41:23.966Z"
   },
   {
    "duration": 18,
    "start_time": "2024-05-10T18:41:24.004Z"
   },
   {
    "duration": 21,
    "start_time": "2024-05-10T18:41:24.023Z"
   },
   {
    "duration": 40,
    "start_time": "2024-05-10T18:41:24.046Z"
   },
   {
    "duration": 26,
    "start_time": "2024-05-10T18:41:24.087Z"
   },
   {
    "duration": 3,
    "start_time": "2024-05-10T18:41:24.114Z"
   },
   {
    "duration": 15,
    "start_time": "2024-05-10T18:41:24.119Z"
   },
   {
    "duration": 3950,
    "start_time": "2024-05-10T18:41:24.136Z"
   },
   {
    "duration": 1016,
    "start_time": "2024-05-10T18:41:28.089Z"
   },
   {
    "duration": 0,
    "start_time": "2024-05-10T18:41:29.107Z"
   },
   {
    "duration": 0,
    "start_time": "2024-05-10T18:41:29.108Z"
   },
   {
    "duration": 0,
    "start_time": "2024-05-10T18:41:29.109Z"
   },
   {
    "duration": 0,
    "start_time": "2024-05-10T18:41:29.110Z"
   },
   {
    "duration": 0,
    "start_time": "2024-05-10T18:41:29.112Z"
   },
   {
    "duration": 0,
    "start_time": "2024-05-10T18:41:29.113Z"
   },
   {
    "duration": 0,
    "start_time": "2024-05-10T18:41:29.114Z"
   },
   {
    "duration": 0,
    "start_time": "2024-05-10T18:41:29.115Z"
   },
   {
    "duration": 0,
    "start_time": "2024-05-10T18:41:29.116Z"
   },
   {
    "duration": 0,
    "start_time": "2024-05-10T18:41:29.117Z"
   },
   {
    "duration": 3586,
    "start_time": "2024-05-10T18:42:11.013Z"
   },
   {
    "duration": 3421,
    "start_time": "2024-05-10T18:42:20.618Z"
   },
   {
    "duration": 2950,
    "start_time": "2024-05-10T18:42:38.115Z"
   },
   {
    "duration": 2889,
    "start_time": "2024-05-10T18:42:41.068Z"
   },
   {
    "duration": 6,
    "start_time": "2024-05-10T18:42:43.959Z"
   },
   {
    "duration": 21,
    "start_time": "2024-05-10T18:42:43.966Z"
   },
   {
    "duration": 10,
    "start_time": "2024-05-10T18:42:43.992Z"
   },
   {
    "duration": 24,
    "start_time": "2024-05-10T18:42:44.005Z"
   },
   {
    "duration": 114,
    "start_time": "2024-05-10T18:42:44.031Z"
   },
   {
    "duration": 14,
    "start_time": "2024-05-10T18:42:44.147Z"
   },
   {
    "duration": 41,
    "start_time": "2024-05-10T18:42:44.163Z"
   },
   {
    "duration": 15,
    "start_time": "2024-05-10T18:42:44.206Z"
   },
   {
    "duration": 26,
    "start_time": "2024-05-10T18:42:44.223Z"
   },
   {
    "duration": 18,
    "start_time": "2024-05-10T18:42:44.250Z"
   },
   {
    "duration": 14,
    "start_time": "2024-05-10T18:42:44.285Z"
   },
   {
    "duration": 11,
    "start_time": "2024-05-10T18:42:44.303Z"
   },
   {
    "duration": 29,
    "start_time": "2024-05-10T18:42:44.316Z"
   },
   {
    "duration": 15,
    "start_time": "2024-05-10T18:42:44.346Z"
   },
   {
    "duration": 34,
    "start_time": "2024-05-10T18:42:44.362Z"
   },
   {
    "duration": 20,
    "start_time": "2024-05-10T18:42:44.398Z"
   },
   {
    "duration": 13,
    "start_time": "2024-05-10T18:42:44.420Z"
   },
   {
    "duration": 16,
    "start_time": "2024-05-10T18:42:44.434Z"
   },
   {
    "duration": 28,
    "start_time": "2024-05-10T18:42:44.451Z"
   },
   {
    "duration": 19,
    "start_time": "2024-05-10T18:42:44.481Z"
   },
   {
    "duration": 15,
    "start_time": "2024-05-10T18:42:44.502Z"
   },
   {
    "duration": 5,
    "start_time": "2024-05-10T18:42:44.518Z"
   },
   {
    "duration": 18,
    "start_time": "2024-05-10T18:42:44.525Z"
   },
   {
    "duration": 24,
    "start_time": "2024-05-10T18:42:44.544Z"
   },
   {
    "duration": 9,
    "start_time": "2024-05-10T18:42:44.584Z"
   },
   {
    "duration": 12,
    "start_time": "2024-05-10T18:42:44.596Z"
   },
   {
    "duration": 14,
    "start_time": "2024-05-10T18:42:44.610Z"
   },
   {
    "duration": 24,
    "start_time": "2024-05-10T18:42:44.626Z"
   },
   {
    "duration": 24,
    "start_time": "2024-05-10T18:42:44.651Z"
   },
   {
    "duration": 6,
    "start_time": "2024-05-10T18:42:44.677Z"
   },
   {
    "duration": 7,
    "start_time": "2024-05-10T18:42:44.689Z"
   },
   {
    "duration": 7,
    "start_time": "2024-05-10T18:42:44.698Z"
   },
   {
    "duration": 8,
    "start_time": "2024-05-10T18:42:44.707Z"
   },
   {
    "duration": 27,
    "start_time": "2024-05-10T18:42:44.717Z"
   },
   {
    "duration": 37,
    "start_time": "2024-05-10T18:42:44.745Z"
   },
   {
    "duration": 3422,
    "start_time": "2024-05-10T18:42:44.784Z"
   },
   {
    "duration": 6821,
    "start_time": "2024-05-10T18:42:48.208Z"
   },
   {
    "duration": 6,
    "start_time": "2024-05-10T18:42:55.030Z"
   },
   {
    "duration": 12,
    "start_time": "2024-05-10T18:42:55.040Z"
   },
   {
    "duration": 1148,
    "start_time": "2024-05-10T18:42:55.053Z"
   },
   {
    "duration": 398,
    "start_time": "2024-05-10T18:42:56.203Z"
   },
   {
    "duration": 307,
    "start_time": "2024-05-10T18:42:56.603Z"
   },
   {
    "duration": 15,
    "start_time": "2024-05-10T18:42:56.911Z"
   },
   {
    "duration": 16,
    "start_time": "2024-05-10T18:42:56.928Z"
   },
   {
    "duration": 29,
    "start_time": "2024-05-10T18:42:56.947Z"
   },
   {
    "duration": 14,
    "start_time": "2024-05-10T18:42:56.984Z"
   },
   {
    "duration": 25,
    "start_time": "2024-05-10T18:42:57.000Z"
   },
   {
    "duration": 25,
    "start_time": "2024-05-10T18:42:57.026Z"
   },
   {
    "duration": 31,
    "start_time": "2024-05-10T18:42:57.052Z"
   },
   {
    "duration": 20,
    "start_time": "2024-05-10T18:42:57.093Z"
   },
   {
    "duration": 18,
    "start_time": "2024-05-10T18:42:57.115Z"
   },
   {
    "duration": 24,
    "start_time": "2024-05-10T18:42:57.134Z"
   },
   {
    "duration": 31,
    "start_time": "2024-05-10T18:42:57.160Z"
   },
   {
    "duration": 12,
    "start_time": "2024-05-10T18:42:57.197Z"
   },
   {
    "duration": 5,
    "start_time": "2024-05-10T18:42:57.211Z"
   },
   {
    "duration": 10,
    "start_time": "2024-05-10T18:42:57.218Z"
   },
   {
    "duration": 3941,
    "start_time": "2024-05-10T18:42:57.230Z"
   },
   {
    "duration": 3634,
    "start_time": "2024-05-10T18:43:01.173Z"
   },
   {
    "duration": 3557,
    "start_time": "2024-05-10T18:43:04.808Z"
   },
   {
    "duration": 40,
    "start_time": "2024-05-10T18:43:08.366Z"
   },
   {
    "duration": 35,
    "start_time": "2024-05-10T18:43:08.408Z"
   },
   {
    "duration": 40,
    "start_time": "2024-05-10T18:43:08.445Z"
   },
   {
    "duration": 20,
    "start_time": "2024-05-10T18:43:08.489Z"
   },
   {
    "duration": 46,
    "start_time": "2024-05-10T18:43:08.511Z"
   },
   {
    "duration": 32,
    "start_time": "2024-05-10T18:43:08.559Z"
   },
   {
    "duration": 16,
    "start_time": "2024-05-10T18:43:08.597Z"
   },
   {
    "duration": 21,
    "start_time": "2024-05-10T18:43:08.615Z"
   },
   {
    "duration": 16,
    "start_time": "2024-05-10T18:43:08.638Z"
   },
   {
    "duration": 2835,
    "start_time": "2024-05-10T18:46:53.565Z"
   },
   {
    "duration": 2792,
    "start_time": "2024-05-10T18:46:56.402Z"
   },
   {
    "duration": 3985,
    "start_time": "2024-05-10T18:46:59.197Z"
   },
   {
    "duration": 11,
    "start_time": "2024-05-10T18:47:03.190Z"
   },
   {
    "duration": 25,
    "start_time": "2024-05-10T18:47:03.202Z"
   },
   {
    "duration": 9,
    "start_time": "2024-05-10T18:47:03.229Z"
   },
   {
    "duration": 111,
    "start_time": "2024-05-10T18:47:03.240Z"
   },
   {
    "duration": 32,
    "start_time": "2024-05-10T18:47:03.353Z"
   },
   {
    "duration": 15,
    "start_time": "2024-05-10T18:47:03.395Z"
   },
   {
    "duration": 8,
    "start_time": "2024-05-10T18:47:03.412Z"
   },
   {
    "duration": 18,
    "start_time": "2024-05-10T18:47:03.421Z"
   },
   {
    "duration": 9,
    "start_time": "2024-05-10T18:47:03.441Z"
   },
   {
    "duration": 17,
    "start_time": "2024-05-10T18:47:03.451Z"
   },
   {
    "duration": 29,
    "start_time": "2024-05-10T18:47:03.473Z"
   },
   {
    "duration": 11,
    "start_time": "2024-05-10T18:47:03.504Z"
   },
   {
    "duration": 7,
    "start_time": "2024-05-10T18:47:03.517Z"
   },
   {
    "duration": 24,
    "start_time": "2024-05-10T18:47:03.526Z"
   },
   {
    "duration": 11,
    "start_time": "2024-05-10T18:47:03.552Z"
   },
   {
    "duration": 29,
    "start_time": "2024-05-10T18:47:03.565Z"
   },
   {
    "duration": 11,
    "start_time": "2024-05-10T18:47:03.596Z"
   },
   {
    "duration": 22,
    "start_time": "2024-05-10T18:47:03.608Z"
   },
   {
    "duration": 25,
    "start_time": "2024-05-10T18:47:03.631Z"
   },
   {
    "duration": 7,
    "start_time": "2024-05-10T18:47:03.658Z"
   },
   {
    "duration": 27,
    "start_time": "2024-05-10T18:47:03.666Z"
   },
   {
    "duration": 19,
    "start_time": "2024-05-10T18:47:03.696Z"
   },
   {
    "duration": 11,
    "start_time": "2024-05-10T18:47:03.717Z"
   },
   {
    "duration": 15,
    "start_time": "2024-05-10T18:47:03.730Z"
   },
   {
    "duration": 18,
    "start_time": "2024-05-10T18:47:03.749Z"
   },
   {
    "duration": 11,
    "start_time": "2024-05-10T18:47:03.769Z"
   },
   {
    "duration": 18,
    "start_time": "2024-05-10T18:47:03.782Z"
   },
   {
    "duration": 22,
    "start_time": "2024-05-10T18:47:03.801Z"
   },
   {
    "duration": 20,
    "start_time": "2024-05-10T18:47:03.825Z"
   },
   {
    "duration": 7,
    "start_time": "2024-05-10T18:47:03.846Z"
   },
   {
    "duration": 13,
    "start_time": "2024-05-10T18:47:03.855Z"
   },
   {
    "duration": 27,
    "start_time": "2024-05-10T18:47:03.870Z"
   },
   {
    "duration": 16,
    "start_time": "2024-05-10T18:47:03.899Z"
   },
   {
    "duration": 8,
    "start_time": "2024-05-10T18:47:03.917Z"
   },
   {
    "duration": 4472,
    "start_time": "2024-05-10T18:47:03.926Z"
   },
   {
    "duration": 6434,
    "start_time": "2024-05-10T18:47:08.400Z"
   },
   {
    "duration": 4,
    "start_time": "2024-05-10T18:47:14.836Z"
   },
   {
    "duration": 6,
    "start_time": "2024-05-10T18:47:14.841Z"
   },
   {
    "duration": 1153,
    "start_time": "2024-05-10T18:47:14.848Z"
   },
   {
    "duration": 400,
    "start_time": "2024-05-10T18:47:16.002Z"
   },
   {
    "duration": 307,
    "start_time": "2024-05-10T18:47:16.403Z"
   },
   {
    "duration": 13,
    "start_time": "2024-05-10T18:47:16.712Z"
   },
   {
    "duration": 8,
    "start_time": "2024-05-10T18:47:16.727Z"
   },
   {
    "duration": 17,
    "start_time": "2024-05-10T18:47:16.737Z"
   },
   {
    "duration": 32,
    "start_time": "2024-05-10T18:47:16.756Z"
   },
   {
    "duration": 15,
    "start_time": "2024-05-10T18:47:16.790Z"
   },
   {
    "duration": 8,
    "start_time": "2024-05-10T18:47:16.807Z"
   },
   {
    "duration": 22,
    "start_time": "2024-05-10T18:47:16.816Z"
   },
   {
    "duration": 16,
    "start_time": "2024-05-10T18:47:16.840Z"
   },
   {
    "duration": 32,
    "start_time": "2024-05-10T18:47:16.857Z"
   },
   {
    "duration": 15,
    "start_time": "2024-05-10T18:47:16.891Z"
   },
   {
    "duration": 14,
    "start_time": "2024-05-10T18:47:16.908Z"
   },
   {
    "duration": 10,
    "start_time": "2024-05-10T18:47:16.923Z"
   },
   {
    "duration": 38,
    "start_time": "2024-05-10T18:47:16.935Z"
   },
   {
    "duration": 20,
    "start_time": "2024-05-10T18:47:16.975Z"
   },
   {
    "duration": 4026,
    "start_time": "2024-05-10T18:47:16.997Z"
   },
   {
    "duration": 3594,
    "start_time": "2024-05-10T18:47:21.026Z"
   },
   {
    "duration": 3579,
    "start_time": "2024-05-10T18:47:24.622Z"
   },
   {
    "duration": 22,
    "start_time": "2024-05-10T18:47:28.203Z"
   },
   {
    "duration": 21,
    "start_time": "2024-05-10T18:47:28.226Z"
   },
   {
    "duration": 49,
    "start_time": "2024-05-10T18:47:28.249Z"
   },
   {
    "duration": 17,
    "start_time": "2024-05-10T18:47:28.300Z"
   },
   {
    "duration": 29,
    "start_time": "2024-05-10T18:47:28.318Z"
   },
   {
    "duration": 26,
    "start_time": "2024-05-10T18:47:28.349Z"
   },
   {
    "duration": 23,
    "start_time": "2024-05-10T18:47:28.379Z"
   },
   {
    "duration": 33,
    "start_time": "2024-05-10T18:47:28.404Z"
   },
   {
    "duration": 20,
    "start_time": "2024-05-10T18:48:07.494Z"
   },
   {
    "duration": 33,
    "start_time": "2024-05-10T18:48:07.959Z"
   },
   {
    "duration": 24,
    "start_time": "2024-05-10T18:48:08.481Z"
   },
   {
    "duration": 21,
    "start_time": "2024-05-10T18:48:10.657Z"
   },
   {
    "duration": 19,
    "start_time": "2024-05-10T18:48:11.005Z"
   },
   {
    "duration": 16,
    "start_time": "2024-05-10T18:48:11.316Z"
   },
   {
    "duration": 19,
    "start_time": "2024-05-10T18:48:13.489Z"
   },
   {
    "duration": 32,
    "start_time": "2024-05-10T18:48:16.374Z"
   },
   {
    "duration": 25,
    "start_time": "2024-05-10T18:48:18.265Z"
   },
   {
    "duration": 890,
    "start_time": "2024-05-10T18:51:29.021Z"
   },
   {
    "duration": 865,
    "start_time": "2024-05-10T18:53:11.478Z"
   },
   {
    "duration": 2713,
    "start_time": "2024-05-10T18:54:07.630Z"
   },
   {
    "duration": 2493,
    "start_time": "2024-05-10T18:56:04.010Z"
   },
   {
    "duration": 2534,
    "start_time": "2024-05-10T18:57:33.694Z"
   },
   {
    "duration": 2545,
    "start_time": "2024-05-10T19:01:56.467Z"
   },
   {
    "duration": 2598,
    "start_time": "2024-05-10T19:03:28.432Z"
   },
   {
    "duration": 2570,
    "start_time": "2024-05-10T19:03:54.915Z"
   },
   {
    "duration": 2536,
    "start_time": "2024-05-10T19:13:16.261Z"
   },
   {
    "duration": 2560,
    "start_time": "2024-05-10T19:13:18.799Z"
   },
   {
    "duration": 1953,
    "start_time": "2024-05-10T19:13:21.361Z"
   },
   {
    "duration": 4,
    "start_time": "2024-05-10T19:13:23.316Z"
   },
   {
    "duration": 8,
    "start_time": "2024-05-10T19:13:23.322Z"
   },
   {
    "duration": 20,
    "start_time": "2024-05-10T19:13:23.332Z"
   },
   {
    "duration": 109,
    "start_time": "2024-05-10T19:13:23.354Z"
   },
   {
    "duration": 15,
    "start_time": "2024-05-10T19:13:23.465Z"
   },
   {
    "duration": 19,
    "start_time": "2024-05-10T19:13:23.482Z"
   },
   {
    "duration": 20,
    "start_time": "2024-05-10T19:13:23.502Z"
   },
   {
    "duration": 19,
    "start_time": "2024-05-10T19:13:23.523Z"
   },
   {
    "duration": 13,
    "start_time": "2024-05-10T19:13:23.544Z"
   },
   {
    "duration": 46,
    "start_time": "2024-05-10T19:13:23.558Z"
   },
   {
    "duration": 23,
    "start_time": "2024-05-10T19:13:23.608Z"
   },
   {
    "duration": 22,
    "start_time": "2024-05-10T19:13:23.633Z"
   },
   {
    "duration": 16,
    "start_time": "2024-05-10T19:13:23.657Z"
   },
   {
    "duration": 18,
    "start_time": "2024-05-10T19:13:23.675Z"
   },
   {
    "duration": 22,
    "start_time": "2024-05-10T19:13:23.694Z"
   },
   {
    "duration": 9,
    "start_time": "2024-05-10T19:13:23.717Z"
   },
   {
    "duration": 9,
    "start_time": "2024-05-10T19:13:23.728Z"
   },
   {
    "duration": 17,
    "start_time": "2024-05-10T19:13:23.738Z"
   },
   {
    "duration": 23,
    "start_time": "2024-05-10T19:13:23.756Z"
   },
   {
    "duration": 5,
    "start_time": "2024-05-10T19:13:23.781Z"
   },
   {
    "duration": 17,
    "start_time": "2024-05-10T19:13:23.788Z"
   },
   {
    "duration": 7,
    "start_time": "2024-05-10T19:13:23.806Z"
   },
   {
    "duration": 5,
    "start_time": "2024-05-10T19:13:23.814Z"
   },
   {
    "duration": 15,
    "start_time": "2024-05-10T19:13:23.820Z"
   },
   {
    "duration": 10,
    "start_time": "2024-05-10T19:13:23.837Z"
   },
   {
    "duration": 11,
    "start_time": "2024-05-10T19:13:23.849Z"
   },
   {
    "duration": 16,
    "start_time": "2024-05-10T19:13:23.861Z"
   },
   {
    "duration": 6,
    "start_time": "2024-05-10T19:13:23.878Z"
   },
   {
    "duration": 13,
    "start_time": "2024-05-10T19:13:23.885Z"
   },
   {
    "duration": 23,
    "start_time": "2024-05-10T19:13:23.899Z"
   },
   {
    "duration": 47,
    "start_time": "2024-05-10T19:13:23.923Z"
   },
   {
    "duration": 15,
    "start_time": "2024-05-10T19:13:23.972Z"
   },
   {
    "duration": 9,
    "start_time": "2024-05-10T19:13:23.989Z"
   },
   {
    "duration": 6,
    "start_time": "2024-05-10T19:13:23.999Z"
   },
   {
    "duration": 2766,
    "start_time": "2024-05-10T19:13:24.006Z"
   },
   {
    "duration": 5786,
    "start_time": "2024-05-10T19:13:26.773Z"
   },
   {
    "duration": 11,
    "start_time": "2024-05-10T19:13:32.560Z"
   },
   {
    "duration": 14,
    "start_time": "2024-05-10T19:13:32.575Z"
   },
   {
    "duration": 977,
    "start_time": "2024-05-10T19:13:32.590Z"
   },
   {
    "duration": 353,
    "start_time": "2024-05-10T19:13:33.569Z"
   },
   {
    "duration": 273,
    "start_time": "2024-05-10T19:13:33.924Z"
   },
   {
    "duration": 13,
    "start_time": "2024-05-10T19:13:34.199Z"
   },
   {
    "duration": 24,
    "start_time": "2024-05-10T19:13:34.214Z"
   },
   {
    "duration": 36,
    "start_time": "2024-05-10T19:13:34.239Z"
   },
   {
    "duration": 24,
    "start_time": "2024-05-10T19:13:34.276Z"
   },
   {
    "duration": 9,
    "start_time": "2024-05-10T19:13:34.305Z"
   },
   {
    "duration": 9,
    "start_time": "2024-05-10T19:13:34.316Z"
   },
   {
    "duration": 24,
    "start_time": "2024-05-10T19:13:34.327Z"
   },
   {
    "duration": 20,
    "start_time": "2024-05-10T19:13:34.353Z"
   },
   {
    "duration": 18,
    "start_time": "2024-05-10T19:13:34.375Z"
   },
   {
    "duration": 26,
    "start_time": "2024-05-10T19:13:34.394Z"
   },
   {
    "duration": 14,
    "start_time": "2024-05-10T19:13:34.421Z"
   },
   {
    "duration": 10,
    "start_time": "2024-05-10T19:13:34.436Z"
   },
   {
    "duration": 22,
    "start_time": "2024-05-10T19:13:34.448Z"
   },
   {
    "duration": 8,
    "start_time": "2024-05-10T19:13:34.472Z"
   },
   {
    "duration": 3400,
    "start_time": "2024-05-10T19:13:34.481Z"
   },
   {
    "duration": 3279,
    "start_time": "2024-05-10T19:13:37.883Z"
   },
   {
    "duration": 3077,
    "start_time": "2024-05-10T19:13:41.164Z"
   },
   {
    "duration": 31,
    "start_time": "2024-05-10T19:13:44.243Z"
   },
   {
    "duration": 19,
    "start_time": "2024-05-10T19:13:44.276Z"
   },
   {
    "duration": 36,
    "start_time": "2024-05-10T19:13:44.297Z"
   },
   {
    "duration": 23,
    "start_time": "2024-05-10T19:13:44.334Z"
   },
   {
    "duration": 21,
    "start_time": "2024-05-10T19:13:44.359Z"
   },
   {
    "duration": 18,
    "start_time": "2024-05-10T19:13:44.382Z"
   },
   {
    "duration": 30,
    "start_time": "2024-05-10T19:13:44.402Z"
   },
   {
    "duration": 42,
    "start_time": "2024-05-10T19:13:44.433Z"
   },
   {
    "duration": 24,
    "start_time": "2024-05-10T19:13:44.477Z"
   },
   {
    "duration": 2633,
    "start_time": "2024-05-10T20:20:04.475Z"
   },
   {
    "duration": 2427,
    "start_time": "2024-05-10T20:20:07.111Z"
   },
   {
    "duration": 1867,
    "start_time": "2024-05-10T20:20:09.540Z"
   },
   {
    "duration": 5,
    "start_time": "2024-05-10T20:20:11.408Z"
   },
   {
    "duration": 29,
    "start_time": "2024-05-10T20:20:11.415Z"
   },
   {
    "duration": 19,
    "start_time": "2024-05-10T20:20:11.446Z"
   },
   {
    "duration": 112,
    "start_time": "2024-05-10T20:20:11.466Z"
   },
   {
    "duration": 16,
    "start_time": "2024-05-10T20:20:11.579Z"
   },
   {
    "duration": 17,
    "start_time": "2024-05-10T20:20:11.596Z"
   },
   {
    "duration": 11,
    "start_time": "2024-05-10T20:20:11.614Z"
   },
   {
    "duration": 28,
    "start_time": "2024-05-10T20:20:11.626Z"
   },
   {
    "duration": 15,
    "start_time": "2024-05-10T20:20:11.656Z"
   },
   {
    "duration": 31,
    "start_time": "2024-05-10T20:20:11.673Z"
   },
   {
    "duration": 13,
    "start_time": "2024-05-10T20:20:11.707Z"
   },
   {
    "duration": 19,
    "start_time": "2024-05-10T20:20:11.722Z"
   },
   {
    "duration": 4,
    "start_time": "2024-05-10T20:20:11.743Z"
   },
   {
    "duration": 16,
    "start_time": "2024-05-10T20:20:11.749Z"
   },
   {
    "duration": 13,
    "start_time": "2024-05-10T20:20:11.766Z"
   },
   {
    "duration": 23,
    "start_time": "2024-05-10T20:20:11.781Z"
   },
   {
    "duration": 10,
    "start_time": "2024-05-10T20:20:11.806Z"
   },
   {
    "duration": 20,
    "start_time": "2024-05-10T20:20:11.818Z"
   },
   {
    "duration": 13,
    "start_time": "2024-05-10T20:20:11.840Z"
   },
   {
    "duration": 24,
    "start_time": "2024-05-10T20:20:11.855Z"
   },
   {
    "duration": 6,
    "start_time": "2024-05-10T20:20:11.880Z"
   },
   {
    "duration": 5,
    "start_time": "2024-05-10T20:20:11.888Z"
   },
   {
    "duration": 8,
    "start_time": "2024-05-10T20:20:11.895Z"
   },
   {
    "duration": 20,
    "start_time": "2024-05-10T20:20:11.904Z"
   },
   {
    "duration": 6,
    "start_time": "2024-05-10T20:20:11.926Z"
   },
   {
    "duration": 8,
    "start_time": "2024-05-10T20:20:11.934Z"
   },
   {
    "duration": 9,
    "start_time": "2024-05-10T20:20:11.943Z"
   },
   {
    "duration": 16,
    "start_time": "2024-05-10T20:20:11.953Z"
   },
   {
    "duration": 5,
    "start_time": "2024-05-10T20:20:11.971Z"
   },
   {
    "duration": 11,
    "start_time": "2024-05-10T20:20:11.978Z"
   },
   {
    "duration": 16,
    "start_time": "2024-05-10T20:20:11.990Z"
   },
   {
    "duration": 18,
    "start_time": "2024-05-10T20:20:12.008Z"
   },
   {
    "duration": 6,
    "start_time": "2024-05-10T20:20:12.027Z"
   },
   {
    "duration": 4,
    "start_time": "2024-05-10T20:20:12.035Z"
   },
   {
    "duration": 2714,
    "start_time": "2024-05-10T20:20:12.040Z"
   },
   {
    "duration": 5753,
    "start_time": "2024-05-10T20:20:14.757Z"
   },
   {
    "duration": 5,
    "start_time": "2024-05-10T20:20:20.512Z"
   },
   {
    "duration": 5,
    "start_time": "2024-05-10T20:20:20.522Z"
   },
   {
    "duration": 1025,
    "start_time": "2024-05-10T20:20:20.529Z"
   },
   {
    "duration": 374,
    "start_time": "2024-05-10T20:20:21.555Z"
   },
   {
    "duration": 295,
    "start_time": "2024-05-10T20:20:21.931Z"
   },
   {
    "duration": 13,
    "start_time": "2024-05-10T20:20:22.228Z"
   },
   {
    "duration": 15,
    "start_time": "2024-05-10T20:20:22.242Z"
   },
   {
    "duration": 21,
    "start_time": "2024-05-10T20:20:22.258Z"
   },
   {
    "duration": 6,
    "start_time": "2024-05-10T20:20:22.280Z"
   },
   {
    "duration": 10,
    "start_time": "2024-05-10T20:20:22.287Z"
   },
   {
    "duration": 13,
    "start_time": "2024-05-10T20:20:22.298Z"
   },
   {
    "duration": 17,
    "start_time": "2024-05-10T20:20:22.313Z"
   },
   {
    "duration": 16,
    "start_time": "2024-05-10T20:20:22.331Z"
   },
   {
    "duration": 37,
    "start_time": "2024-05-10T20:20:22.348Z"
   },
   {
    "duration": 12,
    "start_time": "2024-05-10T20:20:22.387Z"
   },
   {
    "duration": 17,
    "start_time": "2024-05-10T20:20:22.401Z"
   },
   {
    "duration": 18,
    "start_time": "2024-05-10T20:20:22.420Z"
   },
   {
    "duration": 3,
    "start_time": "2024-05-10T20:20:22.440Z"
   },
   {
    "duration": 27,
    "start_time": "2024-05-10T20:20:22.444Z"
   },
   {
    "duration": 3814,
    "start_time": "2024-05-10T20:20:22.472Z"
   },
   {
    "duration": 3123,
    "start_time": "2024-05-10T20:20:26.288Z"
   },
   {
    "duration": 3040,
    "start_time": "2024-05-10T20:20:29.414Z"
   },
   {
    "duration": 25,
    "start_time": "2024-05-10T20:20:32.455Z"
   },
   {
    "duration": 18,
    "start_time": "2024-05-10T20:20:32.481Z"
   },
   {
    "duration": 22,
    "start_time": "2024-05-10T20:20:32.500Z"
   },
   {
    "duration": 14,
    "start_time": "2024-05-10T20:20:32.524Z"
   },
   {
    "duration": 37,
    "start_time": "2024-05-10T20:20:32.539Z"
   },
   {
    "duration": 32,
    "start_time": "2024-05-10T20:20:32.578Z"
   },
   {
    "duration": 13,
    "start_time": "2024-05-10T20:20:32.612Z"
   },
   {
    "duration": 21,
    "start_time": "2024-05-10T20:20:32.626Z"
   },
   {
    "duration": 11,
    "start_time": "2024-05-10T20:20:32.649Z"
   },
   {
    "duration": 74,
    "start_time": "2024-05-10T20:26:31.079Z"
   },
   {
    "duration": 77,
    "start_time": "2024-05-10T20:26:47.066Z"
   },
   {
    "duration": 2459,
    "start_time": "2024-05-10T20:28:07.780Z"
   },
   {
    "duration": 2436,
    "start_time": "2024-05-10T20:28:10.241Z"
   },
   {
    "duration": 1826,
    "start_time": "2024-05-10T20:28:12.679Z"
   },
   {
    "duration": 4,
    "start_time": "2024-05-10T20:28:14.507Z"
   },
   {
    "duration": 11,
    "start_time": "2024-05-10T20:28:14.512Z"
   },
   {
    "duration": 6,
    "start_time": "2024-05-10T20:28:14.524Z"
   },
   {
    "duration": 89,
    "start_time": "2024-05-10T20:28:14.532Z"
   },
   {
    "duration": 16,
    "start_time": "2024-05-10T20:28:14.623Z"
   },
   {
    "duration": 11,
    "start_time": "2024-05-10T20:28:14.641Z"
   },
   {
    "duration": 21,
    "start_time": "2024-05-10T20:28:14.655Z"
   },
   {
    "duration": 43,
    "start_time": "2024-05-10T20:28:14.678Z"
   },
   {
    "duration": 16,
    "start_time": "2024-05-10T20:28:14.723Z"
   },
   {
    "duration": 18,
    "start_time": "2024-05-10T20:28:14.741Z"
   },
   {
    "duration": 19,
    "start_time": "2024-05-10T20:28:14.761Z"
   },
   {
    "duration": 11,
    "start_time": "2024-05-10T20:28:14.781Z"
   },
   {
    "duration": 4,
    "start_time": "2024-05-10T20:28:14.794Z"
   },
   {
    "duration": 10,
    "start_time": "2024-05-10T20:28:14.800Z"
   },
   {
    "duration": 20,
    "start_time": "2024-05-10T20:28:14.812Z"
   },
   {
    "duration": 11,
    "start_time": "2024-05-10T20:28:14.834Z"
   },
   {
    "duration": 29,
    "start_time": "2024-05-10T20:28:14.846Z"
   },
   {
    "duration": 10,
    "start_time": "2024-05-10T20:28:14.877Z"
   },
   {
    "duration": 9,
    "start_time": "2024-05-10T20:28:14.889Z"
   },
   {
    "duration": 9,
    "start_time": "2024-05-10T20:28:14.899Z"
   },
   {
    "duration": 11,
    "start_time": "2024-05-10T20:28:14.909Z"
   },
   {
    "duration": 5,
    "start_time": "2024-05-10T20:28:14.921Z"
   },
   {
    "duration": 5,
    "start_time": "2024-05-10T20:28:14.927Z"
   },
   {
    "duration": 7,
    "start_time": "2024-05-10T20:28:14.934Z"
   },
   {
    "duration": 27,
    "start_time": "2024-05-10T20:28:14.945Z"
   },
   {
    "duration": 5,
    "start_time": "2024-05-10T20:28:14.974Z"
   },
   {
    "duration": 5,
    "start_time": "2024-05-10T20:28:14.980Z"
   },
   {
    "duration": 7,
    "start_time": "2024-05-10T20:28:14.986Z"
   },
   {
    "duration": 15,
    "start_time": "2024-05-10T20:28:14.994Z"
   },
   {
    "duration": 64,
    "start_time": "2024-05-10T20:28:15.011Z"
   },
   {
    "duration": 63,
    "start_time": "2024-05-10T20:28:15.077Z"
   },
   {
    "duration": 21,
    "start_time": "2024-05-10T20:28:15.142Z"
   },
   {
    "duration": 57,
    "start_time": "2024-05-10T20:28:15.165Z"
   },
   {
    "duration": 26,
    "start_time": "2024-05-10T20:28:15.224Z"
   },
   {
    "duration": 2765,
    "start_time": "2024-05-10T20:28:15.252Z"
   },
   {
    "duration": 5740,
    "start_time": "2024-05-10T20:28:18.019Z"
   },
   {
    "duration": 5,
    "start_time": "2024-05-10T20:28:23.769Z"
   },
   {
    "duration": 51,
    "start_time": "2024-05-10T20:28:23.776Z"
   },
   {
    "duration": 1086,
    "start_time": "2024-05-10T20:28:23.829Z"
   },
   {
    "duration": 554,
    "start_time": "2024-05-10T20:28:24.917Z"
   },
   {
    "duration": 265,
    "start_time": "2024-05-10T20:28:25.473Z"
   },
   {
    "duration": 13,
    "start_time": "2024-05-10T20:28:25.740Z"
   },
   {
    "duration": 19,
    "start_time": "2024-05-10T20:28:25.755Z"
   },
   {
    "duration": 11,
    "start_time": "2024-05-10T20:28:25.776Z"
   },
   {
    "duration": 8,
    "start_time": "2024-05-10T20:28:25.789Z"
   },
   {
    "duration": 10,
    "start_time": "2024-05-10T20:28:25.799Z"
   },
   {
    "duration": 8,
    "start_time": "2024-05-10T20:28:25.810Z"
   },
   {
    "duration": 51,
    "start_time": "2024-05-10T20:28:25.820Z"
   },
   {
    "duration": 17,
    "start_time": "2024-05-10T20:28:25.873Z"
   },
   {
    "duration": 19,
    "start_time": "2024-05-10T20:28:25.892Z"
   },
   {
    "duration": 23,
    "start_time": "2024-05-10T20:28:25.913Z"
   },
   {
    "duration": 36,
    "start_time": "2024-05-10T20:28:25.938Z"
   },
   {
    "duration": 11,
    "start_time": "2024-05-10T20:28:25.976Z"
   },
   {
    "duration": 36,
    "start_time": "2024-05-10T20:28:25.989Z"
   },
   {
    "duration": 9,
    "start_time": "2024-05-10T20:28:26.026Z"
   },
   {
    "duration": 3359,
    "start_time": "2024-05-10T20:28:26.038Z"
   },
   {
    "duration": 3170,
    "start_time": "2024-05-10T20:28:29.398Z"
   },
   {
    "duration": 3057,
    "start_time": "2024-05-10T20:28:32.570Z"
   },
   {
    "duration": 18,
    "start_time": "2024-05-10T20:28:35.629Z"
   },
   {
    "duration": 29,
    "start_time": "2024-05-10T20:28:35.649Z"
   },
   {
    "duration": 17,
    "start_time": "2024-05-10T20:28:35.679Z"
   },
   {
    "duration": 52,
    "start_time": "2024-05-10T20:28:35.698Z"
   },
   {
    "duration": 33,
    "start_time": "2024-05-10T20:28:35.751Z"
   },
   {
    "duration": 25,
    "start_time": "2024-05-10T20:28:35.785Z"
   },
   {
    "duration": 39,
    "start_time": "2024-05-10T20:28:35.812Z"
   },
   {
    "duration": 21,
    "start_time": "2024-05-10T20:28:35.853Z"
   },
   {
    "duration": 16,
    "start_time": "2024-05-10T20:28:35.876Z"
   },
   {
    "duration": 11,
    "start_time": "2024-05-10T20:28:49.487Z"
   },
   {
    "duration": 13,
    "start_time": "2024-05-10T20:29:54.354Z"
   },
   {
    "duration": 2473,
    "start_time": "2024-05-10T20:30:43.715Z"
   },
   {
    "duration": 2431,
    "start_time": "2024-05-10T20:30:46.190Z"
   },
   {
    "duration": 1758,
    "start_time": "2024-05-10T20:30:48.623Z"
   },
   {
    "duration": 4,
    "start_time": "2024-05-10T20:30:50.383Z"
   },
   {
    "duration": 25,
    "start_time": "2024-05-10T20:30:50.388Z"
   },
   {
    "duration": 5,
    "start_time": "2024-05-10T20:30:50.415Z"
   },
   {
    "duration": 91,
    "start_time": "2024-05-10T20:30:50.422Z"
   },
   {
    "duration": 19,
    "start_time": "2024-05-10T20:30:50.514Z"
   },
   {
    "duration": 13,
    "start_time": "2024-05-10T20:30:50.534Z"
   },
   {
    "duration": 14,
    "start_time": "2024-05-10T20:30:50.549Z"
   },
   {
    "duration": 33,
    "start_time": "2024-05-10T20:30:50.565Z"
   },
   {
    "duration": 9,
    "start_time": "2024-05-10T20:30:50.599Z"
   },
   {
    "duration": 46,
    "start_time": "2024-05-10T20:30:50.610Z"
   },
   {
    "duration": 15,
    "start_time": "2024-05-10T20:30:50.657Z"
   },
   {
    "duration": 20,
    "start_time": "2024-05-10T20:30:50.673Z"
   },
   {
    "duration": 16,
    "start_time": "2024-05-10T20:30:50.694Z"
   },
   {
    "duration": 16,
    "start_time": "2024-05-10T20:30:50.712Z"
   },
   {
    "duration": 15,
    "start_time": "2024-05-10T20:30:50.729Z"
   },
   {
    "duration": 10,
    "start_time": "2024-05-10T20:30:50.745Z"
   },
   {
    "duration": 9,
    "start_time": "2024-05-10T20:30:50.756Z"
   },
   {
    "duration": 17,
    "start_time": "2024-05-10T20:30:50.767Z"
   },
   {
    "duration": 9,
    "start_time": "2024-05-10T20:30:50.786Z"
   },
   {
    "duration": 21,
    "start_time": "2024-05-10T20:30:50.796Z"
   },
   {
    "duration": 5,
    "start_time": "2024-05-10T20:30:50.819Z"
   },
   {
    "duration": 14,
    "start_time": "2024-05-10T20:30:50.825Z"
   },
   {
    "duration": 4,
    "start_time": "2024-05-10T20:30:50.841Z"
   },
   {
    "duration": 14,
    "start_time": "2024-05-10T20:30:50.846Z"
   },
   {
    "duration": 4,
    "start_time": "2024-05-10T20:30:50.864Z"
   },
   {
    "duration": 7,
    "start_time": "2024-05-10T20:30:50.869Z"
   },
   {
    "duration": 6,
    "start_time": "2024-05-10T20:30:50.877Z"
   },
   {
    "duration": 3,
    "start_time": "2024-05-10T20:30:50.884Z"
   },
   {
    "duration": 21,
    "start_time": "2024-05-10T20:30:50.889Z"
   },
   {
    "duration": 6,
    "start_time": "2024-05-10T20:30:50.911Z"
   },
   {
    "duration": 5,
    "start_time": "2024-05-10T20:30:50.918Z"
   },
   {
    "duration": 8,
    "start_time": "2024-05-10T20:30:50.924Z"
   },
   {
    "duration": 4,
    "start_time": "2024-05-10T20:30:50.933Z"
   },
   {
    "duration": 18,
    "start_time": "2024-05-10T20:30:50.938Z"
   },
   {
    "duration": 2767,
    "start_time": "2024-05-10T20:30:50.958Z"
   },
   {
    "duration": 5674,
    "start_time": "2024-05-10T20:30:53.727Z"
   },
   {
    "duration": 5,
    "start_time": "2024-05-10T20:30:59.403Z"
   },
   {
    "duration": 14,
    "start_time": "2024-05-10T20:30:59.410Z"
   },
   {
    "duration": 1056,
    "start_time": "2024-05-10T20:30:59.426Z"
   },
   {
    "duration": 378,
    "start_time": "2024-05-10T20:31:00.484Z"
   },
   {
    "duration": 263,
    "start_time": "2024-05-10T20:31:00.870Z"
   },
   {
    "duration": 15,
    "start_time": "2024-05-10T20:31:01.135Z"
   },
   {
    "duration": 36,
    "start_time": "2024-05-10T20:31:01.152Z"
   },
   {
    "duration": 59,
    "start_time": "2024-05-10T20:31:01.190Z"
   },
   {
    "duration": 47,
    "start_time": "2024-05-10T20:31:01.251Z"
   },
   {
    "duration": 93,
    "start_time": "2024-05-10T20:31:01.300Z"
   },
   {
    "duration": 107,
    "start_time": "2024-05-10T20:31:01.395Z"
   },
   {
    "duration": 98,
    "start_time": "2024-05-10T20:31:01.504Z"
   },
   {
    "duration": 51,
    "start_time": "2024-05-10T20:31:01.604Z"
   },
   {
    "duration": 37,
    "start_time": "2024-05-10T20:31:01.658Z"
   },
   {
    "duration": 39,
    "start_time": "2024-05-10T20:31:01.697Z"
   },
   {
    "duration": 41,
    "start_time": "2024-05-10T20:31:01.738Z"
   },
   {
    "duration": 40,
    "start_time": "2024-05-10T20:31:01.781Z"
   },
   {
    "duration": 44,
    "start_time": "2024-05-10T20:31:01.824Z"
   },
   {
    "duration": 79,
    "start_time": "2024-05-10T20:31:01.870Z"
   },
   {
    "duration": 3594,
    "start_time": "2024-05-10T20:31:01.951Z"
   },
   {
    "duration": 3188,
    "start_time": "2024-05-10T20:31:05.547Z"
   },
   {
    "duration": 3079,
    "start_time": "2024-05-10T20:31:08.736Z"
   },
   {
    "duration": 22,
    "start_time": "2024-05-10T20:31:11.817Z"
   },
   {
    "duration": 34,
    "start_time": "2024-05-10T20:31:11.840Z"
   },
   {
    "duration": 19,
    "start_time": "2024-05-10T20:31:11.876Z"
   },
   {
    "duration": 17,
    "start_time": "2024-05-10T20:31:11.897Z"
   },
   {
    "duration": 17,
    "start_time": "2024-05-10T20:31:11.916Z"
   },
   {
    "duration": 40,
    "start_time": "2024-05-10T20:31:11.934Z"
   },
   {
    "duration": 13,
    "start_time": "2024-05-10T20:31:11.976Z"
   },
   {
    "duration": 38,
    "start_time": "2024-05-10T20:31:11.990Z"
   },
   {
    "duration": 26,
    "start_time": "2024-05-10T20:31:12.030Z"
   },
   {
    "duration": 1877,
    "start_time": "2024-05-10T20:32:01.992Z"
   },
   {
    "duration": 1931,
    "start_time": "2024-05-10T20:33:50.623Z"
   },
   {
    "duration": 1809,
    "start_time": "2024-05-10T20:34:25.325Z"
   },
   {
    "duration": 1863,
    "start_time": "2024-05-10T20:34:55.115Z"
   },
   {
    "duration": 2029,
    "start_time": "2024-05-10T20:37:01.406Z"
   },
   {
    "duration": 1950,
    "start_time": "2024-05-10T20:37:28.281Z"
   },
   {
    "duration": 1921,
    "start_time": "2024-05-10T20:38:15.304Z"
   },
   {
    "duration": 4129,
    "start_time": "2024-05-11T04:58:53.809Z"
   },
   {
    "duration": 3112,
    "start_time": "2024-05-11T04:58:57.940Z"
   },
   {
    "duration": 2077,
    "start_time": "2024-05-11T04:59:01.055Z"
   },
   {
    "duration": 4,
    "start_time": "2024-05-11T04:59:03.133Z"
   },
   {
    "duration": 20,
    "start_time": "2024-05-11T04:59:03.139Z"
   },
   {
    "duration": 8,
    "start_time": "2024-05-11T04:59:03.161Z"
   },
   {
    "duration": 352,
    "start_time": "2024-05-11T04:59:03.170Z"
   },
   {
    "duration": 15,
    "start_time": "2024-05-11T04:59:03.524Z"
   },
   {
    "duration": 11,
    "start_time": "2024-05-11T04:59:03.541Z"
   },
   {
    "duration": 39,
    "start_time": "2024-05-11T04:59:03.554Z"
   },
   {
    "duration": 18,
    "start_time": "2024-05-11T04:59:03.595Z"
   },
   {
    "duration": 13,
    "start_time": "2024-05-11T04:59:03.614Z"
   },
   {
    "duration": 46,
    "start_time": "2024-05-11T04:59:03.629Z"
   },
   {
    "duration": 13,
    "start_time": "2024-05-11T04:59:03.678Z"
   },
   {
    "duration": 10,
    "start_time": "2024-05-11T04:59:03.692Z"
   },
   {
    "duration": 6,
    "start_time": "2024-05-11T04:59:03.704Z"
   },
   {
    "duration": 9,
    "start_time": "2024-05-11T04:59:03.712Z"
   },
   {
    "duration": 10,
    "start_time": "2024-05-11T04:59:03.722Z"
   },
   {
    "duration": 9,
    "start_time": "2024-05-11T04:59:03.733Z"
   },
   {
    "duration": 29,
    "start_time": "2024-05-11T04:59:03.744Z"
   },
   {
    "duration": 17,
    "start_time": "2024-05-11T04:59:03.775Z"
   },
   {
    "duration": 23,
    "start_time": "2024-05-11T04:59:03.794Z"
   },
   {
    "duration": 15,
    "start_time": "2024-05-11T04:59:03.819Z"
   },
   {
    "duration": 31,
    "start_time": "2024-05-11T04:59:03.835Z"
   },
   {
    "duration": 6,
    "start_time": "2024-05-11T04:59:03.867Z"
   },
   {
    "duration": 13,
    "start_time": "2024-05-11T04:59:03.874Z"
   },
   {
    "duration": 9,
    "start_time": "2024-05-11T04:59:03.888Z"
   },
   {
    "duration": 5,
    "start_time": "2024-05-11T04:59:03.898Z"
   },
   {
    "duration": 5,
    "start_time": "2024-05-11T04:59:03.905Z"
   },
   {
    "duration": 13,
    "start_time": "2024-05-11T04:59:03.911Z"
   },
   {
    "duration": 6,
    "start_time": "2024-05-11T04:59:03.925Z"
   },
   {
    "duration": 19,
    "start_time": "2024-05-11T04:59:03.932Z"
   },
   {
    "duration": 26,
    "start_time": "2024-05-11T04:59:03.952Z"
   },
   {
    "duration": 7,
    "start_time": "2024-05-11T04:59:03.980Z"
   },
   {
    "duration": 6,
    "start_time": "2024-05-11T04:59:03.989Z"
   },
   {
    "duration": 11,
    "start_time": "2024-05-11T04:59:03.997Z"
   },
   {
    "duration": 18,
    "start_time": "2024-05-11T04:59:04.009Z"
   },
   {
    "duration": 2851,
    "start_time": "2024-05-11T04:59:04.029Z"
   },
   {
    "duration": 5686,
    "start_time": "2024-05-11T04:59:06.881Z"
   },
   {
    "duration": 5,
    "start_time": "2024-05-11T04:59:12.568Z"
   },
   {
    "duration": 20,
    "start_time": "2024-05-11T04:59:12.577Z"
   },
   {
    "duration": 983,
    "start_time": "2024-05-11T04:59:12.598Z"
   },
   {
    "duration": 360,
    "start_time": "2024-05-11T04:59:13.582Z"
   },
   {
    "duration": 270,
    "start_time": "2024-05-11T04:59:13.943Z"
   },
   {
    "duration": 13,
    "start_time": "2024-05-11T04:59:14.215Z"
   },
   {
    "duration": 12,
    "start_time": "2024-05-11T04:59:14.229Z"
   },
   {
    "duration": 28,
    "start_time": "2024-05-11T04:59:14.243Z"
   },
   {
    "duration": 13,
    "start_time": "2024-05-11T04:59:14.272Z"
   },
   {
    "duration": 14,
    "start_time": "2024-05-11T04:59:14.287Z"
   },
   {
    "duration": 8,
    "start_time": "2024-05-11T04:59:14.303Z"
   },
   {
    "duration": 21,
    "start_time": "2024-05-11T04:59:14.313Z"
   },
   {
    "duration": 28,
    "start_time": "2024-05-11T04:59:14.335Z"
   },
   {
    "duration": 18,
    "start_time": "2024-05-11T04:59:14.364Z"
   },
   {
    "duration": 18,
    "start_time": "2024-05-11T04:59:14.383Z"
   },
   {
    "duration": 16,
    "start_time": "2024-05-11T04:59:14.402Z"
   },
   {
    "duration": 9,
    "start_time": "2024-05-11T04:59:14.420Z"
   },
   {
    "duration": 4,
    "start_time": "2024-05-11T04:59:14.430Z"
   },
   {
    "duration": 25,
    "start_time": "2024-05-11T04:59:14.435Z"
   },
   {
    "duration": 3347,
    "start_time": "2024-05-11T04:59:14.461Z"
   },
   {
    "duration": 3081,
    "start_time": "2024-05-11T04:59:17.809Z"
   },
   {
    "duration": 3022,
    "start_time": "2024-05-11T04:59:20.892Z"
   },
   {
    "duration": 21,
    "start_time": "2024-05-11T04:59:23.915Z"
   },
   {
    "duration": 19,
    "start_time": "2024-05-11T04:59:23.937Z"
   },
   {
    "duration": 42,
    "start_time": "2024-05-11T04:59:23.958Z"
   },
   {
    "duration": 21,
    "start_time": "2024-05-11T04:59:24.002Z"
   },
   {
    "duration": 28,
    "start_time": "2024-05-11T04:59:24.024Z"
   },
   {
    "duration": 40,
    "start_time": "2024-05-11T04:59:24.054Z"
   },
   {
    "duration": 13,
    "start_time": "2024-05-11T04:59:24.096Z"
   },
   {
    "duration": 22,
    "start_time": "2024-05-11T04:59:24.111Z"
   },
   {
    "duration": 22,
    "start_time": "2024-05-11T04:59:24.135Z"
   },
   {
    "duration": 1890,
    "start_time": "2024-05-11T05:00:19.497Z"
   },
   {
    "duration": 425,
    "start_time": "2024-05-11T05:00:55.078Z"
   },
   {
    "duration": 419,
    "start_time": "2024-05-11T05:01:13.982Z"
   },
   {
    "duration": 1732,
    "start_time": "2024-05-11T05:01:30.780Z"
   },
   {
    "duration": 1725,
    "start_time": "2024-05-11T05:02:00.178Z"
   },
   {
    "duration": 1718,
    "start_time": "2024-05-11T05:07:11.812Z"
   },
   {
    "duration": 1776,
    "start_time": "2024-05-11T05:07:30.992Z"
   },
   {
    "duration": 1641,
    "start_time": "2024-05-11T05:08:07.113Z"
   },
   {
    "duration": 1768,
    "start_time": "2024-05-11T05:09:35.087Z"
   },
   {
    "duration": 1729,
    "start_time": "2024-05-11T05:10:40.675Z"
   },
   {
    "duration": 2,
    "start_time": "2024-05-11T05:11:53.296Z"
   },
   {
    "duration": 3,
    "start_time": "2024-05-11T05:12:07.424Z"
   },
   {
    "duration": 1659,
    "start_time": "2024-05-11T05:12:36.309Z"
   },
   {
    "duration": 1657,
    "start_time": "2024-05-11T05:19:36.948Z"
   },
   {
    "duration": 2373,
    "start_time": "2024-05-11T05:19:59.021Z"
   },
   {
    "duration": 2369,
    "start_time": "2024-05-11T05:20:14.560Z"
   },
   {
    "duration": 3546,
    "start_time": "2024-05-11T05:21:15.670Z"
   },
   {
    "duration": 14,
    "start_time": "2024-05-11T05:27:28.376Z"
   },
   {
    "duration": 2,
    "start_time": "2024-05-11T05:27:59.468Z"
   },
   {
    "duration": 13,
    "start_time": "2024-05-11T05:28:09.114Z"
   },
   {
    "duration": 3378,
    "start_time": "2024-05-11T05:41:41.632Z"
   },
   {
    "duration": 38,
    "start_time": "2024-05-11T06:19:43.424Z"
   },
   {
    "duration": 18,
    "start_time": "2024-05-11T06:19:50.740Z"
   },
   {
    "duration": 26,
    "start_time": "2024-05-11T06:40:46.099Z"
   },
   {
    "duration": 2,
    "start_time": "2024-05-11T06:41:39.518Z"
   },
   {
    "duration": 24,
    "start_time": "2024-05-11T06:41:41.509Z"
   },
   {
    "duration": 13,
    "start_time": "2024-05-11T06:42:18.958Z"
   },
   {
    "duration": 15,
    "start_time": "2024-05-11T06:42:37.043Z"
   },
   {
    "duration": 18,
    "start_time": "2024-05-11T06:42:52.598Z"
   },
   {
    "duration": 2906,
    "start_time": "2024-05-11T06:43:09.627Z"
   },
   {
    "duration": 570,
    "start_time": "2024-05-11T06:43:27.710Z"
   },
   {
    "duration": 15,
    "start_time": "2024-05-11T06:43:47.152Z"
   },
   {
    "duration": 19,
    "start_time": "2024-05-11T06:44:59.552Z"
   },
   {
    "duration": 1819,
    "start_time": "2024-05-11T06:45:20.243Z"
   },
   {
    "duration": 18,
    "start_time": "2024-05-11T06:45:45.690Z"
   },
   {
    "duration": 559,
    "start_time": "2024-05-11T06:46:03.452Z"
   },
   {
    "duration": 16,
    "start_time": "2024-05-11T06:50:24.130Z"
   },
   {
    "duration": 16,
    "start_time": "2024-05-11T06:50:45.874Z"
   },
   {
    "duration": 39,
    "start_time": "2024-05-11T06:52:12.852Z"
   },
   {
    "duration": 29,
    "start_time": "2024-05-11T06:52:19.428Z"
   },
   {
    "duration": 100,
    "start_time": "2024-05-11T06:52:41.967Z"
   },
   {
    "duration": 25,
    "start_time": "2024-05-11T06:55:53.514Z"
   },
   {
    "duration": 19,
    "start_time": "2024-05-11T06:56:03.989Z"
   },
   {
    "duration": 27,
    "start_time": "2024-05-11T06:56:07.654Z"
   },
   {
    "duration": 31,
    "start_time": "2024-05-11T07:07:43.555Z"
   },
   {
    "duration": 29,
    "start_time": "2024-05-11T07:07:52.476Z"
   },
   {
    "duration": 29,
    "start_time": "2024-05-11T08:26:11.903Z"
   },
   {
    "duration": 22,
    "start_time": "2024-05-11T08:26:34.806Z"
   },
   {
    "duration": 19,
    "start_time": "2024-05-11T08:26:43.147Z"
   },
   {
    "duration": 19,
    "start_time": "2024-05-11T08:26:49.632Z"
   },
   {
    "duration": 717,
    "start_time": "2024-05-11T08:30:21.150Z"
   },
   {
    "duration": 695,
    "start_time": "2024-05-11T08:32:02.588Z"
   },
   {
    "duration": 3994,
    "start_time": "2024-05-11T08:33:10.345Z"
   },
   {
    "duration": 3994,
    "start_time": "2024-05-11T08:35:11.550Z"
   },
   {
    "duration": 88,
    "start_time": "2024-05-11T08:35:48.504Z"
   },
   {
    "duration": 86,
    "start_time": "2024-05-11T08:36:06.012Z"
   },
   {
    "duration": 4003,
    "start_time": "2024-05-11T08:36:21.832Z"
   },
   {
    "duration": 3943,
    "start_time": "2024-05-11T08:36:46.098Z"
   },
   {
    "duration": 3934,
    "start_time": "2024-05-11T08:37:01.604Z"
   },
   {
    "duration": 240,
    "start_time": "2024-05-11T08:38:10.240Z"
   },
   {
    "duration": 4186,
    "start_time": "2024-05-11T08:38:32.707Z"
   },
   {
    "duration": 3807,
    "start_time": "2024-05-11T08:39:00.187Z"
   },
   {
    "duration": 3645,
    "start_time": "2024-05-11T08:39:18.954Z"
   },
   {
    "duration": 3760,
    "start_time": "2024-05-11T08:39:30.980Z"
   },
   {
    "duration": 4776,
    "start_time": "2024-05-11T08:39:48.518Z"
   },
   {
    "duration": 4913,
    "start_time": "2024-05-11T08:40:10.782Z"
   },
   {
    "duration": 8761,
    "start_time": "2024-05-11T08:40:59.439Z"
   },
   {
    "duration": 724,
    "start_time": "2024-05-11T08:41:48.574Z"
   },
   {
    "duration": 732,
    "start_time": "2024-05-11T08:45:24.627Z"
   },
   {
    "duration": 5058,
    "start_time": "2024-05-11T08:45:50.920Z"
   },
   {
    "duration": 5144,
    "start_time": "2024-05-11T08:46:53.947Z"
   },
   {
    "duration": 5430,
    "start_time": "2024-05-11T08:47:44.363Z"
   },
   {
    "duration": 5178,
    "start_time": "2024-05-11T08:48:25.235Z"
   },
   {
    "duration": 5224,
    "start_time": "2024-05-11T08:49:01.219Z"
   },
   {
    "duration": 5302,
    "start_time": "2024-05-11T08:49:19.889Z"
   },
   {
    "duration": 5169,
    "start_time": "2024-05-11T08:49:34.459Z"
   },
   {
    "duration": 5442,
    "start_time": "2024-05-11T08:50:57.853Z"
   },
   {
    "duration": 3664,
    "start_time": "2024-05-11T08:51:18.829Z"
   },
   {
    "duration": 5618,
    "start_time": "2024-05-11T08:51:36.279Z"
   },
   {
    "duration": 5580,
    "start_time": "2024-05-11T08:52:37.028Z"
   },
   {
    "duration": 6731,
    "start_time": "2024-05-11T08:53:54.073Z"
   },
   {
    "duration": 5108,
    "start_time": "2024-05-11T08:54:29.584Z"
   },
   {
    "duration": 4894,
    "start_time": "2024-05-11T08:54:45.198Z"
   },
   {
    "duration": 3341,
    "start_time": "2024-05-11T08:55:05.172Z"
   },
   {
    "duration": 6253,
    "start_time": "2024-05-11T09:01:04.459Z"
   },
   {
    "duration": 6316,
    "start_time": "2024-05-11T09:01:47.903Z"
   },
   {
    "duration": 115,
    "start_time": "2024-05-11T09:21:42.665Z"
   },
   {
    "duration": 23,
    "start_time": "2024-05-11T09:22:37.086Z"
   },
   {
    "duration": 32,
    "start_time": "2024-05-11T09:22:59.819Z"
   },
   {
    "duration": 99,
    "start_time": "2024-05-11T09:23:18.707Z"
   },
   {
    "duration": 20,
    "start_time": "2024-05-11T09:25:56.500Z"
   },
   {
    "duration": 19,
    "start_time": "2024-05-11T09:26:23.593Z"
   },
   {
    "duration": 23,
    "start_time": "2024-05-11T09:26:56.884Z"
   },
   {
    "duration": 17,
    "start_time": "2024-05-11T09:27:10.224Z"
   },
   {
    "duration": 3779,
    "start_time": "2024-05-11T09:27:31.227Z"
   },
   {
    "duration": 6060,
    "start_time": "2024-05-11T09:27:45.384Z"
   },
   {
    "duration": 2880,
    "start_time": "2024-05-11T09:28:13.110Z"
   },
   {
    "duration": 2900,
    "start_time": "2024-05-11T09:28:45.728Z"
   },
   {
    "duration": 7105,
    "start_time": "2024-05-11T09:29:03.408Z"
   },
   {
    "duration": 7296,
    "start_time": "2024-05-11T09:29:23.034Z"
   },
   {
    "duration": 6607,
    "start_time": "2024-05-11T09:30:09.844Z"
   },
   {
    "duration": 5853,
    "start_time": "2024-05-11T09:47:51.204Z"
   },
   {
    "duration": 4864,
    "start_time": "2024-05-11T09:48:21.125Z"
   },
   {
    "duration": 5211,
    "start_time": "2024-05-11T09:48:58.510Z"
   },
   {
    "duration": 5,
    "start_time": "2024-05-11T09:50:35.287Z"
   },
   {
    "duration": 5418,
    "start_time": "2024-05-11T09:51:02.544Z"
   },
   {
    "duration": 5126,
    "start_time": "2024-05-11T09:51:46.677Z"
   },
   {
    "duration": 8298,
    "start_time": "2024-05-11T09:53:01.281Z"
   },
   {
    "duration": 5763,
    "start_time": "2024-05-11T09:53:50.835Z"
   },
   {
    "duration": 6769,
    "start_time": "2024-05-11T09:55:15.201Z"
   },
   {
    "duration": 4057,
    "start_time": "2024-05-11T09:55:36.535Z"
   },
   {
    "duration": 2969,
    "start_time": "2024-05-11T09:56:04.879Z"
   },
   {
    "duration": 2564,
    "start_time": "2024-05-11T09:56:52.270Z"
   },
   {
    "duration": 2552,
    "start_time": "2024-05-11T09:57:50.097Z"
   },
   {
    "duration": 4274,
    "start_time": "2024-05-11T12:32:56.987Z"
   },
   {
    "duration": 3056,
    "start_time": "2024-05-11T12:33:01.263Z"
   },
   {
    "duration": 1883,
    "start_time": "2024-05-11T12:33:04.321Z"
   },
   {
    "duration": 3,
    "start_time": "2024-05-11T12:33:06.205Z"
   },
   {
    "duration": 17,
    "start_time": "2024-05-11T12:33:06.210Z"
   },
   {
    "duration": 20,
    "start_time": "2024-05-11T12:33:06.228Z"
   },
   {
    "duration": 258,
    "start_time": "2024-05-11T12:33:06.250Z"
   },
   {
    "duration": 15,
    "start_time": "2024-05-11T12:33:06.509Z"
   },
   {
    "duration": 11,
    "start_time": "2024-05-11T12:33:06.526Z"
   },
   {
    "duration": 9,
    "start_time": "2024-05-11T12:33:06.538Z"
   },
   {
    "duration": 10,
    "start_time": "2024-05-11T12:33:06.548Z"
   },
   {
    "duration": 7,
    "start_time": "2024-05-11T12:33:06.559Z"
   },
   {
    "duration": 12,
    "start_time": "2024-05-11T12:33:06.568Z"
   },
   {
    "duration": 7,
    "start_time": "2024-05-11T12:33:06.584Z"
   },
   {
    "duration": 11,
    "start_time": "2024-05-11T12:33:06.592Z"
   },
   {
    "duration": 4,
    "start_time": "2024-05-11T12:33:06.604Z"
   },
   {
    "duration": 10,
    "start_time": "2024-05-11T12:33:06.610Z"
   },
   {
    "duration": 40,
    "start_time": "2024-05-11T12:33:06.622Z"
   },
   {
    "duration": 10,
    "start_time": "2024-05-11T12:33:06.664Z"
   },
   {
    "duration": 9,
    "start_time": "2024-05-11T12:33:06.676Z"
   },
   {
    "duration": 10,
    "start_time": "2024-05-11T12:33:06.686Z"
   },
   {
    "duration": 6,
    "start_time": "2024-05-11T12:33:06.697Z"
   },
   {
    "duration": 5,
    "start_time": "2024-05-11T12:33:06.704Z"
   },
   {
    "duration": 4,
    "start_time": "2024-05-11T12:33:06.711Z"
   },
   {
    "duration": 44,
    "start_time": "2024-05-11T12:33:06.716Z"
   },
   {
    "duration": 5,
    "start_time": "2024-05-11T12:33:06.761Z"
   },
   {
    "duration": 12,
    "start_time": "2024-05-11T12:33:06.767Z"
   },
   {
    "duration": 5,
    "start_time": "2024-05-11T12:33:06.780Z"
   },
   {
    "duration": 5,
    "start_time": "2024-05-11T12:33:06.786Z"
   },
   {
    "duration": 6,
    "start_time": "2024-05-11T12:33:06.792Z"
   },
   {
    "duration": 4,
    "start_time": "2024-05-11T12:33:06.799Z"
   },
   {
    "duration": 8,
    "start_time": "2024-05-11T12:33:06.804Z"
   },
   {
    "duration": 13,
    "start_time": "2024-05-11T12:33:06.814Z"
   },
   {
    "duration": 5,
    "start_time": "2024-05-11T12:33:06.828Z"
   },
   {
    "duration": 5,
    "start_time": "2024-05-11T12:33:06.856Z"
   },
   {
    "duration": 17,
    "start_time": "2024-05-11T12:33:06.863Z"
   },
   {
    "duration": 11,
    "start_time": "2024-05-11T12:33:06.881Z"
   },
   {
    "duration": 2614,
    "start_time": "2024-05-11T12:33:06.893Z"
   },
   {
    "duration": 5633,
    "start_time": "2024-05-11T12:33:09.508Z"
   },
   {
    "duration": 6,
    "start_time": "2024-05-11T12:33:15.142Z"
   },
   {
    "duration": 21,
    "start_time": "2024-05-11T12:33:15.159Z"
   },
   {
    "duration": 1035,
    "start_time": "2024-05-11T12:33:15.181Z"
   },
   {
    "duration": 330,
    "start_time": "2024-05-11T12:33:16.217Z"
   },
   {
    "duration": 271,
    "start_time": "2024-05-11T12:33:16.549Z"
   },
   {
    "duration": 12,
    "start_time": "2024-05-11T12:33:16.822Z"
   },
   {
    "duration": 22,
    "start_time": "2024-05-11T12:33:16.835Z"
   },
   {
    "duration": 10,
    "start_time": "2024-05-11T12:33:16.859Z"
   },
   {
    "duration": 7,
    "start_time": "2024-05-11T12:33:16.871Z"
   },
   {
    "duration": 8,
    "start_time": "2024-05-11T12:33:16.880Z"
   },
   {
    "duration": 8,
    "start_time": "2024-05-11T12:33:16.890Z"
   },
   {
    "duration": 16,
    "start_time": "2024-05-11T12:33:16.899Z"
   },
   {
    "duration": 49,
    "start_time": "2024-05-11T12:33:16.916Z"
   },
   {
    "duration": 18,
    "start_time": "2024-05-11T12:33:16.966Z"
   },
   {
    "duration": 13,
    "start_time": "2024-05-11T12:33:16.986Z"
   },
   {
    "duration": 30,
    "start_time": "2024-05-11T12:33:17.000Z"
   },
   {
    "duration": 11,
    "start_time": "2024-05-11T12:33:17.031Z"
   },
   {
    "duration": 3,
    "start_time": "2024-05-11T12:33:17.057Z"
   },
   {
    "duration": 20,
    "start_time": "2024-05-11T12:33:17.061Z"
   },
   {
    "duration": 3389,
    "start_time": "2024-05-11T12:33:17.083Z"
   },
   {
    "duration": 3047,
    "start_time": "2024-05-11T12:33:20.474Z"
   },
   {
    "duration": 2894,
    "start_time": "2024-05-11T12:33:23.523Z"
   },
   {
    "duration": 19,
    "start_time": "2024-05-11T12:33:26.418Z"
   },
   {
    "duration": 31,
    "start_time": "2024-05-11T12:33:26.438Z"
   },
   {
    "duration": 21,
    "start_time": "2024-05-11T12:33:26.471Z"
   },
   {
    "duration": 15,
    "start_time": "2024-05-11T12:33:26.494Z"
   },
   {
    "duration": 17,
    "start_time": "2024-05-11T12:33:26.510Z"
   },
   {
    "duration": 30,
    "start_time": "2024-05-11T12:33:26.528Z"
   },
   {
    "duration": 15,
    "start_time": "2024-05-11T12:33:26.560Z"
   },
   {
    "duration": 21,
    "start_time": "2024-05-11T12:33:26.576Z"
   },
   {
    "duration": 13,
    "start_time": "2024-05-11T12:33:26.599Z"
   },
   {
    "duration": 4,
    "start_time": "2024-05-11T12:33:26.613Z"
   },
   {
    "duration": 2123,
    "start_time": "2024-05-11T12:33:38.693Z"
   },
   {
    "duration": 2,
    "start_time": "2024-05-11T12:34:41.524Z"
   },
   {
    "duration": 198,
    "start_time": "2024-05-11T12:35:28.987Z"
   },
   {
    "duration": 7105,
    "start_time": "2024-05-11T12:37:01.023Z"
   },
   {
    "duration": 12,
    "start_time": "2024-05-11T12:37:34.910Z"
   },
   {
    "duration": 2,
    "start_time": "2024-05-11T12:37:47.238Z"
   },
   {
    "duration": 12,
    "start_time": "2024-05-11T12:37:48.508Z"
   },
   {
    "duration": 12,
    "start_time": "2024-05-11T12:37:58.251Z"
   },
   {
    "duration": 12,
    "start_time": "2024-05-11T12:38:05.737Z"
   },
   {
    "duration": 13,
    "start_time": "2024-05-11T12:38:15.191Z"
   },
   {
    "duration": 64,
    "start_time": "2024-05-11T12:38:34.051Z"
   },
   {
    "duration": 61,
    "start_time": "2024-05-11T12:39:01.398Z"
   },
   {
    "duration": 13,
    "start_time": "2024-05-11T12:39:23.295Z"
   },
   {
    "duration": 96,
    "start_time": "2024-05-11T12:40:00.186Z"
   },
   {
    "duration": 1821,
    "start_time": "2024-05-11T12:40:17.326Z"
   },
   {
    "duration": 17,
    "start_time": "2024-05-11T12:40:33.902Z"
   },
   {
    "duration": 87,
    "start_time": "2024-05-11T12:40:47.816Z"
   },
   {
    "duration": 6762,
    "start_time": "2024-05-11T12:41:07.393Z"
   },
   {
    "duration": 3,
    "start_time": "2024-05-11T12:41:25.976Z"
   },
   {
    "duration": 20,
    "start_time": "2024-05-11T12:41:35.204Z"
   },
   {
    "duration": 3,
    "start_time": "2024-05-11T12:44:01.108Z"
   },
   {
    "duration": 16,
    "start_time": "2024-05-11T12:44:02.018Z"
   },
   {
    "duration": 23,
    "start_time": "2024-05-11T12:44:19.765Z"
   },
   {
    "duration": 15,
    "start_time": "2024-05-11T12:46:41.570Z"
   },
   {
    "duration": 28,
    "start_time": "2024-05-11T12:46:48.988Z"
   },
   {
    "duration": 704,
    "start_time": "2024-05-11T12:51:06.079Z"
   },
   {
    "duration": 6974,
    "start_time": "2024-05-11T12:51:32.194Z"
   },
   {
    "duration": 2,
    "start_time": "2024-05-11T12:51:48.513Z"
   },
   {
    "duration": 20,
    "start_time": "2024-05-11T12:51:50.478Z"
   },
   {
    "duration": 6289,
    "start_time": "2024-05-11T12:54:21.580Z"
   },
   {
    "duration": 3,
    "start_time": "2024-05-11T12:54:42.323Z"
   },
   {
    "duration": 20,
    "start_time": "2024-05-11T12:54:47.775Z"
   },
   {
    "duration": 4821,
    "start_time": "2024-05-11T12:55:46.647Z"
   },
   {
    "duration": 3,
    "start_time": "2024-05-11T12:56:01.573Z"
   },
   {
    "duration": 2446,
    "start_time": "2024-05-11T14:36:32.671Z"
   },
   {
    "duration": 2312,
    "start_time": "2024-05-11T14:36:35.119Z"
   },
   {
    "duration": 6,
    "start_time": "2024-05-11T14:36:37.433Z"
   },
   {
    "duration": 8,
    "start_time": "2024-05-11T14:36:37.441Z"
   },
   {
    "duration": 15,
    "start_time": "2024-05-11T14:36:37.450Z"
   },
   {
    "duration": 21,
    "start_time": "2024-05-11T14:36:37.466Z"
   },
   {
    "duration": 97,
    "start_time": "2024-05-11T14:36:37.489Z"
   },
   {
    "duration": 14,
    "start_time": "2024-05-11T14:36:37.587Z"
   },
   {
    "duration": 14,
    "start_time": "2024-05-11T14:36:37.602Z"
   },
   {
    "duration": 8,
    "start_time": "2024-05-11T14:36:37.619Z"
   },
   {
    "duration": 11,
    "start_time": "2024-05-11T14:36:37.629Z"
   },
   {
    "duration": 10,
    "start_time": "2024-05-11T14:36:37.641Z"
   },
   {
    "duration": 11,
    "start_time": "2024-05-11T14:36:37.652Z"
   },
   {
    "duration": 7,
    "start_time": "2024-05-11T14:36:37.665Z"
   },
   {
    "duration": 11,
    "start_time": "2024-05-11T14:36:37.674Z"
   },
   {
    "duration": 4,
    "start_time": "2024-05-11T14:36:37.686Z"
   },
   {
    "duration": 9,
    "start_time": "2024-05-11T14:36:37.691Z"
   },
   {
    "duration": 10,
    "start_time": "2024-05-11T14:36:37.701Z"
   },
   {
    "duration": 44,
    "start_time": "2024-05-11T14:36:37.712Z"
   },
   {
    "duration": 11,
    "start_time": "2024-05-11T14:36:37.758Z"
   },
   {
    "duration": 13,
    "start_time": "2024-05-11T14:36:37.770Z"
   },
   {
    "duration": 10,
    "start_time": "2024-05-11T14:36:37.785Z"
   },
   {
    "duration": 7,
    "start_time": "2024-05-11T14:36:37.797Z"
   },
   {
    "duration": 5,
    "start_time": "2024-05-11T14:36:37.806Z"
   },
   {
    "duration": 5,
    "start_time": "2024-05-11T14:36:37.813Z"
   },
   {
    "duration": 41,
    "start_time": "2024-05-11T14:36:37.819Z"
   },
   {
    "duration": 7,
    "start_time": "2024-05-11T14:36:37.861Z"
   },
   {
    "duration": 4,
    "start_time": "2024-05-11T14:36:37.872Z"
   },
   {
    "duration": 11,
    "start_time": "2024-05-11T14:36:37.877Z"
   },
   {
    "duration": 7,
    "start_time": "2024-05-11T14:36:37.889Z"
   },
   {
    "duration": 5,
    "start_time": "2024-05-11T14:36:37.898Z"
   },
   {
    "duration": 6,
    "start_time": "2024-05-11T14:36:37.904Z"
   },
   {
    "duration": 6,
    "start_time": "2024-05-11T14:36:37.912Z"
   },
   {
    "duration": 5,
    "start_time": "2024-05-11T14:36:37.919Z"
   },
   {
    "duration": 5,
    "start_time": "2024-05-11T14:36:37.955Z"
   },
   {
    "duration": 15,
    "start_time": "2024-05-11T14:36:37.961Z"
   },
   {
    "duration": 4,
    "start_time": "2024-05-11T14:36:37.977Z"
   },
   {
    "duration": 2811,
    "start_time": "2024-05-11T14:36:37.982Z"
   },
   {
    "duration": 5742,
    "start_time": "2024-05-11T14:36:40.795Z"
   },
   {
    "duration": 6,
    "start_time": "2024-05-11T14:36:46.538Z"
   },
   {
    "duration": 14,
    "start_time": "2024-05-11T14:36:46.545Z"
   },
   {
    "duration": 1062,
    "start_time": "2024-05-11T14:36:46.560Z"
   },
   {
    "duration": 344,
    "start_time": "2024-05-11T14:36:47.624Z"
   },
   {
    "duration": 266,
    "start_time": "2024-05-11T14:36:47.970Z"
   },
   {
    "duration": 19,
    "start_time": "2024-05-11T14:36:48.237Z"
   },
   {
    "duration": 9,
    "start_time": "2024-05-11T14:36:48.258Z"
   },
   {
    "duration": 9,
    "start_time": "2024-05-11T14:36:48.269Z"
   },
   {
    "duration": 6,
    "start_time": "2024-05-11T14:36:48.280Z"
   },
   {
    "duration": 27,
    "start_time": "2024-05-11T14:36:48.288Z"
   },
   {
    "duration": 19,
    "start_time": "2024-05-11T14:36:48.316Z"
   },
   {
    "duration": 33,
    "start_time": "2024-05-11T14:36:48.338Z"
   },
   {
    "duration": 16,
    "start_time": "2024-05-11T14:36:48.372Z"
   },
   {
    "duration": 19,
    "start_time": "2024-05-11T14:36:48.390Z"
   },
   {
    "duration": 18,
    "start_time": "2024-05-11T14:36:48.411Z"
   },
   {
    "duration": 36,
    "start_time": "2024-05-11T14:36:48.431Z"
   },
   {
    "duration": 10,
    "start_time": "2024-05-11T14:36:48.469Z"
   },
   {
    "duration": 9,
    "start_time": "2024-05-11T14:36:48.481Z"
   },
   {
    "duration": 5,
    "start_time": "2024-05-11T14:36:48.492Z"
   },
   {
    "duration": 3302,
    "start_time": "2024-05-11T14:36:48.499Z"
   },
   {
    "duration": 2914,
    "start_time": "2024-05-11T14:36:51.802Z"
   },
   {
    "duration": 2856,
    "start_time": "2024-05-11T14:36:54.717Z"
   },
   {
    "duration": 17,
    "start_time": "2024-05-11T14:36:57.575Z"
   },
   {
    "duration": 20,
    "start_time": "2024-05-11T14:36:57.593Z"
   },
   {
    "duration": 17,
    "start_time": "2024-05-11T14:36:57.614Z"
   },
   {
    "duration": 32,
    "start_time": "2024-05-11T14:36:57.632Z"
   },
   {
    "duration": 16,
    "start_time": "2024-05-11T14:36:57.666Z"
   },
   {
    "duration": 16,
    "start_time": "2024-05-11T14:36:57.683Z"
   },
   {
    "duration": 12,
    "start_time": "2024-05-11T14:36:57.701Z"
   },
   {
    "duration": 43,
    "start_time": "2024-05-11T14:36:57.714Z"
   },
   {
    "duration": 12,
    "start_time": "2024-05-11T14:36:57.759Z"
   },
   {
    "duration": 13,
    "start_time": "2024-05-11T14:36:57.772Z"
   },
   {
    "duration": 6512,
    "start_time": "2024-05-11T14:37:37.346Z"
   },
   {
    "duration": 7159,
    "start_time": "2024-05-11T14:37:52.186Z"
   },
   {
    "duration": 1930,
    "start_time": "2024-05-11T14:38:10.988Z"
   },
   {
    "duration": 24,
    "start_time": "2024-05-11T14:38:58.002Z"
   },
   {
    "duration": 2,
    "start_time": "2024-05-11T14:39:26.567Z"
   },
   {
    "duration": 18,
    "start_time": "2024-05-11T14:39:30.329Z"
   },
   {
    "duration": 20,
    "start_time": "2024-05-11T14:40:18.899Z"
   },
   {
    "duration": 3,
    "start_time": "2024-05-11T14:40:24.809Z"
   },
   {
    "duration": 19,
    "start_time": "2024-05-11T14:40:29.691Z"
   },
   {
    "duration": 2160,
    "start_time": "2024-05-11T14:41:52.445Z"
   },
   {
    "duration": 2,
    "start_time": "2024-05-11T14:41:58.318Z"
   },
   {
    "duration": 30,
    "start_time": "2024-05-11T14:42:00.530Z"
   },
   {
    "duration": 16,
    "start_time": "2024-05-11T14:42:12.018Z"
   },
   {
    "duration": 21,
    "start_time": "2024-05-11T14:42:18.529Z"
   },
   {
    "duration": 7568,
    "start_time": "2024-05-11T14:42:30.016Z"
   },
   {
    "duration": 3,
    "start_time": "2024-05-11T14:42:45.772Z"
   },
   {
    "duration": 18,
    "start_time": "2024-05-11T14:42:47.447Z"
   },
   {
    "duration": 15,
    "start_time": "2024-05-11T14:44:15.105Z"
   },
   {
    "duration": 85,
    "start_time": "2024-05-11T14:44:37.449Z"
   },
   {
    "duration": 23,
    "start_time": "2024-05-11T14:44:49.453Z"
   },
   {
    "duration": 7938,
    "start_time": "2024-05-11T14:45:53.093Z"
   },
   {
    "duration": 1939,
    "start_time": "2024-05-11T14:46:19.825Z"
   },
   {
    "duration": 7256,
    "start_time": "2024-05-11T14:46:49.115Z"
   },
   {
    "duration": 3969,
    "start_time": "2024-05-12T05:37:39.963Z"
   },
   {
    "duration": 2978,
    "start_time": "2024-05-12T05:37:47.311Z"
   },
   {
    "duration": 2103,
    "start_time": "2024-05-12T05:37:53.359Z"
   },
   {
    "duration": 4,
    "start_time": "2024-05-12T05:37:56.015Z"
   },
   {
    "duration": 6,
    "start_time": "2024-05-12T05:38:01.886Z"
   },
   {
    "duration": 276,
    "start_time": "2024-05-12T05:38:06.590Z"
   },
   {
    "duration": 16,
    "start_time": "2024-05-12T05:38:07.460Z"
   },
   {
    "duration": 12,
    "start_time": "2024-05-12T05:38:09.422Z"
   },
   {
    "duration": 7,
    "start_time": "2024-05-12T05:38:10.238Z"
   },
   {
    "duration": 10,
    "start_time": "2024-05-12T05:38:10.878Z"
   },
   {
    "duration": 8,
    "start_time": "2024-05-12T05:38:11.582Z"
   },
   {
    "duration": 10,
    "start_time": "2024-05-12T05:38:12.214Z"
   },
   {
    "duration": 7,
    "start_time": "2024-05-12T05:38:12.894Z"
   },
   {
    "duration": 9,
    "start_time": "2024-05-12T05:38:13.471Z"
   },
   {
    "duration": 4,
    "start_time": "2024-05-12T05:38:17.173Z"
   },
   {
    "duration": 5,
    "start_time": "2024-05-12T05:38:19.981Z"
   },
   {
    "duration": 11,
    "start_time": "2024-05-12T05:38:22.213Z"
   },
   {
    "duration": 12,
    "start_time": "2024-05-12T05:38:22.957Z"
   },
   {
    "duration": 10,
    "start_time": "2024-05-12T05:38:23.630Z"
   },
   {
    "duration": 10,
    "start_time": "2024-05-12T05:38:24.350Z"
   },
   {
    "duration": 8,
    "start_time": "2024-05-12T05:39:31.164Z"
   },
   {
    "duration": 7,
    "start_time": "2024-05-12T05:39:31.646Z"
   },
   {
    "duration": 5,
    "start_time": "2024-05-12T05:39:32.157Z"
   },
   {
    "duration": 6,
    "start_time": "2024-05-12T05:39:32.644Z"
   },
   {
    "duration": 5,
    "start_time": "2024-05-12T05:39:35.100Z"
   },
   {
    "duration": 5,
    "start_time": "2024-05-12T05:39:35.580Z"
   },
   {
    "duration": 5,
    "start_time": "2024-05-12T05:39:36.060Z"
   },
   {
    "duration": 4,
    "start_time": "2024-05-12T05:39:36.781Z"
   },
   {
    "duration": 5,
    "start_time": "2024-05-12T05:39:40.508Z"
   },
   {
    "duration": 6,
    "start_time": "2024-05-12T05:39:46.924Z"
   },
   {
    "duration": 5,
    "start_time": "2024-05-12T05:39:47.723Z"
   },
   {
    "duration": 4,
    "start_time": "2024-05-12T05:39:52.733Z"
   },
   {
    "duration": 4,
    "start_time": "2024-05-12T05:39:53.796Z"
   },
   {
    "duration": 4,
    "start_time": "2024-05-12T05:39:54.963Z"
   },
   {
    "duration": 4,
    "start_time": "2024-05-12T05:39:55.373Z"
   },
   {
    "duration": 3,
    "start_time": "2024-05-12T05:39:59.900Z"
   },
   {
    "duration": 3014,
    "start_time": "2024-05-12T05:40:01.972Z"
   },
   {
    "duration": 5841,
    "start_time": "2024-05-12T05:40:09.564Z"
   },
   {
    "duration": 14,
    "start_time": "2024-05-12T05:40:17.844Z"
   },
   {
    "duration": 6,
    "start_time": "2024-05-12T05:40:18.803Z"
   },
   {
    "duration": 1090,
    "start_time": "2024-05-12T05:40:20.867Z"
   },
   {
    "duration": 348,
    "start_time": "2024-05-12T05:40:24.596Z"
   },
   {
    "duration": 269,
    "start_time": "2024-05-12T05:40:28.059Z"
   },
   {
    "duration": 13,
    "start_time": "2024-05-12T05:40:46.652Z"
   },
   {
    "duration": 10,
    "start_time": "2024-05-12T05:40:47.747Z"
   },
   {
    "duration": 10,
    "start_time": "2024-05-12T05:40:48.444Z"
   },
   {
    "duration": 6,
    "start_time": "2024-05-12T05:40:50.723Z"
   },
   {
    "duration": 9,
    "start_time": "2024-05-12T05:40:51.795Z"
   },
   {
    "duration": 7,
    "start_time": "2024-05-12T05:40:52.755Z"
   },
   {
    "duration": 22,
    "start_time": "2024-05-12T05:40:57.107Z"
   },
   {
    "duration": 16,
    "start_time": "2024-05-12T05:40:58.243Z"
   },
   {
    "duration": 20,
    "start_time": "2024-05-12T05:41:00.084Z"
   },
   {
    "duration": 13,
    "start_time": "2024-05-12T05:41:00.659Z"
   },
   {
    "duration": 15,
    "start_time": "2024-05-12T05:41:03.538Z"
   },
   {
    "duration": 11,
    "start_time": "2024-05-12T05:41:09.363Z"
   },
   {
    "duration": 3,
    "start_time": "2024-05-12T05:41:14.563Z"
   },
   {
    "duration": 6,
    "start_time": "2024-05-12T05:41:15.307Z"
   },
   {
    "duration": 3660,
    "start_time": "2024-05-12T05:41:23.731Z"
   },
   {
    "duration": 3269,
    "start_time": "2024-05-12T05:41:45.051Z"
   },
   {
    "duration": 3117,
    "start_time": "2024-05-12T05:41:51.737Z"
   },
   {
    "duration": 12,
    "start_time": "2024-05-12T05:42:46.585Z"
   },
   {
    "duration": 17,
    "start_time": "2024-05-12T05:43:32.700Z"
   },
   {
    "duration": 27,
    "start_time": "2024-05-12T05:43:44.928Z"
   },
   {
    "duration": 19,
    "start_time": "2024-05-12T05:43:55.096Z"
   },
   {
    "duration": 23,
    "start_time": "2024-05-12T05:44:02.392Z"
   },
   {
    "duration": 18,
    "start_time": "2024-05-12T05:45:02.831Z"
   },
   {
    "duration": 12,
    "start_time": "2024-05-12T05:45:11.199Z"
   },
   {
    "duration": 142,
    "start_time": "2024-05-12T05:54:30.557Z"
   },
   {
    "duration": 16,
    "start_time": "2024-05-12T05:54:39.241Z"
   },
   {
    "duration": 4,
    "start_time": "2024-05-12T05:55:39.108Z"
   },
   {
    "duration": 4,
    "start_time": "2024-05-12T05:56:04.883Z"
   },
   {
    "duration": 5,
    "start_time": "2024-05-12T05:56:29.938Z"
   },
   {
    "duration": 5,
    "start_time": "2024-05-12T05:56:40.299Z"
   },
   {
    "duration": 4,
    "start_time": "2024-05-12T05:56:50.899Z"
   },
   {
    "duration": 9,
    "start_time": "2024-05-12T05:57:55.610Z"
   },
   {
    "duration": 9,
    "start_time": "2024-05-12T05:58:00.145Z"
   },
   {
    "duration": 39,
    "start_time": "2024-05-12T05:58:14.617Z"
   },
   {
    "duration": 17,
    "start_time": "2024-05-12T05:58:20.033Z"
   },
   {
    "duration": 25,
    "start_time": "2024-05-12T05:58:26.625Z"
   },
   {
    "duration": 21,
    "start_time": "2024-05-12T05:58:46.577Z"
   },
   {
    "duration": 10,
    "start_time": "2024-05-12T06:01:29.215Z"
   },
   {
    "duration": 4,
    "start_time": "2024-05-12T06:01:50.151Z"
   },
   {
    "duration": 5,
    "start_time": "2024-05-12T06:02:12.558Z"
   },
   {
    "duration": 6,
    "start_time": "2024-05-12T06:02:32.589Z"
   },
   {
    "duration": 6,
    "start_time": "2024-05-12T06:02:44.789Z"
   },
   {
    "duration": 6,
    "start_time": "2024-05-12T06:02:58.701Z"
   },
   {
    "duration": 5,
    "start_time": "2024-05-12T06:03:14.709Z"
   },
   {
    "duration": 6,
    "start_time": "2024-05-12T06:03:28.790Z"
   },
   {
    "duration": 6,
    "start_time": "2024-05-12T06:03:58.396Z"
   },
   {
    "duration": 7,
    "start_time": "2024-05-12T06:04:17.635Z"
   },
   {
    "duration": 6,
    "start_time": "2024-05-12T06:06:04.257Z"
   },
   {
    "duration": 3,
    "start_time": "2024-05-12T06:14:41.955Z"
   },
   {
    "duration": 64,
    "start_time": "2024-05-12T06:15:09.371Z"
   },
   {
    "duration": 16,
    "start_time": "2024-05-12T06:15:21.731Z"
   },
   {
    "duration": 5016,
    "start_time": "2024-05-12T06:15:41.626Z"
   },
   {
    "duration": 2,
    "start_time": "2024-05-12T06:16:45.464Z"
   },
   {
    "duration": 14,
    "start_time": "2024-05-12T06:17:44.168Z"
   },
   {
    "duration": 70,
    "start_time": "2024-05-12T06:26:16.963Z"
   },
   {
    "duration": 15,
    "start_time": "2024-05-12T06:33:51.751Z"
   },
   {
    "duration": 20,
    "start_time": "2024-05-12T06:36:23.997Z"
   },
   {
    "duration": 680,
    "start_time": "2024-05-12T06:37:44.630Z"
   },
   {
    "duration": 2,
    "start_time": "2024-05-12T06:38:04.724Z"
   },
   {
    "duration": 4247,
    "start_time": "2024-05-12T06:38:06.988Z"
   },
   {
    "duration": 2,
    "start_time": "2024-05-12T06:38:18.004Z"
   },
   {
    "duration": 321394,
    "start_time": "2024-05-12T06:38:20.068Z"
   },
   {
    "duration": 355,
    "start_time": "2024-05-12T06:58:42.163Z"
   },
   {
    "duration": 7,
    "start_time": "2024-05-12T06:59:04.602Z"
   },
   {
    "duration": 17,
    "start_time": "2024-05-12T06:59:26.514Z"
   },
   {
    "duration": 327,
    "start_time": "2024-05-12T06:59:46.978Z"
   },
   {
    "duration": 574,
    "start_time": "2024-05-12T07:01:08.073Z"
   },
   {
    "duration": 14,
    "start_time": "2024-05-12T07:01:15.783Z"
   },
   {
    "duration": 438,
    "start_time": "2024-05-12T07:01:33.207Z"
   },
   {
    "duration": 137,
    "start_time": "2024-05-12T07:03:39.702Z"
   },
   {
    "duration": 18,
    "start_time": "2024-05-12T07:04:58.565Z"
   },
   {
    "duration": 11,
    "start_time": "2024-05-12T07:05:06.028Z"
   },
   {
    "duration": 11,
    "start_time": "2024-05-12T07:05:15.053Z"
   },
   {
    "duration": 14,
    "start_time": "2024-05-12T07:05:23.957Z"
   },
   {
    "duration": 11,
    "start_time": "2024-05-12T07:05:28.396Z"
   },
   {
    "duration": 13,
    "start_time": "2024-05-12T07:05:37.828Z"
   },
   {
    "duration": 360,
    "start_time": "2024-05-12T07:05:42.757Z"
   },
   {
    "duration": 4,
    "start_time": "2024-05-12T07:06:30.699Z"
   },
   {
    "duration": 14,
    "start_time": "2024-05-12T07:48:30.836Z"
   },
   {
    "duration": 13,
    "start_time": "2024-05-12T07:48:35.963Z"
   },
   {
    "duration": 4325,
    "start_time": "2024-05-12T07:49:09.412Z"
   },
   {
    "duration": 11,
    "start_time": "2024-05-12T07:49:32.002Z"
   },
   {
    "duration": 12,
    "start_time": "2024-05-12T07:49:40.082Z"
   },
   {
    "duration": 10,
    "start_time": "2024-05-12T07:49:59.362Z"
   },
   {
    "duration": 11,
    "start_time": "2024-05-12T07:50:10.354Z"
   },
   {
    "duration": 11,
    "start_time": "2024-05-12T07:50:16.362Z"
   },
   {
    "duration": 503,
    "start_time": "2024-05-12T07:54:23.404Z"
   },
   {
    "duration": 11,
    "start_time": "2024-05-12T07:54:42.230Z"
   },
   {
    "duration": 490,
    "start_time": "2024-05-12T07:54:46.783Z"
   },
   {
    "duration": 11,
    "start_time": "2024-05-12T07:59:13.299Z"
   },
   {
    "duration": 13,
    "start_time": "2024-05-12T07:59:19.842Z"
   },
   {
    "duration": 11,
    "start_time": "2024-05-12T07:59:53.226Z"
   },
   {
    "duration": 10,
    "start_time": "2024-05-12T08:00:38.642Z"
   },
   {
    "duration": 10,
    "start_time": "2024-05-12T08:01:47.417Z"
   },
   {
    "duration": 14,
    "start_time": "2024-05-12T08:03:24.983Z"
   },
   {
    "duration": 10,
    "start_time": "2024-05-12T08:04:00.543Z"
   },
   {
    "duration": 12,
    "start_time": "2024-05-12T08:04:14.751Z"
   },
   {
    "duration": 11,
    "start_time": "2024-05-12T08:05:18.309Z"
   },
   {
    "duration": 12,
    "start_time": "2024-05-12T08:06:33.037Z"
   },
   {
    "duration": 10,
    "start_time": "2024-05-12T08:06:48.244Z"
   },
   {
    "duration": 16,
    "start_time": "2024-05-12T08:07:01.421Z"
   },
   {
    "duration": 49,
    "start_time": "2024-05-12T08:08:34.594Z"
   },
   {
    "duration": 12,
    "start_time": "2024-05-12T08:08:46.611Z"
   },
   {
    "duration": 10,
    "start_time": "2024-05-12T08:09:39.018Z"
   },
   {
    "duration": 10,
    "start_time": "2024-05-12T08:13:32.783Z"
   },
   {
    "duration": 14,
    "start_time": "2024-05-12T08:13:40.183Z"
   },
   {
    "duration": 14,
    "start_time": "2024-05-12T08:13:50.551Z"
   },
   {
    "duration": 271,
    "start_time": "2024-05-12T08:13:59.366Z"
   },
   {
    "duration": 443,
    "start_time": "2024-05-12T08:14:13.430Z"
   },
   {
    "duration": 4491,
    "start_time": "2024-05-12T08:16:15.591Z"
   },
   {
    "duration": 353,
    "start_time": "2024-05-12T08:17:16.548Z"
   },
   {
    "duration": 378,
    "start_time": "2024-05-12T08:17:23.436Z"
   },
   {
    "duration": 13,
    "start_time": "2024-05-12T08:19:09.339Z"
   },
   {
    "duration": 10,
    "start_time": "2024-05-12T08:19:19.355Z"
   },
   {
    "duration": 12,
    "start_time": "2024-05-12T08:19:33.282Z"
   },
   {
    "duration": 10,
    "start_time": "2024-05-12T08:20:54.361Z"
   },
   {
    "duration": 13,
    "start_time": "2024-05-12T08:21:00.537Z"
   },
   {
    "duration": 24,
    "start_time": "2024-05-12T08:23:43.135Z"
   },
   {
    "duration": 15,
    "start_time": "2024-05-12T08:23:47.015Z"
   },
   {
    "duration": 11,
    "start_time": "2024-05-12T08:26:31.148Z"
   },
   {
    "duration": 11,
    "start_time": "2024-05-12T08:26:42.188Z"
   },
   {
    "duration": 10,
    "start_time": "2024-05-12T08:26:52.365Z"
   },
   {
    "duration": 13,
    "start_time": "2024-05-12T08:28:42.819Z"
   },
   {
    "duration": 670,
    "start_time": "2024-05-12T08:30:20.442Z"
   },
   {
    "duration": 11,
    "start_time": "2024-05-12T08:30:48.810Z"
   },
   {
    "duration": 17,
    "start_time": "2024-05-12T08:34:07.071Z"
   },
   {
    "duration": 630,
    "start_time": "2024-05-12T08:34:22.467Z"
   },
   {
    "duration": 11,
    "start_time": "2024-05-12T08:37:15.421Z"
   },
   {
    "duration": 11,
    "start_time": "2024-05-12T08:37:28.253Z"
   },
   {
    "duration": 10,
    "start_time": "2024-05-12T08:37:34.612Z"
   },
   {
    "duration": 11,
    "start_time": "2024-05-12T08:38:18.075Z"
   },
   {
    "duration": 12,
    "start_time": "2024-05-12T08:38:38.611Z"
   },
   {
    "duration": 327,
    "start_time": "2024-05-12T08:38:44.674Z"
   },
   {
    "duration": 462,
    "start_time": "2024-05-12T08:38:52.338Z"
   },
   {
    "duration": 4935,
    "start_time": "2024-05-13T08:22:38.188Z"
   },
   {
    "duration": 3226,
    "start_time": "2024-05-13T08:22:43.126Z"
   },
   {
    "duration": 2181,
    "start_time": "2024-05-13T08:22:46.355Z"
   },
   {
    "duration": 4,
    "start_time": "2024-05-13T08:22:48.538Z"
   },
   {
    "duration": 17,
    "start_time": "2024-05-13T08:22:48.544Z"
   },
   {
    "duration": 42,
    "start_time": "2024-05-13T08:22:48.562Z"
   },
   {
    "duration": 390,
    "start_time": "2024-05-13T08:22:48.606Z"
   },
   {
    "duration": 18,
    "start_time": "2024-05-13T08:22:48.998Z"
   },
   {
    "duration": 31,
    "start_time": "2024-05-13T08:22:49.018Z"
   },
   {
    "duration": 37,
    "start_time": "2024-05-13T08:22:49.051Z"
   },
   {
    "duration": 51,
    "start_time": "2024-05-13T08:22:49.089Z"
   },
   {
    "duration": 36,
    "start_time": "2024-05-13T08:22:49.142Z"
   },
   {
    "duration": 35,
    "start_time": "2024-05-13T08:22:49.180Z"
   },
   {
    "duration": 38,
    "start_time": "2024-05-13T08:22:49.219Z"
   },
   {
    "duration": 28,
    "start_time": "2024-05-13T08:22:49.258Z"
   },
   {
    "duration": 35,
    "start_time": "2024-05-13T08:22:49.288Z"
   },
   {
    "duration": 53,
    "start_time": "2024-05-13T08:22:49.324Z"
   },
   {
    "duration": 69,
    "start_time": "2024-05-13T08:22:49.379Z"
   },
   {
    "duration": 37,
    "start_time": "2024-05-13T08:22:49.450Z"
   },
   {
    "duration": 39,
    "start_time": "2024-05-13T08:22:49.489Z"
   },
   {
    "duration": 28,
    "start_time": "2024-05-13T08:22:49.530Z"
   },
   {
    "duration": 36,
    "start_time": "2024-05-13T08:22:49.559Z"
   },
   {
    "duration": 45,
    "start_time": "2024-05-13T08:22:49.597Z"
   },
   {
    "duration": 28,
    "start_time": "2024-05-13T08:22:49.643Z"
   },
   {
    "duration": 36,
    "start_time": "2024-05-13T08:22:49.672Z"
   },
   {
    "duration": 22,
    "start_time": "2024-05-13T08:22:49.709Z"
   },
   {
    "duration": 49,
    "start_time": "2024-05-13T08:22:49.732Z"
   },
   {
    "duration": 28,
    "start_time": "2024-05-13T08:22:49.782Z"
   },
   {
    "duration": 36,
    "start_time": "2024-05-13T08:22:49.812Z"
   },
   {
    "duration": 39,
    "start_time": "2024-05-13T08:22:49.850Z"
   },
   {
    "duration": 50,
    "start_time": "2024-05-13T08:22:49.891Z"
   },
   {
    "duration": 52,
    "start_time": "2024-05-13T08:22:49.943Z"
   },
   {
    "duration": 71,
    "start_time": "2024-05-13T08:22:49.997Z"
   },
   {
    "duration": 62,
    "start_time": "2024-05-13T08:22:50.070Z"
   },
   {
    "duration": 53,
    "start_time": "2024-05-13T08:22:50.134Z"
   },
   {
    "duration": 30,
    "start_time": "2024-05-13T08:22:50.189Z"
   },
   {
    "duration": 24,
    "start_time": "2024-05-13T08:22:50.220Z"
   },
   {
    "duration": 2999,
    "start_time": "2024-05-13T08:22:50.246Z"
   },
   {
    "duration": 5915,
    "start_time": "2024-05-13T08:22:53.246Z"
   },
   {
    "duration": 6,
    "start_time": "2024-05-13T08:22:59.163Z"
   },
   {
    "duration": 43,
    "start_time": "2024-05-13T08:22:59.173Z"
   },
   {
    "duration": 1042,
    "start_time": "2024-05-13T08:22:59.218Z"
   },
   {
    "duration": 364,
    "start_time": "2024-05-13T08:23:00.262Z"
   },
   {
    "duration": 271,
    "start_time": "2024-05-13T08:23:00.628Z"
   },
   {
    "duration": 13,
    "start_time": "2024-05-13T08:23:00.901Z"
   },
   {
    "duration": 207,
    "start_time": "2024-05-13T08:23:00.916Z"
   },
   {
    "duration": 152,
    "start_time": "2024-05-13T08:23:01.125Z"
   },
   {
    "duration": 143,
    "start_time": "2024-05-13T08:23:01.279Z"
   },
   {
    "duration": 78,
    "start_time": "2024-05-13T08:23:01.424Z"
   },
   {
    "duration": 89,
    "start_time": "2024-05-13T08:23:01.504Z"
   },
   {
    "duration": 41,
    "start_time": "2024-05-13T08:23:01.594Z"
   },
   {
    "duration": 34,
    "start_time": "2024-05-13T08:23:01.637Z"
   },
   {
    "duration": 86,
    "start_time": "2024-05-13T08:23:01.673Z"
   },
   {
    "duration": 41,
    "start_time": "2024-05-13T08:23:01.761Z"
   },
   {
    "duration": 51,
    "start_time": "2024-05-13T08:23:01.804Z"
   },
   {
    "duration": 36,
    "start_time": "2024-05-13T08:23:01.857Z"
   },
   {
    "duration": 27,
    "start_time": "2024-05-13T08:23:01.896Z"
   },
   {
    "duration": 88,
    "start_time": "2024-05-13T08:23:01.925Z"
   },
   {
    "duration": 3708,
    "start_time": "2024-05-13T08:23:02.014Z"
   },
   {
    "duration": 14,
    "start_time": "2024-05-13T08:23:05.724Z"
   },
   {
    "duration": 220,
    "start_time": "2024-05-13T08:23:05.739Z"
   },
   {
    "duration": 30,
    "start_time": "2024-05-13T08:23:05.960Z"
   },
   {
    "duration": 35,
    "start_time": "2024-05-13T08:23:05.991Z"
   },
   {
    "duration": 188,
    "start_time": "2024-05-13T08:23:06.028Z"
   },
   {
    "duration": 104,
    "start_time": "2024-05-13T08:23:06.218Z"
   },
   {
    "duration": 3,
    "start_time": "2024-05-13T08:23:16.504Z"
   },
   {
    "duration": 4718,
    "start_time": "2024-05-13T08:23:25.889Z"
   },
   {
    "duration": 3,
    "start_time": "2024-05-13T08:25:30.534Z"
   },
   {
    "duration": 326863,
    "start_time": "2024-05-13T08:25:34.486Z"
   },
   {
    "duration": 615,
    "start_time": "2024-05-13T08:31:27.617Z"
   },
   {
    "duration": 376,
    "start_time": "2024-05-13T08:33:30.379Z"
   },
   {
    "duration": 664,
    "start_time": "2024-05-13T08:34:43.379Z"
   },
   {
    "duration": 337,
    "start_time": "2024-05-13T08:34:49.310Z"
   },
   {
    "duration": 7,
    "start_time": "2024-05-13T08:36:50.460Z"
   },
   {
    "duration": 146,
    "start_time": "2024-05-13T08:38:35.314Z"
   },
   {
    "duration": 24,
    "start_time": "2024-05-13T08:40:43.503Z"
   },
   {
    "duration": 12,
    "start_time": "2024-05-13T08:41:14.045Z"
   },
   {
    "duration": 10,
    "start_time": "2024-05-13T08:41:23.726Z"
   },
   {
    "duration": 11,
    "start_time": "2024-05-13T08:41:28.535Z"
   },
   {
    "duration": 11,
    "start_time": "2024-05-13T08:43:18.796Z"
   },
   {
    "duration": 12,
    "start_time": "2024-05-13T08:50:18.530Z"
   },
   {
    "duration": 10,
    "start_time": "2024-05-13T08:50:23.491Z"
   },
   {
    "duration": 11,
    "start_time": "2024-05-13T08:51:24.448Z"
   },
   {
    "duration": 12,
    "start_time": "2024-05-13T08:51:37.787Z"
   },
   {
    "duration": 14,
    "start_time": "2024-05-13T08:53:51.247Z"
   },
   {
    "duration": 17,
    "start_time": "2024-05-13T08:54:03.534Z"
   },
   {
    "duration": 11,
    "start_time": "2024-05-13T08:54:08.511Z"
   },
   {
    "duration": 20,
    "start_time": "2024-05-13T08:54:16.343Z"
   },
   {
    "duration": 11,
    "start_time": "2024-05-13T08:55:21.469Z"
   },
   {
    "duration": 3,
    "start_time": "2024-05-13T09:11:25.398Z"
   },
   {
    "duration": 3,
    "start_time": "2024-05-13T10:12:00.196Z"
   },
   {
    "duration": 10,
    "start_time": "2024-05-13T10:12:27.313Z"
   },
   {
    "duration": 496791,
    "start_time": "2024-05-13T10:12:40.203Z"
   },
   {
    "duration": 8,
    "start_time": "2024-05-13T10:21:19.610Z"
   },
   {
    "duration": 596,
    "start_time": "2024-05-13T10:21:39.019Z"
   },
   {
    "duration": 279,
    "start_time": "2024-05-13T10:21:45.667Z"
   },
   {
    "duration": 512,
    "start_time": "2024-05-13T10:21:55.458Z"
   },
   {
    "duration": 14,
    "start_time": "2024-05-13T10:23:05.408Z"
   },
   {
    "duration": 11,
    "start_time": "2024-05-13T10:23:11.328Z"
   },
   {
    "duration": 11,
    "start_time": "2024-05-13T10:23:19.770Z"
   },
   {
    "duration": 11,
    "start_time": "2024-05-13T10:24:22.398Z"
   },
   {
    "duration": 14,
    "start_time": "2024-05-13T10:24:29.575Z"
   },
   {
    "duration": 33,
    "start_time": "2024-05-13T10:26:30.900Z"
   },
   {
    "duration": 11,
    "start_time": "2024-05-13T10:26:33.763Z"
   },
   {
    "duration": 10,
    "start_time": "2024-05-13T10:26:37.580Z"
   },
   {
    "duration": 11,
    "start_time": "2024-05-13T10:41:12.453Z"
   },
   {
    "duration": 10,
    "start_time": "2024-05-13T10:41:50.419Z"
   },
   {
    "duration": 101,
    "start_time": "2024-05-13T11:56:59.749Z"
   },
   {
    "duration": 598,
    "start_time": "2024-05-13T11:59:07.731Z"
   },
   {
    "duration": 11,
    "start_time": "2024-05-13T12:00:52.944Z"
   },
   {
    "duration": 3,
    "start_time": "2024-05-13T12:00:57.665Z"
   },
   {
    "duration": 610,
    "start_time": "2024-05-13T12:01:00.730Z"
   },
   {
    "duration": 4695,
    "start_time": "2024-05-14T02:45:51.789Z"
   },
   {
    "duration": 3219,
    "start_time": "2024-05-14T02:45:56.486Z"
   },
   {
    "duration": 2056,
    "start_time": "2024-05-14T02:45:59.707Z"
   },
   {
    "duration": 4,
    "start_time": "2024-05-14T02:46:01.765Z"
   },
   {
    "duration": 35,
    "start_time": "2024-05-14T02:46:01.771Z"
   },
   {
    "duration": 169,
    "start_time": "2024-05-14T02:46:01.807Z"
   },
   {
    "duration": 449,
    "start_time": "2024-05-14T02:46:01.978Z"
   },
   {
    "duration": 18,
    "start_time": "2024-05-14T02:46:02.429Z"
   },
   {
    "duration": 64,
    "start_time": "2024-05-14T02:46:02.448Z"
   },
   {
    "duration": 153,
    "start_time": "2024-05-14T02:46:02.514Z"
   },
   {
    "duration": 97,
    "start_time": "2024-05-14T02:46:02.668Z"
   },
   {
    "duration": 104,
    "start_time": "2024-05-14T02:46:02.767Z"
   },
   {
    "duration": 81,
    "start_time": "2024-05-14T02:46:02.872Z"
   },
   {
    "duration": 158,
    "start_time": "2024-05-14T02:46:02.956Z"
   },
   {
    "duration": 11,
    "start_time": "2024-05-14T02:46:03.116Z"
   },
   {
    "duration": 5,
    "start_time": "2024-05-14T02:46:03.129Z"
   },
   {
    "duration": 16,
    "start_time": "2024-05-14T02:46:03.135Z"
   },
   {
    "duration": 15,
    "start_time": "2024-05-14T02:46:03.153Z"
   },
   {
    "duration": 11,
    "start_time": "2024-05-14T02:46:03.170Z"
   },
   {
    "duration": 22,
    "start_time": "2024-05-14T02:46:03.183Z"
   },
   {
    "duration": 17,
    "start_time": "2024-05-14T02:46:03.206Z"
   },
   {
    "duration": 8,
    "start_time": "2024-05-14T02:46:03.225Z"
   },
   {
    "duration": 6,
    "start_time": "2024-05-14T02:46:03.235Z"
   },
   {
    "duration": 13,
    "start_time": "2024-05-14T02:46:03.242Z"
   },
   {
    "duration": 8,
    "start_time": "2024-05-14T02:46:03.256Z"
   },
   {
    "duration": 22,
    "start_time": "2024-05-14T02:46:03.265Z"
   },
   {
    "duration": 8,
    "start_time": "2024-05-14T02:46:03.289Z"
   },
   {
    "duration": 6,
    "start_time": "2024-05-14T02:46:03.299Z"
   },
   {
    "duration": 22,
    "start_time": "2024-05-14T02:46:03.307Z"
   },
   {
    "duration": 7,
    "start_time": "2024-05-14T02:46:03.330Z"
   },
   {
    "duration": 22,
    "start_time": "2024-05-14T02:46:03.338Z"
   },
   {
    "duration": 23,
    "start_time": "2024-05-14T02:46:03.361Z"
   },
   {
    "duration": 7,
    "start_time": "2024-05-14T02:46:03.386Z"
   },
   {
    "duration": 5,
    "start_time": "2024-05-14T02:46:03.395Z"
   },
   {
    "duration": 4,
    "start_time": "2024-05-14T02:46:03.401Z"
   },
   {
    "duration": 5,
    "start_time": "2024-05-14T02:46:03.407Z"
   },
   {
    "duration": 3,
    "start_time": "2024-05-14T02:46:03.414Z"
   },
   {
    "duration": 2992,
    "start_time": "2024-05-14T02:46:03.418Z"
   },
   {
    "duration": 6036,
    "start_time": "2024-05-14T02:46:06.412Z"
   },
   {
    "duration": 5,
    "start_time": "2024-05-14T02:46:12.450Z"
   },
   {
    "duration": 4,
    "start_time": "2024-05-14T02:46:12.459Z"
   },
   {
    "duration": 1101,
    "start_time": "2024-05-14T02:46:12.480Z"
   },
   {
    "duration": 369,
    "start_time": "2024-05-14T02:46:13.583Z"
   },
   {
    "duration": 277,
    "start_time": "2024-05-14T02:46:13.953Z"
   },
   {
    "duration": 14,
    "start_time": "2024-05-14T02:46:14.232Z"
   },
   {
    "duration": 8,
    "start_time": "2024-05-14T02:46:14.247Z"
   },
   {
    "duration": 25,
    "start_time": "2024-05-14T02:46:14.257Z"
   },
   {
    "duration": 6,
    "start_time": "2024-05-14T02:46:14.283Z"
   },
   {
    "duration": 13,
    "start_time": "2024-05-14T02:46:14.290Z"
   },
   {
    "duration": 10,
    "start_time": "2024-05-14T02:46:14.305Z"
   },
   {
    "duration": 19,
    "start_time": "2024-05-14T02:46:14.316Z"
   },
   {
    "duration": 15,
    "start_time": "2024-05-14T02:46:14.337Z"
   },
   {
    "duration": 42,
    "start_time": "2024-05-14T02:46:14.353Z"
   },
   {
    "duration": 12,
    "start_time": "2024-05-14T02:46:14.396Z"
   },
   {
    "duration": 23,
    "start_time": "2024-05-14T02:46:14.410Z"
   },
   {
    "duration": 9,
    "start_time": "2024-05-14T02:46:14.435Z"
   },
   {
    "duration": 4,
    "start_time": "2024-05-14T02:46:14.445Z"
   },
   {
    "duration": 5,
    "start_time": "2024-05-14T02:46:14.451Z"
   },
   {
    "duration": 3643,
    "start_time": "2024-05-14T02:46:14.458Z"
   },
   {
    "duration": 19,
    "start_time": "2024-05-14T02:46:18.103Z"
   },
   {
    "duration": 26,
    "start_time": "2024-05-14T02:46:18.123Z"
   },
   {
    "duration": 12,
    "start_time": "2024-05-14T02:46:18.151Z"
   },
   {
    "duration": 16,
    "start_time": "2024-05-14T02:46:18.165Z"
   },
   {
    "duration": 9,
    "start_time": "2024-05-14T02:46:18.183Z"
   },
   {
    "duration": 24,
    "start_time": "2024-05-14T02:46:18.194Z"
   },
   {
    "duration": 3,
    "start_time": "2024-05-14T02:46:33.857Z"
   },
   {
    "duration": 4495,
    "start_time": "2024-05-14T02:46:37.210Z"
   },
   {
    "duration": 3,
    "start_time": "2024-05-14T02:47:46.784Z"
   },
   {
    "duration": 3,
    "start_time": "2024-05-14T02:48:05.463Z"
   },
   {
    "duration": 2,
    "start_time": "2024-05-14T02:48:08.080Z"
   },
   {
    "duration": 10,
    "start_time": "2024-05-14T02:48:10.631Z"
   },
   {
    "duration": 487255,
    "start_time": "2024-05-14T02:48:14.047Z"
   },
   {
    "duration": 7,
    "start_time": "2024-05-14T02:56:24.121Z"
   },
   {
    "duration": 3,
    "start_time": "2024-05-14T02:56:32.332Z"
   },
   {
    "duration": 821,
    "start_time": "2024-05-14T02:56:34.888Z"
   },
   {
    "duration": 275,
    "start_time": "2024-05-14T02:56:38.544Z"
   },
   {
    "duration": 324,
    "start_time": "2024-05-14T02:56:57.895Z"
   },
   {
    "duration": 258,
    "start_time": "2024-05-14T02:57:09.448Z"
   },
   {
    "duration": 10,
    "start_time": "2024-05-14T02:57:25.439Z"
   },
   {
    "duration": 531,
    "start_time": "2024-05-14T02:57:36.967Z"
   },
   {
    "duration": 11,
    "start_time": "2024-05-14T02:57:42.015Z"
   },
   {
    "duration": 1296,
    "start_time": "2024-05-14T03:00:55.109Z"
   },
   {
    "duration": 1242,
    "start_time": "2024-05-14T03:01:14.553Z"
   },
   {
    "duration": 1228,
    "start_time": "2024-05-14T03:01:20.252Z"
   },
   {
    "duration": 4,
    "start_time": "2024-05-14T03:02:00.468Z"
   },
   {
    "duration": 3781,
    "start_time": "2024-05-14T03:02:09.420Z"
   },
   {
    "duration": 3505,
    "start_time": "2024-05-14T03:02:27.492Z"
   },
   {
    "duration": 3349,
    "start_time": "2024-05-14T03:02:39.315Z"
   },
   {
    "duration": 9,
    "start_time": "2024-05-14T03:17:33.327Z"
   },
   {
    "duration": 14,
    "start_time": "2024-05-14T03:17:35.614Z"
   },
   {
    "duration": 29,
    "start_time": "2024-05-14T03:30:30.433Z"
   },
   {
    "duration": 20,
    "start_time": "2024-05-14T04:11:35.493Z"
   },
   {
    "duration": 14,
    "start_time": "2024-05-14T04:12:15.024Z"
   },
   {
    "duration": 1188,
    "start_time": "2024-05-14T04:12:24.605Z"
   },
   {
    "duration": 15,
    "start_time": "2024-05-14T04:12:57.149Z"
   },
   {
    "duration": 33,
    "start_time": "2024-05-14T04:30:34.524Z"
   },
   {
    "duration": 3,
    "start_time": "2024-05-14T04:31:06.954Z"
   },
   {
    "duration": 7,
    "start_time": "2024-05-14T04:32:23.096Z"
   },
   {
    "duration": 27,
    "start_time": "2024-05-14T04:32:34.006Z"
   },
   {
    "duration": 4,
    "start_time": "2024-05-14T04:39:00.997Z"
   },
   {
    "duration": 4,
    "start_time": "2024-05-14T04:39:20.349Z"
   },
   {
    "duration": 5,
    "start_time": "2024-05-14T04:39:22.456Z"
   },
   {
    "duration": 29,
    "start_time": "2024-05-14T04:39:24.132Z"
   },
   {
    "duration": 41,
    "start_time": "2024-05-14T07:16:56.281Z"
   },
   {
    "duration": 6,
    "start_time": "2024-05-14T07:17:20.293Z"
   },
   {
    "duration": 24,
    "start_time": "2024-05-14T07:17:32.021Z"
   },
   {
    "duration": 60,
    "start_time": "2024-05-14T07:19:16.540Z"
   },
   {
    "duration": 54,
    "start_time": "2024-05-14T07:19:26.843Z"
   },
   {
    "duration": 53,
    "start_time": "2024-05-14T07:20:05.316Z"
   },
   {
    "duration": 53,
    "start_time": "2024-05-14T07:20:41.580Z"
   },
   {
    "duration": 56,
    "start_time": "2024-05-14T07:32:02.815Z"
   },
   {
    "duration": 57,
    "start_time": "2024-05-14T07:33:09.761Z"
   },
   {
    "duration": 68,
    "start_time": "2024-05-14T07:39:49.828Z"
   },
   {
    "duration": 8,
    "start_time": "2024-05-14T07:40:00.108Z"
   },
   {
    "duration": 7,
    "start_time": "2024-05-14T07:40:28.756Z"
   },
   {
    "duration": 6,
    "start_time": "2024-05-14T07:40:34.003Z"
   },
   {
    "duration": 7,
    "start_time": "2024-05-14T07:40:44.539Z"
   },
   {
    "duration": 6,
    "start_time": "2024-05-14T07:40:48.139Z"
   },
   {
    "duration": 7,
    "start_time": "2024-05-14T07:42:42.177Z"
   },
   {
    "duration": 8,
    "start_time": "2024-05-14T07:42:45.386Z"
   },
   {
    "duration": 6,
    "start_time": "2024-05-14T07:42:47.801Z"
   },
   {
    "duration": 7,
    "start_time": "2024-05-14T07:42:53.537Z"
   },
   {
    "duration": 7,
    "start_time": "2024-05-14T07:47:01.919Z"
   },
   {
    "duration": 67,
    "start_time": "2024-05-14T07:47:26.112Z"
   },
   {
    "duration": 72,
    "start_time": "2024-05-14T07:47:38.454Z"
   },
   {
    "duration": 5,
    "start_time": "2024-05-14T07:48:12.238Z"
   },
   {
    "duration": 7,
    "start_time": "2024-05-14T07:48:17.430Z"
   },
   {
    "duration": 5,
    "start_time": "2024-05-14T07:48:37.846Z"
   },
   {
    "duration": 55,
    "start_time": "2024-05-14T08:20:09.892Z"
   },
   {
    "duration": 6,
    "start_time": "2024-05-14T08:22:05.848Z"
   },
   {
    "duration": 5,
    "start_time": "2024-05-14T08:23:21.441Z"
   },
   {
    "duration": 16,
    "start_time": "2024-05-14T08:23:23.375Z"
   },
   {
    "duration": 5,
    "start_time": "2024-05-14T08:23:31.297Z"
   },
   {
    "duration": 40,
    "start_time": "2024-05-14T08:35:12.274Z"
   },
   {
    "duration": 26,
    "start_time": "2024-05-14T08:35:30.042Z"
   },
   {
    "duration": 13,
    "start_time": "2024-05-14T08:35:41.661Z"
   },
   {
    "duration": 172,
    "start_time": "2024-05-14T08:36:54.816Z"
   },
   {
    "duration": 197,
    "start_time": "2024-05-14T08:37:16.633Z"
   },
   {
    "duration": 233,
    "start_time": "2024-05-14T08:37:39.952Z"
   },
   {
    "duration": 19,
    "start_time": "2024-05-14T08:38:53.030Z"
   },
   {
    "duration": 224,
    "start_time": "2024-05-14T08:39:58.237Z"
   },
   {
    "duration": 222,
    "start_time": "2024-05-14T08:40:14.285Z"
   },
   {
    "duration": 223,
    "start_time": "2024-05-14T08:40:45.996Z"
   },
   {
    "duration": 224,
    "start_time": "2024-05-14T08:40:51.747Z"
   },
   {
    "duration": 229,
    "start_time": "2024-05-14T08:41:00.987Z"
   },
   {
    "duration": 229,
    "start_time": "2024-05-14T08:41:05.860Z"
   },
   {
    "duration": 403,
    "start_time": "2024-05-14T08:41:22.195Z"
   },
   {
    "duration": 4,
    "start_time": "2024-05-14T08:44:53.945Z"
   },
   {
    "duration": 16,
    "start_time": "2024-05-14T08:48:28.293Z"
   },
   {
    "duration": 3,
    "start_time": "2024-05-14T08:48:30.685Z"
   },
   {
    "duration": 19,
    "start_time": "2024-05-14T08:48:32.972Z"
   },
   {
    "duration": 3,
    "start_time": "2024-05-14T08:48:44.444Z"
   },
   {
    "duration": 8,
    "start_time": "2024-05-14T08:48:46.163Z"
   },
   {
    "duration": 227,
    "start_time": "2024-05-14T08:49:17.130Z"
   },
   {
    "duration": 231,
    "start_time": "2024-05-14T08:51:30.697Z"
   },
   {
    "duration": 276,
    "start_time": "2024-05-14T08:53:59.175Z"
   },
   {
    "duration": 211,
    "start_time": "2024-05-14T08:54:26.798Z"
   },
   {
    "duration": 257,
    "start_time": "2024-05-14T10:06:34.872Z"
   },
   {
    "duration": 195,
    "start_time": "2024-05-14T10:07:22.238Z"
   },
   {
    "duration": 200,
    "start_time": "2024-05-14T10:08:10.826Z"
   },
   {
    "duration": 220,
    "start_time": "2024-05-14T10:08:27.516Z"
   },
   {
    "duration": 184,
    "start_time": "2024-05-14T10:08:45.026Z"
   },
   {
    "duration": 72,
    "start_time": "2024-05-14T10:09:09.860Z"
   },
   {
    "duration": 147,
    "start_time": "2024-05-14T10:09:16.066Z"
   },
   {
    "duration": 184,
    "start_time": "2024-05-14T10:12:42.911Z"
   },
   {
    "duration": 258,
    "start_time": "2024-05-14T10:12:48.470Z"
   },
   {
    "duration": 364,
    "start_time": "2024-05-14T10:13:00.079Z"
   },
   {
    "duration": 212,
    "start_time": "2024-05-14T10:14:42.347Z"
   },
   {
    "duration": 240,
    "start_time": "2024-05-14T10:16:00.524Z"
   },
   {
    "duration": 157,
    "start_time": "2024-05-14T10:17:12.192Z"
   },
   {
    "duration": 277,
    "start_time": "2024-05-14T10:18:06.455Z"
   },
   {
    "duration": 220,
    "start_time": "2024-05-14T10:20:50.739Z"
   },
   {
    "duration": 189,
    "start_time": "2024-05-14T10:28:07.027Z"
   },
   {
    "duration": 258,
    "start_time": "2024-05-14T10:32:22.136Z"
   },
   {
    "duration": 206,
    "start_time": "2024-05-14T10:33:19.223Z"
   },
   {
    "duration": 265,
    "start_time": "2024-05-14T10:34:30.725Z"
   },
   {
    "duration": 234,
    "start_time": "2024-05-14T10:34:35.476Z"
   },
   {
    "duration": 357,
    "start_time": "2024-05-14T10:34:39.605Z"
   },
   {
    "duration": 248,
    "start_time": "2024-05-14T10:34:43.342Z"
   },
   {
    "duration": 165,
    "start_time": "2024-05-14T10:34:47.269Z"
   },
   {
    "duration": 222,
    "start_time": "2024-05-14T10:34:52.757Z"
   },
   {
    "duration": 243,
    "start_time": "2024-05-14T10:34:56.861Z"
   },
   {
    "duration": 208,
    "start_time": "2024-05-14T10:35:00.965Z"
   },
   {
    "duration": 251,
    "start_time": "2024-05-14T10:35:04.872Z"
   },
   {
    "duration": 229,
    "start_time": "2024-05-14T10:35:34.660Z"
   },
   {
    "duration": 213,
    "start_time": "2024-05-14T10:35:52.196Z"
   },
   {
    "duration": 2701,
    "start_time": "2024-05-14T10:55:32.983Z"
   },
   {
    "duration": 2674,
    "start_time": "2024-05-14T10:55:35.686Z"
   },
   {
    "duration": 1926,
    "start_time": "2024-05-14T10:55:38.362Z"
   },
   {
    "duration": 4,
    "start_time": "2024-05-14T10:55:40.289Z"
   },
   {
    "duration": 16,
    "start_time": "2024-05-14T10:55:40.295Z"
   },
   {
    "duration": 103,
    "start_time": "2024-05-14T10:55:40.313Z"
   },
   {
    "duration": 17,
    "start_time": "2024-05-14T10:55:40.417Z"
   },
   {
    "duration": 19,
    "start_time": "2024-05-14T10:55:40.435Z"
   },
   {
    "duration": 9,
    "start_time": "2024-05-14T10:55:40.456Z"
   },
   {
    "duration": 11,
    "start_time": "2024-05-14T10:55:40.466Z"
   },
   {
    "duration": 11,
    "start_time": "2024-05-14T10:55:40.478Z"
   },
   {
    "duration": 27,
    "start_time": "2024-05-14T10:55:40.490Z"
   },
   {
    "duration": 22,
    "start_time": "2024-05-14T10:55:40.518Z"
   },
   {
    "duration": 14,
    "start_time": "2024-05-14T10:55:40.545Z"
   },
   {
    "duration": 5,
    "start_time": "2024-05-14T10:55:40.561Z"
   },
   {
    "duration": 14,
    "start_time": "2024-05-14T10:55:40.568Z"
   },
   {
    "duration": 19,
    "start_time": "2024-05-14T10:55:40.584Z"
   },
   {
    "duration": 13,
    "start_time": "2024-05-14T10:55:40.605Z"
   },
   {
    "duration": 15,
    "start_time": "2024-05-14T10:55:40.620Z"
   },
   {
    "duration": 15,
    "start_time": "2024-05-14T10:55:40.637Z"
   },
   {
    "duration": 23,
    "start_time": "2024-05-14T10:55:40.654Z"
   },
   {
    "duration": 8,
    "start_time": "2024-05-14T10:55:40.679Z"
   },
   {
    "duration": 25,
    "start_time": "2024-05-14T10:55:40.689Z"
   },
   {
    "duration": 7,
    "start_time": "2024-05-14T10:55:40.715Z"
   },
   {
    "duration": 4,
    "start_time": "2024-05-14T10:55:40.724Z"
   },
   {
    "duration": 5,
    "start_time": "2024-05-14T10:55:40.730Z"
   },
   {
    "duration": 5,
    "start_time": "2024-05-14T10:55:40.737Z"
   },
   {
    "duration": 9,
    "start_time": "2024-05-14T10:55:40.744Z"
   },
   {
    "duration": 27,
    "start_time": "2024-05-14T10:55:40.755Z"
   },
   {
    "duration": 4,
    "start_time": "2024-05-14T10:55:40.784Z"
   },
   {
    "duration": 12,
    "start_time": "2024-05-14T10:55:40.790Z"
   },
   {
    "duration": 29,
    "start_time": "2024-05-14T10:55:40.804Z"
   },
   {
    "duration": 21,
    "start_time": "2024-05-14T10:55:40.835Z"
   },
   {
    "duration": 8,
    "start_time": "2024-05-14T10:55:40.857Z"
   },
   {
    "duration": 11,
    "start_time": "2024-05-14T10:55:40.866Z"
   },
   {
    "duration": 4,
    "start_time": "2024-05-14T10:55:40.878Z"
   },
   {
    "duration": 2950,
    "start_time": "2024-05-14T10:55:40.884Z"
   },
   {
    "duration": 6030,
    "start_time": "2024-05-14T10:55:43.837Z"
   },
   {
    "duration": 12,
    "start_time": "2024-05-14T10:55:49.869Z"
   },
   {
    "duration": 14,
    "start_time": "2024-05-14T10:55:49.882Z"
   },
   {
    "duration": 1070,
    "start_time": "2024-05-14T10:55:49.901Z"
   },
   {
    "duration": 352,
    "start_time": "2024-05-14T10:55:50.980Z"
   },
   {
    "duration": 266,
    "start_time": "2024-05-14T10:55:51.334Z"
   },
   {
    "duration": 14,
    "start_time": "2024-05-14T10:55:51.602Z"
   },
   {
    "duration": 19,
    "start_time": "2024-05-14T10:55:51.618Z"
   },
   {
    "duration": 25,
    "start_time": "2024-05-14T10:55:51.639Z"
   },
   {
    "duration": 7,
    "start_time": "2024-05-14T10:55:51.666Z"
   },
   {
    "duration": 9,
    "start_time": "2024-05-14T10:55:51.679Z"
   },
   {
    "duration": 13,
    "start_time": "2024-05-14T10:55:51.690Z"
   },
   {
    "duration": 23,
    "start_time": "2024-05-14T10:55:51.705Z"
   },
   {
    "duration": 18,
    "start_time": "2024-05-14T10:55:51.730Z"
   },
   {
    "duration": 40,
    "start_time": "2024-05-14T10:55:51.750Z"
   },
   {
    "duration": 16,
    "start_time": "2024-05-14T10:55:51.792Z"
   },
   {
    "duration": 15,
    "start_time": "2024-05-14T10:55:51.810Z"
   },
   {
    "duration": 10,
    "start_time": "2024-05-14T10:55:51.827Z"
   },
   {
    "duration": 5,
    "start_time": "2024-05-14T10:55:51.838Z"
   },
   {
    "duration": 3526,
    "start_time": "2024-05-14T10:55:51.844Z"
   },
   {
    "duration": 3346,
    "start_time": "2024-05-14T10:55:55.371Z"
   },
   {
    "duration": 3225,
    "start_time": "2024-05-14T10:55:58.719Z"
   },
   {
    "duration": 15,
    "start_time": "2024-05-14T10:56:01.947Z"
   },
   {
    "duration": 60,
    "start_time": "2024-05-14T10:56:01.963Z"
   },
   {
    "duration": 22,
    "start_time": "2024-05-14T10:56:02.025Z"
   },
   {
    "duration": 13,
    "start_time": "2024-05-14T10:56:02.050Z"
   },
   {
    "duration": 4742,
    "start_time": "2024-05-14T10:56:02.065Z"
   },
   {
    "duration": 3,
    "start_time": "2024-05-14T10:56:06.809Z"
   },
   {
    "duration": 5,
    "start_time": "2024-05-14T10:56:06.814Z"
   },
   {
    "duration": 14,
    "start_time": "2024-05-14T10:56:06.822Z"
   },
   {
    "duration": 497345,
    "start_time": "2024-05-14T10:56:06.839Z"
   },
   {
    "duration": 3,
    "start_time": "2024-05-14T11:04:24.185Z"
   },
   {
    "duration": 815,
    "start_time": "2024-05-14T11:04:24.190Z"
   },
   {
    "duration": 330,
    "start_time": "2024-05-14T11:04:25.007Z"
   },
   {
    "duration": 8,
    "start_time": "2024-05-14T11:04:25.338Z"
   },
   {
    "duration": 19,
    "start_time": "2024-05-14T11:04:25.347Z"
   },
   {
    "duration": 21,
    "start_time": "2024-05-14T11:04:25.367Z"
   },
   {
    "duration": 20,
    "start_time": "2024-05-14T11:04:25.390Z"
   },
   {
    "duration": 3,
    "start_time": "2024-05-14T11:04:25.411Z"
   },
   {
    "duration": 7,
    "start_time": "2024-05-14T11:04:25.416Z"
   },
   {
    "duration": 5,
    "start_time": "2024-05-14T11:04:25.425Z"
   },
   {
    "duration": 17,
    "start_time": "2024-05-14T11:04:25.432Z"
   },
   {
    "duration": 42,
    "start_time": "2024-05-14T11:04:25.450Z"
   },
   {
    "duration": 56,
    "start_time": "2024-05-14T11:04:25.493Z"
   },
   {
    "duration": 6,
    "start_time": "2024-05-14T11:04:25.550Z"
   },
   {
    "duration": 28,
    "start_time": "2024-05-14T11:04:25.558Z"
   },
   {
    "duration": 12,
    "start_time": "2024-05-14T11:04:25.589Z"
   },
   {
    "duration": 31,
    "start_time": "2024-05-14T11:04:25.603Z"
   },
   {
    "duration": 14,
    "start_time": "2024-05-14T11:04:25.636Z"
   },
   {
    "duration": 17,
    "start_time": "2024-05-14T11:04:25.652Z"
   },
   {
    "duration": 31,
    "start_time": "2024-05-14T11:04:25.670Z"
   },
   {
    "duration": 9,
    "start_time": "2024-05-14T11:04:25.702Z"
   },
   {
    "duration": 234,
    "start_time": "2024-05-14T11:04:25.712Z"
   },
   {
    "duration": 213,
    "start_time": "2024-05-14T11:04:25.948Z"
   },
   {
    "duration": 205,
    "start_time": "2024-05-14T11:04:26.162Z"
   },
   {
    "duration": 222,
    "start_time": "2024-05-14T11:04:26.368Z"
   },
   {
    "duration": 205,
    "start_time": "2024-05-14T11:04:26.592Z"
   },
   {
    "duration": 170,
    "start_time": "2024-05-14T11:04:26.798Z"
   },
   {
    "duration": 245,
    "start_time": "2024-05-14T11:04:26.970Z"
   },
   {
    "duration": 369,
    "start_time": "2024-05-14T11:04:27.217Z"
   },
   {
    "duration": 196,
    "start_time": "2024-05-14T11:04:27.588Z"
   },
   {
    "duration": 257,
    "start_time": "2024-05-14T11:04:27.786Z"
   },
   {
    "duration": 216,
    "start_time": "2024-05-14T11:04:28.045Z"
   }
  ],
  "colab": {
   "provenance": []
  },
  "kernelspec": {
   "display_name": "Python 3 (ipykernel)",
   "language": "python",
   "name": "python3"
  },
  "language_info": {
   "codemirror_mode": {
    "name": "ipython",
    "version": 3
   },
   "file_extension": ".py",
   "mimetype": "text/x-python",
   "name": "python",
   "nbconvert_exporter": "python",
   "pygments_lexer": "ipython3",
   "version": "3.11.5"
  },
  "toc": {
   "base_numbering": 1,
   "nav_menu": {},
   "number_sections": true,
   "sideBar": true,
   "skip_h1_title": true,
   "title_cell": "Table of Contents",
   "title_sidebar": "Contents",
   "toc_cell": false,
   "toc_position": {},
   "toc_section_display": true,
   "toc_window_display": true
  }
 },
 "nbformat": 4,
 "nbformat_minor": 1
}
